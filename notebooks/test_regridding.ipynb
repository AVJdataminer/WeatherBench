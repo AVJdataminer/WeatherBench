{
 "cells": [
  {
   "cell_type": "code",
   "execution_count": 1,
   "metadata": {
    "Collapsed": "false"
   },
   "outputs": [
    {
     "name": "stderr",
     "output_type": "stream",
     "text": [
      "/home/rasp/miniconda3/lib/python3.7/site-packages/xarray/core/merge.py:17: FutureWarning: The Panel class is removed from pandas. Accessing it from the top-level namespace will also be removed in the next version\n",
      "  PANDAS_TYPES = (pd.Series, pd.DataFrame, pd.Panel)\n"
     ]
    }
   ],
   "source": [
    "import xarray as xr\n",
    "import numpy as np\n",
    "import matplotlib.pyplot as plt\n",
    "%matplotlib inline\n",
    "import xesmf as xe"
   ]
  },
  {
   "cell_type": "code",
   "execution_count": 2,
   "metadata": {
    "Collapsed": "false"
   },
   "outputs": [],
   "source": [
    "ds = xr.open_dataset(\n",
    "    '/project/meteo/scratch/S.Rasp/weather-benchmark/raw/geopotential_500/geopotential_500_1979_raw.nc')"
   ]
  },
  {
   "cell_type": "code",
   "execution_count": 3,
   "metadata": {
    "Collapsed": "false"
   },
   "outputs": [
    {
     "data": {
      "text/plain": [
       "<xarray.Dataset>\n",
       "Dimensions:    (latitude: 721, longitude: 1440, time: 8760)\n",
       "Coordinates:\n",
       "  * longitude  (longitude) float32 0.0 0.25 0.5 0.75 ... 359.25 359.5 359.75\n",
       "  * latitude   (latitude) float32 90.0 89.75 89.5 89.25 ... -89.5 -89.75 -90.0\n",
       "  * time       (time) datetime64[ns] 1979-01-01 ... 1979-12-31T23:00:00\n",
       "Data variables:\n",
       "    z          (time, latitude, longitude) float32 ...\n",
       "Attributes:\n",
       "    Conventions:  CF-1.6\n",
       "    history:      2019-09-18 08:52:54 GMT by grib_to_netcdf-2.10.0: /opt/ecmw..."
      ]
     },
     "execution_count": 3,
     "metadata": {},
     "output_type": "execute_result"
    }
   ],
   "source": [
    "ds"
   ]
  },
  {
   "cell_type": "code",
   "execution_count": 4,
   "metadata": {
    "Collapsed": "false"
   },
   "outputs": [],
   "source": [
    "ds_small = ds.isel(time=slice(0, 1000))"
   ]
  },
  {
   "cell_type": "code",
   "execution_count": 5,
   "metadata": {
    "Collapsed": "false"
   },
   "outputs": [],
   "source": [
    "# Have to rename to lat/lon\n",
    "ds_small = ds_small.rename({'latitude': 'lat', 'longitude': 'lon'})"
   ]
  },
  {
   "cell_type": "code",
   "execution_count": 6,
   "metadata": {
    "Collapsed": "false"
   },
   "outputs": [],
   "source": [
    "# Have to rename to lat/lon\n",
    "ds = ds.rename({'latitude': 'lat', 'longitude': 'lon'})"
   ]
  },
  {
   "cell_type": "markdown",
   "metadata": {
    "Collapsed": "false"
   },
   "source": [
    "## Regrid with xesmf"
   ]
  },
  {
   "cell_type": "code",
   "execution_count": 2,
   "metadata": {
    "Collapsed": "false"
   },
   "outputs": [
    {
     "data": {
      "text/plain": [
       "5.625"
      ]
     },
     "execution_count": 2,
     "metadata": {},
     "output_type": "execute_result"
    }
   ],
   "source": [
    "res = 180 / 32; res"
   ]
  },
  {
   "cell_type": "code",
   "execution_count": 7,
   "metadata": {
    "Collapsed": "false"
   },
   "outputs": [],
   "source": [
    "lat_out = np.arange(-90+res/2, 90, res)"
   ]
  },
  {
   "cell_type": "code",
   "execution_count": 8,
   "metadata": {
    "Collapsed": "false"
   },
   "outputs": [],
   "source": [
    "lon_out = np.arange(0, 360, res)"
   ]
  },
  {
   "cell_type": "code",
   "execution_count": 9,
   "metadata": {
    "Collapsed": "false"
   },
   "outputs": [
    {
     "data": {
      "text/plain": [
       "((32,), (64,))"
      ]
     },
     "execution_count": 9,
     "metadata": {},
     "output_type": "execute_result"
    }
   ],
   "source": [
    "lat_out.shape, lon_out.shape"
   ]
  },
  {
   "cell_type": "code",
   "execution_count": 10,
   "metadata": {
    "Collapsed": "false"
   },
   "outputs": [
    {
     "data": {
      "text/plain": [
       "array([-87.1875, -81.5625, -75.9375, -70.3125, -64.6875, -59.0625,\n",
       "       -53.4375, -47.8125, -42.1875, -36.5625, -30.9375, -25.3125,\n",
       "       -19.6875, -14.0625,  -8.4375,  -2.8125,   2.8125,   8.4375,\n",
       "        14.0625,  19.6875,  25.3125,  30.9375,  36.5625,  42.1875,\n",
       "        47.8125,  53.4375,  59.0625,  64.6875,  70.3125,  75.9375,\n",
       "        81.5625,  87.1875])"
      ]
     },
     "execution_count": 10,
     "metadata": {},
     "output_type": "execute_result"
    }
   ],
   "source": [
    "lat_out"
   ]
  },
  {
   "cell_type": "code",
   "execution_count": 11,
   "metadata": {
    "Collapsed": "false"
   },
   "outputs": [
    {
     "data": {
      "text/plain": [
       "<xarray.Dataset>\n",
       "Dimensions:  (lat: 33, lon: 64)\n",
       "Coordinates:\n",
       "  * lat      (lat) float64 -90.0 -84.38 -78.75 -73.12 ... 73.12 78.75 84.38 90.0\n",
       "  * lon      (lon) float64 0.0 5.625 11.25 16.88 ... 337.5 343.1 348.8 354.4\n",
       "Data variables:\n",
       "    *empty*"
      ]
     },
     "execution_count": 11,
     "metadata": {},
     "output_type": "execute_result"
    }
   ],
   "source": [
    "grid_out = xr.Dataset(\n",
    "    {\n",
    "        'lat': (['lat'], lat_out),\n",
    "        'lon': (['lon'], lon_out),\n",
    "    }\n",
    ")\n",
    "grid_out"
   ]
  },
  {
   "cell_type": "code",
   "execution_count": 12,
   "metadata": {
    "Collapsed": "false"
   },
   "outputs": [
    {
     "name": "stdout",
     "output_type": "stream",
     "text": [
      "Overwrite existing file: bilinear_721x1440_33x64_peri.nc \n",
      " You can set reuse_weights=True to save computing time.\n"
     ]
    }
   ],
   "source": [
    "regridder = xe.Regridder(ds_small, grid_out, 'bilinear', periodic=True, reuse_weights=True)"
   ]
  },
  {
   "cell_type": "code",
   "execution_count": 13,
   "metadata": {
    "Collapsed": "false"
   },
   "outputs": [
    {
     "data": {
      "text/plain": [
       "xESMF Regridder \n",
       "Regridding algorithm:       bilinear \n",
       "Weight filename:            bilinear_721x1440_33x64_peri.nc \n",
       "Reuse pre-computed weights? False \n",
       "Input grid shape:           (721, 1440) \n",
       "Output grid shape:          (33, 64) \n",
       "Output grid dimension name: ('lat', 'lon') \n",
       "Periodic in longitude?      True"
      ]
     },
     "execution_count": 13,
     "metadata": {},
     "output_type": "execute_result"
    }
   ],
   "source": [
    "regridder"
   ]
  },
  {
   "cell_type": "code",
   "execution_count": 14,
   "metadata": {
    "Collapsed": "false"
   },
   "outputs": [
    {
     "name": "stdout",
     "output_type": "stream",
     "text": [
      "using dimensions ('lat', 'lon') from data variable z as the horizontal dimensions for this dataset.\n",
      "CPU times: user 7.17 s, sys: 4.51 s, total: 11.7 s\n",
      "Wall time: 30 s\n"
     ]
    }
   ],
   "source": [
    "%%time\n",
    "ds_xe = regridder(ds_small)"
   ]
  },
  {
   "cell_type": "code",
   "execution_count": null,
   "metadata": {
    "Collapsed": "false"
   },
   "outputs": [
    {
     "name": "stdout",
     "output_type": "stream",
     "text": [
      "using dimensions ('lat', 'lon') from data variable z as the horizontal dimensions for this dataset.\n"
     ]
    }
   ],
   "source": [
    "%%time\n",
    "ds_xe = regridder(ds)"
   ]
  },
  {
   "cell_type": "code",
   "execution_count": 15,
   "metadata": {
    "Collapsed": "false"
   },
   "outputs": [
    {
     "data": {
      "text/plain": [
       "<xarray.Dataset>\n",
       "Dimensions:  (lat: 721, lon: 1440, time: 760)\n",
       "Coordinates:\n",
       "  * lon      (lon) float32 0.0 0.25 0.5 0.75 1.0 ... 359.0 359.25 359.5 359.75\n",
       "  * lat      (lat) float32 90.0 89.75 89.5 89.25 ... -89.25 -89.5 -89.75 -90.0\n",
       "  * time     (time) datetime64[ns] 1979-11-30T08:00:00 ... 1979-12-31T23:00:00\n",
       "Data variables:\n",
       "    z        (time, lat, lon) float32 ...\n",
       "Attributes:\n",
       "    Conventions:  CF-1.6\n",
       "    history:      2019-09-18 08:52:54 GMT by grib_to_netcdf-2.10.0: /opt/ecmw..."
      ]
     },
     "execution_count": 15,
     "metadata": {},
     "output_type": "execute_result"
    }
   ],
   "source": [
    "ds.isel(time=slice(8000, 9000))"
   ]
  },
  {
   "cell_type": "code",
   "execution_count": 21,
   "metadata": {
    "Collapsed": "false"
   },
   "outputs": [
    {
     "data": {
      "text/plain": [
       "8"
      ]
     },
     "execution_count": 21,
     "metadata": {},
     "output_type": "execute_result"
    }
   ],
   "source": [
    "len(ds.time) // 1000"
   ]
  },
  {
   "cell_type": "code",
   "execution_count": 23,
   "metadata": {
    "Collapsed": "false"
   },
   "outputs": [],
   "source": [
    "from tqdm import tqdm_notebook as tqdm"
   ]
  },
  {
   "cell_type": "code",
   "execution_count": 28,
   "metadata": {
    "Collapsed": "false"
   },
   "outputs": [
    {
     "data": {
      "application/vnd.jupyter.widget-view+json": {
       "model_id": "aee8385ba87440aaab7b8688b8293cca",
       "version_major": 2,
       "version_minor": 0
      },
      "text/plain": [
       "HBox(children=(IntProgress(value=0, max=37), HTML(value='')))"
      ]
     },
     "metadata": {},
     "output_type": "display_data"
    },
    {
     "name": "stdout",
     "output_type": "stream",
     "text": [
      "using dimensions ('lat', 'lon') from data variable z as the horizontal dimensions for this dataset.\n",
      "using dimensions ('lat', 'lon') from data variable z as the horizontal dimensions for this dataset.\n",
      "using dimensions ('lat', 'lon') from data variable z as the horizontal dimensions for this dataset.\n",
      "using dimensions ('lat', 'lon') from data variable z as the horizontal dimensions for this dataset.\n",
      "using dimensions ('lat', 'lon') from data variable z as the horizontal dimensions for this dataset.\n",
      "using dimensions ('lat', 'lon') from data variable z as the horizontal dimensions for this dataset.\n",
      "using dimensions ('lat', 'lon') from data variable z as the horizontal dimensions for this dataset.\n",
      "using dimensions ('lat', 'lon') from data variable z as the horizontal dimensions for this dataset.\n",
      "using dimensions ('lat', 'lon') from data variable z as the horizontal dimensions for this dataset.\n",
      "using dimensions ('lat', 'lon') from data variable z as the horizontal dimensions for this dataset.\n",
      "using dimensions ('lat', 'lon') from data variable z as the horizontal dimensions for this dataset.\n",
      "using dimensions ('lat', 'lon') from data variable z as the horizontal dimensions for this dataset.\n",
      "using dimensions ('lat', 'lon') from data variable z as the horizontal dimensions for this dataset.\n",
      "using dimensions ('lat', 'lon') from data variable z as the horizontal dimensions for this dataset.\n",
      "using dimensions ('lat', 'lon') from data variable z as the horizontal dimensions for this dataset.\n",
      "using dimensions ('lat', 'lon') from data variable z as the horizontal dimensions for this dataset.\n",
      "using dimensions ('lat', 'lon') from data variable z as the horizontal dimensions for this dataset.\n",
      "using dimensions ('lat', 'lon') from data variable z as the horizontal dimensions for this dataset.\n",
      "using dimensions ('lat', 'lon') from data variable z as the horizontal dimensions for this dataset.\n",
      "using dimensions ('lat', 'lon') from data variable z as the horizontal dimensions for this dataset.\n",
      "using dimensions ('lat', 'lon') from data variable z as the horizontal dimensions for this dataset.\n",
      "using dimensions ('lat', 'lon') from data variable z as the horizontal dimensions for this dataset.\n",
      "using dimensions ('lat', 'lon') from data variable z as the horizontal dimensions for this dataset.\n",
      "using dimensions ('lat', 'lon') from data variable z as the horizontal dimensions for this dataset.\n",
      "using dimensions ('lat', 'lon') from data variable z as the horizontal dimensions for this dataset.\n",
      "using dimensions ('lat', 'lon') from data variable z as the horizontal dimensions for this dataset.\n",
      "using dimensions ('lat', 'lon') from data variable z as the horizontal dimensions for this dataset.\n",
      "using dimensions ('lat', 'lon') from data variable z as the horizontal dimensions for this dataset.\n",
      "using dimensions ('lat', 'lon') from data variable z as the horizontal dimensions for this dataset.\n",
      "using dimensions ('lat', 'lon') from data variable z as the horizontal dimensions for this dataset.\n",
      "using dimensions ('lat', 'lon') from data variable z as the horizontal dimensions for this dataset.\n",
      "using dimensions ('lat', 'lon') from data variable z as the horizontal dimensions for this dataset.\n",
      "using dimensions ('lat', 'lon') from data variable z as the horizontal dimensions for this dataset.\n",
      "using dimensions ('lat', 'lon') from data variable z as the horizontal dimensions for this dataset.\n",
      "using dimensions ('lat', 'lon') from data variable z as the horizontal dimensions for this dataset.\n",
      "using dimensions ('lat', 'lon') from data variable z as the horizontal dimensions for this dataset.\n",
      "using dimensions ('lat', 'lon') from data variable z as the horizontal dimensions for this dataset.\n",
      "CPU times: user 53.7 s, sys: 17.9 s, total: 1min 11s\n",
      "Wall time: 1min 37s\n"
     ]
    }
   ],
   "source": [
    "%%time\n",
    "ds_list = []\n",
    "chunk_size = 250\n",
    "n_chunks = len(ds.time) // chunk_size + 1\n",
    "for i in tqdm(range(n_chunks+1)):\n",
    "    ds_small = ds.isel(time=slice(i*chunk_size, (i+1)*chunk_size))\n",
    "    ds_list.append(regridder(ds_small))"
   ]
  },
  {
   "cell_type": "code",
   "execution_count": 30,
   "metadata": {
    "Collapsed": "false"
   },
   "outputs": [
    {
     "data": {
      "application/vnd.jupyter.widget-view+json": {
       "model_id": "edea92e271e4487f8a4d626679324a0f",
       "version_major": 2,
       "version_minor": 0
      },
      "text/plain": [
       "HBox(children=(IntProgress(value=0, max=19), HTML(value='')))"
      ]
     },
     "metadata": {},
     "output_type": "display_data"
    },
    {
     "name": "stdout",
     "output_type": "stream",
     "text": [
      "using dimensions ('lat', 'lon') from data variable z as the horizontal dimensions for this dataset.\n",
      "using dimensions ('lat', 'lon') from data variable z as the horizontal dimensions for this dataset.\n",
      "using dimensions ('lat', 'lon') from data variable z as the horizontal dimensions for this dataset.\n",
      "using dimensions ('lat', 'lon') from data variable z as the horizontal dimensions for this dataset.\n",
      "using dimensions ('lat', 'lon') from data variable z as the horizontal dimensions for this dataset.\n",
      "using dimensions ('lat', 'lon') from data variable z as the horizontal dimensions for this dataset.\n",
      "using dimensions ('lat', 'lon') from data variable z as the horizontal dimensions for this dataset.\n",
      "using dimensions ('lat', 'lon') from data variable z as the horizontal dimensions for this dataset.\n",
      "using dimensions ('lat', 'lon') from data variable z as the horizontal dimensions for this dataset.\n",
      "using dimensions ('lat', 'lon') from data variable z as the horizontal dimensions for this dataset.\n",
      "using dimensions ('lat', 'lon') from data variable z as the horizontal dimensions for this dataset.\n",
      "using dimensions ('lat', 'lon') from data variable z as the horizontal dimensions for this dataset.\n",
      "using dimensions ('lat', 'lon') from data variable z as the horizontal dimensions for this dataset.\n",
      "using dimensions ('lat', 'lon') from data variable z as the horizontal dimensions for this dataset.\n",
      "using dimensions ('lat', 'lon') from data variable z as the horizontal dimensions for this dataset.\n",
      "using dimensions ('lat', 'lon') from data variable z as the horizontal dimensions for this dataset.\n",
      "using dimensions ('lat', 'lon') from data variable z as the horizontal dimensions for this dataset.\n",
      "using dimensions ('lat', 'lon') from data variable z as the horizontal dimensions for this dataset.\n",
      "using dimensions ('lat', 'lon') from data variable z as the horizontal dimensions for this dataset.\n",
      "CPU times: user 51.4 s, sys: 14.3 s, total: 1min 5s\n",
      "Wall time: 1min 5s\n"
     ]
    }
   ],
   "source": [
    "%%time\n",
    "ds_list = []\n",
    "chunk_size = 500\n",
    "n_chunks = len(ds.time) // chunk_size + 1\n",
    "for i in tqdm(range(n_chunks+1)):\n",
    "    ds_small = ds.isel(time=slice(i*chunk_size, (i+1)*chunk_size))\n",
    "    ds_list.append(regridder(ds_small))"
   ]
  },
  {
   "cell_type": "code",
   "execution_count": null,
   "metadata": {
    "Collapsed": "false"
   },
   "outputs": [
    {
     "data": {
      "application/vnd.jupyter.widget-view+json": {
       "model_id": "0d9f9b75e9384b23895da62ed171bc2d",
       "version_major": 2,
       "version_minor": 0
      },
      "text/plain": [
       "HBox(children=(IntProgress(value=0, max=10), HTML(value='')))"
      ]
     },
     "metadata": {},
     "output_type": "display_data"
    },
    {
     "name": "stdout",
     "output_type": "stream",
     "text": [
      "using dimensions ('lat', 'lon') from data variable z as the horizontal dimensions for this dataset.\n",
      "using dimensions ('lat', 'lon') from data variable z as the horizontal dimensions for this dataset.\n",
      "using dimensions ('lat', 'lon') from data variable z as the horizontal dimensions for this dataset.\n",
      "using dimensions ('lat', 'lon') from data variable z as the horizontal dimensions for this dataset.\n",
      "using dimensions ('lat', 'lon') from data variable z as the horizontal dimensions for this dataset.\n",
      "using dimensions ('lat', 'lon') from data variable z as the horizontal dimensions for this dataset.\n"
     ]
    }
   ],
   "source": [
    "%%time\n",
    "ds_list = []\n",
    "chunk_size = 1000\n",
    "n_chunks = len(ds.time) // chunk_size + 1\n",
    "for i in tqdm(range(n_chunks+1)):\n",
    "    ds_small = ds.isel(time=slice(i*chunk_size, (i+1)*chunk_size))\n",
    "    ds_list.append(regridder(ds_small))"
   ]
  },
  {
   "cell_type": "code",
   "execution_count": null,
   "metadata": {
    "Collapsed": "false"
   },
   "outputs": [],
   "source": []
  },
  {
   "cell_type": "code",
   "execution_count": 29,
   "metadata": {
    "Collapsed": "false"
   },
   "outputs": [],
   "source": [
    "ds_out = xr.concat(ds_list, dim='time')"
   ]
  },
  {
   "cell_type": "code",
   "execution_count": 19,
   "metadata": {
    "Collapsed": "false"
   },
   "outputs": [
    {
     "data": {
      "text/plain": [
       "<xarray.Dataset>\n",
       "Dimensions:  (concat_dims: 8, lat: 33, lon: 64, time: 8000)\n",
       "Coordinates:\n",
       "  * time     (time) datetime64[ns] 1979-01-01 ... 1979-11-30T07:00:00\n",
       "  * lon      (lon) float64 0.0 5.625 11.25 16.88 ... 337.5 343.1 348.8 354.4\n",
       "  * lat      (lat) float64 -90.0 -84.38 -78.75 -73.12 ... 73.12 78.75 84.38 90.0\n",
       "Dimensions without coordinates: concat_dims\n",
       "Data variables:\n",
       "    z        (concat_dims, time, lat, lon) float64 5.149e+04 ... 4.782e+04\n",
       "Attributes:\n",
       "    regrid_method:  bilinear"
      ]
     },
     "execution_count": 19,
     "metadata": {},
     "output_type": "execute_result"
    }
   ],
   "source": [
    "ds_out"
   ]
  },
  {
   "cell_type": "code",
   "execution_count": 14,
   "metadata": {
    "Collapsed": "false"
   },
   "outputs": [
    {
     "data": {
      "text/plain": [
       "<xarray.Dataset>\n",
       "Dimensions:  (lat: 33, lon: 64, time: 500)\n",
       "Coordinates:\n",
       "  * time     (time) datetime64[ns] 1979-01-01 ... 1979-01-21T19:00:00\n",
       "  * lon      (lon) float64 0.0 5.625 11.25 16.88 ... 337.5 343.1 348.8 354.4\n",
       "  * lat      (lat) float64 -90.0 -84.38 -78.75 -73.12 ... 73.12 78.75 84.38 90.0\n",
       "Data variables:\n",
       "    z        (time, lat, lon) float64 5.149e+04 5.149e+04 ... 5.156e+04\n",
       "Attributes:\n",
       "    regrid_method:  bilinear"
      ]
     },
     "execution_count": 14,
     "metadata": {},
     "output_type": "execute_result"
    }
   ],
   "source": [
    "ds_xe"
   ]
  },
  {
   "cell_type": "code",
   "execution_count": 53,
   "metadata": {
    "Collapsed": "false"
   },
   "outputs": [
    {
     "data": {
      "text/plain": [
       "<matplotlib.collections.QuadMesh at 0x319696e80>"
      ]
     },
     "execution_count": 53,
     "metadata": {},
     "output_type": "execute_result"
    },
    {
     "data": {
      "image/png": "[encoded data removed]",
      "text/plain": [
       "<Figure size 432x288 with 2 Axes>"
      ]
     },
     "metadata": {
      "needs_background": "light"
     },
     "output_type": "display_data"
    }
   ],
   "source": [
    "ds_out.z.isel(time=0).plot(cmap='gist_ncar')"
   ]
  },
  {
   "cell_type": "code",
   "execution_count": 54,
   "metadata": {
    "Collapsed": "false"
   },
   "outputs": [],
   "source": [
    "ds_out.to_netcdf('./test_6deg.nc')"
   ]
  },
  {
   "cell_type": "code",
   "execution_count": 56,
   "metadata": {
    "Collapsed": "false"
   },
   "outputs": [
    {
     "name": "stdout",
     "output_type": "stream",
     "text": [
      "-rw-r--r--  1 stephanrasp  staff   405K Sep 17 13:55 ./test_6deg.nc\n"
     ]
    }
   ],
   "source": [
    "!ls -lh ./test_6deg.nc"
   ]
  },
  {
   "cell_type": "code",
   "execution_count": 57,
   "metadata": {
    "Collapsed": "false"
   },
   "outputs": [
    {
     "data": {
      "text/plain": [
       "(0.146, 5.84)"
      ]
     },
     "execution_count": 57,
     "metadata": {},
     "output_type": "execute_result"
    }
   ],
   "source": [
    "0.4 * 365 /1000, 0.4 * 365 /1000 * 40"
   ]
  },
  {
   "cell_type": "code",
   "execution_count": 23,
   "metadata": {
    "Collapsed": "false"
   },
   "outputs": [
    {
     "data": {
      "text/plain": [
       "-37"
      ]
     },
     "execution_count": 23,
     "metadata": {},
     "output_type": "execute_result"
    }
   ],
   "source": [
    "1979-2016"
   ]
  },
  {
   "cell_type": "code",
   "execution_count": 58,
   "metadata": {
    "Collapsed": "false"
   },
   "outputs": [],
   "source": [
    "ds = xr.open_dataset('../src/single_test.nc')"
   ]
  },
  {
   "cell_type": "code",
   "execution_count": 59,
   "metadata": {
    "Collapsed": "false"
   },
   "outputs": [
    {
     "data": {
      "text/plain": [
       "<xarray.Dataset>\n",
       "Dimensions:    (latitude: 721, longitude: 1440, time: 2)\n",
       "Coordinates:\n",
       "  * longitude  (longitude) float32 0.0 0.25 0.5 0.75 ... 359.25 359.5 359.75\n",
       "  * latitude   (latitude) float32 90.0 89.75 89.5 89.25 ... -89.5 -89.75 -90.0\n",
       "  * time       (time) datetime64[ns] 1980-01-01 2010-01-01\n",
       "Data variables:\n",
       "    t2m        (time, latitude, longitude) float32 ...\n",
       "    lsm        (time, latitude, longitude) float32 ...\n",
       "    z          (time, latitude, longitude) float32 ...\n",
       "    slt        (time, latitude, longitude) float32 ...\n",
       "    tisr       (time, latitude, longitude) float32 ...\n",
       "    tp         (time, latitude, longitude) float32 ...\n",
       "Attributes:\n",
       "    Conventions:  CF-1.6\n",
       "    history:      2019-09-17 12:03:16 GMT by grib_to_netcdf-2.10.0: /opt/ecmw..."
      ]
     },
     "execution_count": 59,
     "metadata": {},
     "output_type": "execute_result"
    }
   ],
   "source": [
    "ds"
   ]
  },
  {
   "cell_type": "code",
   "execution_count": 71,
   "metadata": {
    "Collapsed": "false"
   },
   "outputs": [
    {
     "data": {
      "text/plain": [
       "<matplotlib.collections.QuadMesh at 0x31a840d30>"
      ]
     },
     "execution_count": 71,
     "metadata": {},
     "output_type": "execute_result"
    },
    {
     "data": {
      "image/png": "[encoded data removed]",
      "text/plain": [
       "<Figure size 432x288 with 2 Axes>"
      ]
     },
     "metadata": {
      "needs_background": "light"
     },
     "output_type": "display_data"
    }
   ],
   "source": [
    "ds.slt.isel(time=0).plot()"
   ]
  },
  {
   "cell_type": "code",
   "execution_count": 73,
   "metadata": {
    "Collapsed": "false"
   },
   "outputs": [
    {
     "data": {
      "text/plain": [
       "41.58"
      ]
     },
     "execution_count": 73,
     "metadata": {},
     "output_type": "execute_result"
    }
   ],
   "source": [
    "60*693 / 1000"
   ]
  },
  {
   "cell_type": "code",
   "execution_count": 76,
   "metadata": {
    "Collapsed": "false"
   },
   "outputs": [
    {
     "data": {
      "text/plain": [
       "31.60493827160494"
      ]
     },
     "execution_count": 76,
     "metadata": {},
     "output_type": "execute_result"
    }
   ],
   "source": [
    "1/5.625**2 * 1000"
   ]
  },
  {
   "cell_type": "code",
   "execution_count": 77,
   "metadata": {
    "Collapsed": "false"
   },
   "outputs": [
    {
     "data": {
      "text/plain": [
       "348.0"
      ]
     },
     "execution_count": 77,
     "metadata": {},
     "output_type": "execute_result"
    }
   ],
   "source": [
    "5.8*60"
   ]
  },
  {
   "cell_type": "code",
   "execution_count": 79,
   "metadata": {
    "Collapsed": "false"
   },
   "outputs": [
    {
     "data": {
      "text/plain": [
       "1.5625"
      ]
     },
     "execution_count": 79,
     "metadata": {},
     "output_type": "execute_result"
    }
   ],
   "source": [
    "2.5**2 / 2**2"
   ]
  },
  {
   "cell_type": "code",
   "execution_count": 80,
   "metadata": {
    "Collapsed": "false"
   },
   "outputs": [
    {
     "data": {
      "text/plain": [
       "2.0"
      ]
     },
     "execution_count": 80,
     "metadata": {},
     "output_type": "execute_result"
    }
   ],
   "source": [
    "3/1.5"
   ]
  },
  {
   "cell_type": "code",
   "execution_count": 82,
   "metadata": {
    "Collapsed": "false"
   },
   "outputs": [
    {
     "data": {
      "text/plain": [
       "29.2"
      ]
     },
     "execution_count": 82,
     "metadata": {},
     "output_type": "execute_result"
    }
   ],
   "source": [
    "2*365/1000 * 40"
   ]
  },
  {
   "cell_type": "code",
   "execution_count": 83,
   "metadata": {
    "Collapsed": "false"
   },
   "outputs": [
    {
     "data": {
      "text/plain": [
       "1800"
      ]
     },
     "execution_count": 83,
     "metadata": {},
     "output_type": "execute_result"
    }
   ],
   "source": [
    "30*60"
   ]
  },
  {
   "cell_type": "code",
   "execution_count": null,
   "metadata": {
    "Collapsed": "false"
   },
   "outputs": [],
   "source": []
  }
 ],
 "metadata": {
  "kernelspec": {
   "display_name": "Python 3",
   "language": "python",
   "name": "python3"
  },
  "language_info": {
   "codemirror_mode": {
    "name": "ipython",
    "version": 3
   },
   "file_extension": ".py",
   "mimetype": "text/x-python",
   "name": "python",
   "nbconvert_exporter": "python",
   "pygments_lexer": "ipython3",
   "version": "3.7.3"
  },
  "toc": {
   "base_numbering": 1,
   "nav_menu": {},
   "number_sections": true,
   "sideBar": false,
   "skip_h1_title": true,
   "title_cell": "Table of Contents",
   "title_sidebar": "Contents",
   "toc_cell": false,
   "toc_position": {},
   "toc_section_display": true,
   "toc_window_display": false
  }
 },
 "nbformat": 4,
 "nbformat_minor": 4
}
