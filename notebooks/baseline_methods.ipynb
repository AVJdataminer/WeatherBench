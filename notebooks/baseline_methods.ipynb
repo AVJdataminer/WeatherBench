{
 "cells": [
  {
   "cell_type": "markdown",
   "metadata": {
    "Collapsed": "false"
   },
   "source": [
    "# Train baseline ML methods\n",
    "\n",
    "Credit: Sebastian Scher"
   ]
  },
  {
   "cell_type": "code",
   "execution_count": 4,
   "metadata": {
    "Collapsed": "false"
   },
   "outputs": [
    {
     "name": "stdout",
     "output_type": "stream",
     "text": [
      "The autoreload extension is already loaded. To reload it, use:\n",
      "  %reload_ext autoreload\n"
     ]
    }
   ],
   "source": [
    "%load_ext autoreload\n",
    "%autoreload 2"
   ]
  },
  {
   "cell_type": "code",
   "execution_count": 38,
   "metadata": {
    "Collapsed": "false"
   },
   "outputs": [],
   "source": [
    "import numpy as np\n",
    "import matplotlib.pyplot as plt\n",
    "import xarray as xr\n",
    "import tensorflow as tf\n",
    "import tensorflow.keras as keras\n",
    "from tensorflow.keras.layers import *\n",
    "import seaborn as sns\n",
    "import pickle\n",
    "from src.score import *\n",
    "from sklearn.linear_model import LinearRegression\n",
    "from sklearn.metrics import mean_squared_error"
   ]
  },
  {
   "cell_type": "code",
   "execution_count": 6,
   "metadata": {
    "Collapsed": "false"
   },
   "outputs": [],
   "source": [
    "def limit_mem():\n",
    "    config = tf.compat.v1.ConfigProto()\n",
    "    config.gpu_options.allow_growth = True\n",
    "    tf.compat.v1.Session(config=config)\n",
    "def to_pickle(obj, fn):\n",
    "    with open(fn, 'wb') as f:\n",
    "        pickle.dump(obj, f)\n",
    "def read_pickle(fn):\n",
    "    with open(fn, 'rb') as f:\n",
    "        return pickle.load(f)"
   ]
  },
  {
   "cell_type": "code",
   "execution_count": 7,
   "metadata": {
    "Collapsed": "false"
   },
   "outputs": [],
   "source": [
    "limit_mem()"
   ]
  },
  {
   "cell_type": "code",
   "execution_count": 8,
   "metadata": {
    "Collapsed": "false"
   },
   "outputs": [],
   "source": [
    "sns.set_style('darkgrid')\n",
    "sns.set_context('notebook')"
   ]
  },
  {
   "cell_type": "code",
   "execution_count": 9,
   "metadata": {
    "Collapsed": "false"
   },
   "outputs": [],
   "source": [
    "DATADIR = '/data/weather-benchmark/5.625deg/geopotential_500/'"
   ]
  },
  {
   "cell_type": "code",
   "execution_count": 10,
   "metadata": {
    "Collapsed": "false"
   },
   "outputs": [],
   "source": [
    "PREDDIR = '/data/weather-benchmark/predictions/'"
   ]
  },
  {
   "cell_type": "code",
   "execution_count": 11,
   "metadata": {
    "Collapsed": "false"
   },
   "outputs": [
    {
     "name": "stderr",
     "output_type": "stream",
     "text": [
      "/home/rasp/repositories/weather-benchmark/notebooks/src/score.py:24: FutureWarning: In xarray version 0.14 the default behaviour of `open_mfdataset`\n",
      "will change. To retain the existing behavior, pass\n",
      "combine='nested'. To use future default behavior, pass\n",
      "combine='by_coords'. See\n",
      "http://xarray.pydata.org/en/stable/combining.html#combining-multi\n",
      "\n",
      "  ds = xr.open_mfdataset(f'{path}/*.nc')[var]\n",
      "/home/rasp/miniconda3/lib/python3.7/site-packages/xarray/backends/api.py:934: FutureWarning: The datasets supplied have global dimension coordinates. You may want\n",
      "to use the new `combine_by_coords` function (or the\n",
      "`combine='by_coords'` option to `open_mfdataset`) to order the datasets\n",
      "before concatenation. Alternatively, to continue concatenating based\n",
      "on the order the datasets are supplied in future, please use the new\n",
      "`combine_nested` function (or the `combine='nested'` option to\n",
      "open_mfdataset).\n",
      "  from_openmfds=True,\n"
     ]
    }
   ],
   "source": [
    "z500_valid = load_test_data(DATADIR)"
   ]
  },
  {
   "cell_type": "markdown",
   "metadata": {
    "Collapsed": "false"
   },
   "source": [
    "## Load and preprocess dataset"
   ]
  },
  {
   "cell_type": "code",
   "execution_count": 12,
   "metadata": {
    "Collapsed": "false"
   },
   "outputs": [
    {
     "name": "stderr",
     "output_type": "stream",
     "text": [
      "/home/rasp/miniconda3/lib/python3.7/site-packages/ipykernel_launcher.py:1: FutureWarning: In xarray version 0.14 the default behaviour of `open_mfdataset`\n",
      "will change. To retain the existing behavior, pass\n",
      "combine='nested'. To use future default behavior, pass\n",
      "combine='by_coords'. See\n",
      "http://xarray.pydata.org/en/stable/combining.html#combining-multi\n",
      "\n",
      "  \"\"\"Entry point for launching an IPython kernel.\n",
      "/home/rasp/miniconda3/lib/python3.7/site-packages/xarray/backends/api.py:934: FutureWarning: The datasets supplied have global dimension coordinates. You may want\n",
      "to use the new `combine_by_coords` function (or the\n",
      "`combine='by_coords'` option to `open_mfdataset`) to order the datasets\n",
      "before concatenation. Alternatively, to continue concatenating based\n",
      "on the order the datasets are supplied in future, please use the new\n",
      "`combine_nested` function (or the `combine='nested'` option to\n",
      "open_mfdataset).\n",
      "  from_openmfds=True,\n"
     ]
    }
   ],
   "source": [
    "z500 = xr.open_mfdataset(f'{DATADIR}*')"
   ]
  },
  {
   "cell_type": "code",
   "execution_count": 13,
   "metadata": {
    "Collapsed": "false"
   },
   "outputs": [
    {
     "data": {
      "text/plain": [
       "<xarray.Dataset>\n",
       "Dimensions:  (lat: 32, lon: 64, time: 350640)\n",
       "Coordinates:\n",
       "  * lat      (lat) float64 -87.19 -81.56 -75.94 -70.31 ... 75.94 81.56 87.19\n",
       "  * lon      (lon) float64 0.0 5.625 11.25 16.88 ... 337.5 343.1 348.8 354.4\n",
       "  * time     (time) datetime64[ns] 1979-01-01 ... 2018-12-31T23:00:00\n",
       "Data variables:\n",
       "    z        (time, lat, lon) float32 51555.703 51580.01 ... 48813.297 48731.062\n",
       "Attributes:\n",
       "    Conventions:  CF-1.6\n",
       "    history:      2019-09-18 08:52:54 GMT by grib_to_netcdf-2.10.0: /opt/ecmw..."
      ]
     },
     "execution_count": 13,
     "metadata": {},
     "output_type": "execute_result"
    }
   ],
   "source": [
    "z500.load()"
   ]
  },
  {
   "cell_type": "code",
   "execution_count": 14,
   "metadata": {
    "Collapsed": "false"
   },
   "outputs": [],
   "source": [
    "data_train = z500.z.sel(time=slice('1979', '2016'))\n",
    "data_test = z500.z.sel(time=slice('2017', '2018'))"
   ]
  },
  {
   "cell_type": "code",
   "execution_count": 15,
   "metadata": {
    "Collapsed": "false"
   },
   "outputs": [
    {
     "data": {
      "text/plain": [
       "(array(54109.28, dtype=float32), array(1119.5938, dtype=float32))"
      ]
     },
     "execution_count": 15,
     "metadata": {},
     "output_type": "execute_result"
    }
   ],
   "source": [
    "# Compute mean and std for normalization\n",
    "data_mean = data_train.mean().values\n",
    "data_std = data_train.std('time').mean().values\n",
    "data_mean, data_std"
   ]
  },
  {
   "cell_type": "code",
   "execution_count": 16,
   "metadata": {
    "Collapsed": "false"
   },
   "outputs": [],
   "source": [
    "# Normalize datasets\n",
    "data_train = (data_train - data_mean) / data_std\n",
    "data_test = (data_test - data_mean) / data_std"
   ]
  },
  {
   "cell_type": "code",
   "execution_count": 17,
   "metadata": {
    "Collapsed": "false"
   },
   "outputs": [],
   "source": [
    "lead_time_h = 6"
   ]
  },
  {
   "cell_type": "code",
   "execution_count": 18,
   "metadata": {
    "Collapsed": "false"
   },
   "outputs": [
    {
     "data": {
      "image/png": "[encoded data removed]",
      "text/plain": [
       "<Figure size 1080x288 with 6 Axes>"
      ]
     },
     "metadata": {},
     "output_type": "display_data"
    }
   ],
   "source": [
    "fig, (ax1, ax2, ax3) = plt.subplots(1, 3, figsize=(15, 4))\n",
    "data_train.isel(time=0).plot(ax=ax1)\n",
    "data_train.isel(time=lead_time_h).plot(ax=ax2)\n",
    "(data_train.isel(time=lead_time_h) - data_train.isel(time=0)).plot(ax=ax3)\n",
    "plt.tight_layout()"
   ]
  },
  {
   "cell_type": "code",
   "execution_count": 19,
   "metadata": {
    "Collapsed": "false"
   },
   "outputs": [],
   "source": [
    "def create_training_data(data_train, lead_time_h, return_valid_time=False):\n",
    "    X_train = data_train.isel(time=slice(0, -lead_time_h))\n",
    "    y_train = data_train.isel(time=slice(lead_time_h, None))\n",
    "    valid_time = y_train.time\n",
    "    if return_valid_time:\n",
    "        return X_train.values, y_train.values, valid_time\n",
    "    else:\n",
    "        return X_train.values, y_train.values"
   ]
  },
  {
   "cell_type": "code",
   "execution_count": 20,
   "metadata": {
    "Collapsed": "false"
   },
   "outputs": [],
   "source": [
    "X_train, y_train = create_training_data(data_train, lead_time_h)"
   ]
  },
  {
   "cell_type": "code",
   "execution_count": 21,
   "metadata": {
    "Collapsed": "false"
   },
   "outputs": [
    {
     "data": {
      "text/plain": [
       "(333114, 32, 64)"
      ]
     },
     "execution_count": 21,
     "metadata": {},
     "output_type": "execute_result"
    }
   ],
   "source": [
    "nsamples, nlat, nlon = X_train.shape\n",
    "nsamples, nlat, nlon"
   ]
  },
  {
   "cell_type": "markdown",
   "metadata": {
    "Collapsed": "false"
   },
   "source": [
    "## Linear regression"
   ]
  },
  {
   "cell_type": "markdown",
   "metadata": {
    "Collapsed": "false"
   },
   "source": [
    "### Directly forecast 3 and 5 days"
   ]
  },
  {
   "cell_type": "code",
   "execution_count": 22,
   "metadata": {
    "Collapsed": "false"
   },
   "outputs": [],
   "source": [
    "def train_lr(lead_time_h):\n",
    "    X_train, y_train = create_training_data(data_train, lead_time_h)\n",
    "    X_test, y_test, valid_time = create_training_data(data_test, lead_time_h, return_valid_time=True)\n",
    "    lr = LinearRegression()\n",
    "    lr.fit(X_train.reshape((-1, nlat*nlon)), y_train.reshape((-1, nlat*nlon)))\n",
    "    mse_train = mean_squared_error(\n",
    "        y_train.reshape((-1, nlat*nlon)), lr.predict(X_train.reshape((-1, nlat*nlon))))\n",
    "    mse_test = mean_squared_error(\n",
    "        y_test.reshape((-1, nlat*nlon)), lr.predict(X_test.reshape((-1, nlat*nlon))))\n",
    "    print(f'Train MSE = {mse_train}'); print(f'Test MSE = {mse_test}')\n",
    "    preds = lr.predict(X_test.reshape((-1, nlat*nlon))).reshape((-1, nlat, nlon))\n",
    "    fc = xr.DataArray(\n",
    "        preds * data_std + data_mean, \n",
    "        dims=['time', 'lat', 'lon'],\n",
    "        coords={\n",
    "            'time': valid_time,\n",
    "            'lat': data_test.lat,\n",
    "            'lon': data_test.lon\n",
    "        }\n",
    "    )\n",
    "    return fc, lr                                   "
   ]
  },
  {
   "cell_type": "code",
   "execution_count": 23,
   "metadata": {
    "Collapsed": "false"
   },
   "outputs": [
    {
     "name": "stdout",
     "output_type": "stream",
     "text": [
      "Train MSE = 0.4273567199707031\n",
      "Test MSE = 0.519521176815033\n"
     ]
    }
   ],
   "source": [
    "fc_3d, lr_3d = train_lr(3*24)"
   ]
  },
  {
   "cell_type": "code",
   "execution_count": 67,
   "metadata": {
    "Collapsed": "false"
   },
   "outputs": [
    {
     "data": {
      "text/plain": [
       "105.07893"
      ]
     },
     "execution_count": 67,
     "metadata": {},
     "output_type": "execute_result"
    }
   ],
   "source": [
    "lr_3d.coef_.max()"
   ]
  },
  {
   "cell_type": "code",
   "execution_count": 24,
   "metadata": {
    "Collapsed": "false"
   },
   "outputs": [],
   "source": [
    "fc_3d.to_netcdf(f'{PREDDIR}/fc_lr_3d.nc'); to_pickle(lr_3d, f'{PREDDIR}/lr_3d.pkl')"
   ]
  },
  {
   "cell_type": "code",
   "execution_count": 25,
   "metadata": {
    "Collapsed": "false"
   },
   "outputs": [
    {
     "data": {
      "text/plain": [
       "array(692.72003308)"
      ]
     },
     "execution_count": 25,
     "metadata": {},
     "output_type": "execute_result"
    }
   ],
   "source": [
    "rmse_lr_3d = compute_weighted_rmse(fc_3d, z500_valid).values; rmse_lr_3d"
   ]
  },
  {
   "cell_type": "code",
   "execution_count": 26,
   "metadata": {
    "Collapsed": "false"
   },
   "outputs": [
    {
     "name": "stdout",
     "output_type": "stream",
     "text": [
      "Train MSE = 0.5394009351730347\n",
      "Test MSE = 0.6640067100524902\n"
     ]
    }
   ],
   "source": [
    "fc_5d, lr_5d = train_lr(5*24)"
   ]
  },
  {
   "cell_type": "code",
   "execution_count": 27,
   "metadata": {
    "Collapsed": "false"
   },
   "outputs": [],
   "source": [
    "fc_5d.to_netcdf(f'{PREDDIR}/fc_lr_5d.nc'); to_pickle(lr_5d, f'{PREDDIR}/lr_5d.pkl')"
   ]
  },
  {
   "cell_type": "code",
   "execution_count": 28,
   "metadata": {
    "Collapsed": "false"
   },
   "outputs": [
    {
     "data": {
      "text/plain": [
       "array(782.60557331)"
      ]
     },
     "execution_count": 28,
     "metadata": {},
     "output_type": "execute_result"
    }
   ],
   "source": [
    "rmse_lr_5d = compute_weighted_rmse(fc_5d, z500_valid).values; rmse_lr_5d"
   ]
  },
  {
   "cell_type": "markdown",
   "metadata": {
    "Collapsed": "false"
   },
   "source": [
    "### Iterative 6h forecast"
   ]
  },
  {
   "cell_type": "code",
   "execution_count": 29,
   "metadata": {
    "Collapsed": "false"
   },
   "outputs": [
    {
     "name": "stdout",
     "output_type": "stream",
     "text": [
      "Train MSE = 0.018928106874227524\n",
      "Test MSE = 0.021592188626527786\n"
     ]
    }
   ],
   "source": [
    "_, lr_6h = train_lr(6)"
   ]
  },
  {
   "cell_type": "code",
   "execution_count": 30,
   "metadata": {
    "Collapsed": "false"
   },
   "outputs": [],
   "source": [
    "to_pickle(lr_6h, f'{PREDDIR}/lr_6h.pkl')"
   ]
  },
  {
   "cell_type": "code",
   "execution_count": 31,
   "metadata": {
    "Collapsed": "false"
   },
   "outputs": [],
   "source": [
    "def create_iterative_fc(data_test, model, lead_time_h=6, max_lead_time_h=5*24, flatten=False):\n",
    "    max_fc_steps = max_lead_time_h // lead_time_h\n",
    "    fcs = []\n",
    "    state = data_test.values\n",
    "    if flatten: state = state.reshape((-1, nlat*nlon))\n",
    "    for fc_step in range(max_fc_steps):\n",
    "        state = model.predict(state)\n",
    "        fc = state.copy() * data_std + data_mean\n",
    "        if flatten: fc = fc.reshape((-1, nlat, nlon))\n",
    "        fcs.append(fc)\n",
    "    fcs = xr.DataArray(\n",
    "        np.array(fcs), \n",
    "        dims=['lead_time', 'time', 'lat', 'lon'],\n",
    "        coords={\n",
    "            'lead_time': np.arange(lead_time_h, max_lead_time_h + lead_time_h, lead_time_h),\n",
    "            'time': data_test.time,\n",
    "            'lat': data_test.lat,\n",
    "            'lon': data_test.lon\n",
    "        }\n",
    "    )\n",
    "    return fcs"
   ]
  },
  {
   "cell_type": "code",
   "execution_count": 32,
   "metadata": {
    "Collapsed": "false"
   },
   "outputs": [],
   "source": [
    "fc_lr_6h_iter = create_iterative_fc(data_test, lr_6h, flatten=True)"
   ]
  },
  {
   "cell_type": "code",
   "execution_count": 33,
   "metadata": {
    "Collapsed": "false"
   },
   "outputs": [],
   "source": [
    "fc_lr_6h_iter.to_netcdf(f'{PREDDIR}/fc_lr_6h_iter.nc')"
   ]
  },
  {
   "cell_type": "code",
   "execution_count": 34,
   "metadata": {
    "Collapsed": "false"
   },
   "outputs": [],
   "source": [
    "rmses_lr_6h_iter = evaluate_iterative_forecast(fc_lr_6h_iter, z500_valid)"
   ]
  },
  {
   "cell_type": "code",
   "execution_count": 35,
   "metadata": {
    "Collapsed": "false"
   },
   "outputs": [
    {
     "data": {
      "image/png": "[encoded data removed]",
      "text/plain": [
       "<Figure size 432x288 with 1 Axes>"
      ]
     },
     "metadata": {},
     "output_type": "display_data"
    }
   ],
   "source": [
    "rmses_lr_6h_iter.plot();"
   ]
  },
  {
   "cell_type": "code",
   "execution_count": 37,
   "metadata": {
    "Collapsed": "false"
   },
   "outputs": [
    {
     "data": {
      "text/plain": [
       "<xarray.DataArray (lead_time: 2)>\n",
       "array([740.37383243, 845.13098968])\n",
       "Coordinates:\n",
       "  * lead_time  (lead_time) int64 72 120"
      ]
     },
     "execution_count": 37,
     "metadata": {},
     "output_type": "execute_result"
    }
   ],
   "source": [
    "rmses_lr_6h_iter.sel(lead_time=[3*24, 5*24])"
   ]
  },
  {
   "cell_type": "markdown",
   "metadata": {
    "Collapsed": "false"
   },
   "source": [
    "# Linear regression in Keras"
   ]
  },
  {
   "cell_type": "code",
   "execution_count": 58,
   "metadata": {
    "Collapsed": "false"
   },
   "outputs": [],
   "source": [
    "X_train, y_train = create_training_data(data_train, 3*24)"
   ]
  },
  {
   "cell_type": "code",
   "execution_count": 59,
   "metadata": {
    "Collapsed": "false"
   },
   "outputs": [],
   "source": [
    "net = tf.keras.models.Sequential([\n",
    "    Dense(nlat*nlon, input_shape=(nlat*nlon, ))\n",
    "])"
   ]
  },
  {
   "cell_type": "code",
   "execution_count": 60,
   "metadata": {
    "Collapsed": "false"
   },
   "outputs": [
    {
     "name": "stdout",
     "output_type": "stream",
     "text": [
      "Model: \"sequential_4\"\n",
      "_________________________________________________________________\n",
      "Layer (type)                 Output Shape              Param #   \n",
      "=================================================================\n",
      "dense_4 (Dense)              (None, 2048)              4196352   \n",
      "=================================================================\n",
      "Total params: 4,196,352\n",
      "Trainable params: 4,196,352\n",
      "Non-trainable params: 0\n",
      "_________________________________________________________________\n"
     ]
    }
   ],
   "source": [
    "net.summary()"
   ]
  },
  {
   "cell_type": "code",
   "execution_count": 61,
   "metadata": {
    "Collapsed": "false"
   },
   "outputs": [],
   "source": [
    "net.compile(keras.optimizers.Adam(1e-4), 'mse')"
   ]
  },
  {
   "cell_type": "code",
   "execution_count": 63,
   "metadata": {
    "Collapsed": "false"
   },
   "outputs": [
    {
     "name": "stdout",
     "output_type": "stream",
     "text": [
      "Epoch 1/50\n",
      "333048/333048 [==============================] - 4s 12us/sample - loss: 0.4642\n",
      "Epoch 2/50\n",
      "333048/333048 [==============================] - 4s 13us/sample - loss: 0.4641\n",
      "Epoch 3/50\n",
      "333048/333048 [==============================] - 4s 13us/sample - loss: 0.4637\n",
      "Epoch 4/50\n",
      "333048/333048 [==============================] - 4s 13us/sample - loss: 0.4636\n",
      "Epoch 5/50\n",
      "333048/333048 [==============================] - 4s 13us/sample - loss: 0.4635\n",
      "Epoch 6/50\n",
      "333048/333048 [==============================] - 4s 13us/sample - loss: 0.4633\n",
      "Epoch 7/50\n",
      "333048/333048 [==============================] - 4s 13us/sample - loss: 0.4630\n",
      "Epoch 8/50\n",
      "333048/333048 [==============================] - 4s 13us/sample - loss: 0.4631\n",
      "Epoch 9/50\n",
      "333048/333048 [==============================] - 4s 13us/sample - loss: 0.4626\n",
      "Epoch 10/50\n",
      "333048/333048 [==============================] - 4s 13us/sample - loss: 0.4627\n",
      "Epoch 11/50\n",
      "333048/333048 [==============================] - 4s 13us/sample - loss: 0.4625\n",
      "Epoch 12/50\n",
      "333048/333048 [==============================] - 4s 13us/sample - loss: 0.4622\n",
      "Epoch 13/50\n",
      "333048/333048 [==============================] - 4s 13us/sample - loss: 0.4622\n",
      "Epoch 14/50\n",
      "333048/333048 [==============================] - 4s 13us/sample - loss: 0.4620\n",
      "Epoch 15/50\n",
      "333048/333048 [==============================] - 4s 13us/sample - loss: 0.4618\n",
      "Epoch 16/50\n",
      "333048/333048 [==============================] - 4s 13us/sample - loss: 0.4618\n",
      "Epoch 17/50\n",
      "333048/333048 [==============================] - 4s 13us/sample - loss: 0.4616\n",
      "Epoch 18/50\n",
      "333048/333048 [==============================] - 4s 13us/sample - loss: 0.4613\n",
      "Epoch 19/50\n",
      "333048/333048 [==============================] - 4s 13us/sample - loss: 0.4614\n",
      "Epoch 20/50\n",
      "333048/333048 [==============================] - 4s 13us/sample - loss: 0.4612\n",
      "Epoch 21/50\n",
      "333048/333048 [==============================] - 4s 13us/sample - loss: 0.4610\n",
      "Epoch 22/50\n",
      "333048/333048 [==============================] - 4s 13us/sample - loss: 0.4611\n",
      "Epoch 23/50\n",
      "333048/333048 [==============================] - 4s 13us/sample - loss: 0.4608\n",
      "Epoch 24/50\n",
      "333048/333048 [==============================] - 4s 13us/sample - loss: 0.4606\n",
      "Epoch 25/50\n",
      "333048/333048 [==============================] - 4s 13us/sample - loss: 0.4606\n",
      "Epoch 26/50\n",
      "333048/333048 [==============================] - 4s 13us/sample - loss: 0.4605\n",
      "Epoch 27/50\n",
      "333048/333048 [==============================] - 4s 13us/sample - loss: 0.4603\n",
      "Epoch 28/50\n",
      "333048/333048 [==============================] - 4s 13us/sample - loss: 0.4603\n",
      "Epoch 29/50\n",
      "333048/333048 [==============================] - 4s 13us/sample - loss: 0.4601\n",
      "Epoch 30/50\n",
      "333048/333048 [==============================] - 4s 13us/sample - loss: 0.4600\n",
      "Epoch 31/50\n",
      "333048/333048 [==============================] - 4s 13us/sample - loss: 0.4599\n",
      "Epoch 32/50\n",
      "333048/333048 [==============================] - 4s 13us/sample - loss: 0.4598\n",
      "Epoch 33/50\n",
      "333048/333048 [==============================] - 4s 12us/sample - loss: 0.4596\n",
      "Epoch 34/50\n",
      "333048/333048 [==============================] - 4s 13us/sample - loss: 0.4596\n",
      "Epoch 35/50\n",
      "333048/333048 [==============================] - 4s 13us/sample - loss: 0.4595\n",
      "Epoch 36/50\n",
      "333048/333048 [==============================] - 4s 13us/sample - loss: 0.4594\n",
      "Epoch 37/50\n",
      "333048/333048 [==============================] - 4s 13us/sample - loss: 0.4592\n",
      "Epoch 38/50\n",
      "333048/333048 [==============================] - 4s 13us/sample - loss: 0.4592\n",
      "Epoch 39/50\n",
      "333048/333048 [==============================] - 4s 13us/sample - loss: 0.4590\n",
      "Epoch 40/50\n",
      "333048/333048 [==============================] - 4s 12us/sample - loss: 0.4591\n",
      "Epoch 41/50\n",
      "333048/333048 [==============================] - 4s 13us/sample - loss: 0.4588\n",
      "Epoch 42/50\n",
      "333048/333048 [==============================] - 4s 12us/sample - loss: 0.4589\n",
      "Epoch 43/50\n",
      "333048/333048 [==============================] - 4s 12us/sample - loss: 0.4587\n",
      "Epoch 44/50\n",
      "333048/333048 [==============================] - 4s 12us/sample - loss: 0.4586\n",
      "Epoch 45/50\n",
      "333048/333048 [==============================] - 4s 12us/sample - loss: 0.4586\n",
      "Epoch 46/50\n",
      "333048/333048 [==============================] - 4s 12us/sample - loss: 0.4585\n",
      "Epoch 47/50\n",
      "333048/333048 [==============================] - 4s 12us/sample - loss: 0.4585\n",
      "Epoch 48/50\n",
      "333048/333048 [==============================] - 4s 12us/sample - loss: 0.4583\n",
      "Epoch 49/50\n",
      "333048/333048 [==============================] - 4s 12us/sample - loss: 0.4582\n",
      "Epoch 50/50\n",
      "333048/333048 [==============================] - 4s 12us/sample - loss: 0.4581\n"
     ]
    },
    {
     "data": {
      "text/plain": [
       "<tensorflow.python.keras.callbacks.History at 0x7f6fcdf7b978>"
      ]
     },
     "execution_count": 63,
     "metadata": {},
     "output_type": "execute_result"
    }
   ],
   "source": [
    "net.fit(X_train.reshape((-1, nlat*nlon)), y_train.reshape((-1, nlat*nlon)), epochs=50, batch_size=1024)"
   ]
  },
  {
   "cell_type": "markdown",
   "metadata": {
    "Collapsed": "true"
   },
   "source": [
    "## Random forest with PCA"
   ]
  },
  {
   "cell_type": "markdown",
   "metadata": {
    "Collapsed": "false"
   },
   "source": [
    "### Directly forecast 3 and 5 days"
   ]
  },
  {
   "cell_type": "code",
   "execution_count": 20,
   "metadata": {
    "Collapsed": "false"
   },
   "outputs": [],
   "source": [
    "lead_time = 3*24"
   ]
  },
  {
   "cell_type": "code",
   "execution_count": 21,
   "metadata": {
    "Collapsed": "false"
   },
   "outputs": [],
   "source": [
    "X_train, y_train = create_training_data(data_train, lead_time_h)"
   ]
  },
  {
   "cell_type": "code",
   "execution_count": 50,
   "metadata": {
    "Collapsed": "false"
   },
   "outputs": [],
   "source": [
    "X_test, y_test, valid_time = create_training_data(data_test, lead_time_h, return_valid_time=True)"
   ]
  },
  {
   "cell_type": "code",
   "execution_count": 22,
   "metadata": {
    "Collapsed": "false"
   },
   "outputs": [],
   "source": [
    "from sklearn.ensemble import RandomForestRegressor\n",
    "from sklearn.decomposition import PCA"
   ]
  },
  {
   "cell_type": "code",
   "execution_count": 46,
   "metadata": {
    "Collapsed": "false"
   },
   "outputs": [],
   "source": [
    "X_train_flat = X_train.reshape((-1, nlat*nlon))\n",
    "y_train_flat = y_train.reshape((-1, nlat*nlon))"
   ]
  },
  {
   "cell_type": "code",
   "execution_count": 32,
   "metadata": {
    "Collapsed": "false"
   },
   "outputs": [
    {
     "data": {
      "text/plain": [
       "(333114, 2112)"
      ]
     },
     "execution_count": 32,
     "metadata": {},
     "output_type": "execute_result"
    }
   ],
   "source": [
    "X_train_flat.shape"
   ]
  },
  {
   "cell_type": "code",
   "execution_count": 57,
   "metadata": {
    "Collapsed": "false"
   },
   "outputs": [],
   "source": [
    "pca = PCA(n_components=200)"
   ]
  },
  {
   "cell_type": "code",
   "execution_count": 58,
   "metadata": {
    "Collapsed": "false"
   },
   "outputs": [
    {
     "data": {
      "text/plain": [
       "PCA(copy=True, iterated_power='auto', n_components=200, random_state=None,\n",
       "    svd_solver='auto', tol=0.0, whiten=False)"
      ]
     },
     "execution_count": 58,
     "metadata": {},
     "output_type": "execute_result"
    }
   ],
   "source": [
    "pca.fit(X_train_flat)"
   ]
  },
  {
   "cell_type": "code",
   "execution_count": 59,
   "metadata": {
    "Collapsed": "false"
   },
   "outputs": [
    {
     "data": {
      "text/plain": [
       "0.9841005488893745"
      ]
     },
     "execution_count": 59,
     "metadata": {},
     "output_type": "execute_result"
    }
   ],
   "source": [
    "pca.explained_variance_ratio_.sum()"
   ]
  },
  {
   "cell_type": "code",
   "execution_count": 60,
   "metadata": {
    "Collapsed": "false"
   },
   "outputs": [],
   "source": [
    "X_train_pca = pca.transform(X_train_flat)\n",
    "y_train_pca = pca.transform(y_train_flat)"
   ]
  },
  {
   "cell_type": "code",
   "execution_count": 61,
   "metadata": {
    "Collapsed": "false"
   },
   "outputs": [],
   "source": [
    "rf = RandomForestRegressor(n_estimators=20, min_samples_leaf=500, verbose=1, n_jobs=10)"
   ]
  },
  {
   "cell_type": "code",
   "execution_count": 62,
   "metadata": {
    "Collapsed": "false"
   },
   "outputs": [
    {
     "name": "stderr",
     "output_type": "stream",
     "text": [
      "[Parallel(n_jobs=10)]: Using backend ThreadingBackend with 10 concurrent workers.\n",
      "[Parallel(n_jobs=10)]: Done  20 out of  20 | elapsed:  8.8min finished\n"
     ]
    },
    {
     "data": {
      "text/plain": [
       "RandomForestRegressor(bootstrap=True, criterion='mse', max_depth=None,\n",
       "                      max_features='auto', max_leaf_nodes=None,\n",
       "                      min_impurity_decrease=0.0, min_impurity_split=None,\n",
       "                      min_samples_leaf=500, min_samples_split=2,\n",
       "                      min_weight_fraction_leaf=0.0, n_estimators=20, n_jobs=10,\n",
       "                      oob_score=False, random_state=None, verbose=1,\n",
       "                      warm_start=False)"
      ]
     },
     "execution_count": 62,
     "metadata": {},
     "output_type": "execute_result"
    }
   ],
   "source": [
    "rf.fit(X_train_pca, y_train_pca)"
   ]
  },
  {
   "cell_type": "code",
   "execution_count": 63,
   "metadata": {
    "Collapsed": "false"
   },
   "outputs": [
    {
     "name": "stderr",
     "output_type": "stream",
     "text": [
      "[Parallel(n_jobs=10)]: Using backend ThreadingBackend with 10 concurrent workers.\n",
      "[Parallel(n_jobs=10)]: Done  20 out of  20 | elapsed:    0.3s finished\n"
     ]
    }
   ],
   "source": [
    "preds = pca.inverse_transform(rf.predict(pca.transform(X_test.reshape((-1, nlat*nlon))))).reshape((-1, nlat, nlon))"
   ]
  },
  {
   "cell_type": "code",
   "execution_count": 64,
   "metadata": {
    "Collapsed": "false"
   },
   "outputs": [],
   "source": [
    "fc_rf = xr.DataArray(\n",
    "    preds * data_std + data_mean, \n",
    "    dims=['time', 'lat', 'lon'],\n",
    "    coords={\n",
    "        'time': valid_time,\n",
    "        'lat': data_test.lat,\n",
    "        'lon': data_test.lon\n",
    "    }\n",
    ")"
   ]
  },
  {
   "cell_type": "code",
   "execution_count": 65,
   "metadata": {
    "Collapsed": "false"
   },
   "outputs": [
    {
     "data": {
      "text/plain": [
       "array(789.25337295)"
      ]
     },
     "execution_count": 65,
     "metadata": {},
     "output_type": "execute_result"
    }
   ],
   "source": [
    "compute_weighted_rmse(fc_rf, z500_valid).values"
   ]
  },
  {
   "cell_type": "code",
   "execution_count": 19,
   "metadata": {
    "Collapsed": "false"
   },
   "outputs": [],
   "source": [
    "def train_rf(lead_time_h):\n",
    "    X_train, y_train = create_training_data(data_train, lead_time_h)\n",
    "    X_test, y_test, valid_time = create_training_data(data_test, lead_time_h, return_valid_time=True)\n",
    "    lr = LinearRegression()\n",
    "    lr.fit(X_train.reshape((-1, nlat*nlon)), y_train.reshape((-1, nlat*nlon)))\n",
    "    mse_train = mean_squared_error(\n",
    "        y_train.reshape((-1, nlat*nlon)), lr.predict(X_train.reshape((-1, nlat*nlon))))\n",
    "    mse_test = mean_squared_error(\n",
    "        y_test.reshape((-1, nlat*nlon)), lr.predict(X_test.reshape((-1, nlat*nlon))))\n",
    "    print(f'Train MSE = {mse_train}'); print(f'Test MSE = {mse_test}')\n",
    "    preds = lr.predict(X_test.reshape((-1, nlat*nlon))).reshape((-1, nlat, nlon))\n",
    "    fc = xr.DataArray(\n",
    "        preds * data_std + data_mean, \n",
    "        dims=['time', 'lat', 'lon'],\n",
    "        coords={\n",
    "            'time': valid_time,\n",
    "            'lat': data_test.lat,\n",
    "            'lon': data_test.lon\n",
    "        }\n",
    "    )\n",
    "    return fc, lr                                   "
   ]
  },
  {
   "cell_type": "code",
   "execution_count": null,
   "metadata": {
    "Collapsed": "false"
   },
   "outputs": [],
   "source": []
  },
  {
   "cell_type": "code",
   "execution_count": null,
   "metadata": {
    "Collapsed": "false"
   },
   "outputs": [],
   "source": []
  },
  {
   "cell_type": "code",
   "execution_count": 76,
   "metadata": {
    "Collapsed": "false"
   },
   "outputs": [
    {
     "name": "stdout",
     "output_type": "stream",
     "text": [
      "Train MSE = 0.42326343059539795\n",
      "Test MSE = 0.511426568031311\n"
     ]
    }
   ],
   "source": [
    "fc_3d, lr_3d = train_lr(3*24)"
   ]
  },
  {
   "cell_type": "code",
   "execution_count": 83,
   "metadata": {
    "Collapsed": "false"
   },
   "outputs": [],
   "source": [
    "fc_3d.to_netcdf(f'{PREDDIR}/fc_lr_3d.nc'); to_pickle(lr_3d, f'{PREDDIR}/lr_3d.pkl')"
   ]
  },
  {
   "cell_type": "code",
   "execution_count": 77,
   "metadata": {
    "Collapsed": "false"
   },
   "outputs": [
    {
     "data": {
      "text/plain": [
       "array(692.52623073)"
      ]
     },
     "execution_count": 77,
     "metadata": {},
     "output_type": "execute_result"
    }
   ],
   "source": [
    "rmse_lr_3d = compute_weighted_rmse(fc_3d, z500_valid).values; rmse_lr_3d"
   ]
  },
  {
   "cell_type": "code",
   "execution_count": 84,
   "metadata": {
    "Collapsed": "false"
   },
   "outputs": [
    {
     "name": "stdout",
     "output_type": "stream",
     "text": [
      "Train MSE = 0.5344774723052979\n",
      "Test MSE = 0.6529616713523865\n"
     ]
    }
   ],
   "source": [
    "fc_5d, lr_5d = train_lr(5*24)"
   ]
  },
  {
   "cell_type": "code",
   "execution_count": 85,
   "metadata": {
    "Collapsed": "false"
   },
   "outputs": [
    {
     "name": "stderr",
     "output_type": "stream",
     "text": [
      "/home/rasp/miniconda3/lib/python3.7/site-packages/xarray/coding/times.py:244: FutureWarning: the 'box' keyword is deprecated and will be removed in a future version. Please take steps to stop the use of 'box'\n",
      "  dates = pd.to_datetime(dates, box=False)\n"
     ]
    }
   ],
   "source": [
    "fc_5d.to_netcdf(f'{PREDDIR}/fc_lr_5d.nc'); to_pickle(lr_5d, f'{PREDDIR}/lr_5d.pkl')"
   ]
  },
  {
   "cell_type": "code",
   "execution_count": 86,
   "metadata": {
    "Collapsed": "false"
   },
   "outputs": [
    {
     "data": {
      "text/plain": [
       "array(781.63945359)"
      ]
     },
     "execution_count": 86,
     "metadata": {},
     "output_type": "execute_result"
    }
   ],
   "source": [
    "rmse_lr_5d = compute_weighted_rmse(fc_5d, z500_valid).values; rmse_lr_5d"
   ]
  },
  {
   "cell_type": "markdown",
   "metadata": {
    "Collapsed": "false"
   },
   "source": [
    "## Train a simple CNN"
   ]
  },
  {
   "cell_type": "code",
   "execution_count": 76,
   "metadata": {
    "Collapsed": "false"
   },
   "outputs": [],
   "source": [
    "X_train, y_train = create_training_data(data_train, 3*24)"
   ]
  },
  {
   "cell_type": "code",
   "execution_count": 77,
   "metadata": {
    "Collapsed": "false"
   },
   "outputs": [
    {
     "data": {
      "text/plain": [
       "(333048, 32, 64)"
      ]
     },
     "execution_count": 77,
     "metadata": {},
     "output_type": "execute_result"
    }
   ],
   "source": [
    "X_train.shape"
   ]
  },
  {
   "cell_type": "code",
   "execution_count": 78,
   "metadata": {
    "Collapsed": "false"
   },
   "outputs": [],
   "source": [
    "import tensorflow.keras.backend as K\n",
    "class PeriodicConv2D(tf.keras.layers.Conv2D):\n",
    "    def __init__(self, filters, kernel_size, **kwargs):\n",
    "        assert type(kernel_size) is int, 'Periodic convolutions only works for square kernels.'\n",
    "        self.pad_width = (kernel_size - 1) // 2\n",
    "        super().__init__(filters, kernel_size, **kwargs)\n",
    "        assert self.padding == 'valid', 'Periodic convolution only works for valid padding.'\n",
    "        assert sum(self.strides) == 2, 'Periodic padding only works for stride (1, 1)'\n",
    "        \n",
    "    def __call__(self, inputs, *args, **kwargs):\n",
    "        # Input: [samples, lat, lon, filters]\n",
    "        # Periodic padding in lon direction\n",
    "        inputs_padded = K.concatenate(\n",
    "            [inputs[:, :, -self.pad_width:, :], inputs, inputs[:, :, :self.pad_width, :]], axis=2)\n",
    "        # Zero padding in the lat direction\n",
    "        inputs_padded = tf.pad(inputs_padded, [[0, 0], [self.pad_width, self.pad_width], [0, 0], [0, 0]])\n",
    "        return super().__call__(inputs_padded, *args, **kwargs)"
   ]
  },
  {
   "cell_type": "code",
   "execution_count": 79,
   "metadata": {
    "Collapsed": "false"
   },
   "outputs": [],
   "source": [
    "net = tf.keras.models.Sequential([\n",
    "    PeriodicConv2D(32, 5, padding='valid', input_shape=(33, 64, 1, ), activation='elu'),\n",
    "    PeriodicConv2D(64, 5, padding='valid', activation='elu'),\n",
    "    PeriodicConv2D(64, 5, padding='valid', activation='elu'),\n",
    "    PeriodicConv2D(64, 5, padding='valid', activation='elu'),\n",
    "    PeriodicConv2D(64, 5, padding='valid', activation='elu'),\n",
    "    PeriodicConv2D(32, 5, padding='valid', activation='elu'),\n",
    "    PeriodicConv2D(1, 5, padding='valid')\n",
    "])"
   ]
  },
  {
   "cell_type": "code",
   "execution_count": 80,
   "metadata": {
    "Collapsed": "false"
   },
   "outputs": [],
   "source": [
    "optim = tf.keras.optimizers.Adam(lr=1e-3)"
   ]
  },
  {
   "cell_type": "code",
   "execution_count": 81,
   "metadata": {
    "Collapsed": "false"
   },
   "outputs": [],
   "source": [
    "net.compile(optim, 'mse')"
   ]
  },
  {
   "cell_type": "code",
   "execution_count": 83,
   "metadata": {
    "Collapsed": "false"
   },
   "outputs": [
    {
     "ename": "TypeError",
     "evalue": "('Not JSON Serializable:', b'\\n\\rstrided_slice\\x12\\x0cStridedSlice\\x1a\\x15periodic_conv2d_input\\x1a\\x13strided_slice/stack\\x1a\\x15strided_slice/stack_1\\x1a\\x15strided_slice/stack_2*\\x0b\\n\\x05Index\\x12\\x020\\x03*\\x07\\n\\x01T\\x12\\x020\\x01*\\x16\\n\\x10shrink_axis_mask\\x12\\x02\\x18\\x00*\\x13\\n\\rellipsis_mask\\x12\\x02\\x18\\x00*\\x10\\n\\nbegin_mask\\x12\\x02\\x18\\x0b*\\x13\\n\\rnew_axis_mask\\x12\\x02\\x18\\x00*\\x0e\\n\\x08end_mask\\x12\\x02\\x18\\x0f')",
     "output_type": "error",
     "traceback": [
      "\u001b[0;31m---------------------------------------------------------------------------\u001b[0m",
      "\u001b[0;31mTypeError\u001b[0m                                 Traceback (most recent call last)",
      "\u001b[0;32m~/miniconda3/lib/python3.7/site-packages/tensorflow/python/keras/api/_v1/keras/layers/__init__.py\u001b[0m in \u001b[0;36m<module>\u001b[0;34m\u001b[0m\n\u001b[0;32m----> 1\u001b[0;31m \u001b[0mnet\u001b[0m\u001b[0;34m.\u001b[0m\u001b[0msave\u001b[0m\u001b[0;34m(\u001b[0m\u001b[0;34m'/data/tmp/test.h5'\u001b[0m\u001b[0;34m)\u001b[0m\u001b[0;34m\u001b[0m\u001b[0;34m\u001b[0m\u001b[0m\n\u001b[0m",
      "\u001b[0;32m~/miniconda3/lib/python3.7/site-packages/tensorflow/python/keras/engine/network.py\u001b[0m in \u001b[0;36msave\u001b[0;34m(self, filepath, overwrite, include_optimizer, save_format)\u001b[0m\n\u001b[1;32m   1209\u001b[0m     \u001b[0;31m`\u001b[0m\u001b[0;31m`\u001b[0m\u001b[0;31m`\u001b[0m\u001b[0;34m\u001b[0m\u001b[0;34m\u001b[0m\u001b[0m\n\u001b[1;32m   1210\u001b[0m     \"\"\"\n\u001b[0;32m-> 1211\u001b[0;31m     \u001b[0msaving\u001b[0m\u001b[0;34m.\u001b[0m\u001b[0msave_model\u001b[0m\u001b[0;34m(\u001b[0m\u001b[0mself\u001b[0m\u001b[0;34m,\u001b[0m \u001b[0mfilepath\u001b[0m\u001b[0;34m,\u001b[0m \u001b[0moverwrite\u001b[0m\u001b[0;34m,\u001b[0m \u001b[0minclude_optimizer\u001b[0m\u001b[0;34m,\u001b[0m \u001b[0msave_format\u001b[0m\u001b[0;34m)\u001b[0m\u001b[0;34m\u001b[0m\u001b[0;34m\u001b[0m\u001b[0m\n\u001b[0m\u001b[1;32m   1212\u001b[0m \u001b[0;34m\u001b[0m\u001b[0m\n\u001b[1;32m   1213\u001b[0m   \u001b[0;32mdef\u001b[0m \u001b[0msave_weights\u001b[0m\u001b[0;34m(\u001b[0m\u001b[0mself\u001b[0m\u001b[0;34m,\u001b[0m \u001b[0mfilepath\u001b[0m\u001b[0;34m,\u001b[0m \u001b[0moverwrite\u001b[0m\u001b[0;34m=\u001b[0m\u001b[0;32mTrue\u001b[0m\u001b[0;34m,\u001b[0m \u001b[0msave_format\u001b[0m\u001b[0;34m=\u001b[0m\u001b[0;32mNone\u001b[0m\u001b[0;34m)\u001b[0m\u001b[0;34m:\u001b[0m\u001b[0;34m\u001b[0m\u001b[0;34m\u001b[0m\u001b[0m\n",
      "\u001b[0;32m~/miniconda3/lib/python3.7/site-packages/tensorflow/python/keras/saving/save.py\u001b[0m in \u001b[0;36msave_model\u001b[0;34m(model, filepath, overwrite, include_optimizer, save_format)\u001b[0m\n\u001b[1;32m    111\u001b[0m           'or using `save_weights`.')\n\u001b[1;32m    112\u001b[0m     hdf5_format.save_model_to_hdf5(\n\u001b[0;32m--> 113\u001b[0;31m         model, filepath, overwrite, include_optimizer)\n\u001b[0m\u001b[1;32m    114\u001b[0m     \u001b[0;32mreturn\u001b[0m\u001b[0;34m\u001b[0m\u001b[0;34m\u001b[0m\u001b[0m\n\u001b[1;32m    115\u001b[0m \u001b[0;34m\u001b[0m\u001b[0m\n",
      "\u001b[0;32m~/miniconda3/lib/python3.7/site-packages/tensorflow/python/keras/saving/hdf5_format.py\u001b[0m in \u001b[0;36msave_model_to_hdf5\u001b[0;34m(model, filepath, overwrite, include_optimizer)\u001b[0m\n\u001b[1;32m     99\u001b[0m             \u001b[0;34m'config'\u001b[0m\u001b[0;34m:\u001b[0m \u001b[0mmodel\u001b[0m\u001b[0;34m.\u001b[0m\u001b[0mget_config\u001b[0m\u001b[0;34m(\u001b[0m\u001b[0;34m)\u001b[0m\u001b[0;34m\u001b[0m\u001b[0;34m\u001b[0m\u001b[0m\n\u001b[1;32m    100\u001b[0m         },\n\u001b[0;32m--> 101\u001b[0;31m         default=serialization.get_json_type).encode('utf8')\n\u001b[0m\u001b[1;32m    102\u001b[0m \u001b[0;34m\u001b[0m\u001b[0m\n\u001b[1;32m    103\u001b[0m     \u001b[0mmodel_weights_group\u001b[0m \u001b[0;34m=\u001b[0m \u001b[0mf\u001b[0m\u001b[0;34m.\u001b[0m\u001b[0mcreate_group\u001b[0m\u001b[0;34m(\u001b[0m\u001b[0;34m'model_weights'\u001b[0m\u001b[0;34m)\u001b[0m\u001b[0;34m\u001b[0m\u001b[0;34m\u001b[0m\u001b[0m\n",
      "\u001b[0;32m~/miniconda3/lib/python3.7/json/__init__.py\u001b[0m in \u001b[0;36mdumps\u001b[0;34m(obj, skipkeys, ensure_ascii, check_circular, allow_nan, cls, indent, separators, default, sort_keys, **kw)\u001b[0m\n\u001b[1;32m    236\u001b[0m         \u001b[0mcheck_circular\u001b[0m\u001b[0;34m=\u001b[0m\u001b[0mcheck_circular\u001b[0m\u001b[0;34m,\u001b[0m \u001b[0mallow_nan\u001b[0m\u001b[0;34m=\u001b[0m\u001b[0mallow_nan\u001b[0m\u001b[0;34m,\u001b[0m \u001b[0mindent\u001b[0m\u001b[0;34m=\u001b[0m\u001b[0mindent\u001b[0m\u001b[0;34m,\u001b[0m\u001b[0;34m\u001b[0m\u001b[0;34m\u001b[0m\u001b[0m\n\u001b[1;32m    237\u001b[0m         \u001b[0mseparators\u001b[0m\u001b[0;34m=\u001b[0m\u001b[0mseparators\u001b[0m\u001b[0;34m,\u001b[0m \u001b[0mdefault\u001b[0m\u001b[0;34m=\u001b[0m\u001b[0mdefault\u001b[0m\u001b[0;34m,\u001b[0m \u001b[0msort_keys\u001b[0m\u001b[0;34m=\u001b[0m\u001b[0msort_keys\u001b[0m\u001b[0;34m,\u001b[0m\u001b[0;34m\u001b[0m\u001b[0;34m\u001b[0m\u001b[0m\n\u001b[0;32m--> 238\u001b[0;31m         **kw).encode(obj)\n\u001b[0m\u001b[1;32m    239\u001b[0m \u001b[0;34m\u001b[0m\u001b[0m\n\u001b[1;32m    240\u001b[0m \u001b[0;34m\u001b[0m\u001b[0m\n",
      "\u001b[0;32m~/miniconda3/lib/python3.7/json/encoder.py\u001b[0m in \u001b[0;36mencode\u001b[0;34m(self, o)\u001b[0m\n\u001b[1;32m    197\u001b[0m         \u001b[0;31m# exceptions aren't as detailed.  The list call should be roughly\u001b[0m\u001b[0;34m\u001b[0m\u001b[0;34m\u001b[0m\u001b[0;34m\u001b[0m\u001b[0m\n\u001b[1;32m    198\u001b[0m         \u001b[0;31m# equivalent to the PySequence_Fast that ''.join() would do.\u001b[0m\u001b[0;34m\u001b[0m\u001b[0;34m\u001b[0m\u001b[0;34m\u001b[0m\u001b[0m\n\u001b[0;32m--> 199\u001b[0;31m         \u001b[0mchunks\u001b[0m \u001b[0;34m=\u001b[0m \u001b[0mself\u001b[0m\u001b[0;34m.\u001b[0m\u001b[0miterencode\u001b[0m\u001b[0;34m(\u001b[0m\u001b[0mo\u001b[0m\u001b[0;34m,\u001b[0m \u001b[0m_one_shot\u001b[0m\u001b[0;34m=\u001b[0m\u001b[0;32mTrue\u001b[0m\u001b[0;34m)\u001b[0m\u001b[0;34m\u001b[0m\u001b[0;34m\u001b[0m\u001b[0m\n\u001b[0m\u001b[1;32m    200\u001b[0m         \u001b[0;32mif\u001b[0m \u001b[0;32mnot\u001b[0m \u001b[0misinstance\u001b[0m\u001b[0;34m(\u001b[0m\u001b[0mchunks\u001b[0m\u001b[0;34m,\u001b[0m \u001b[0;34m(\u001b[0m\u001b[0mlist\u001b[0m\u001b[0;34m,\u001b[0m \u001b[0mtuple\u001b[0m\u001b[0;34m)\u001b[0m\u001b[0;34m)\u001b[0m\u001b[0;34m:\u001b[0m\u001b[0;34m\u001b[0m\u001b[0;34m\u001b[0m\u001b[0m\n\u001b[1;32m    201\u001b[0m             \u001b[0mchunks\u001b[0m \u001b[0;34m=\u001b[0m \u001b[0mlist\u001b[0m\u001b[0;34m(\u001b[0m\u001b[0mchunks\u001b[0m\u001b[0;34m)\u001b[0m\u001b[0;34m\u001b[0m\u001b[0;34m\u001b[0m\u001b[0m\n",
      "\u001b[0;32m~/miniconda3/lib/python3.7/json/encoder.py\u001b[0m in \u001b[0;36miterencode\u001b[0;34m(self, o, _one_shot)\u001b[0m\n\u001b[1;32m    255\u001b[0m                 \u001b[0mself\u001b[0m\u001b[0;34m.\u001b[0m\u001b[0mkey_separator\u001b[0m\u001b[0;34m,\u001b[0m \u001b[0mself\u001b[0m\u001b[0;34m.\u001b[0m\u001b[0mitem_separator\u001b[0m\u001b[0;34m,\u001b[0m \u001b[0mself\u001b[0m\u001b[0;34m.\u001b[0m\u001b[0msort_keys\u001b[0m\u001b[0;34m,\u001b[0m\u001b[0;34m\u001b[0m\u001b[0;34m\u001b[0m\u001b[0m\n\u001b[1;32m    256\u001b[0m                 self.skipkeys, _one_shot)\n\u001b[0;32m--> 257\u001b[0;31m         \u001b[0;32mreturn\u001b[0m \u001b[0m_iterencode\u001b[0m\u001b[0;34m(\u001b[0m\u001b[0mo\u001b[0m\u001b[0;34m,\u001b[0m \u001b[0;36m0\u001b[0m\u001b[0;34m)\u001b[0m\u001b[0;34m\u001b[0m\u001b[0;34m\u001b[0m\u001b[0m\n\u001b[0m\u001b[1;32m    258\u001b[0m \u001b[0;34m\u001b[0m\u001b[0m\n\u001b[1;32m    259\u001b[0m def _make_iterencode(markers, _default, _encoder, _indent, _floatstr,\n",
      "\u001b[0;32m~/miniconda3/lib/python3.7/site-packages/tensorflow/python/util/serialization.py\u001b[0m in \u001b[0;36mget_json_type\u001b[0;34m(obj)\u001b[0m\n\u001b[1;32m     67\u001b[0m     \u001b[0;32mreturn\u001b[0m \u001b[0mdict\u001b[0m\u001b[0;34m(\u001b[0m\u001b[0mobj\u001b[0m\u001b[0;34m)\u001b[0m\u001b[0;34m\u001b[0m\u001b[0;34m\u001b[0m\u001b[0m\n\u001b[1;32m     68\u001b[0m \u001b[0;34m\u001b[0m\u001b[0m\n\u001b[0;32m---> 69\u001b[0;31m   \u001b[0;32mraise\u001b[0m \u001b[0mTypeError\u001b[0m\u001b[0;34m(\u001b[0m\u001b[0;34m'Not JSON Serializable:'\u001b[0m\u001b[0;34m,\u001b[0m \u001b[0mobj\u001b[0m\u001b[0;34m)\u001b[0m\u001b[0;34m\u001b[0m\u001b[0;34m\u001b[0m\u001b[0m\n\u001b[0m",
      "\u001b[0;31mTypeError\u001b[0m: ('Not JSON Serializable:', b'\\n\\rstrided_slice\\x12\\x0cStridedSlice\\x1a\\x15periodic_conv2d_input\\x1a\\x13strided_slice/stack\\x1a\\x15strided_slice/stack_1\\x1a\\x15strided_slice/stack_2*\\x0b\\n\\x05Index\\x12\\x020\\x03*\\x07\\n\\x01T\\x12\\x020\\x01*\\x16\\n\\x10shrink_axis_mask\\x12\\x02\\x18\\x00*\\x13\\n\\rellipsis_mask\\x12\\x02\\x18\\x00*\\x10\\n\\nbegin_mask\\x12\\x02\\x18\\x0b*\\x13\\n\\rnew_axis_mask\\x12\\x02\\x18\\x00*\\x0e\\n\\x08end_mask\\x12\\x02\\x18\\x0f')"
     ]
    }
   ],
   "source": [
    "net.save('/data/tmp/test.h5')"
   ]
  },
  {
   "cell_type": "code",
   "execution_count": 15,
   "metadata": {
    "Collapsed": "false"
   },
   "outputs": [
    {
     "name": "stdout",
     "output_type": "stream",
     "text": [
      "Model: \"sequential\"\n",
      "_________________________________________________________________\n",
      "Layer (type)                 Output Shape              Param #   \n",
      "=================================================================\n",
      "tf_op_layer_strided_slice (T [(None, 33, 2, 1)]        0         \n",
      "_________________________________________________________________\n",
      "tf_op_layer_strided_slice_1  [(None, 33, 2, 1)]        0         \n",
      "_________________________________________________________________\n",
      "tf_op_layer_concat (TensorFl [(None, 33, 68, 1)]       0         \n",
      "_________________________________________________________________\n",
      "tf_op_layer_Pad (TensorFlowO [(None, 37, 68, 1)]       0         \n",
      "_________________________________________________________________\n",
      "periodic_conv2d_1 (PeriodicC (None, 33, 64, 32)        832       \n",
      "_________________________________________________________________\n",
      "tf_op_layer_strided_slice_2  [(None, 33, 2, 32)]       0         \n",
      "_________________________________________________________________\n",
      "tf_op_layer_strided_slice_3  [(None, 33, 2, 32)]       0         \n",
      "_________________________________________________________________\n",
      "tf_op_layer_concat_1 (Tensor [(None, 33, 68, 32)]      0         \n",
      "_________________________________________________________________\n",
      "tf_op_layer_Pad_1 (TensorFlo [(None, 37, 68, 32)]      0         \n",
      "_________________________________________________________________\n",
      "periodic_conv2d_2 (PeriodicC (None, 33, 64, 64)        51264     \n",
      "_________________________________________________________________\n",
      "tf_op_layer_strided_slice_4  [(None, 33, 2, 64)]       0         \n",
      "_________________________________________________________________\n",
      "tf_op_layer_strided_slice_5  [(None, 33, 2, 64)]       0         \n",
      "_________________________________________________________________\n",
      "tf_op_layer_concat_2 (Tensor [(None, 33, 68, 64)]      0         \n",
      "_________________________________________________________________\n",
      "tf_op_layer_Pad_2 (TensorFlo [(None, 37, 68, 64)]      0         \n",
      "_________________________________________________________________\n",
      "periodic_conv2d_3 (PeriodicC (None, 33, 64, 64)        102464    \n",
      "_________________________________________________________________\n",
      "tf_op_layer_strided_slice_6  [(None, 33, 2, 64)]       0         \n",
      "_________________________________________________________________\n",
      "tf_op_layer_strided_slice_7  [(None, 33, 2, 64)]       0         \n",
      "_________________________________________________________________\n",
      "tf_op_layer_concat_3 (Tensor [(None, 33, 68, 64)]      0         \n",
      "_________________________________________________________________\n",
      "tf_op_layer_Pad_3 (TensorFlo [(None, 37, 68, 64)]      0         \n",
      "_________________________________________________________________\n",
      "periodic_conv2d_4 (PeriodicC (None, 33, 64, 64)        102464    \n",
      "_________________________________________________________________\n",
      "tf_op_layer_strided_slice_8  [(None, 33, 2, 64)]       0         \n",
      "_________________________________________________________________\n",
      "tf_op_layer_strided_slice_9  [(None, 33, 2, 64)]       0         \n",
      "_________________________________________________________________\n",
      "tf_op_layer_concat_4 (Tensor [(None, 33, 68, 64)]      0         \n",
      "_________________________________________________________________\n",
      "tf_op_layer_Pad_4 (TensorFlo [(None, 37, 68, 64)]      0         \n",
      "_________________________________________________________________\n",
      "periodic_conv2d_5 (PeriodicC (None, 33, 64, 64)        102464    \n",
      "_________________________________________________________________\n",
      "tf_op_layer_strided_slice_10 [(None, 33, 2, 64)]       0         \n",
      "_________________________________________________________________\n",
      "tf_op_layer_strided_slice_11 [(None, 33, 2, 64)]       0         \n",
      "_________________________________________________________________\n",
      "tf_op_layer_concat_5 (Tensor [(None, 33, 68, 64)]      0         \n",
      "_________________________________________________________________\n",
      "tf_op_layer_Pad_5 (TensorFlo [(None, 37, 68, 64)]      0         \n",
      "_________________________________________________________________\n",
      "periodic_conv2d_6 (PeriodicC (None, 33, 64, 32)        51232     \n",
      "_________________________________________________________________\n",
      "tf_op_layer_strided_slice_12 [(None, 33, 2, 32)]       0         \n",
      "_________________________________________________________________\n",
      "tf_op_layer_strided_slice_13 [(None, 33, 2, 32)]       0         \n",
      "_________________________________________________________________\n",
      "tf_op_layer_concat_6 (Tensor [(None, 33, 68, 32)]      0         \n",
      "_________________________________________________________________\n",
      "tf_op_layer_Pad_6 (TensorFlo [(None, 37, 68, 32)]      0         \n",
      "_________________________________________________________________\n",
      "periodic_conv2d_7 (PeriodicC (None, 33, 64, 1)         801       \n",
      "=================================================================\n",
      "Total params: 411,521\n",
      "Trainable params: 411,521\n",
      "Non-trainable params: 0\n",
      "_________________________________________________________________\n"
     ]
    }
   ],
   "source": [
    "net.summary()"
   ]
  },
  {
   "cell_type": "code",
   "execution_count": 181,
   "metadata": {
    "Collapsed": "false"
   },
   "outputs": [
    {
     "name": "stdout",
     "output_type": "stream",
     "text": [
      "Train on 299743 samples, validate on 33305 samples\n",
      "Epoch 1/200\n",
      "299743/299743 [==============================] - 333s 1ms/sample - loss: 0.6347 - val_loss: 0.5246\n",
      "Epoch 2/200\n",
      "299743/299743 [==============================] - 337s 1ms/sample - loss: 0.4963 - val_loss: 0.4783\n",
      "Epoch 3/200\n",
      "299743/299743 [==============================] - 335s 1ms/sample - loss: 0.4643 - val_loss: 0.4536\n",
      "Epoch 4/200\n",
      "299743/299743 [==============================] - 330s 1ms/sample - loss: 0.4404 - val_loss: 0.4372\n",
      "Epoch 5/200\n",
      "299743/299743 [==============================] - 328s 1ms/sample - loss: 0.4225 - val_loss: 0.4314\n",
      "Epoch 6/200\n",
      "299743/299743 [==============================] - 329s 1ms/sample - loss: 0.4072 - val_loss: 0.4228\n",
      "Epoch 7/200\n",
      "299743/299743 [==============================] - 329s 1ms/sample - loss: 0.3952 - val_loss: 0.4122\n",
      "Epoch 8/200\n",
      "299743/299743 [==============================] - 329s 1ms/sample - loss: 0.3844 - val_loss: 0.4113\n",
      "Epoch 9/200\n",
      "299743/299743 [==============================] - 329s 1ms/sample - loss: 0.3748 - val_loss: 0.4109\n",
      "Epoch 10/200\n",
      "299743/299743 [==============================] - 335s 1ms/sample - loss: 0.3654 - val_loss: 0.4147\n",
      "Epoch 11/200\n",
      "299743/299743 [==============================] - 339s 1ms/sample - loss: 0.3573 - val_loss: 0.4127\n",
      "Epoch 12/200\n",
      "299743/299743 [==============================] - 341s 1ms/sample - loss: 0.3489 - val_loss: 0.4132\n",
      "Epoch 00012: early stopping\n"
     ]
    },
    {
     "data": {
      "text/plain": [
       "<tensorflow.python.keras.callbacks.History at 0x7f2b7a737860>"
      ]
     },
     "execution_count": 181,
     "metadata": {},
     "output_type": "execute_result"
    }
   ],
   "source": [
    "net.fit(X_train[..., None], y_train[..., None], epochs=200, batch_size=256,\n",
    "        validation_split=0.1,\n",
    "        callbacks=[tf.keras.callbacks.EarlyStopping(\n",
    "            monitor='val_loss',\n",
    "            min_delta=0,\n",
    "            patience=3,\n",
    "            verbose=1, \n",
    "            mode='auto'\n",
    "        )]\n",
    ")"
   ]
  },
  {
   "cell_type": "code",
   "execution_count": 16,
   "metadata": {
    "Collapsed": "false"
   },
   "outputs": [
    {
     "ename": "TypeError",
     "evalue": "('Not JSON Serializable:', b'\\n\\rstrided_slice\\x12\\x0cStridedSlice\\x1a\\x17periodic_conv2d_1_input\\x1a\\x13strided_slice/stack\\x1a\\x15strided_slice/stack_1\\x1a\\x15strided_slice/stack_2*\\x07\\n\\x01T\\x12\\x020\\x01*\\x0b\\n\\x05Index\\x12\\x020\\x03*\\x16\\n\\x10shrink_axis_mask\\x12\\x02\\x18\\x00*\\x10\\n\\nbegin_mask\\x12\\x02\\x18\\x0b*\\x13\\n\\rellipsis_mask\\x12\\x02\\x18\\x00*\\x13\\n\\rnew_axis_mask\\x12\\x02\\x18\\x00*\\x0e\\n\\x08end_mask\\x12\\x02\\x18\\x0f')",
     "output_type": "error",
     "traceback": [
      "\u001b[0;31m---------------------------------------------------------------------------\u001b[0m",
      "\u001b[0;31mTypeError\u001b[0m                                 Traceback (most recent call last)",
      "\u001b[0;32m~/miniconda3/lib/python3.7/site-packages/tensorflow/python/keras/api/_v1/keras/layers/__init__.py\u001b[0m in \u001b[0;36m<module>\u001b[0;34m\u001b[0m\n\u001b[0;32m----> 1\u001b[0;31m \u001b[0mnet\u001b[0m\u001b[0;34m.\u001b[0m\u001b[0msave\u001b[0m\u001b[0;34m(\u001b[0m\u001b[0;34m'./cnn.h5'\u001b[0m\u001b[0;34m)\u001b[0m\u001b[0;34m\u001b[0m\u001b[0;34m\u001b[0m\u001b[0m\n\u001b[0m",
      "\u001b[0;32m~/miniconda3/lib/python3.7/site-packages/tensorflow/python/keras/engine/network.py\u001b[0m in \u001b[0;36msave\u001b[0;34m(self, filepath, overwrite, include_optimizer, save_format)\u001b[0m\n\u001b[1;32m   1209\u001b[0m     \u001b[0;31m`\u001b[0m\u001b[0;31m`\u001b[0m\u001b[0;31m`\u001b[0m\u001b[0;34m\u001b[0m\u001b[0;34m\u001b[0m\u001b[0m\n\u001b[1;32m   1210\u001b[0m     \"\"\"\n\u001b[0;32m-> 1211\u001b[0;31m     \u001b[0msaving\u001b[0m\u001b[0;34m.\u001b[0m\u001b[0msave_model\u001b[0m\u001b[0;34m(\u001b[0m\u001b[0mself\u001b[0m\u001b[0;34m,\u001b[0m \u001b[0mfilepath\u001b[0m\u001b[0;34m,\u001b[0m \u001b[0moverwrite\u001b[0m\u001b[0;34m,\u001b[0m \u001b[0minclude_optimizer\u001b[0m\u001b[0;34m,\u001b[0m \u001b[0msave_format\u001b[0m\u001b[0;34m)\u001b[0m\u001b[0;34m\u001b[0m\u001b[0;34m\u001b[0m\u001b[0m\n\u001b[0m\u001b[1;32m   1212\u001b[0m \u001b[0;34m\u001b[0m\u001b[0m\n\u001b[1;32m   1213\u001b[0m   \u001b[0;32mdef\u001b[0m \u001b[0msave_weights\u001b[0m\u001b[0;34m(\u001b[0m\u001b[0mself\u001b[0m\u001b[0;34m,\u001b[0m \u001b[0mfilepath\u001b[0m\u001b[0;34m,\u001b[0m \u001b[0moverwrite\u001b[0m\u001b[0;34m=\u001b[0m\u001b[0;32mTrue\u001b[0m\u001b[0;34m,\u001b[0m \u001b[0msave_format\u001b[0m\u001b[0;34m=\u001b[0m\u001b[0;32mNone\u001b[0m\u001b[0;34m)\u001b[0m\u001b[0;34m:\u001b[0m\u001b[0;34m\u001b[0m\u001b[0;34m\u001b[0m\u001b[0m\n",
      "\u001b[0;32m~/miniconda3/lib/python3.7/site-packages/tensorflow/python/keras/saving/save.py\u001b[0m in \u001b[0;36msave_model\u001b[0;34m(model, filepath, overwrite, include_optimizer, save_format)\u001b[0m\n\u001b[1;32m    111\u001b[0m           'or using `save_weights`.')\n\u001b[1;32m    112\u001b[0m     hdf5_format.save_model_to_hdf5(\n\u001b[0;32m--> 113\u001b[0;31m         model, filepath, overwrite, include_optimizer)\n\u001b[0m\u001b[1;32m    114\u001b[0m     \u001b[0;32mreturn\u001b[0m\u001b[0;34m\u001b[0m\u001b[0;34m\u001b[0m\u001b[0m\n\u001b[1;32m    115\u001b[0m \u001b[0;34m\u001b[0m\u001b[0m\n",
      "\u001b[0;32m~/miniconda3/lib/python3.7/site-packages/tensorflow/python/keras/saving/hdf5_format.py\u001b[0m in \u001b[0;36msave_model_to_hdf5\u001b[0;34m(model, filepath, overwrite, include_optimizer)\u001b[0m\n\u001b[1;32m     99\u001b[0m             \u001b[0;34m'config'\u001b[0m\u001b[0;34m:\u001b[0m \u001b[0mmodel\u001b[0m\u001b[0;34m.\u001b[0m\u001b[0mget_config\u001b[0m\u001b[0;34m(\u001b[0m\u001b[0;34m)\u001b[0m\u001b[0;34m\u001b[0m\u001b[0;34m\u001b[0m\u001b[0m\n\u001b[1;32m    100\u001b[0m         },\n\u001b[0;32m--> 101\u001b[0;31m         default=serialization.get_json_type).encode('utf8')\n\u001b[0m\u001b[1;32m    102\u001b[0m \u001b[0;34m\u001b[0m\u001b[0m\n\u001b[1;32m    103\u001b[0m     \u001b[0mmodel_weights_group\u001b[0m \u001b[0;34m=\u001b[0m \u001b[0mf\u001b[0m\u001b[0;34m.\u001b[0m\u001b[0mcreate_group\u001b[0m\u001b[0;34m(\u001b[0m\u001b[0;34m'model_weights'\u001b[0m\u001b[0;34m)\u001b[0m\u001b[0;34m\u001b[0m\u001b[0;34m\u001b[0m\u001b[0m\n",
      "\u001b[0;32m~/miniconda3/lib/python3.7/json/__init__.py\u001b[0m in \u001b[0;36mdumps\u001b[0;34m(obj, skipkeys, ensure_ascii, check_circular, allow_nan, cls, indent, separators, default, sort_keys, **kw)\u001b[0m\n\u001b[1;32m    236\u001b[0m         \u001b[0mcheck_circular\u001b[0m\u001b[0;34m=\u001b[0m\u001b[0mcheck_circular\u001b[0m\u001b[0;34m,\u001b[0m \u001b[0mallow_nan\u001b[0m\u001b[0;34m=\u001b[0m\u001b[0mallow_nan\u001b[0m\u001b[0;34m,\u001b[0m \u001b[0mindent\u001b[0m\u001b[0;34m=\u001b[0m\u001b[0mindent\u001b[0m\u001b[0;34m,\u001b[0m\u001b[0;34m\u001b[0m\u001b[0;34m\u001b[0m\u001b[0m\n\u001b[1;32m    237\u001b[0m         \u001b[0mseparators\u001b[0m\u001b[0;34m=\u001b[0m\u001b[0mseparators\u001b[0m\u001b[0;34m,\u001b[0m \u001b[0mdefault\u001b[0m\u001b[0;34m=\u001b[0m\u001b[0mdefault\u001b[0m\u001b[0;34m,\u001b[0m \u001b[0msort_keys\u001b[0m\u001b[0;34m=\u001b[0m\u001b[0msort_keys\u001b[0m\u001b[0;34m,\u001b[0m\u001b[0;34m\u001b[0m\u001b[0;34m\u001b[0m\u001b[0m\n\u001b[0;32m--> 238\u001b[0;31m         **kw).encode(obj)\n\u001b[0m\u001b[1;32m    239\u001b[0m \u001b[0;34m\u001b[0m\u001b[0m\n\u001b[1;32m    240\u001b[0m \u001b[0;34m\u001b[0m\u001b[0m\n",
      "\u001b[0;32m~/miniconda3/lib/python3.7/json/encoder.py\u001b[0m in \u001b[0;36mencode\u001b[0;34m(self, o)\u001b[0m\n\u001b[1;32m    197\u001b[0m         \u001b[0;31m# exceptions aren't as detailed.  The list call should be roughly\u001b[0m\u001b[0;34m\u001b[0m\u001b[0;34m\u001b[0m\u001b[0;34m\u001b[0m\u001b[0m\n\u001b[1;32m    198\u001b[0m         \u001b[0;31m# equivalent to the PySequence_Fast that ''.join() would do.\u001b[0m\u001b[0;34m\u001b[0m\u001b[0;34m\u001b[0m\u001b[0;34m\u001b[0m\u001b[0m\n\u001b[0;32m--> 199\u001b[0;31m         \u001b[0mchunks\u001b[0m \u001b[0;34m=\u001b[0m \u001b[0mself\u001b[0m\u001b[0;34m.\u001b[0m\u001b[0miterencode\u001b[0m\u001b[0;34m(\u001b[0m\u001b[0mo\u001b[0m\u001b[0;34m,\u001b[0m \u001b[0m_one_shot\u001b[0m\u001b[0;34m=\u001b[0m\u001b[0;32mTrue\u001b[0m\u001b[0;34m)\u001b[0m\u001b[0;34m\u001b[0m\u001b[0;34m\u001b[0m\u001b[0m\n\u001b[0m\u001b[1;32m    200\u001b[0m         \u001b[0;32mif\u001b[0m \u001b[0;32mnot\u001b[0m \u001b[0misinstance\u001b[0m\u001b[0;34m(\u001b[0m\u001b[0mchunks\u001b[0m\u001b[0;34m,\u001b[0m \u001b[0;34m(\u001b[0m\u001b[0mlist\u001b[0m\u001b[0;34m,\u001b[0m \u001b[0mtuple\u001b[0m\u001b[0;34m)\u001b[0m\u001b[0;34m)\u001b[0m\u001b[0;34m:\u001b[0m\u001b[0;34m\u001b[0m\u001b[0;34m\u001b[0m\u001b[0m\n\u001b[1;32m    201\u001b[0m             \u001b[0mchunks\u001b[0m \u001b[0;34m=\u001b[0m \u001b[0mlist\u001b[0m\u001b[0;34m(\u001b[0m\u001b[0mchunks\u001b[0m\u001b[0;34m)\u001b[0m\u001b[0;34m\u001b[0m\u001b[0;34m\u001b[0m\u001b[0m\n",
      "\u001b[0;32m~/miniconda3/lib/python3.7/json/encoder.py\u001b[0m in \u001b[0;36miterencode\u001b[0;34m(self, o, _one_shot)\u001b[0m\n\u001b[1;32m    255\u001b[0m                 \u001b[0mself\u001b[0m\u001b[0;34m.\u001b[0m\u001b[0mkey_separator\u001b[0m\u001b[0;34m,\u001b[0m \u001b[0mself\u001b[0m\u001b[0;34m.\u001b[0m\u001b[0mitem_separator\u001b[0m\u001b[0;34m,\u001b[0m \u001b[0mself\u001b[0m\u001b[0;34m.\u001b[0m\u001b[0msort_keys\u001b[0m\u001b[0;34m,\u001b[0m\u001b[0;34m\u001b[0m\u001b[0;34m\u001b[0m\u001b[0m\n\u001b[1;32m    256\u001b[0m                 self.skipkeys, _one_shot)\n\u001b[0;32m--> 257\u001b[0;31m         \u001b[0;32mreturn\u001b[0m \u001b[0m_iterencode\u001b[0m\u001b[0;34m(\u001b[0m\u001b[0mo\u001b[0m\u001b[0;34m,\u001b[0m \u001b[0;36m0\u001b[0m\u001b[0;34m)\u001b[0m\u001b[0;34m\u001b[0m\u001b[0;34m\u001b[0m\u001b[0m\n\u001b[0m\u001b[1;32m    258\u001b[0m \u001b[0;34m\u001b[0m\u001b[0m\n\u001b[1;32m    259\u001b[0m def _make_iterencode(markers, _default, _encoder, _indent, _floatstr,\n",
      "\u001b[0;32m~/miniconda3/lib/python3.7/site-packages/tensorflow/python/util/serialization.py\u001b[0m in \u001b[0;36mget_json_type\u001b[0;34m(obj)\u001b[0m\n\u001b[1;32m     67\u001b[0m     \u001b[0;32mreturn\u001b[0m \u001b[0mdict\u001b[0m\u001b[0;34m(\u001b[0m\u001b[0mobj\u001b[0m\u001b[0;34m)\u001b[0m\u001b[0;34m\u001b[0m\u001b[0;34m\u001b[0m\u001b[0m\n\u001b[1;32m     68\u001b[0m \u001b[0;34m\u001b[0m\u001b[0m\n\u001b[0;32m---> 69\u001b[0;31m   \u001b[0;32mraise\u001b[0m \u001b[0mTypeError\u001b[0m\u001b[0;34m(\u001b[0m\u001b[0;34m'Not JSON Serializable:'\u001b[0m\u001b[0;34m,\u001b[0m \u001b[0mobj\u001b[0m\u001b[0;34m)\u001b[0m\u001b[0;34m\u001b[0m\u001b[0;34m\u001b[0m\u001b[0m\n\u001b[0m",
      "\u001b[0;31mTypeError\u001b[0m: ('Not JSON Serializable:', b'\\n\\rstrided_slice\\x12\\x0cStridedSlice\\x1a\\x17periodic_conv2d_1_input\\x1a\\x13strided_slice/stack\\x1a\\x15strided_slice/stack_1\\x1a\\x15strided_slice/stack_2*\\x07\\n\\x01T\\x12\\x020\\x01*\\x0b\\n\\x05Index\\x12\\x020\\x03*\\x16\\n\\x10shrink_axis_mask\\x12\\x02\\x18\\x00*\\x10\\n\\nbegin_mask\\x12\\x02\\x18\\x0b*\\x13\\n\\rellipsis_mask\\x12\\x02\\x18\\x00*\\x13\\n\\rnew_axis_mask\\x12\\x02\\x18\\x00*\\x0e\\n\\x08end_mask\\x12\\x02\\x18\\x0f')"
     ]
    }
   ],
   "source": [
    "net.save('./cnn.h5')"
   ]
  },
  {
   "cell_type": "code",
   "execution_count": 185,
   "metadata": {
    "Collapsed": "false"
   },
   "outputs": [],
   "source": [
    "X_test, y_test, valid_time = create_training_data(data_test, 3*24, return_valid_time=True)\n",
    "preds = net.predict(X_test[..., None], 1024).squeeze()\n",
    "fc_cnn = xr.DataArray(\n",
    "    preds * data_std + data_mean, \n",
    "    dims=['time', 'lat', 'lon'],\n",
    "    coords={\n",
    "        'time': valid_time,\n",
    "        'lat': data_test.lat,\n",
    "        'lon': data_test.lon\n",
    "    }\n",
    ")"
   ]
  },
  {
   "cell_type": "code",
   "execution_count": 186,
   "metadata": {
    "Collapsed": "false"
   },
   "outputs": [
    {
     "data": {
      "text/plain": [
       "array(608.04726821)"
      ]
     },
     "execution_count": 186,
     "metadata": {},
     "output_type": "execute_result"
    }
   ],
   "source": [
    "compute_weighted_rmse(fc_cnn, z500_valid).values"
   ]
  },
  {
   "cell_type": "markdown",
   "metadata": {
    "Collapsed": "false"
   },
   "source": [
    "## Train a simple CNN with periodic convolutions"
   ]
  },
  {
   "cell_type": "markdown",
   "metadata": {
    "Collapsed": "true"
   },
   "source": [
    "## Create predictions"
   ]
  },
  {
   "cell_type": "code",
   "execution_count": 45,
   "metadata": {
    "Collapsed": "false"
   },
   "outputs": [],
   "source": [
    "net = tf.keras.models.load_model('./dense.h5')"
   ]
  },
  {
   "cell_type": "code",
   "execution_count": 46,
   "metadata": {
    "Collapsed": "false"
   },
   "outputs": [
    {
     "data": {
      "text/plain": [
       "20"
      ]
     },
     "execution_count": 46,
     "metadata": {},
     "output_type": "execute_result"
    }
   ],
   "source": [
    "max_lead_time_h = 5*24\n",
    "max_fc_steps = max_lead_time_h // lead_time_h\n",
    "max_fc_steps"
   ]
  },
  {
   "cell_type": "code",
   "execution_count": 47,
   "metadata": {
    "Collapsed": "false"
   },
   "outputs": [
    {
     "data": {
      "text/plain": [
       "<xarray.DataArray 'z' (time: 17520, lat: 33, lon: 64)>\n",
       "array([[[-2.772719, -2.772719, ..., -2.772719, -2.772719],\n",
       "        [-2.817852, -2.768056, ..., -2.921149, -2.868601],\n",
       "        ...,\n",
       "        [-2.571951, -2.543243, ..., -2.630329, -2.598651],\n",
       "        [-2.482641, -2.482641, ..., -2.482641, -2.482641]],\n",
       "\n",
       "       [[-2.769329, -2.769329, ..., -2.769329, -2.769329],\n",
       "        [-2.814672, -2.768004, ..., -2.913733, -2.863144],\n",
       "        ...,\n",
       "        [-2.573751, -2.542608, ..., -2.641346, -2.603311],\n",
       "        [-2.500863, -2.500863, ..., -2.500863, -2.500863]],\n",
       "\n",
       "       ...,\n",
       "\n",
       "       [[-3.549458, -3.549458, ..., -3.549458, -3.549458],\n",
       "        [-4.000619, -3.937664, ..., -4.139132, -4.067013],\n",
       "        ...,\n",
       "        [-4.448551, -4.583467, ..., -4.221824, -4.325862],\n",
       "        [-4.825036, -4.825036, ..., -4.825036, -4.825036]],\n",
       "\n",
       "       [[-3.55071 , -3.55071 , ..., -3.55071 , -3.55071 ],\n",
       "        [-4.006972, -3.938653, ..., -4.154857, -4.079092],\n",
       "        ...,\n",
       "        [-4.40637 , -4.544987, ..., -4.185269, -4.284779],\n",
       "        [-4.818161, -4.818161, ..., -4.818161, -4.818161]]], dtype=float32)\n",
       "Coordinates:\n",
       "  * lon      (lon) float64 0.0 5.625 11.25 16.88 ... 337.5 343.1 348.8 354.4\n",
       "  * lat      (lat) float64 -90.0 -84.38 -78.75 -73.12 ... 73.12 78.75 84.38 90.0\n",
       "  * time     (time) datetime64[ns] 2017-01-01 ... 2018-12-31T23:00:00"
      ]
     },
     "execution_count": 47,
     "metadata": {},
     "output_type": "execute_result"
    }
   ],
   "source": [
    "data_test"
   ]
  },
  {
   "cell_type": "code",
   "execution_count": 48,
   "metadata": {
    "Collapsed": "false"
   },
   "outputs": [],
   "source": [
    "fcs = []\n",
    "state = data_test.values\n",
    "for fc_step in range(max_fc_steps):\n",
    "    state = net.predict(state, batch_size=512)\n",
    "    fcs.append(state * data_std.values + data_mean.values)"
   ]
  },
  {
   "cell_type": "code",
   "execution_count": 49,
   "metadata": {
    "Collapsed": "false"
   },
   "outputs": [],
   "source": [
    "fcs = xr.DataArray(\n",
    "    np.array(fcs), \n",
    "    dims=['lead_time', 'time', 'lat', 'lon'],\n",
    "    coords={\n",
    "        'lead_time': np.arange(lead_time_h, max_lead_time_h + lead_time_h, lead_time_h),\n",
    "        'time': data_test.time,\n",
    "        'lat': data_test.lat,\n",
    "        'lon': data_test.lon\n",
    "    }\n",
    ")"
   ]
  },
  {
   "cell_type": "code",
   "execution_count": 50,
   "metadata": {
    "Collapsed": "false"
   },
   "outputs": [
    {
     "data": {
      "text/plain": [
       "<xarray.DataArray (lead_time: 20, time: 17520, lat: 33, lon: 64)>\n",
       "array([[[[50762.71 , ..., 50762.535],\n",
       "         ...,\n",
       "         [51304.125, ..., 51304.137]],\n",
       "\n",
       "        ...,\n",
       "\n",
       "        [[49792.992, ..., 49792.863],\n",
       "         ...,\n",
       "         [48702.67 , ..., 48702.68 ]]],\n",
       "\n",
       "\n",
       "       ...,\n",
       "\n",
       "\n",
       "       [[[49085.89 , ..., 49085.668],\n",
       "         ...,\n",
       "         [52473.37 , ..., 52473.387]],\n",
       "\n",
       "        ...,\n",
       "\n",
       "        [[48331.152, ..., 48330.93 ],\n",
       "         ...,\n",
       "         [50741.465, ..., 50741.48 ]]]], dtype=float32)\n",
       "Coordinates:\n",
       "  * lead_time  (lead_time) int64 6 12 18 24 30 36 42 ... 90 96 102 108 114 120\n",
       "  * time       (time) datetime64[ns] 2017-01-01 ... 2018-12-31T23:00:00\n",
       "  * lat        (lat) float64 -90.0 -84.38 -78.75 -73.12 ... 78.75 84.38 90.0\n",
       "  * lon        (lon) float64 0.0 5.625 11.25 16.88 ... 337.5 343.1 348.8 354.4"
      ]
     },
     "execution_count": 50,
     "metadata": {},
     "output_type": "execute_result"
    }
   ],
   "source": [
    "fcs"
   ]
  },
  {
   "cell_type": "code",
   "execution_count": 51,
   "metadata": {
    "Collapsed": "false"
   },
   "outputs": [],
   "source": [
    "z500_valid = load_test_data(DATADIR)"
   ]
  },
  {
   "cell_type": "code",
   "execution_count": 52,
   "metadata": {
    "Collapsed": "false"
   },
   "outputs": [
    {
     "data": {
      "text/plain": [
       "<xarray.DataArray 'z' (time: 17520, lat: 33, lon: 64)>\n",
       "dask.array<shape=(17520, 33, 64), dtype=float32, chunksize=(8760, 33, 64)>\n",
       "Coordinates:\n",
       "  * lon      (lon) float64 0.0 5.625 11.25 16.88 ... 337.5 343.1 348.8 354.4\n",
       "  * lat      (lat) float64 -90.0 -84.38 -78.75 -73.12 ... 73.12 78.75 84.38 90.0\n",
       "  * time     (time) datetime64[ns] 2017-01-01 ... 2018-12-31T23:00:00\n",
       "Attributes:\n",
       "    units:          m**2 s**-2\n",
       "    long_name:      Geopotential\n",
       "    standard_name:  geopotential"
      ]
     },
     "execution_count": 52,
     "metadata": {},
     "output_type": "execute_result"
    }
   ],
   "source": [
    "z500_valid"
   ]
  },
  {
   "cell_type": "code",
   "execution_count": 53,
   "metadata": {
    "Collapsed": "false"
   },
   "outputs": [],
   "source": [
    "rmses = []\n",
    "for lead_time in fcs.lead_time:\n",
    "    fc = fcs.sel(lead_time=lead_time)\n",
    "    fc['time'] = fc.time + np.timedelta64(int(lead_time), 'h')\n",
    "    rmses.append(compute_weighted_rmse(fc, z500_valid).values)"
   ]
  },
  {
   "cell_type": "code",
   "execution_count": 54,
   "metadata": {
    "Collapsed": "false"
   },
   "outputs": [
    {
     "data": {
      "text/plain": [
       "[array(265.26386813),\n",
       " array(382.27181033),\n",
       " array(503.78351699),\n",
       " array(616.54727509),\n",
       " array(719.42553241),\n",
       " array(812.34455625),\n",
       " array(896.30277518),\n",
       " array(972.67306478),\n",
       " array(1042.65710535),\n",
       " array(1107.04434893),\n",
       " array(1166.37414181),\n",
       " array(1221.5059248),\n",
       " array(1273.31261664),\n",
       " array(1322.69871868),\n",
       " array(1370.38316715),\n",
       " array(1416.96057965),\n",
       " array(1462.9857573),\n",
       " array(1508.78888589),\n",
       " array(1554.49982908),\n",
       " array(1600.22620626)]"
      ]
     },
     "execution_count": 54,
     "metadata": {},
     "output_type": "execute_result"
    }
   ],
   "source": [
    "rmses"
   ]
  },
  {
   "cell_type": "code",
   "execution_count": 55,
   "metadata": {
    "Collapsed": "false"
   },
   "outputs": [
    {
     "data": {
      "image/png": "[encoded data removed]",
      "text/plain": [
       "<Figure size 432x288 with 1 Axes>"
      ]
     },
     "metadata": {},
     "output_type": "display_data"
    }
   ],
   "source": [
    "plt.plot(fcs.lead_time, rmses)\n",
    "plt.ylabel(r'RMSE z [m$^2$s$^{-2}$]')\n",
    "plt.xlabel('Forecast lead time [hours]')\n",
    "plt.title('Dense Neural Network');"
   ]
  },
  {
   "cell_type": "code",
   "execution_count": 56,
   "metadata": {
    "Collapsed": "false"
   },
   "outputs": [
    {
     "data": {
      "text/plain": [
       "<xarray.DataArray 'time' ()>\n",
       "array('2017-01-01T00:00:00.000000000', dtype='datetime64[ns]')\n",
       "Coordinates:\n",
       "    time     datetime64[ns] 2017-01-01\n",
       "Attributes:\n",
       "    long_name:  time"
      ]
     },
     "execution_count": 56,
     "metadata": {},
     "output_type": "execute_result"
    }
   ],
   "source": [
    "fcs.time[0]"
   ]
  },
  {
   "cell_type": "code",
   "execution_count": 57,
   "metadata": {
    "Collapsed": "false"
   },
   "outputs": [
    {
     "data": {
      "text/plain": [
       "<xarray.DataArray 'time' ()>\n",
       "array('2017-01-01T00:00:00.000000000', dtype='datetime64[ns]')\n",
       "Coordinates:\n",
       "    time     datetime64[ns] 2017-01-01\n",
       "Attributes:\n",
       "    long_name:  time"
      ]
     },
     "execution_count": 57,
     "metadata": {},
     "output_type": "execute_result"
    }
   ],
   "source": [
    "z500_valid.time[0]"
   ]
  },
  {
   "cell_type": "code",
   "execution_count": 58,
   "metadata": {
    "Collapsed": "false"
   },
   "outputs": [
    {
     "data": {
      "text/plain": [
       "<xarray.plot.facetgrid.FacetGrid at 0x7fced44f4cc0>"
      ]
     },
     "execution_count": 58,
     "metadata": {},
     "output_type": "execute_result"
    },
    {
     "data": {
      "image/png": "[encoded data removed]",
      "text/plain": [
       "<Figure size 936x216 with 5 Axes>"
      ]
     },
     "metadata": {},
     "output_type": "display_data"
    }
   ],
   "source": [
    "fcs.isel(time=0, lead_time=slice(0, 4)).plot(col='lead_time')"
   ]
  },
  {
   "cell_type": "code",
   "execution_count": 59,
   "metadata": {
    "Collapsed": "false"
   },
   "outputs": [
    {
     "data": {
      "text/plain": [
       "<xarray.plot.facetgrid.FacetGrid at 0x7fced431e710>"
      ]
     },
     "execution_count": 59,
     "metadata": {},
     "output_type": "execute_result"
    },
    {
     "data": {
      "image/png": "[encoded data removed]",
      "text/plain": [
       "<Figure size 936x216 with 5 Axes>"
      ]
     },
     "metadata": {},
     "output_type": "display_data"
    }
   ],
   "source": [
    "z500_valid.isel(time=slice(6, 6*4+6, 6)).plot(col='time')"
   ]
  },
  {
   "cell_type": "markdown",
   "metadata": {
    "Collapsed": "false",
    "jupyter": {
     "outputs_hidden": true
    }
   },
   "source": [
    "## Create comparison plot"
   ]
  },
  {
   "cell_type": "code",
   "execution_count": null,
   "metadata": {
    "Collapsed": "false"
   },
   "outputs": [],
   "source": []
  }
 ],
 "metadata": {
  "kernelspec": {
   "display_name": "Python 3",
   "language": "python",
   "name": "python3"
  },
  "language_info": {
   "codemirror_mode": {
    "name": "ipython",
    "version": 3
   },
   "file_extension": ".py",
   "mimetype": "text/x-python",
   "name": "python",
   "nbconvert_exporter": "python",
   "pygments_lexer": "ipython3",
   "version": "3.7.3"
  }
 },
 "nbformat": 4,
 "nbformat_minor": 4
}
