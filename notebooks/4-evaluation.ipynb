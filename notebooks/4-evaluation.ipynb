{
 "cells": [
  {
   "cell_type": "markdown",
   "metadata": {
    "Collapsed": "false"
   },
   "source": [
    "# Evaluate forecasts"
   ]
  },
  {
   "cell_type": "code",
   "execution_count": 1,
   "metadata": {
    "Collapsed": "false"
   },
   "outputs": [],
   "source": [
    "%load_ext autoreload\n",
    "%autoreload 2"
   ]
  },
  {
   "cell_type": "code",
   "execution_count": 2,
   "metadata": {
    "Collapsed": "false"
   },
   "outputs": [],
   "source": [
    "import numpy as np\n",
    "import xarray as xr\n",
    "import matplotlib.pyplot as plt\n",
    "import seaborn as sns\n",
    "from src.score import *"
   ]
  },
  {
   "cell_type": "code",
   "execution_count": 3,
   "metadata": {
    "Collapsed": "false"
   },
   "outputs": [],
   "source": [
    "sns.set_style('darkgrid')\n",
    "sns.set_context('notebook')"
   ]
  },
  {
   "cell_type": "code",
   "execution_count": 4,
   "metadata": {
    "Collapsed": "false"
   },
   "outputs": [],
   "source": [
    "DATADIR = '/data/weather-benchmark/5.625deg/'\n",
    "PREDDIR = '/data/weather-benchmark/predictions/'"
   ]
  },
  {
   "cell_type": "markdown",
   "metadata": {
    "Collapsed": "false"
   },
   "source": [
    "## Load data"
   ]
  },
  {
   "cell_type": "code",
   "execution_count": 5,
   "metadata": {
    "Collapsed": "false"
   },
   "outputs": [],
   "source": [
    "# Load the validation subset of the data: 2017 and 2018\n",
    "z500_valid = load_test_data(f'{DATADIR}geopotential_500', 'z')\n",
    "t850_valid = load_test_data(f'{DATADIR}temperature_850', 't')"
   ]
  },
  {
   "cell_type": "code",
   "execution_count": 6,
   "metadata": {
    "Collapsed": "false"
   },
   "outputs": [],
   "source": [
    "persistence = xr.open_dataset(f'{PREDDIR}persistence.nc')\n",
    "climatology = xr.open_dataset(f'{PREDDIR}climatology.nc')\n",
    "weekly_climatology = xr.open_dataset(f'{PREDDIR}weekly_climatology.nc')"
   ]
  },
  {
   "cell_type": "code",
   "execution_count": 8,
   "metadata": {
    "Collapsed": "false"
   },
   "outputs": [],
   "source": [
    "lr_3d = xr.open_dataset(f'{PREDDIR}fc_lr_3d.nc')\n",
    "lr_5d = xr.open_dataset(f'{PREDDIR}fc_lr_5d.nc')\n",
    "lr_6h_iter = xr.open_dataset(f'{PREDDIR}fc_lr_6h_iter.nc')"
   ]
  },
  {
   "cell_type": "markdown",
   "metadata": {
    "Collapsed": "false"
   },
   "source": [
    "## TIGGE and IFT T21 data\n",
    "\n",
    "For these we need to do some preprocessing to get the data into the same format as our ERA5 files."
   ]
  },
  {
   "cell_type": "code",
   "execution_count": 72,
   "metadata": {
    "Collapsed": "false"
   },
   "outputs": [
    {
     "name": "stderr",
     "output_type": "stream",
     "text": [
      "/home/rasp/miniconda3/lib/python3.7/site-packages/ipykernel_launcher.py:2: FutureWarning: In xarray version 0.14 the default behaviour of `open_mfdataset`\n",
      "will change. To retain the existing behavior, pass\n",
      "combine='nested'. To use future default behavior, pass\n",
      "combine='by_coords'. See\n",
      "http://xarray.pydata.org/en/stable/combining.html#combining-multi\n",
      "\n",
      "  \n",
      "/home/rasp/miniconda3/lib/python3.7/site-packages/xarray/backends/api.py:934: FutureWarning: The datasets supplied do not have global dimension coordinates. In\n",
      "future, to continue concatenating without supplying dimension\n",
      "coordinates, please use the new `combine_nested` function (or the\n",
      "`combine='nested'` option to open_mfdataset.The datasets supplied require both concatenation and merging. From\n",
      "xarray version 0.14 this will operation will require either using the\n",
      "new `combine_nested` function (or the `combine='nested'` option to\n",
      "open_mfdataset), with a nested list structure such that you can combine\n",
      "along the dimensions None. Alternatively if your datasets have global\n",
      "dimension coordinates then you can use the new `combine_by_coords`\n",
      "function.\n",
      "  from_openmfds=True,\n"
     ]
    }
   ],
   "source": [
    "# Convert from geopotential height to geopotential\n",
    "tigge = xr.open_mfdataset('/data/weather-benchmark/tigge/5.625deg/*').squeeze()"
   ]
  },
  {
   "cell_type": "code",
   "execution_count": 73,
   "metadata": {
    "Collapsed": "false"
   },
   "outputs": [
    {
     "data": {
      "text/plain": [
       "<xarray.Dataset>\n",
       "Dimensions:  (lat: 32, lon: 64, time: 12768)\n",
       "Coordinates:\n",
       "    lev      float64 5e+04\n",
       "  * lat      (lat) float64 -87.19 -81.56 -75.94 -70.31 ... 75.94 81.56 87.19\n",
       "  * lon      (lon) float64 0.0 5.625 11.25 16.88 ... 337.5 343.1 348.8 354.4\n",
       "  * time     (time) datetime64[ns] 2017-01-01 ... 2017-11-05T12:00:00\n",
       "Data variables:\n",
       "    gh       (time, lat, lon) float32 dask.array<chunksize=(1302, 32, 64), meta=np.ndarray>\n",
       "    t        (time, lat, lon) float32 dask.array<chunksize=(1302, 32, 64), meta=np.ndarray>\n",
       "    z        (time, lat, lon) float32 dask.array<chunksize=(1302, 32, 64), meta=np.ndarray>\n",
       "Attributes:\n",
       "    CDI:          Climate Data Interface version ?? (http://mpimet.mpg.de/cdi)\n",
       "    Conventions:  CF-1.4\n",
       "    history:      Tue Dec 03 13:14:18 2019: cdo -f nc copy /data/weather-benc...\n",
       "    institution:  European Centre for Medium-Range Weather Forecasts\n",
       "    CDO:          Climate Data Operators version 1.7.0 (http://mpimet.mpg.de/..."
      ]
     },
     "execution_count": 73,
     "metadata": {},
     "output_type": "execute_result"
    }
   ],
   "source": [
    "tigge['z'] = tigge.gh * 9.807\n",
    "tigge"
   ]
  },
  {
   "cell_type": "code",
   "execution_count": 74,
   "metadata": {
    "Collapsed": "false"
   },
   "outputs": [
    {
     "name": "stderr",
     "output_type": "stream",
     "text": [
      "/home/rasp/miniconda3/lib/python3.7/site-packages/ipykernel_launcher.py:1: FutureWarning: In xarray version 0.14 the default behaviour of `open_mfdataset`\n",
      "will change. To retain the existing behavior, pass\n",
      "combine='nested'. To use future default behavior, pass\n",
      "combine='by_coords'. See\n",
      "http://xarray.pydata.org/en/stable/combining.html#combining-multi\n",
      "\n",
      "  \"\"\"Entry point for launching an IPython kernel.\n",
      "/home/rasp/miniconda3/lib/python3.7/site-packages/xarray/backends/api.py:934: FutureWarning: The datasets supplied do not have global dimension coordinates. In\n",
      "future, to continue concatenating without supplying dimension\n",
      "coordinates, please use the new `combine_nested` function (or the\n",
      "`combine='nested'` option to open_mfdataset.\n",
      "  from_openmfds=True,\n"
     ]
    }
   ],
   "source": [
    "t21 = xr.open_mfdataset(f'/media/rasp/Elements/weather-benchmark/IFS_T21/raw/output_pl_5.625*.nc')"
   ]
  },
  {
   "cell_type": "code",
   "execution_count": 75,
   "metadata": {
    "Collapsed": "false"
   },
   "outputs": [
    {
     "data": {
      "text/plain": [
       "<xarray.Dataset>\n",
       "Dimensions:  (lat: 32, lev: 4, lon: 64, time: 42340)\n",
       "Coordinates:\n",
       "  * lev      (lev) float64 1e+05 8.5e+04 5e+04 2e+04\n",
       "  * lat      (lat) float64 87.19 81.56 75.94 70.31 ... -75.94 -81.56 -87.19\n",
       "  * lon      (lon) float64 -180.0 -174.4 -168.8 -163.1 ... 163.1 168.8 174.4\n",
       "  * time     (time) datetime64[ns] 2017-01-01 ... 2018-01-07T18:00:00\n",
       "Data variables:\n",
       "    z        (time, lev, lat, lon) float32 dask.array<chunksize=(20996, 4, 32, 64), meta=np.ndarray>\n",
       "    t        (time, lev, lat, lon) float32 dask.array<chunksize=(20996, 4, 32, 64), meta=np.ndarray>\n",
       "    r        (time, lev, lat, lon) float32 dask.array<chunksize=(20996, 4, 32, 64), meta=np.ndarray>\n",
       "    u        (time, lev, lat, lon) float32 dask.array<chunksize=(20996, 4, 32, 64), meta=np.ndarray>\n",
       "    v        (time, lev, lat, lon) float32 dask.array<chunksize=(20996, 4, 32, 64), meta=np.ndarray>\n",
       "Attributes:\n",
       "    CDI:          Climate Data Interface version ?? (http://mpimet.mpg.de/cdi)\n",
       "    Conventions:  CF-1.4\n",
       "    history:      Wed Nov 20 13:18:52 2019: cdo -f nc copy /media/rasp/Elemen...\n",
       "    institution:  European Centre for Medium-Range Weather Forecasts\n",
       "    CDO:          Climate Data Operators version 1.7.0 (http://mpimet.mpg.de/..."
      ]
     },
     "execution_count": 75,
     "metadata": {},
     "output_type": "execute_result"
    }
   ],
   "source": [
    "t21"
   ]
  },
  {
   "cell_type": "code",
   "execution_count": 76,
   "metadata": {
    "Collapsed": "false"
   },
   "outputs": [
    {
     "name": "stderr",
     "output_type": "stream",
     "text": [
      "/home/rasp/miniconda3/lib/python3.7/site-packages/ipykernel_launcher.py:2: FutureWarning: roll_coords will be set to False in the future. Explicitly set roll_coords to silence warning.\n",
      "  \n"
     ]
    }
   ],
   "source": [
    "t21['lat'] = -tigge.lat\n",
    "t21 = t21.roll(lon=32)"
   ]
  },
  {
   "cell_type": "code",
   "execution_count": 77,
   "metadata": {
    "Collapsed": "false"
   },
   "outputs": [],
   "source": [
    "def convert_time(ds, nlead_time):\n",
    "    \"\"\"Converts to lead_time format\"\"\"\n",
    "    init_times = ds.time[::nlead_time]\n",
    "    lead_times = xr.DataArray(\n",
    "        np.arange(0, 6*nlead_time, 6), dims=['lead_time'], coords={'lead_time': np.arange(0, 6*nlead_time, 6)})\n",
    "    \n",
    "    coords = dict(ds.coords); coords.pop('time')\n",
    "    coords['time'] = init_times; coords['lead_times'] = lead_times\n",
    "    ds_by_lead = xr.merge([xr.DataArray(\n",
    "        ds[var].values.reshape((len(init_times), len(lead_times)) + ds[var].shape[1:]),\n",
    "        dims = ('time', 'lead_time') + ds[var].dims[1:],\n",
    "        coords = coords,\n",
    "        name=var\n",
    "    ) for var in ds])\n",
    "    return ds_by_lead"
   ]
  },
  {
   "cell_type": "code",
   "execution_count": 78,
   "metadata": {
    "Collapsed": "false"
   },
   "outputs": [],
   "source": [
    "tiggea = convert_time(tigge, 21)\n",
    "t21 = convert_time(t21, 29)"
   ]
  },
  {
   "cell_type": "code",
   "execution_count": 79,
   "metadata": {
    "Collapsed": "false"
   },
   "outputs": [],
   "source": [
    "# Save for later usage\n",
    "tigge.to_netcdf(f'{PREDDIR}/tigge_5.625deg.nc')\n",
    "t21.to_netcdf(f'{PREDDIR}/t21_5.625deg.nc')"
   ]
  },
  {
   "cell_type": "markdown",
   "metadata": {
    "Collapsed": "false"
   },
   "source": [
    "## Compute RMSE"
   ]
  },
  {
   "cell_type": "code",
   "execution_count": null,
   "metadata": {},
   "outputs": [],
   "source": []
  }
 ],
 "metadata": {
  "kernelspec": {
   "display_name": "Python 3",
   "language": "python",
   "name": "python3"
  },
  "language_info": {
   "codemirror_mode": {
    "name": "ipython",
    "version": 3
   },
   "file_extension": ".py",
   "mimetype": "text/x-python",
   "name": "python",
   "nbconvert_exporter": "python",
   "pygments_lexer": "ipython3",
   "version": "3.7.3"
  }
 },
 "nbformat": 4,
 "nbformat_minor": 4
}
