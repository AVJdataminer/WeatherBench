{
 "cells": [
  {
   "cell_type": "markdown",
   "metadata": {
    "Collapsed": "false"
   },
   "source": [
    "# Evaluate forecasts"
   ]
  },
  {
   "cell_type": "code",
   "execution_count": null,
   "metadata": {
    "Collapsed": "false"
   },
   "outputs": [],
   "source": [
    "%load_ext autoreload\n",
    "%autoreload 2"
   ]
  },
  {
   "cell_type": "code",
   "execution_count": 2,
   "metadata": {
    "Collapsed": "false"
   },
   "outputs": [],
   "source": [
    "import numpy as np\n",
    "import xarray as xr\n",
    "import matplotlib.pyplot as plt\n",
    "import seaborn as sns\n",
    "from src.score import *"
   ]
  },
  {
   "cell_type": "code",
   "execution_count": 3,
   "metadata": {
    "Collapsed": "false"
   },
   "outputs": [],
   "source": [
    "sns.set_style('darkgrid')\n",
    "sns.set_context('notebook')"
   ]
  },
  {
   "cell_type": "code",
   "execution_count": 4,
   "metadata": {
    "Collapsed": "false"
   },
   "outputs": [],
   "source": [
    "DATADIR = '/data/weather-benchmark/5.625deg/'\n",
    "PREDDIR = '/data/weather-benchmark/predictions/'"
   ]
  },
  {
   "cell_type": "markdown",
   "metadata": {
    "Collapsed": "false"
   },
   "source": [
    "## Load data"
   ]
  },
  {
   "cell_type": "code",
   "execution_count": 5,
   "metadata": {
    "Collapsed": "false"
   },
   "outputs": [],
   "source": [
    "# Load the validation subset of the data: 2017 and 2018\n",
    "z500_valid = load_test_data(f'{DATADIR}geopotential_500', 'z')\n",
    "t850_valid = load_test_data(f'{DATADIR}temperature_850', 't')\n",
    "valid_data = xr.merge([z500_valid, t850_valid])"
   ]
  },
  {
   "cell_type": "code",
   "execution_count": 6,
   "metadata": {
    "Collapsed": "false"
   },
   "outputs": [],
   "source": [
    "persistence = xr.open_dataset(f'{PREDDIR}persistence.nc').drop('level')\n",
    "climatology = xr.open_dataset(f'{PREDDIR}climatology.nc')\n",
    "weekly_climatology = xr.open_dataset(f'{PREDDIR}weekly_climatology.nc')"
   ]
  },
  {
   "cell_type": "code",
   "execution_count": 7,
   "metadata": {
    "Collapsed": "false"
   },
   "outputs": [],
   "source": [
    "lr_3d = xr.open_dataset(f'{PREDDIR}fc_lr_3d.nc')\n",
    "lr_5d = xr.open_dataset(f'{PREDDIR}fc_lr_5d.nc')\n",
    "lr_6h_iter = xr.open_dataset(f'{PREDDIR}fc_lr_6h_iter.nc')"
   ]
  },
  {
   "cell_type": "code",
   "execution_count": 28,
   "metadata": {
    "Collapsed": "false"
   },
   "outputs": [],
   "source": [
    "# See next section on how to compute these from the raw data.\n",
    "tigge = xr.open_dataset(f'{PREDDIR}/tigge_5.625deg.nc')\n",
    "t21 = xr.open_dataset(f'{PREDDIR}/t21_5.625deg.nc')"
   ]
  },
  {
   "cell_type": "markdown",
   "metadata": {
    "Collapsed": "false"
   },
   "source": [
    "## TIGGE and IFT T21 data\n",
    "\n",
    "For these we need to do some preprocessing to get the data into the same format as our ERA5 files."
   ]
  },
  {
   "cell_type": "code",
   "execution_count": 8,
   "metadata": {
    "Collapsed": "false"
   },
   "outputs": [
    {
     "name": "stderr",
     "output_type": "stream",
     "text": [
      "/home/rasp/miniconda3/lib/python3.7/site-packages/ipykernel_launcher.py:2: FutureWarning: In xarray version 0.14 the default behaviour of `open_mfdataset`\n",
      "will change. To retain the existing behavior, pass\n",
      "combine='nested'. To use future default behavior, pass\n",
      "combine='by_coords'. See\n",
      "http://xarray.pydata.org/en/stable/combining.html#combining-multi\n",
      "\n",
      "  \n",
      "/home/rasp/miniconda3/lib/python3.7/site-packages/xarray/backends/api.py:934: FutureWarning: The datasets supplied do not have global dimension coordinates. In\n",
      "future, to continue concatenating without supplying dimension\n",
      "coordinates, please use the new `combine_nested` function (or the\n",
      "`combine='nested'` option to open_mfdataset.The datasets supplied require both concatenation and merging. From\n",
      "xarray version 0.14 this will operation will require either using the\n",
      "new `combine_nested` function (or the `combine='nested'` option to\n",
      "open_mfdataset), with a nested list structure such that you can combine\n",
      "along the dimensions None. Alternatively if your datasets have global\n",
      "dimension coordinates then you can use the new `combine_by_coords`\n",
      "function.\n",
      "  from_openmfds=True,\n"
     ]
    }
   ],
   "source": [
    "# Convert from geopotential height to geopotential\n",
    "tigge_raw = xr.open_mfdataset('/data/weather-benchmark/tigge/5.625deg/*').squeeze()"
   ]
  },
  {
   "cell_type": "code",
   "execution_count": 9,
   "metadata": {
    "Collapsed": "false"
   },
   "outputs": [
    {
     "data": {
      "text/plain": [
       "<xarray.Dataset>\n",
       "Dimensions:  (lat: 32, lon: 64, time: 12768)\n",
       "Coordinates:\n",
       "    lev      float64 5e+04\n",
       "  * lat      (lat) float64 -87.19 -81.56 -75.94 -70.31 ... 75.94 81.56 87.19\n",
       "  * lon      (lon) float64 0.0 5.625 11.25 16.88 ... 337.5 343.1 348.8 354.4\n",
       "  * time     (time) datetime64[ns] 2017-01-01 ... 2017-11-05T12:00:00\n",
       "Data variables:\n",
       "    gh       (time, lat, lon) float32 dask.array<chunksize=(1302, 32, 64), meta=np.ndarray>\n",
       "    t        (time, lat, lon) float32 dask.array<chunksize=(1302, 32, 64), meta=np.ndarray>\n",
       "    z        (time, lat, lon) float32 dask.array<chunksize=(1302, 32, 64), meta=np.ndarray>\n",
       "Attributes:\n",
       "    CDI:          Climate Data Interface version ?? (http://mpimet.mpg.de/cdi)\n",
       "    Conventions:  CF-1.4\n",
       "    history:      Tue Dec 03 13:14:18 2019: cdo -f nc copy /data/weather-benc...\n",
       "    institution:  European Centre for Medium-Range Weather Forecasts\n",
       "    CDO:          Climate Data Operators version 1.7.0 (http://mpimet.mpg.de/..."
      ]
     },
     "execution_count": 9,
     "metadata": {},
     "output_type": "execute_result"
    }
   ],
   "source": [
    "tigge_raw['z'] = tigge_raw.gh * 9.807\n",
    "tigge_raw"
   ]
  },
  {
   "cell_type": "code",
   "execution_count": 10,
   "metadata": {
    "Collapsed": "false"
   },
   "outputs": [
    {
     "name": "stderr",
     "output_type": "stream",
     "text": [
      "/home/rasp/miniconda3/lib/python3.7/site-packages/ipykernel_launcher.py:1: FutureWarning: In xarray version 0.14 the default behaviour of `open_mfdataset`\n",
      "will change. To retain the existing behavior, pass\n",
      "combine='nested'. To use future default behavior, pass\n",
      "combine='by_coords'. See\n",
      "http://xarray.pydata.org/en/stable/combining.html#combining-multi\n",
      "\n",
      "  \"\"\"Entry point for launching an IPython kernel.\n",
      "/home/rasp/miniconda3/lib/python3.7/site-packages/xarray/backends/api.py:934: FutureWarning: The datasets supplied do not have global dimension coordinates. In\n",
      "future, to continue concatenating without supplying dimension\n",
      "coordinates, please use the new `combine_nested` function (or the\n",
      "`combine='nested'` option to open_mfdataset.\n",
      "  from_openmfds=True,\n"
     ]
    }
   ],
   "source": [
    "t21_raw = xr.open_mfdataset(f'/media/rasp/Elements/weather-benchmark/IFS_T21/raw/output_pl_5.625*.nc')"
   ]
  },
  {
   "cell_type": "code",
   "execution_count": 11,
   "metadata": {
    "Collapsed": "false"
   },
   "outputs": [
    {
     "data": {
      "text/plain": [
       "<xarray.Dataset>\n",
       "Dimensions:  (lat: 32, lev: 4, lon: 64, time: 42340)\n",
       "Coordinates:\n",
       "  * lev      (lev) float64 1e+05 8.5e+04 5e+04 2e+04\n",
       "  * lat      (lat) float64 87.19 81.56 75.94 70.31 ... -75.94 -81.56 -87.19\n",
       "  * lon      (lon) float64 -180.0 -174.4 -168.8 -163.1 ... 163.1 168.8 174.4\n",
       "  * time     (time) datetime64[ns] 2017-01-01 ... 2018-01-07T18:00:00\n",
       "Data variables:\n",
       "    z        (time, lev, lat, lon) float32 dask.array<chunksize=(20996, 4, 32, 64), meta=np.ndarray>\n",
       "    t        (time, lev, lat, lon) float32 dask.array<chunksize=(20996, 4, 32, 64), meta=np.ndarray>\n",
       "    r        (time, lev, lat, lon) float32 dask.array<chunksize=(20996, 4, 32, 64), meta=np.ndarray>\n",
       "    u        (time, lev, lat, lon) float32 dask.array<chunksize=(20996, 4, 32, 64), meta=np.ndarray>\n",
       "    v        (time, lev, lat, lon) float32 dask.array<chunksize=(20996, 4, 32, 64), meta=np.ndarray>\n",
       "Attributes:\n",
       "    CDI:          Climate Data Interface version ?? (http://mpimet.mpg.de/cdi)\n",
       "    Conventions:  CF-1.4\n",
       "    history:      Wed Nov 20 13:18:52 2019: cdo -f nc copy /media/rasp/Elemen...\n",
       "    institution:  European Centre for Medium-Range Weather Forecasts\n",
       "    CDO:          Climate Data Operators version 1.7.0 (http://mpimet.mpg.de/..."
      ]
     },
     "execution_count": 11,
     "metadata": {},
     "output_type": "execute_result"
    }
   ],
   "source": [
    "t21_raw"
   ]
  },
  {
   "cell_type": "code",
   "execution_count": 12,
   "metadata": {
    "Collapsed": "false"
   },
   "outputs": [
    {
     "name": "stderr",
     "output_type": "stream",
     "text": [
      "/home/rasp/miniconda3/lib/python3.7/site-packages/ipykernel_launcher.py:2: FutureWarning: roll_coords will be set to False in the future. Explicitly set roll_coords to silence warning.\n",
      "  \n"
     ]
    }
   ],
   "source": [
    "t21_raw['lat'] = -tigge_raw.lat\n",
    "t21_raw = t21_raw.roll(lon=32)"
   ]
  },
  {
   "cell_type": "code",
   "execution_count": 13,
   "metadata": {
    "Collapsed": "false"
   },
   "outputs": [],
   "source": [
    "def convert_time(ds, nlead_time):\n",
    "    \"\"\"Converts to lead_time format\"\"\"\n",
    "    init_times = ds.time[::nlead_time]\n",
    "    lead_times = xr.DataArray(\n",
    "        np.arange(0, 6*nlead_time, 6), dims=['lead_time'], coords={'lead_time': np.arange(0, 6*nlead_time, 6)})\n",
    "    \n",
    "    coords = dict(ds.coords); coords.pop('time')\n",
    "    coords['time'] = init_times; coords['lead_times'] = lead_times\n",
    "    ds_by_lead = xr.merge([xr.DataArray(\n",
    "        ds[var].values.reshape((len(init_times), len(lead_times)) + ds[var].shape[1:]),\n",
    "        dims = ('time', 'lead_time') + ds[var].dims[1:],\n",
    "        coords = coords,\n",
    "        name=var\n",
    "    ) for var in ds])\n",
    "    return ds_by_lead"
   ]
  },
  {
   "cell_type": "code",
   "execution_count": 14,
   "metadata": {
    "Collapsed": "false"
   },
   "outputs": [],
   "source": [
    "tigge = convert_time(tigge_raw, 21)\n",
    "t21 = convert_time(t21_raw, 29)"
   ]
  },
  {
   "cell_type": "code",
   "execution_count": 15,
   "metadata": {
    "Collapsed": "false"
   },
   "outputs": [],
   "source": [
    "# Save for later usage\n",
    "tigge.to_netcdf(f'{PREDDIR}/tigge_5.625deg.nc')\n",
    "t21.to_netcdf(f'{PREDDIR}/t21_5.625deg.nc')"
   ]
  },
  {
   "cell_type": "markdown",
   "metadata": {
    "Collapsed": "false"
   },
   "source": [
    "## Compute RMSE"
   ]
  },
  {
   "cell_type": "code",
   "execution_count": 17,
   "metadata": {
    "Collapsed": "false"
   },
   "outputs": [],
   "source": [
    "tigge = tigge.merge(evaluate_iterative_forecast(tigge, valid_data)).load()\n",
    "t21 = t21.merge(evaluate_iterative_forecast(t21, valid_data)).load()\n"
   ]
  },
  {
   "cell_type": "code",
   "execution_count": 18,
   "metadata": {
    "Collapsed": "false"
   },
   "outputs": [],
   "source": [
    "persistence = persistence.merge(evaluate_iterative_forecast(persistence, valid_data)).load()\n",
    "climatology = climatology.merge(compute_weighted_rmse(climatology, valid_data)).load()\n",
    "weekly_climatology = weekly_climatology.merge(compute_weighted_rmse(weekly_climatology, valid_data)).load()"
   ]
  },
  {
   "cell_type": "code",
   "execution_count": 19,
   "metadata": {
    "Collapsed": "false"
   },
   "outputs": [],
   "source": [
    "lr_6h_iter = lr_6h_iter.merge(evaluate_iterative_forecast(lr_6h_iter, valid_data)).load()\n",
    "lr_3d = lr_3d.merge(compute_weighted_rmse(lr_3d, valid_data)).load()\n",
    "lr_5d = lr_5d.merge(compute_weighted_rmse(lr_5d, valid_data)).load()"
   ]
  },
  {
   "cell_type": "markdown",
   "metadata": {
    "Collapsed": "false"
   },
   "source": [
    "## Plot"
   ]
  },
  {
   "cell_type": "code",
   "execution_count": 24,
   "metadata": {
    "Collapsed": "false"
   },
   "outputs": [],
   "source": [
    "def create_plot(var):\n",
    "    # Color settings\n",
    "    c_lr = 'seagreen'\n",
    "    c_cnn = 'firebrick'\n",
    "    c_tigge = 'navy'\n",
    "    c_t21 = 'orange'\n",
    "    c_persistence = '0.2'\n",
    "    c_climatology = '0.5'\n",
    "    c_weekly_climatology = '0.7'\n",
    "    \n",
    "    fig, ax = plt.subplots(1, 1, figsize=(7, 5))\n",
    "    tigge[var+'_rmse'].plot(c=c_tigge, label='Operational', lw=2)\n",
    "    t21[var+'_rmse'].plot(c=c_t21, label='IFS T21', lw=2)\n",
    "    lr_6h_iter[var+'_rmse'].plot(c=c_lr, label='Linear regression', lw=2)\n",
    "    persistence[var+'_rmse'].plot(c=c_persistence, label='Persistence', lw=2)\n",
    "    ax.axhline(climatology[var+'_rmse'], ls='--', c=c_climatology, label='Climatology', lw=2)\n",
    "    ax.axhline(weekly_climatology[var+'_rmse'], ls='--', c=c_weekly_climatology, label='Weekly climatology', lw=2)\n",
    "    \n",
    "    plt.scatter([3*24], [lr_3d[var+'_rmse']], c=c_lr, s=75)\n",
    "    plt.scatter([5*24], [lr_5d[var+'_rmse']], c=c_lr, s=75)\n",
    "    \n",
    "    plt.legend(loc=2, framealpha=1)\n",
    "    plt.xlim(0, 122)\n",
    "    plt.xticks(range(0, 121, 24), range(0, 6))\n",
    "    plt.xlabel('Forecast lead time [days]')\n",
    "    \n",
    "    if var == 'z':\n",
    "        plt.ylim(0, 1150)\n",
    "        plt.ylabel(r'Z500 RMSE [m$^2$ s$^{-2}$]')\n",
    "    elif var == 't':\n",
    "        plt.ylim(0, 7)\n",
    "        plt.ylabel(r'T850 RMSE [K]')"
   ]
  },
  {
   "cell_type": "code",
   "execution_count": 28,
   "metadata": {
    "Collapsed": "false"
   },
   "outputs": [
    {
     "data": {
      "text/plain": [
       "[<matplotlib.lines.Line2D at 0x7f6a1064e828>]"
      ]
     },
     "execution_count": 28,
     "metadata": {},
     "output_type": "execute_result"
    },
    {
     "data": {
      "image/png": "[encoded data removed]",
      "text/plain": [
       "<Figure size 432x288 with 1 Axes>"
      ]
     },
     "metadata": {},
     "output_type": "display_data"
    }
   ],
   "source": [
    "tigge.z_rmse.plot()"
   ]
  },
  {
   "cell_type": "code",
   "execution_count": 27,
   "metadata": {
    "Collapsed": "false"
   },
   "outputs": [
    {
     "data": {
      "text/plain": [
       "array([46392.21552643, 46378.93679903, 46366.9607889 , 46359.72505494,\n",
       "       46355.05970175, 46352.99108315, 46351.53169174, 46351.53385892,\n",
       "       46351.8870864 , 46352.85681904, 46353.81114561, 46354.40003799,\n",
       "       46354.36386576, 46354.01769648, 46353.43131118, 46352.95975729,\n",
       "       46352.39376263, 46351.29035974, 46349.89982381, 46348.38358521,\n",
       "       46347.10875513, 46345.79692968, 46344.44140218, 46342.62019692,\n",
       "       46340.81843464, 46339.29701697, 46337.7524336 , 46336.2138523 ,\n",
       "       46335.22130519])"
      ]
     },
     "execution_count": 27,
     "metadata": {},
     "output_type": "execute_result"
    }
   ],
   "source": [
    "t21.z_rmse.values"
   ]
  },
  {
   "cell_type": "code",
   "execution_count": 26,
   "metadata": {
    "Collapsed": "false"
   },
   "outputs": [
    {
     "data": {
      "image/png": "[encoded data removed]",
      "text/plain": [
       "<Figure size 504x360 with 1 Axes>"
      ]
     },
     "metadata": {},
     "output_type": "display_data"
    }
   ],
   "source": [
    "create_plot('z')"
   ]
  },
  {
   "cell_type": "code",
   "execution_count": 29,
   "metadata": {
    "Collapsed": "false"
   },
   "outputs": [
    {
     "data": {
      "image/png": "[encoded data removed]",
      "text/plain": [
       "<Figure size 504x360 with 1 Axes>"
      ]
     },
     "metadata": {},
     "output_type": "display_data"
    }
   ],
   "source": [
    "create_plot('t')"
   ]
  },
  {
   "cell_type": "code",
   "execution_count": null,
   "metadata": {
    "Collapsed": "false"
   },
   "outputs": [],
   "source": []
  }
 ],
 "metadata": {
  "kernelspec": {
   "display_name": "Python 3",
   "language": "python",
   "name": "python3"
  },
  "language_info": {
   "codemirror_mode": {
    "name": "ipython",
    "version": 3
   },
   "file_extension": ".py",
   "mimetype": "text/x-python",
   "name": "python",
   "nbconvert_exporter": "python",
   "pygments_lexer": "ipython3",
   "version": "3.7.3"
  }
 },
 "nbformat": 4,
 "nbformat_minor": 4
}
