{
 "cells": [
  {
   "cell_type": "code",
   "execution_count": 1,
   "metadata": {
    "Collapsed": "false"
   },
   "outputs": [],
   "source": [
    "%load_ext autoreload\n",
    "%autoreload 2"
   ]
  },
  {
   "cell_type": "code",
   "execution_count": 2,
   "metadata": {
    "Collapsed": "false"
   },
   "outputs": [],
   "source": [
    "import numpy as np\n",
    "import xarray as xr\n",
    "import matplotlib.pyplot as plt\n",
    "import seaborn as sns\n",
    "from src.score import *"
   ]
  },
  {
   "cell_type": "code",
   "execution_count": 3,
   "metadata": {
    "Collapsed": "false"
   },
   "outputs": [],
   "source": [
    "sns.set_style('darkgrid')\n",
    "sns.set_context('notebook')"
   ]
  },
  {
   "cell_type": "code",
   "execution_count": 4,
   "metadata": {
    "Collapsed": "false"
   },
   "outputs": [],
   "source": [
    "DATADIR = '/data/weather-benchmark/5.625deg/geopotential_500/'\n",
    "PREDDIR = '/data/weather-benchmark/predictions/'"
   ]
  },
  {
   "cell_type": "code",
   "execution_count": 5,
   "metadata": {
    "Collapsed": "false"
   },
   "outputs": [
    {
     "name": "stderr",
     "output_type": "stream",
     "text": [
      "/home/rasp/repositories/weather-benchmark/notebooks/src/score.py:24: FutureWarning: In xarray version 0.14 the default behaviour of `open_mfdataset`\n",
      "will change. To retain the existing behavior, pass\n",
      "combine='nested'. To use future default behavior, pass\n",
      "combine='by_coords'. See\n",
      "http://xarray.pydata.org/en/stable/combining.html#combining-multi\n",
      "\n",
      "  ds = xr.open_mfdataset(f'{path}/*.nc')[var]\n",
      "/home/rasp/miniconda3/lib/python3.7/site-packages/xarray/backends/api.py:934: FutureWarning: The datasets supplied have global dimension coordinates. You may want\n",
      "to use the new `combine_by_coords` function (or the\n",
      "`combine='by_coords'` option to `open_mfdataset`) to order the datasets\n",
      "before concatenation. Alternatively, to continue concatenating based\n",
      "on the order the datasets are supplied in future, please use the new\n",
      "`combine_nested` function (or the `combine='nested'` option to\n",
      "open_mfdataset).\n",
      "  from_openmfds=True,\n"
     ]
    }
   ],
   "source": [
    "z500_validation = load_test_data(DATADIR)"
   ]
  },
  {
   "cell_type": "markdown",
   "metadata": {
    "Collapsed": "false"
   },
   "source": [
    "## Load forecasts"
   ]
  },
  {
   "cell_type": "code",
   "execution_count": 37,
   "metadata": {
    "Collapsed": "false"
   },
   "outputs": [],
   "source": [
    "fc_persistence = xr.open_dataset(f'{PREDDIR}/fc_persistence.nc').z\n",
    "fc_climatology = xr.open_dataset(f'{PREDDIR}/fc_climatology.nc').z\n",
    "fc_weekly_climatology = xr.open_dataset(f'{PREDDIR}/fc_weekly_climatology.nc').z"
   ]
  },
  {
   "cell_type": "code",
   "execution_count": 38,
   "metadata": {
    "Collapsed": "false"
   },
   "outputs": [],
   "source": [
    "fc_lr_3d = xr.open_dataset(f'{PREDDIR}/fc_lr_3d.nc').__xarray_dataarray_variable__\n",
    "fc_lr_5d = xr.open_dataset(f'{PREDDIR}/fc_lr_5d.nc').__xarray_dataarray_variable__\n",
    "fc_lr_6h_iter = xr.open_dataset(f'{PREDDIR}/fc_lr_6h_iter.nc').__xarray_dataarray_variable__"
   ]
  },
  {
   "cell_type": "code",
   "execution_count": 39,
   "metadata": {
    "Collapsed": "false"
   },
   "outputs": [],
   "source": [
    "fc_tigge = xr.open_dataset(f'{PREDDIR}/tigge_5.625deg.nc').__xarray_dataarray_variable__"
   ]
  },
  {
   "cell_type": "code",
   "execution_count": 99,
   "metadata": {
    "Collapsed": "false"
   },
   "outputs": [],
   "source": [
    "fc_cnn_3d = xr.open_dataset(f'{PREDDIR}/fc_cnn_3d.nc').__xarray_dataarray_variable__\n",
    "fc_cnn_5d = xr.open_dataset(f'{PREDDIR}/fc_cnn_5d.nc').__xarray_dataarray_variable__\n",
    "# fc_cnn_6h_iter = xr.open_dataset(f'{PREDDIR}/fc_cnn_6h_iter.nc').__xarray_dataarray_variable__"
   ]
  },
  {
   "cell_type": "code",
   "execution_count": 103,
   "metadata": {
    "Collapsed": "false"
   },
   "outputs": [
    {
     "data": {
      "text/plain": [
       "<xarray.DataArray '__xarray_dataarray_variable__' (time: 17448, lat: 32, lon: 64)>\n",
       "[35733504 values with dtype=float32]\n",
       "Coordinates:\n",
       "  * time     (time) datetime64[ns] 2017-01-04 2017-01-04 ... 2017-01-04\n",
       "  * lat      (lat) float64 -87.19 -81.56 -75.94 -70.31 ... 75.94 81.56 87.19\n",
       "  * lon      (lon) float64 0.0 5.625 11.25 16.88 ... 337.5 343.1 348.8 354.4"
      ]
     },
     "execution_count": 103,
     "metadata": {},
     "output_type": "execute_result"
    }
   ],
   "source": [
    "fc_cnn_3d"
   ]
  },
  {
   "cell_type": "code",
   "execution_count": 107,
   "metadata": {
    "Collapsed": "false"
   },
   "outputs": [],
   "source": [
    "def create_training_data(data_train, lead_time_h, return_valid_time=False):\n",
    "    X_train = data_train.isel(time=slice(0, -lead_time_h))\n",
    "    y_train = data_train.isel(time=slice(lead_time_h, None))\n",
    "    valid_time = y_train.time\n",
    "    if return_valid_time:\n",
    "        return X_train.values, y_train.values, valid_time\n",
    "    else:\n",
    "        return X_train.values, y_train.values"
   ]
  },
  {
   "cell_type": "code",
   "execution_count": 108,
   "metadata": {
    "Collapsed": "false"
   },
   "outputs": [],
   "source": [
    "X_test, y_test, valid_time = create_training_data(z500_validation, 3*24, return_valid_time=True)"
   ]
  },
  {
   "cell_type": "code",
   "execution_count": 110,
   "metadata": {
    "Collapsed": "false"
   },
   "outputs": [],
   "source": [
    "fc_cnn_3d['time'] = valid_time"
   ]
  },
  {
   "cell_type": "code",
   "execution_count": 114,
   "metadata": {
    "Collapsed": "false"
   },
   "outputs": [
    {
     "data": {
      "text/plain": [
       "(<xarray.DataArray ()>\n",
       " array(55664.8018826), <xarray.DataArray ()>\n",
       " array(648.58414477), <xarray.DataArray ()>\n",
       " array(2849.67281511))"
      ]
     },
     "execution_count": 114,
     "metadata": {},
     "output_type": "execute_result"
    }
   ],
   "source": [
    "rmse_cnn_3d, rmse_cnn_3d_no_period, rmse_cnn_3d_drop"
   ]
  },
  {
   "cell_type": "code",
   "execution_count": 40,
   "metadata": {
    "Collapsed": "false"
   },
   "outputs": [],
   "source": [
    "rmses_persistence = evaluate_iterative_forecast(fc_persistence, z500_validation).load()\n",
    "rmse_climatology = compute_weighted_rmse(fc_climatology, z500_validation).load()\n",
    "rmse_weekly_climatology = compute_weighted_rmse(fc_weekly_climatology, z500_validation).load()"
   ]
  },
  {
   "cell_type": "code",
   "execution_count": 41,
   "metadata": {
    "Collapsed": "false"
   },
   "outputs": [],
   "source": [
    "rmses_lr_6h_iter = evaluate_iterative_forecast(fc_lr_6h_iter, z500_validation).load()\n",
    "rmse_lr_3d = compute_weighted_rmse(fc_lr_3d, z500_validation).load()\n",
    "rmse_lr_5d = compute_weighted_rmse(fc_lr_5d, z500_validation).load()"
   ]
  },
  {
   "cell_type": "code",
   "execution_count": 111,
   "metadata": {
    "Collapsed": "false"
   },
   "outputs": [],
   "source": [
    "# rmses_cnn_6h_iter = evaluate_iterative_forecast(fc_cnn_6h_iter, z500_validation).load()\n",
    "rmse_cnn_3d = compute_weighted_rmse(fc_cnn_3d, z500_validation).load()\n",
    "rmse_cnn_5d = compute_weighted_rmse(fc_cnn_5d, z500_validation).load()"
   ]
  },
  {
   "cell_type": "code",
   "execution_count": 42,
   "metadata": {
    "Collapsed": "false"
   },
   "outputs": [],
   "source": [
    "rmses_tigge = evaluate_iterative_forecast(fc_tigge, z500_validation).load()"
   ]
  },
  {
   "cell_type": "code",
   "execution_count": 113,
   "metadata": {
    "Collapsed": "false"
   },
   "outputs": [
    {
     "data": {
      "image/png": "[encoded data removed]",
      "text/plain": [
       "<Figure size 504x360 with 1 Axes>"
      ]
     },
     "metadata": {},
     "output_type": "display_data"
    }
   ],
   "source": [
    "c_lr = 'seagreen'\n",
    "c_cnn = 'firebrick'\n",
    "c_tigge = 'navy'\n",
    "c_persistence = '0.2'\n",
    "c_climatology = '0.5'\n",
    "c_weekly_climatology = '0.7'\n",
    "fig, ax = plt.subplots(1, 1, figsize=(7, 5))\n",
    "rmses_tigge.plot(c=c_tigge, label='Operational', lw=2)\n",
    "rmses_lr_6h_iter.plot(c=c_lr, label='Linear regression', lw=2)\n",
    "# rmses_cnn_6h_iter.plot(c=c_cnn, label='CNN', lw=2)\n",
    "rmses_persistence.plot(c=c_persistence, label='Persistence', lw=2)\n",
    "ax.axhline(rmse_climatology, ls='--', c=c_climatology, label='Climatology', lw=2)\n",
    "ax.axhline(rmse_weekly_climatology, ls='--', c=c_weekly_climatology, label='Weekly climatology', lw=2)\n",
    "plt.scatter([3*24], [rmse_lr_3d], c=c_lr, s=75)\n",
    "plt.scatter([5*24], [rmse_lr_5d], c=c_lr, s=75)\n",
    "plt.scatter([3*24], [rmse_cnn_3d], c=c_cnn, s=75)\n",
    "plt.scatter([5*24], [rmse_cnn_5d], c=c_cnn, s=75)\n",
    "plt.legend(loc=2, framealpha=1)\n",
    "plt.xlim(0, 122)\n",
    "plt.ylim(0, 1150)\n",
    "plt.xticks(range(0, 121, 24), range(0, 6))\n",
    "plt.xlabel('Forecast lead time [days]')\n",
    "plt.ylabel(r'Z500 RMSE [m$^2$ s$^{-2}$]');"
   ]
  },
  {
   "cell_type": "code",
   "execution_count": null,
   "metadata": {
    "Collapsed": "false"
   },
   "outputs": [],
   "source": []
  }
 ],
 "metadata": {
  "kernelspec": {
   "display_name": "Python 3",
   "language": "python",
   "name": "python3"
  },
  "language_info": {
   "codemirror_mode": {
    "name": "ipython",
    "version": 3
   },
   "file_extension": ".py",
   "mimetype": "text/x-python",
   "name": "python",
   "nbconvert_exporter": "python",
   "pygments_lexer": "ipython3",
   "version": "3.7.3"
  }
 },
 "nbformat": 4,
 "nbformat_minor": 4
}
