{
 "cells": [
  {
   "cell_type": "markdown",
   "metadata": {
    "Collapsed": "false"
   },
   "source": [
    "# Compute persistence and climatology scores for benchmark"
   ]
  },
  {
   "cell_type": "code",
   "execution_count": 41,
   "metadata": {
    "Collapsed": "false"
   },
   "outputs": [],
   "source": [
    "import numpy as np\n",
    "import xarray as xr\n",
    "import matplotlib.pyplot as plt\n",
    "import seaborn as sns"
   ]
  },
  {
   "cell_type": "code",
   "execution_count": 49,
   "metadata": {
    "Collapsed": "false"
   },
   "outputs": [],
   "source": [
    "sns.set_style('darkgrid')\n",
    "sns.set_context('notebook')"
   ]
  },
  {
   "cell_type": "code",
   "execution_count": 3,
   "metadata": {
    "Collapsed": "false"
   },
   "outputs": [],
   "source": [
    "DATADIR = '/data/weather-benchmark/5.625deg/geopotential_500/'"
   ]
  },
  {
   "cell_type": "code",
   "execution_count": 4,
   "metadata": {
    "Collapsed": "false"
   },
   "outputs": [
    {
     "name": "stdout",
     "output_type": "stream",
     "text": [
      "geopotential_500_1979_5.625deg.nc  geopotential_500_1999_5.625deg.nc\n",
      "geopotential_500_1980_5.625deg.nc  geopotential_500_2000_5.625deg.nc\n",
      "geopotential_500_1981_5.625deg.nc  geopotential_500_2001_5.625deg.nc\n",
      "geopotential_500_1982_5.625deg.nc  geopotential_500_2002_5.625deg.nc\n",
      "geopotential_500_1983_5.625deg.nc  geopotential_500_2003_5.625deg.nc\n",
      "geopotential_500_1984_5.625deg.nc  geopotential_500_2004_5.625deg.nc\n",
      "geopotential_500_1985_5.625deg.nc  geopotential_500_2005_5.625deg.nc\n",
      "geopotential_500_1986_5.625deg.nc  geopotential_500_2006_5.625deg.nc\n",
      "geopotential_500_1987_5.625deg.nc  geopotential_500_2007_5.625deg.nc\n",
      "geopotential_500_1988_5.625deg.nc  geopotential_500_2008_5.625deg.nc\n",
      "geopotential_500_1989_5.625deg.nc  geopotential_500_2009_5.625deg.nc\n",
      "geopotential_500_1990_5.625deg.nc  geopotential_500_2010_5.625deg.nc\n",
      "geopotential_500_1991_5.625deg.nc  geopotential_500_2011_5.625deg.nc\n",
      "geopotential_500_1992_5.625deg.nc  geopotential_500_2012_5.625deg.nc\n",
      "geopotential_500_1993_5.625deg.nc  geopotential_500_2013_5.625deg.nc\n",
      "geopotential_500_1994_5.625deg.nc  geopotential_500_2014_5.625deg.nc\n",
      "geopotential_500_1995_5.625deg.nc  geopotential_500_2015_5.625deg.nc\n",
      "geopotential_500_1996_5.625deg.nc  geopotential_500_2016_5.625deg.nc\n",
      "geopotential_500_1997_5.625deg.nc  geopotential_500_2017_5.625deg.nc\n",
      "geopotential_500_1998_5.625deg.nc  geopotential_500_2018_5.625deg.nc\n"
     ]
    }
   ],
   "source": [
    "!ls $DATADIR"
   ]
  },
  {
   "cell_type": "code",
   "execution_count": 5,
   "metadata": {
    "Collapsed": "false"
   },
   "outputs": [],
   "source": [
    "z500 = xr.open_mfdataset(f'{DATADIR}*')"
   ]
  },
  {
   "cell_type": "code",
   "execution_count": 6,
   "metadata": {
    "Collapsed": "false"
   },
   "outputs": [
    {
     "data": {
      "text/plain": [
       "<xarray.Dataset>\n",
       "Dimensions:  (lat: 33, lon: 64, time: 350640)\n",
       "Coordinates:\n",
       "  * lon      (lon) float64 0.0 5.625 11.25 16.88 ... 337.5 343.1 348.8 354.4\n",
       "  * lat      (lat) float64 -90.0 -84.38 -78.75 -73.12 ... 73.12 78.75 84.38 90.0\n",
       "  * time     (time) datetime64[ns] 1979-01-01 ... 2018-12-31T23:00:00\n",
       "Data variables:\n",
       "    z        (time, lat, lon) float32 dask.array<shape=(350640, 33, 64), chunksize=(8760, 33, 64)>\n",
       "Attributes:\n",
       "    Conventions:  CF-1.6\n",
       "    history:      2019-09-18 08:52:54 GMT by grib_to_netcdf-2.10.0: /opt/ecmw..."
      ]
     },
     "execution_count": 6,
     "metadata": {},
     "output_type": "execute_result"
    }
   ],
   "source": [
    "z500"
   ]
  },
  {
   "cell_type": "markdown",
   "metadata": {
    "Collapsed": "false"
   },
   "source": [
    "## Persistence"
   ]
  },
  {
   "cell_type": "code",
   "execution_count": 27,
   "metadata": {
    "Collapsed": "false"
   },
   "outputs": [],
   "source": [
    "z500_validation = z500.sel(time=slice('2017', '2018'))"
   ]
  },
  {
   "cell_type": "code",
   "execution_count": 129,
   "metadata": {
    "Collapsed": "false"
   },
   "outputs": [
    {
     "data": {
      "text/plain": [
       "<xarray.Dataset>\n",
       "Dimensions:    (lat: 33, lon: 64, time: 17520)\n",
       "Coordinates:\n",
       "  * lon        (lon) float64 0.0 5.625 11.25 16.88 ... 337.5 343.1 348.8 354.4\n",
       "  * lat        (lat) float64 -90.0 -84.38 -78.75 -73.12 ... 78.75 84.38 90.0\n",
       "  * time       (time) datetime64[ns] 2017-01-01 ... 2018-12-31T23:00:00\n",
       "Data variables:\n",
       "    z          (time, lat, lon) float32 dask.array<shape=(17520, 33, 64), chunksize=(8760, 33, 64)>\n",
       "    time.week  (time) int64 52 52 52 52 52 52 52 52 52 52 ... 1 1 1 1 1 1 1 1 1\n",
       "Attributes:\n",
       "    Conventions:  CF-1.6\n",
       "    history:      2019-09-18 08:52:54 GMT by grib_to_netcdf-2.10.0: /opt/ecmw..."
      ]
     },
     "execution_count": 129,
     "metadata": {},
     "output_type": "execute_result"
    }
   ],
   "source": [
    "z500_validation"
   ]
  },
  {
   "cell_type": "code",
   "execution_count": 58,
   "metadata": {
    "Collapsed": "false"
   },
   "outputs": [],
   "source": [
    "def compute_persistence_rmse(da, lead_time_h, var='z'):\n",
    "    assert lead_time_h > 0, 'Lead time must be greater than 0'\n",
    "    da_fc = da.isel(time=slice(0, -lead_time_h))\n",
    "    da_true = da.isel(time=slice(lead_time_h, None))\n",
    "    da_fc['time'] = da_true.time\n",
    "    return np.sqrt(((da_fc - da_true)**2).mean())"
   ]
  },
  {
   "cell_type": "code",
   "execution_count": 40,
   "metadata": {
    "Collapsed": "false"
   },
   "outputs": [],
   "source": [
    "scores = []\n",
    "lead_times = np.arange(1, 121, 1)\n",
    "for lead_time_h in lead_times:\n",
    "    rmse = compute_persistence_rmse(z500_validation.z, lead_time_h).values\n",
    "    scores.append(rmse)"
   ]
  },
  {
   "cell_type": "code",
   "execution_count": 55,
   "metadata": {
    "Collapsed": "false"
   },
   "outputs": [
    {
     "data": {
      "image/png": "[encoded data removed]",
      "text/plain": [
       "<Figure size 432x288 with 1 Axes>"
      ]
     },
     "metadata": {},
     "output_type": "display_data"
    }
   ],
   "source": [
    "plt.plot(lead_times, scores)\n",
    "plt.ylabel(r'RMSE z [m$^2$s$^{-2}$]')\n",
    "plt.xlabel('Forecast lead time [hours]')\n",
    "plt.title('Persistence forecast');"
   ]
  },
  {
   "cell_type": "code",
   "execution_count": 59,
   "metadata": {
    "Collapsed": "false"
   },
   "outputs": [
    {
     "data": {
      "text/plain": [
       "array(1060.091, dtype=float32)"
      ]
     },
     "execution_count": 59,
     "metadata": {},
     "output_type": "execute_result"
    }
   ],
   "source": [
    "compute_persistence_rmse(z500_validation.z, 3*24).values"
   ]
  },
  {
   "cell_type": "code",
   "execution_count": 60,
   "metadata": {
    "Collapsed": "false"
   },
   "outputs": [
    {
     "data": {
      "text/plain": [
       "array(1190.4475, dtype=float32)"
      ]
     },
     "execution_count": 60,
     "metadata": {},
     "output_type": "execute_result"
    }
   ],
   "source": [
    "compute_persistence_rmse(z500_validation.z, 5*24).values"
   ]
  },
  {
   "cell_type": "markdown",
   "metadata": {
    "Collapsed": "false"
   },
   "source": [
    "## Climatology"
   ]
  },
  {
   "cell_type": "code",
   "execution_count": 98,
   "metadata": {
    "Collapsed": "false"
   },
   "outputs": [],
   "source": [
    "def compute_climatology_rmse(da_train, da_true):\n",
    "    mean = da_train.mean('time')\n",
    "    return np.sqrt(((mean - da_true)**2).mean())"
   ]
  },
  {
   "cell_type": "code",
   "execution_count": 122,
   "metadata": {
    "Collapsed": "false"
   },
   "outputs": [],
   "source": [
    "z500_train = z500.sel(time=slice(None, '2016'))"
   ]
  },
  {
   "cell_type": "code",
   "execution_count": 128,
   "metadata": {
    "Collapsed": "false"
   },
   "outputs": [
    {
     "data": {
      "text/plain": [
       "<xarray.Dataset>\n",
       "Dimensions:  (lat: 33, lon: 64, time: 333120)\n",
       "Coordinates:\n",
       "  * lon      (lon) float64 0.0 5.625 11.25 16.88 ... 337.5 343.1 348.8 354.4\n",
       "  * lat      (lat) float64 -90.0 -84.38 -78.75 -73.12 ... 73.12 78.75 84.38 90.0\n",
       "  * time     (time) datetime64[ns] 1979-01-01 ... 2016-12-31T23:00:00\n",
       "Data variables:\n",
       "    z        (time, lat, lon) float32 dask.array<shape=(333120, 33, 64), chunksize=(8760, 33, 64)>\n",
       "Attributes:\n",
       "    Conventions:  CF-1.6\n",
       "    history:      2019-09-18 08:52:54 GMT by grib_to_netcdf-2.10.0: /opt/ecmw..."
      ]
     },
     "execution_count": 128,
     "metadata": {},
     "output_type": "execute_result"
    }
   ],
   "source": [
    "z500_train"
   ]
  },
  {
   "cell_type": "code",
   "execution_count": 124,
   "metadata": {
    "Collapsed": "false"
   },
   "outputs": [
    {
     "data": {
      "image/png": "[encoded data removed]",
      "text/plain": [
       "<Figure size 432x288 with 2 Axes>"
      ]
     },
     "metadata": {},
     "output_type": "display_data"
    }
   ],
   "source": [
    "z500_train.mean('time').z.plot();"
   ]
  },
  {
   "cell_type": "code",
   "execution_count": 125,
   "metadata": {
    "Collapsed": "false"
   },
   "outputs": [
    {
     "data": {
      "text/plain": [
       "array(1268.6232, dtype=float32)"
      ]
     },
     "execution_count": 125,
     "metadata": {},
     "output_type": "execute_result"
    }
   ],
   "source": [
    "compute_climatology_rmse(z500_train.z, z500_validation.z).values"
   ]
  },
  {
   "cell_type": "code",
   "execution_count": 126,
   "metadata": {
    "Collapsed": "false"
   },
   "outputs": [],
   "source": [
    "def compute_weekly_climatology_rmse(da_train, da_true):\n",
    "    da_train['week'] = da_train['time.week']\n",
    "    da_true['week'] = da_true['time.week']\n",
    "    weekly_averages = da_train.groupby('week').mean('time')\n",
    "    # There is probably a better way of doing this but hey it works\n",
    "    errors = []\n",
    "    for w in range(1, 53):\n",
    "        errors.append(\n",
    "            da_true[da_true['week'] == w] - weekly_averages.sel(week = w)\n",
    "        )\n",
    "    errors = xr.concat(errors, dim='time')\n",
    "    return np.sqrt((errors**2).mean())"
   ]
  },
  {
   "cell_type": "code",
   "execution_count": 127,
   "metadata": {
    "Collapsed": "false"
   },
   "outputs": [
    {
     "data": {
      "text/plain": [
       "array(958.1201, dtype=float32)"
      ]
     },
     "execution_count": 127,
     "metadata": {},
     "output_type": "execute_result"
    }
   ],
   "source": [
    "compute_weekly_climatology_rmse(z500_train.z, z500_validation.z).values"
   ]
  },
  {
   "cell_type": "markdown",
   "metadata": {
    "Collapsed": "false"
   },
   "source": [
    "The End"
   ]
  }
 ],
 "metadata": {
  "kernelspec": {
   "display_name": "Python 3",
   "language": "python",
   "name": "python3"
  },
  "language_info": {
   "codemirror_mode": {
    "name": "ipython",
    "version": 3
   },
   "file_extension": ".py",
   "mimetype": "text/x-python",
   "name": "python",
   "nbconvert_exporter": "python",
   "pygments_lexer": "ipython3",
   "version": "3.7.3"
  }
 },
 "nbformat": 4,
 "nbformat_minor": 4
}
