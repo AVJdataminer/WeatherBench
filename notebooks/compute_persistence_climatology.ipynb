{
 "cells": [
  {
   "cell_type": "markdown",
   "metadata": {
    "Collapsed": "false"
   },
   "source": [
    "# Compute persistence and climatology scores for benchmark"
   ]
  },
  {
   "cell_type": "code",
   "execution_count": 82,
   "metadata": {
    "Collapsed": "false"
   },
   "outputs": [
    {
     "name": "stdout",
     "output_type": "stream",
     "text": [
      "The autoreload extension is already loaded. To reload it, use:\n",
      "  %reload_ext autoreload\n"
     ]
    }
   ],
   "source": [
    "%load_ext autoreload\n",
    "%autoreload 2"
   ]
  },
  {
   "cell_type": "code",
   "execution_count": 83,
   "metadata": {
    "Collapsed": "false"
   },
   "outputs": [],
   "source": [
    "import numpy as np\n",
    "import xarray as xr\n",
    "import matplotlib.pyplot as plt\n",
    "import seaborn as sns\n",
    "from src.score import *"
   ]
  },
  {
   "cell_type": "code",
   "execution_count": 84,
   "metadata": {
    "Collapsed": "false"
   },
   "outputs": [],
   "source": [
    "sns.set_style('darkgrid')\n",
    "sns.set_context('notebook')"
   ]
  },
  {
   "cell_type": "code",
   "execution_count": 85,
   "metadata": {
    "Collapsed": "false"
   },
   "outputs": [],
   "source": [
    "DATADIR = '/data/weather-benchmark/5.625deg/geopotential_500/'"
   ]
  },
  {
   "cell_type": "code",
   "execution_count": 86,
   "metadata": {
    "Collapsed": "false"
   },
   "outputs": [
    {
     "name": "stdout",
     "output_type": "stream",
     "text": [
      "geopotential_500_1979_5.625deg.nc  geopotential_500_1999_5.625deg.nc\n",
      "geopotential_500_1980_5.625deg.nc  geopotential_500_2000_5.625deg.nc\n",
      "geopotential_500_1981_5.625deg.nc  geopotential_500_2001_5.625deg.nc\n",
      "geopotential_500_1982_5.625deg.nc  geopotential_500_2002_5.625deg.nc\n",
      "geopotential_500_1983_5.625deg.nc  geopotential_500_2003_5.625deg.nc\n",
      "geopotential_500_1984_5.625deg.nc  geopotential_500_2004_5.625deg.nc\n",
      "geopotential_500_1985_5.625deg.nc  geopotential_500_2005_5.625deg.nc\n",
      "geopotential_500_1986_5.625deg.nc  geopotential_500_2006_5.625deg.nc\n",
      "geopotential_500_1987_5.625deg.nc  geopotential_500_2007_5.625deg.nc\n",
      "geopotential_500_1988_5.625deg.nc  geopotential_500_2008_5.625deg.nc\n",
      "geopotential_500_1989_5.625deg.nc  geopotential_500_2009_5.625deg.nc\n",
      "geopotential_500_1990_5.625deg.nc  geopotential_500_2010_5.625deg.nc\n",
      "geopotential_500_1991_5.625deg.nc  geopotential_500_2011_5.625deg.nc\n",
      "geopotential_500_1992_5.625deg.nc  geopotential_500_2012_5.625deg.nc\n",
      "geopotential_500_1993_5.625deg.nc  geopotential_500_2013_5.625deg.nc\n",
      "geopotential_500_1994_5.625deg.nc  geopotential_500_2014_5.625deg.nc\n",
      "geopotential_500_1995_5.625deg.nc  geopotential_500_2015_5.625deg.nc\n",
      "geopotential_500_1996_5.625deg.nc  geopotential_500_2016_5.625deg.nc\n",
      "geopotential_500_1997_5.625deg.nc  geopotential_500_2017_5.625deg.nc\n",
      "geopotential_500_1998_5.625deg.nc  geopotential_500_2018_5.625deg.nc\n"
     ]
    }
   ],
   "source": [
    "!ls $DATADIR"
   ]
  },
  {
   "cell_type": "code",
   "execution_count": 87,
   "metadata": {
    "Collapsed": "false"
   },
   "outputs": [],
   "source": [
    "z500 = xr.open_mfdataset(f'{DATADIR}*').z"
   ]
  },
  {
   "cell_type": "code",
   "execution_count": 88,
   "metadata": {
    "Collapsed": "false"
   },
   "outputs": [
    {
     "data": {
      "text/plain": [
       "<xarray.DataArray 'z' (time: 350640, lat: 33, lon: 64)>\n",
       "dask.array<shape=(350640, 33, 64), dtype=float32, chunksize=(8760, 33, 64)>\n",
       "Coordinates:\n",
       "  * lon      (lon) float64 0.0 5.625 11.25 16.88 ... 337.5 343.1 348.8 354.4\n",
       "  * lat      (lat) float64 -90.0 -84.38 -78.75 -73.12 ... 73.12 78.75 84.38 90.0\n",
       "  * time     (time) datetime64[ns] 1979-01-01 ... 2018-12-31T23:00:00\n",
       "Attributes:\n",
       "    units:          m**2 s**-2\n",
       "    long_name:      Geopotential\n",
       "    standard_name:  geopotential"
      ]
     },
     "execution_count": 88,
     "metadata": {},
     "output_type": "execute_result"
    }
   ],
   "source": [
    "z500"
   ]
  },
  {
   "cell_type": "markdown",
   "metadata": {
    "Collapsed": "false"
   },
   "source": [
    "## Persistence"
   ]
  },
  {
   "cell_type": "code",
   "execution_count": 89,
   "metadata": {
    "Collapsed": "false"
   },
   "outputs": [],
   "source": [
    "z500_validation = z500.sel(time=slice('2017', '2018'))"
   ]
  },
  {
   "cell_type": "code",
   "execution_count": 90,
   "metadata": {
    "Collapsed": "false"
   },
   "outputs": [
    {
     "data": {
      "text/plain": [
       "<xarray.DataArray 'z' (time: 17520, lat: 33, lon: 64)>\n",
       "dask.array<shape=(17520, 33, 64), dtype=float32, chunksize=(8760, 33, 64)>\n",
       "Coordinates:\n",
       "  * lon      (lon) float64 0.0 5.625 11.25 16.88 ... 337.5 343.1 348.8 354.4\n",
       "  * lat      (lat) float64 -90.0 -84.38 -78.75 -73.12 ... 73.12 78.75 84.38 90.0\n",
       "  * time     (time) datetime64[ns] 2017-01-01 ... 2018-12-31T23:00:00\n",
       "Attributes:\n",
       "    units:          m**2 s**-2\n",
       "    long_name:      Geopotential\n",
       "    standard_name:  geopotential"
      ]
     },
     "execution_count": 90,
     "metadata": {},
     "output_type": "execute_result"
    }
   ],
   "source": [
    "z500_validation"
   ]
  },
  {
   "cell_type": "code",
   "execution_count": 91,
   "metadata": {
    "Collapsed": "false"
   },
   "outputs": [],
   "source": [
    "def create_persistence_forecast(da, lead_time_h):\n",
    "    assert lead_time_h > 0, 'Lead time must be greater than 0'\n",
    "    da_fc = da.isel(time=slice(0, -lead_time_h))\n",
    "    da_fc['time'] = da_fc.time + np.timedelta64(lead_time_h, 'h')\n",
    "    return da_fc"
   ]
  },
  {
   "cell_type": "code",
   "execution_count": 95,
   "metadata": {
    "Collapsed": "false"
   },
   "outputs": [],
   "source": [
    "scores = []\n",
    "lead_times = np.arange(1, 121, 1)\n",
    "for lead_time_h in lead_times:\n",
    "    rmse = compute_weighted_rmse(\n",
    "        create_persistence_forecast(z500_validation, lead_time_h), z500_validation\n",
    "    ).values\n",
    "    scores.append(rmse)"
   ]
  },
  {
   "cell_type": "code",
   "execution_count": 96,
   "metadata": {
    "Collapsed": "false"
   },
   "outputs": [
    {
     "data": {
      "image/png": "[encoded data removed]",
      "text/plain": [
       "<Figure size 432x288 with 1 Axes>"
      ]
     },
     "metadata": {},
     "output_type": "display_data"
    }
   ],
   "source": [
    "plt.plot(lead_times, scores)\n",
    "plt.ylabel(r'RMSE z [m$^2$s$^{-2}$]')\n",
    "plt.xlabel('Forecast lead time [hours]')\n",
    "plt.title('Persistence forecast');"
   ]
  },
  {
   "cell_type": "code",
   "execution_count": 98,
   "metadata": {
    "Collapsed": "false"
   },
   "outputs": [
    {
     "data": {
      "text/plain": [
       "array(935.81711507)"
      ]
     },
     "execution_count": 98,
     "metadata": {},
     "output_type": "execute_result"
    }
   ],
   "source": [
    "compute_weighted_rmse(\n",
    "    create_persistence_forecast(z500_validation, 3*24), z500_validation\n",
    ").values"
   ]
  },
  {
   "cell_type": "code",
   "execution_count": 99,
   "metadata": {
    "Collapsed": "false"
   },
   "outputs": [
    {
     "data": {
      "text/plain": [
       "array(1033.05221607)"
      ]
     },
     "execution_count": 99,
     "metadata": {},
     "output_type": "execute_result"
    }
   ],
   "source": [
    "compute_weighted_rmse(\n",
    "    create_persistence_forecast(z500_validation, 5*24), z500_validation\n",
    ").values"
   ]
  },
  {
   "cell_type": "markdown",
   "metadata": {
    "Collapsed": "false"
   },
   "source": [
    "## Climatology"
   ]
  },
  {
   "cell_type": "code",
   "execution_count": 100,
   "metadata": {
    "Collapsed": "false"
   },
   "outputs": [],
   "source": [
    "def create_climatology_forecast(da_train):\n",
    "    return da_train.mean('time')"
   ]
  },
  {
   "cell_type": "code",
   "execution_count": 101,
   "metadata": {
    "Collapsed": "false"
   },
   "outputs": [],
   "source": [
    "z500_train = z500.sel(time=slice(None, '2016'))"
   ]
  },
  {
   "cell_type": "code",
   "execution_count": 102,
   "metadata": {
    "Collapsed": "false"
   },
   "outputs": [],
   "source": [
    "fc = create_climatology_forecast(z500_train)"
   ]
  },
  {
   "cell_type": "code",
   "execution_count": 104,
   "metadata": {
    "Collapsed": "false"
   },
   "outputs": [
    {
     "data": {
      "image/png": "[encoded data removed]",
      "text/plain": [
       "<Figure size 432x288 with 2 Axes>"
      ]
     },
     "metadata": {},
     "output_type": "display_data"
    }
   ],
   "source": [
    "fc.plot();"
   ]
  },
  {
   "cell_type": "code",
   "execution_count": 106,
   "metadata": {
    "Collapsed": "false"
   },
   "outputs": [
    {
     "data": {
      "text/plain": [
       "array(1074.85560374)"
      ]
     },
     "execution_count": 106,
     "metadata": {},
     "output_type": "execute_result"
    }
   ],
   "source": [
    "compute_weighted_rmse(fc, z500_validation).values"
   ]
  },
  {
   "cell_type": "code",
   "execution_count": 121,
   "metadata": {
    "Collapsed": "false"
   },
   "outputs": [],
   "source": [
    "def create_weekly_climatology_forecast(da_train, valid_time):\n",
    "    da_train['week'] = da_train['time.week']\n",
    "    weekly_averages = da_train.groupby('week').mean('time')\n",
    "    valid_time['week'] = valid_time['time.week']\n",
    "    fc_list = []\n",
    "    for t in valid_time:\n",
    "        fc_list.append(weekly_averages.sel(week=t.week))\n",
    "    return xr.concat(fc_list, dim=valid_time)"
   ]
  },
  {
   "cell_type": "code",
   "execution_count": 122,
   "metadata": {
    "Collapsed": "false"
   },
   "outputs": [],
   "source": [
    "fc = create_weekly_climatology_forecast(z500_train, z500_validation.time)"
   ]
  },
  {
   "cell_type": "code",
   "execution_count": 123,
   "metadata": {
    "Collapsed": "false"
   },
   "outputs": [
    {
     "data": {
      "text/plain": [
       "<xarray.DataArray 'z' (time: 17520, lat: 33, lon: 64)>\n",
       "dask.array<shape=(17520, 33, 64), dtype=float32, chunksize=(1, 33, 64)>\n",
       "Coordinates:\n",
       "  * lon      (lon) float64 0.0 5.625 11.25 16.88 ... 337.5 343.1 348.8 354.4\n",
       "  * lat      (lat) float64 -90.0 -84.38 -78.75 -73.12 ... 73.12 78.75 84.38 90.0\n",
       "    week     (time) int64 52 52 52 52 52 52 52 52 52 52 ... 1 1 1 1 1 1 1 1 1 1\n",
       "  * time     (time) datetime64[ns] 2017-01-01 ... 2018-12-31T23:00:00"
      ]
     },
     "execution_count": 123,
     "metadata": {},
     "output_type": "execute_result"
    }
   ],
   "source": [
    "fc"
   ]
  },
  {
   "cell_type": "code",
   "execution_count": 126,
   "metadata": {
    "Collapsed": "false"
   },
   "outputs": [
    {
     "data": {
      "text/plain": [
       "array(815.39207)"
      ]
     },
     "execution_count": 126,
     "metadata": {},
     "output_type": "execute_result"
    }
   ],
   "source": [
    "compute_weighted_rmse(fc, z500_validation).values"
   ]
  },
  {
   "cell_type": "markdown",
   "metadata": {
    "Collapsed": "false"
   },
   "source": [
    "The End"
   ]
  }
 ],
 "metadata": {
  "kernelspec": {
   "display_name": "Python 3",
   "language": "python",
   "name": "python3"
  },
  "language_info": {
   "codemirror_mode": {
    "name": "ipython",
    "version": 3
   },
   "file_extension": ".py",
   "mimetype": "text/x-python",
   "name": "python",
   "nbconvert_exporter": "python",
   "pygments_lexer": "ipython3",
   "version": "3.7.3"
  }
 },
 "nbformat": 4,
 "nbformat_minor": 4
}
