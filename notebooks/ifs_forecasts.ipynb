{
 "cells": [
  {
   "cell_type": "code",
   "execution_count": 1,
   "metadata": {
    "Collapsed": "false"
   },
   "outputs": [],
   "source": [
    "import xarray as xr\n",
    "import matplotlib.pyplot as plt"
   ]
  },
  {
   "cell_type": "code",
   "execution_count": 2,
   "metadata": {
    "Collapsed": "false"
   },
   "outputs": [],
   "source": [
    "DATADIR = '/data/weather-benchmark/IFS_T21/data_Rasp/'"
   ]
  },
  {
   "cell_type": "code",
   "execution_count": 11,
   "metadata": {
    "Collapsed": "false"
   },
   "outputs": [],
   "source": [
    "pl_orig = xr.open_dataset(f'{DATADIR}output_pl_original.nc')"
   ]
  },
  {
   "cell_type": "code",
   "execution_count": 12,
   "metadata": {
    "Collapsed": "false"
   },
   "outputs": [
    {
     "data": {
      "text/plain": [
       "<xarray.Dataset>\n",
       "Dimensions:  (lev: 3, nc2: 2, nsp: 253, time: 60)\n",
       "Coordinates:\n",
       "  * lev      (lev) float64 8.5e+04 5e+04 2e+04\n",
       "  * time     (time) datetime64[ns] 2017-01-01 ... 2017-01-08T18:00:00\n",
       "Dimensions without coordinates: nc2, nsp\n",
       "Data variables:\n",
       "    z        (time, lev, nsp, nc2) float32 ...\n",
       "    t        (time, lev, nsp, nc2) float32 ...\n",
       "    r        (time, lev, nsp, nc2) float32 ...\n",
       "    u        (time, lev, nsp, nc2) float32 ...\n",
       "    v        (time, lev, nsp, nc2) float32 ...\n",
       "Attributes:\n",
       "    CDI:          Climate Data Interface version ?? (http://mpimet.mpg.de/cdi)\n",
       "    Conventions:  CF-1.4\n",
       "    history:      Mon Oct 28 13:15:40 2019: cdo -f nc copy output_pl_original...\n",
       "    institution:  European Centre for Medium-Range Weather Forecasts\n",
       "    CDO:          Climate Data Operators version 1.7.0 (http://mpimet.mpg.de/..."
      ]
     },
     "execution_count": 12,
     "metadata": {},
     "output_type": "execute_result"
    }
   ],
   "source": [
    "pl_orig"
   ]
  },
  {
   "cell_type": "code",
   "execution_count": 6,
   "metadata": {
    "Collapsed": "false"
   },
   "outputs": [],
   "source": [
    "pl5 = xr.open_dataset(f'{DATADIR}output_pl_5.625.nc')"
   ]
  },
  {
   "cell_type": "code",
   "execution_count": 13,
   "metadata": {
    "Collapsed": "false"
   },
   "outputs": [
    {
     "data": {
      "text/plain": [
       "<xarray.Dataset>\n",
       "Dimensions:  (lat: 33, lev: 3, lon: 64, time: 60)\n",
       "Coordinates:\n",
       "  * lon      (lon) float64 0.0 5.625 11.25 16.88 ... 337.5 343.1 348.8 354.4\n",
       "  * lat      (lat) float64 90.0 84.38 78.75 73.12 ... -73.12 -78.75 -84.38 -90.0\n",
       "  * lev      (lev) float64 8.5e+04 5e+04 2e+04\n",
       "  * time     (time) datetime64[ns] 2017-01-01 ... 2017-01-08T18:00:00\n",
       "Data variables:\n",
       "    z        (time, lev, lat, lon) float32 ...\n",
       "    t        (time, lev, lat, lon) float32 ...\n",
       "    r        (time, lev, lat, lon) float32 ...\n",
       "    u        (time, lev, lat, lon) float32 ...\n",
       "    v        (time, lev, lat, lon) float32 ...\n",
       "Attributes:\n",
       "    CDI:          Climate Data Interface version ?? (http://mpimet.mpg.de/cdi)\n",
       "    Conventions:  CF-1.4\n",
       "    history:      Mon Oct 28 13:15:39 2019: cdo -f nc copy output_pl_5.625.gr...\n",
       "    institution:  European Centre for Medium-Range Weather Forecasts\n",
       "    CDO:          Climate Data Operators version 1.7.0 (http://mpimet.mpg.de/..."
      ]
     },
     "execution_count": 13,
     "metadata": {},
     "output_type": "execute_result"
    }
   ],
   "source": [
    "pl5"
   ]
  },
  {
   "cell_type": "code",
   "execution_count": null,
   "metadata": {
    "Collapsed": "false"
   },
   "outputs": [],
   "source": []
  }
 ],
 "metadata": {
  "kernelspec": {
   "display_name": "Python 3",
   "language": "python",
   "name": "python3"
  },
  "language_info": {
   "codemirror_mode": {
    "name": "ipython",
    "version": 3
   },
   "file_extension": ".py",
   "mimetype": "text/x-python",
   "name": "python",
   "nbconvert_exporter": "python",
   "pygments_lexer": "ipython3",
   "version": "3.7.3"
  }
 },
 "nbformat": 4,
 "nbformat_minor": 4
}
