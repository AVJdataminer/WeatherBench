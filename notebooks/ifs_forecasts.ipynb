{
 "cells": [
  {
   "cell_type": "code",
   "execution_count": 1,
   "metadata": {
    "Collapsed": "false"
   },
   "outputs": [],
   "source": [
    "import xarray as xr\n",
    "import matplotlib.pyplot as plt"
   ]
  },
  {
   "cell_type": "code",
   "execution_count": 2,
   "metadata": {
    "Collapsed": "false"
   },
   "outputs": [],
   "source": [
    "DATADIR = '/media/rasp/Elements/weather-benchmark/IFS_T21/raw/'"
   ]
  },
  {
   "cell_type": "code",
   "execution_count": 3,
   "metadata": {
    "Collapsed": "false"
   },
   "outputs": [
    {
     "name": "stdout",
     "output_type": "stream",
     "text": [
      "/media/rasp/Elements/weather-benchmark/IFS_T21/raw//output_lnsp_2.8125_2.nc\n",
      "/media/rasp/Elements/weather-benchmark/IFS_T21/raw//output_lnsp_2.8125.nc\n",
      "/media/rasp/Elements/weather-benchmark/IFS_T21/raw//output_lnsp_5.625_2.nc\n",
      "/media/rasp/Elements/weather-benchmark/IFS_T21/raw//output_lnsp_5.625.nc\n",
      "/media/rasp/Elements/weather-benchmark/IFS_T21/raw//output_pl_2.8125_2.nc\n",
      "/media/rasp/Elements/weather-benchmark/IFS_T21/raw//output_pl_2.8125.nc\n",
      "/media/rasp/Elements/weather-benchmark/IFS_T21/raw//output_pl_5.625_2.nc\n",
      "/media/rasp/Elements/weather-benchmark/IFS_T21/raw//output_pl_5.625.nc\n",
      "/media/rasp/Elements/weather-benchmark/IFS_T21/raw//output_sfc_2.8125_2.nc\n",
      "/media/rasp/Elements/weather-benchmark/IFS_T21/raw//output_sfc_2.8125.nc\n",
      "/media/rasp/Elements/weather-benchmark/IFS_T21/raw//output_sfc_5.625_2.nc\n",
      "/media/rasp/Elements/weather-benchmark/IFS_T21/raw//output_sfc_5.625.nc\n"
     ]
    }
   ],
   "source": [
    "!ls $DATADIR/*nc"
   ]
  },
  {
   "cell_type": "code",
   "execution_count": 11,
   "metadata": {
    "Collapsed": "false"
   },
   "outputs": [],
   "source": [
    "pl = xr.open_dataset(f'{DATADIR}output_pl_5.625.nc')\n",
    "pl2 = xr.open_dataset(f'{DATADIR}output_pl_5.625_2.nc')"
   ]
  },
  {
   "cell_type": "code",
   "execution_count": 5,
   "metadata": {
    "Collapsed": "false"
   },
   "outputs": [
    {
     "data": {
      "text/plain": [
       "<xarray.Dataset>\n",
       "Dimensions:  (lat: 32, lev: 4, lon: 64, time: 20996)\n",
       "Coordinates:\n",
       "  * lon      (lon) float64 -180.0 -174.4 -168.8 -163.1 ... 163.1 168.8 174.4\n",
       "  * lat      (lat) float64 87.19 81.56 75.94 70.31 ... -75.94 -81.56 -87.19\n",
       "  * lev      (lev) float64 1e+05 8.5e+04 5e+04 2e+04\n",
       "  * time     (time) datetime64[ns] 2017-01-01 ... 2017-07-07T18:00:00\n",
       "Data variables:\n",
       "    z        (time, lev, lat, lon) float32 ...\n",
       "    t        (time, lev, lat, lon) float32 ...\n",
       "    r        (time, lev, lat, lon) float32 ...\n",
       "    u        (time, lev, lat, lon) float32 ...\n",
       "    v        (time, lev, lat, lon) float32 ...\n",
       "Attributes:\n",
       "    CDI:          Climate Data Interface version ?? (http://mpimet.mpg.de/cdi)\n",
       "    Conventions:  CF-1.4\n",
       "    history:      Wed Nov 20 13:18:52 2019: cdo -f nc copy /media/rasp/Elemen...\n",
       "    institution:  European Centre for Medium-Range Weather Forecasts\n",
       "    CDO:          Climate Data Operators version 1.7.0 (http://mpimet.mpg.de/..."
      ]
     },
     "execution_count": 5,
     "metadata": {},
     "output_type": "execute_result"
    }
   ],
   "source": [
    "pl"
   ]
  },
  {
   "cell_type": "code",
   "execution_count": 12,
   "metadata": {
    "Collapsed": "false"
   },
   "outputs": [
    {
     "data": {
      "text/plain": [
       "<xarray.Dataset>\n",
       "Dimensions:  (lat: 32, lev: 4, lon: 64, time: 21344)\n",
       "Coordinates:\n",
       "  * lon      (lon) float64 -180.0 -174.4 -168.8 -163.1 ... 163.1 168.8 174.4\n",
       "  * lat      (lat) float64 87.19 81.56 75.94 70.31 ... -75.94 -81.56 -87.19\n",
       "  * lev      (lev) float64 1e+05 8.5e+04 5e+04 2e+04\n",
       "  * time     (time) datetime64[ns] 2017-07-01 ... 2018-01-07T18:00:00\n",
       "Data variables:\n",
       "    z        (time, lev, lat, lon) float32 ...\n",
       "    t        (time, lev, lat, lon) float32 ...\n",
       "    r        (time, lev, lat, lon) float32 ...\n",
       "    u        (time, lev, lat, lon) float32 ...\n",
       "    v        (time, lev, lat, lon) float32 ...\n",
       "Attributes:\n",
       "    CDI:          Climate Data Interface version ?? (http://mpimet.mpg.de/cdi)\n",
       "    Conventions:  CF-1.4\n",
       "    history:      Wed Nov 20 13:06:27 2019: cdo -f nc copy /media/rasp/Elemen...\n",
       "    institution:  European Centre for Medium-Range Weather Forecasts\n",
       "    CDO:          Climate Data Operators version 1.7.0 (http://mpimet.mpg.de/..."
      ]
     },
     "execution_count": 12,
     "metadata": {},
     "output_type": "execute_result"
    }
   ],
   "source": [
    "pl2"
   ]
  },
  {
   "cell_type": "code",
   "execution_count": 31,
   "metadata": {
    "Collapsed": "false"
   },
   "outputs": [
    {
     "data": {
      "text/plain": [
       "<xarray.DataArray 'time' (time: 29)>\n",
       "array(['2017-07-01T00:00:00.000000000', '2017-07-01T06:00:00.000000000',\n",
       "       '2017-07-01T12:00:00.000000000', '2017-07-01T18:00:00.000000000',\n",
       "       '2017-07-02T00:00:00.000000000', '2017-07-02T06:00:00.000000000',\n",
       "       '2017-07-02T12:00:00.000000000', '2017-07-02T18:00:00.000000000',\n",
       "       '2017-07-03T00:00:00.000000000', '2017-07-03T06:00:00.000000000',\n",
       "       '2017-07-03T12:00:00.000000000', '2017-07-03T18:00:00.000000000',\n",
       "       '2017-07-04T00:00:00.000000000', '2017-07-04T06:00:00.000000000',\n",
       "       '2017-07-04T12:00:00.000000000', '2017-07-04T18:00:00.000000000',\n",
       "       '2017-07-05T00:00:00.000000000', '2017-07-05T06:00:00.000000000',\n",
       "       '2017-07-05T12:00:00.000000000', '2017-07-05T18:00:00.000000000',\n",
       "       '2017-07-06T00:00:00.000000000', '2017-07-06T06:00:00.000000000',\n",
       "       '2017-07-06T12:00:00.000000000', '2017-07-06T18:00:00.000000000',\n",
       "       '2017-07-07T00:00:00.000000000', '2017-07-07T06:00:00.000000000',\n",
       "       '2017-07-07T12:00:00.000000000', '2017-07-07T18:00:00.000000000',\n",
       "       '2017-07-08T00:00:00.000000000'], dtype='datetime64[ns]')\n",
       "Coordinates:\n",
       "  * time     (time) datetime64[ns] 2017-07-01 2017-07-01T06:00:00 ... 2017-07-08\n",
       "Attributes:\n",
       "    standard_name:  time\n",
       "    axis:           T"
      ]
     },
     "execution_count": 31,
     "metadata": {},
     "output_type": "execute_result"
    }
   ],
   "source": [
    "pl2.time[:29]"
   ]
  },
  {
   "cell_type": "code",
   "execution_count": 28,
   "metadata": {
    "Collapsed": "false"
   },
   "outputs": [
    {
     "data": {
      "text/plain": [
       "<xarray.DataArray 'z' (lev: 4, lat: 32, lon: 64)>\n",
       "array([[[  2018.0388 ,   1986.1638 , ...,   2090.0388 ,   2052.9138 ],\n",
       "        [  1591.0388 ,   1533.4138 , ...,   1703.5388 ,   1648.5388 ],\n",
       "        ...,\n",
       "        [  -693.7112 ,   -743.3362 , ...,   -554.4612 ,   -630.3362 ],\n",
       "        [  -383.71118,   -399.46118, ...,   -340.08618,   -363.83618]],\n",
       "\n",
       "       [[ 13689.129  ,  13642.129  , ...,  13796.879  ,  13741.004  ],\n",
       "        [ 13159.004  ,  13087.379  , ...,  13313.129  ,  13235.129  ],\n",
       "        ...,\n",
       "        [ 11729.754  ,  11708.254  , ...,  11822.004  ,  11767.754  ],\n",
       "        [ 12005.504  ,  11992.879  , ...,  12045.754  ,  12023.004  ]],\n",
       "\n",
       "       [[ 50476.49   ,  50415.49   , ...,  50628.74   ,  50548.24   ],\n",
       "        [ 49734.74   ,  49647.49   , ...,  49953.24   ,  49836.99   ],\n",
       "        ...,\n",
       "        [ 50136.99   ,  50201.49   , ...,  50044.49   ,  50083.49   ],\n",
       "        [ 50316.49   ,  50329.74   , ...,  50303.99   ,  50307.74   ]],\n",
       "\n",
       "       [[107739.5    , 107751.     , ..., 107729.5    , 107732.5    ],\n",
       "        [107614.5    , 107665.     , ..., 107524.5    , 107566.5    ],\n",
       "        ...,\n",
       "        [110613.5    , 110688.     , ..., 110488.5    , 110546.5    ],\n",
       "        [110536.5    , 110563.5    , ..., 110484.5    , 110510.     ]]],\n",
       "      dtype=float32)\n",
       "Coordinates:\n",
       "  * lon      (lon) float64 -180.0 -174.4 -168.8 -163.1 ... 163.1 168.8 174.4\n",
       "  * lat      (lat) float64 87.19 81.56 75.94 70.31 ... -75.94 -81.56 -87.19\n",
       "  * lev      (lev) float64 1e+05 8.5e+04 5e+04 2e+04\n",
       "    time     datetime64[ns] 2017-01-01\n",
       "Attributes:\n",
       "    standard_name:  geopotential\n",
       "    long_name:      Geopotential\n",
       "    units:          m**2 s**-2\n",
       "    code:           129\n",
       "    table:          128"
      ]
     },
     "execution_count": 28,
     "metadata": {},
     "output_type": "execute_result"
    }
   ],
   "source": [
    "pl.z.isel(time=0)"
   ]
  },
  {
   "cell_type": "code",
   "execution_count": null,
   "metadata": {
    "Collapsed": "false"
   },
   "outputs": [],
   "source": []
  }
 ],
 "metadata": {
  "kernelspec": {
   "display_name": "Python 3",
   "language": "python",
   "name": "python3"
  },
  "language_info": {
   "codemirror_mode": {
    "name": "ipython",
    "version": 3
   },
   "file_extension": ".py",
   "mimetype": "text/x-python",
   "name": "python",
   "nbconvert_exporter": "python",
   "pygments_lexer": "ipython3",
   "version": "3.7.3"
  }
 },
 "nbformat": 4,
 "nbformat_minor": 4
}
