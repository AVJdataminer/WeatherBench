{
 "cells": [
  {
   "cell_type": "code",
   "execution_count": 1,
   "metadata": {
    "Collapsed": "false"
   },
   "outputs": [],
   "source": [
    "import xarray as xr\n",
    "import matplotlib.pyplot as plt"
   ]
  },
  {
   "cell_type": "code",
   "execution_count": 2,
   "metadata": {
    "Collapsed": "false"
   },
   "outputs": [],
   "source": [
    "DATADIR = '/media/rasp/Elements/weather-benchmark/IFS_T21/raw/'"
   ]
  },
  {
   "cell_type": "code",
   "execution_count": 3,
   "metadata": {
    "Collapsed": "false"
   },
   "outputs": [
    {
     "name": "stdout",
     "output_type": "stream",
     "text": [
      "/media/rasp/Elements/weather-benchmark/IFS_T21/raw//output_lnsp_2.8125_2.nc\n",
      "/media/rasp/Elements/weather-benchmark/IFS_T21/raw//output_lnsp_2.8125.nc\n",
      "/media/rasp/Elements/weather-benchmark/IFS_T21/raw//output_lnsp_5.625_2.nc\n",
      "/media/rasp/Elements/weather-benchmark/IFS_T21/raw//output_lnsp_5.625.nc\n",
      "/media/rasp/Elements/weather-benchmark/IFS_T21/raw//output_pl_2.8125_2.nc\n",
      "/media/rasp/Elements/weather-benchmark/IFS_T21/raw//output_pl_2.8125.nc\n",
      "/media/rasp/Elements/weather-benchmark/IFS_T21/raw//output_pl_5.625_2.nc\n",
      "/media/rasp/Elements/weather-benchmark/IFS_T21/raw//output_pl_5.625.nc\n",
      "/media/rasp/Elements/weather-benchmark/IFS_T21/raw//output_sfc_2.8125_2.nc\n",
      "/media/rasp/Elements/weather-benchmark/IFS_T21/raw//output_sfc_2.8125.nc\n",
      "/media/rasp/Elements/weather-benchmark/IFS_T21/raw//output_sfc_5.625_2.nc\n",
      "/media/rasp/Elements/weather-benchmark/IFS_T21/raw//output_sfc_5.625.nc\n"
     ]
    }
   ],
   "source": [
    "!ls $DATADIR/*nc"
   ]
  },
  {
   "cell_type": "code",
   "execution_count": 4,
   "metadata": {
    "Collapsed": "false"
   },
   "outputs": [],
   "source": [
    "pl = xr.open_dataset(f'{DATADIR}output_pl_5.625.nc')"
   ]
  },
  {
   "cell_type": "code",
   "execution_count": 5,
   "metadata": {
    "Collapsed": "false"
   },
   "outputs": [
    {
     "data": {
      "text/plain": [
       "<xarray.Dataset>\n",
       "Dimensions:  (lat: 32, lev: 4, lon: 64, time: 20996)\n",
       "Coordinates:\n",
       "  * lon      (lon) float64 -180.0 -174.4 -168.8 -163.1 ... 163.1 168.8 174.4\n",
       "  * lat      (lat) float64 87.19 81.56 75.94 70.31 ... -75.94 -81.56 -87.19\n",
       "  * lev      (lev) float64 1e+05 8.5e+04 5e+04 2e+04\n",
       "  * time     (time) datetime64[ns] 2017-01-01 ... 2017-07-07T18:00:00\n",
       "Data variables:\n",
       "    z        (time, lev, lat, lon) float32 ...\n",
       "    t        (time, lev, lat, lon) float32 ...\n",
       "    r        (time, lev, lat, lon) float32 ...\n",
       "    u        (time, lev, lat, lon) float32 ...\n",
       "    v        (time, lev, lat, lon) float32 ...\n",
       "Attributes:\n",
       "    CDI:          Climate Data Interface version ?? (http://mpimet.mpg.de/cdi)\n",
       "    Conventions:  CF-1.4\n",
       "    history:      Wed Nov 20 13:18:52 2019: cdo -f nc copy /media/rasp/Elemen...\n",
       "    institution:  European Centre for Medium-Range Weather Forecasts\n",
       "    CDO:          Climate Data Operators version 1.7.0 (http://mpimet.mpg.de/..."
      ]
     },
     "execution_count": 5,
     "metadata": {},
     "output_type": "execute_result"
    }
   ],
   "source": [
    "pl"
   ]
  },
  {
   "cell_type": "code",
   "execution_count": 6,
   "metadata": {
    "Collapsed": "false"
   },
   "outputs": [],
   "source": [
    "pl5 = xr.open_dataset(f'{DATADIR}output_pl_5.625.nc')"
   ]
  },
  {
   "cell_type": "code",
   "execution_count": 13,
   "metadata": {
    "Collapsed": "false"
   },
   "outputs": [
    {
     "data": {
      "text/plain": [
       "<xarray.Dataset>\n",
       "Dimensions:  (lat: 33, lev: 3, lon: 64, time: 60)\n",
       "Coordinates:\n",
       "  * lon      (lon) float64 0.0 5.625 11.25 16.88 ... 337.5 343.1 348.8 354.4\n",
       "  * lat      (lat) float64 90.0 84.38 78.75 73.12 ... -73.12 -78.75 -84.38 -90.0\n",
       "  * lev      (lev) float64 8.5e+04 5e+04 2e+04\n",
       "  * time     (time) datetime64[ns] 2017-01-01 ... 2017-01-08T18:00:00\n",
       "Data variables:\n",
       "    z        (time, lev, lat, lon) float32 ...\n",
       "    t        (time, lev, lat, lon) float32 ...\n",
       "    r        (time, lev, lat, lon) float32 ...\n",
       "    u        (time, lev, lat, lon) float32 ...\n",
       "    v        (time, lev, lat, lon) float32 ...\n",
       "Attributes:\n",
       "    CDI:          Climate Data Interface version ?? (http://mpimet.mpg.de/cdi)\n",
       "    Conventions:  CF-1.4\n",
       "    history:      Mon Oct 28 13:15:39 2019: cdo -f nc copy output_pl_5.625.gr...\n",
       "    institution:  European Centre for Medium-Range Weather Forecasts\n",
       "    CDO:          Climate Data Operators version 1.7.0 (http://mpimet.mpg.de/..."
      ]
     },
     "execution_count": 13,
     "metadata": {},
     "output_type": "execute_result"
    }
   ],
   "source": [
    "pl5"
   ]
  },
  {
   "cell_type": "code",
   "execution_count": null,
   "metadata": {
    "Collapsed": "false"
   },
   "outputs": [],
   "source": []
  }
 ],
 "metadata": {
  "kernelspec": {
   "display_name": "Python 3",
   "language": "python",
   "name": "python3"
  },
  "language_info": {
   "codemirror_mode": {
    "name": "ipython",
    "version": 3
   },
   "file_extension": ".py",
   "mimetype": "text/x-python",
   "name": "python",
   "nbconvert_exporter": "python",
   "pygments_lexer": "ipython3",
   "version": "3.7.3"
  }
 },
 "nbformat": 4,
 "nbformat_minor": 4
}
