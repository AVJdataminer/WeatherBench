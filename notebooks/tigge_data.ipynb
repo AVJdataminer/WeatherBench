{
 "cells": [
  {
   "cell_type": "code",
   "execution_count": 9,
   "metadata": {
    "Collapsed": "false"
   },
   "outputs": [
    {
     "name": "stdout",
     "output_type": "stream",
     "text": [
      "The autoreload extension is already loaded. To reload it, use:\n",
      "  %reload_ext autoreload\n"
     ]
    }
   ],
   "source": [
    "%load_ext autoreload\n",
    "%autoreload 2"
   ]
  },
  {
   "cell_type": "code",
   "execution_count": 10,
   "metadata": {
    "Collapsed": "false"
   },
   "outputs": [],
   "source": [
    "import numpy as np\n",
    "import xarray as xr\n",
    "import matplotlib.pyplot as plt\n",
    "import seaborn as sns\n",
    "from src.score import *"
   ]
  },
  {
   "cell_type": "code",
   "execution_count": 11,
   "metadata": {
    "Collapsed": "false"
   },
   "outputs": [],
   "source": [
    "sns.set_style('darkgrid')\n",
    "sns.set_context('notebook')"
   ]
  },
  {
   "cell_type": "code",
   "execution_count": 12,
   "metadata": {
    "Collapsed": "false"
   },
   "outputs": [],
   "source": [
    "DATADIR = '/data/weather-benchmark/5.625deg/geopotential_500/'\n",
    "PREDDIR = '/data/weather-benchmark/predictions/'"
   ]
  },
  {
   "cell_type": "code",
   "execution_count": 13,
   "metadata": {
    "Collapsed": "false"
   },
   "outputs": [
    {
     "name": "stderr",
     "output_type": "stream",
     "text": [
      "/home/rasp/repositories/weather-benchmark/notebooks/src/score.py:24: FutureWarning: In xarray version 0.14 the default behaviour of `open_mfdataset`\n",
      "will change. To retain the existing behavior, pass\n",
      "combine='nested'. To use future default behavior, pass\n",
      "combine='by_coords'. See\n",
      "http://xarray.pydata.org/en/stable/combining.html#combining-multi\n",
      "\n",
      "  ds = xr.open_mfdataset(f'{path}/*.nc')[var]\n",
      "/home/rasp/miniconda3/lib/python3.7/site-packages/xarray/backends/api.py:934: FutureWarning: The datasets supplied have global dimension coordinates. You may want\n",
      "to use the new `combine_by_coords` function (or the\n",
      "`combine='by_coords'` option to `open_mfdataset`) to order the datasets\n",
      "before concatenation. Alternatively, to continue concatenating based\n",
      "on the order the datasets are supplied in future, please use the new\n",
      "`combine_nested` function (or the `combine='nested'` option to\n",
      "open_mfdataset).\n",
      "  from_openmfds=True,\n"
     ]
    }
   ],
   "source": [
    "z500_validation = load_test_data(DATADIR)"
   ]
  },
  {
   "cell_type": "code",
   "execution_count": 14,
   "metadata": {
    "Collapsed": "false"
   },
   "outputs": [
    {
     "name": "stderr",
     "output_type": "stream",
     "text": [
      "/home/rasp/miniconda3/lib/python3.7/site-packages/ipykernel_launcher.py:1: FutureWarning: In xarray version 0.14 the default behaviour of `open_mfdataset`\n",
      "will change. To retain the existing behavior, pass\n",
      "combine='nested'. To use future default behavior, pass\n",
      "combine='by_coords'. See\n",
      "http://xarray.pydata.org/en/stable/combining.html#combining-multi\n",
      "\n",
      "  \"\"\"Entry point for launching an IPython kernel.\n",
      "/home/rasp/miniconda3/lib/python3.7/site-packages/xarray/backends/api.py:934: FutureWarning: The datasets supplied do not have global dimension coordinates. In\n",
      "future, to continue concatenating without supplying dimension\n",
      "coordinates, please use the new `combine_nested` function (or the\n",
      "`combine='nested'` option to open_mfdataset.\n",
      "  from_openmfds=True,\n"
     ]
    }
   ],
   "source": [
    "tigge = xr.open_mfdataset('/data/weather-benchmark/tigge/5.625deg/*').gh.squeeze() * 9.807"
   ]
  },
  {
   "cell_type": "code",
   "execution_count": 15,
   "metadata": {
    "Collapsed": "false"
   },
   "outputs": [],
   "source": [
    "tigge.load();"
   ]
  },
  {
   "cell_type": "code",
   "execution_count": 16,
   "metadata": {
    "Collapsed": "false"
   },
   "outputs": [
    {
     "data": {
      "text/plain": [
       "<xarray.DataArray 'gh' (time: 30660, lat: 32, lon: 64)>\n",
       "array([[[50927.77 , 50950.164, 50972.363, ..., 50874.1  , 50889.215,\n",
       "         50906.95 ],\n",
       "        [50623.676, 50722.504, 50823.86 , ..., 50420.47 , 50487.35 ,\n",
       "         50550.32 ],\n",
       "        [50645.36 , 50872.19 , 51065.07 , ..., 50144.363, 50268.527,\n",
       "         50422.008],\n",
       "        ...,\n",
       "        [50758.984, 50520.785, 50270.074, ..., 51331.62 , 51154.598,\n",
       "         50967.785],\n",
       "        [50907.543, 50891.516, 50863.344, ..., 50773.15 , 50803.57 ,\n",
       "         50859.28 ],\n",
       "        [51196.35 , 51209.695, 51222.652, ..., 51141.992, 51160.84 ,\n",
       "         51180.83 ]],\n",
       "\n",
       "       [[50900.203, 50923.63 , 50947.57 , ..., 50843.266, 50858.6  ,\n",
       "         50878.117],\n",
       "        [50699.887, 50809.85 , 50906.395, ..., 50416.715, 50455.13 ,\n",
       "         50582.617],\n",
       "        [50720.   , 50939.47 , 51113.387, ..., 50118.72 , 50257.67 ,\n",
       "         50461.215],\n",
       "        ...,\n",
       "        [50759.918, 50531.695, 50278.344, ..., 51326.516, 51147.656,\n",
       "         50948.777],\n",
       "        [50876.49 , 50873.87 , 50861.348, ..., 50627.57 , 50720.742,\n",
       "         50831.895],\n",
       "        [51117.72 , 51139.336, 51164.61 , ..., 51063.562, 51083.99 ,\n",
       "         51100.89 ]],\n",
       "\n",
       "       [[50948.863, 50969.457, 50991.33 , ..., 50897.953, 50912.625,\n",
       "         50930.16 ],\n",
       "        [50825.13 , 50929.527, 51018.82 , ..., 50485.168, 50588.094,\n",
       "         50707.617],\n",
       "        [50801.15 , 51025.664, 51150.242, ..., 50148.168, 50356.617,\n",
       "         50573.516],\n",
       "        ...,\n",
       "        [50739.547, 50541.33 , 50280.246, ..., 51210.28 , 51113.71 ,\n",
       "         50937.168],\n",
       "        [50835.164, 50853.316, 50877.715, ..., 50568.766, 50680.97 ,\n",
       "         50789.18 ],\n",
       "        [51098.727, 51120.18 , 51140.79 , ..., 51031.516, 51055.383,\n",
       "         51077.188]],\n",
       "\n",
       "       ...,\n",
       "\n",
       "       [[49277.81 , 49283.277, 49286.793, ..., 49245.938, 49259.25 ,\n",
       "         49269.793],\n",
       "        [49525.742, 49572.996, 49632.035, ..., 49429.77 , 49462.84 ,\n",
       "         49492.184],\n",
       "        [49455.445, 49495.293, 49567.566, ..., 49166.805, 49291.58 ,\n",
       "         49395.03 ],\n",
       "        ...,\n",
       "        [53297.53 , 53025.254, 52612.895, ..., 53244.32 , 53389.027,\n",
       "         53428.29 ],\n",
       "        [50751.043, 50612.242, 50451.78 , ..., 51089.598, 50997.516,\n",
       "         50873.42 ],\n",
       "        [49506.703, 49440.02 , 49365.21 , ..., 49663.5  , 49617.26 ,\n",
       "         49565.633]],\n",
       "\n",
       "       [[49277.023, 49281.766, 49283.29 , ..., 49240.633, 49255.88 ,\n",
       "         49268.137],\n",
       "        [49434.434, 49492.434, 49552.95 , ..., 49356.62 , 49381.76 ,\n",
       "         49403.348],\n",
       "        [49319.7  , 49336.12 , 49407.055, ..., 49113.613, 49214.668,\n",
       "         49289.105],\n",
       "        ...,\n",
       "        [53109.65 , 52988.566, 52796.324, ..., 52781.535, 53060.58 ,\n",
       "         53154.797],\n",
       "        [50965.668, 50718.88 , 50443.664, ..., 51180.703, 51203.516,\n",
       "         51132.438],\n",
       "        [49697.844, 49619.715, 49530.895, ..., 49872.293, 49822.33 ,\n",
       "         49763.938]],\n",
       "\n",
       "       [[49305.555, 49313.867, 49318.582, ..., 49264.027, 49280.023,\n",
       "         49293.9  ],\n",
       "        [49421.977, 49480.883, 49527.055, ..., 49350.83 , 49366.14 ,\n",
       "         49383.688],\n",
       "        [49272.535, 49265.773, 49362.383, ..., 49144.184, 49221.273,\n",
       "         49258.87 ],\n",
       "        ...,\n",
       "        [52769.688, 52808.906, 52658.43 , ..., 51720.06 , 52292.727,\n",
       "         52615.37 ],\n",
       "        [50767.64 , 50716.203, 50547.26 , ..., 50585.65 , 50694.867,\n",
       "         50757.695],\n",
       "        [49935.426, 49875.934, 49805.254, ..., 50054.64 , 50021.984,\n",
       "         49982.535]]], dtype=float32)\n",
       "Coordinates:\n",
       "    lev      float64 5e+04\n",
       "  * lat      (lat) float64 -87.19 -81.56 -75.94 -70.31 ... 75.94 81.56 87.19\n",
       "  * lon      (lon) float64 0.0 5.625 11.25 16.88 ... 337.5 343.1 348.8 354.4\n",
       "  * time     (time) datetime64[ns] 2017-01-01 ... 2019-01-05T12:00:00"
      ]
     },
     "execution_count": 16,
     "metadata": {},
     "output_type": "execute_result"
    }
   ],
   "source": [
    "tigge"
   ]
  },
  {
   "cell_type": "code",
   "execution_count": 17,
   "metadata": {
    "Collapsed": "false"
   },
   "outputs": [
    {
     "data": {
      "text/plain": [
       "730.0"
      ]
     },
     "execution_count": 17,
     "metadata": {},
     "output_type": "execute_result"
    }
   ],
   "source": [
    "15330 /21"
   ]
  },
  {
   "cell_type": "code",
   "execution_count": 18,
   "metadata": {
    "Collapsed": "false"
   },
   "outputs": [],
   "source": [
    "init_times = tigge.time[::21]"
   ]
  },
  {
   "cell_type": "code",
   "execution_count": 19,
   "metadata": {
    "Collapsed": "false"
   },
   "outputs": [
    {
     "data": {
      "text/plain": [
       "<xarray.DataArray 'time' (time: 1460)>\n",
       "array(['2017-01-01T00:00:00.000000000', '2017-01-01T12:00:00.000000000',\n",
       "       '2017-01-02T00:00:00.000000000', ..., '2018-12-30T12:00:00.000000000',\n",
       "       '2018-12-31T00:00:00.000000000', '2018-12-31T12:00:00.000000000'],\n",
       "      dtype='datetime64[ns]')\n",
       "Coordinates:\n",
       "    lev      float64 5e+04\n",
       "  * time     (time) datetime64[ns] 2017-01-01 ... 2018-12-31T12:00:00\n",
       "Attributes:\n",
       "    standard_name:  time\n",
       "    axis:           T"
      ]
     },
     "execution_count": 19,
     "metadata": {},
     "output_type": "execute_result"
    }
   ],
   "source": [
    "init_times"
   ]
  },
  {
   "cell_type": "code",
   "execution_count": 20,
   "metadata": {
    "Collapsed": "false"
   },
   "outputs": [],
   "source": [
    "lead_times = xr.DataArray(\n",
    "    np.arange(0, 126, 6), dims=['lead_time'], coords={'lead_time': np.arange(0, 126, 6)})"
   ]
  },
  {
   "cell_type": "code",
   "execution_count": 21,
   "metadata": {
    "Collapsed": "false"
   },
   "outputs": [
    {
     "data": {
      "text/plain": [
       "<xarray.DataArray (lead_time: 21)>\n",
       "array([  0,   6,  12,  18,  24,  30,  36,  42,  48,  54,  60,  66,  72,\n",
       "        78,  84,  90,  96, 102, 108, 114, 120])\n",
       "Coordinates:\n",
       "  * lead_time  (lead_time) int64 0 6 12 18 24 30 36 ... 84 90 96 102 108 114 120"
      ]
     },
     "execution_count": 21,
     "metadata": {},
     "output_type": "execute_result"
    }
   ],
   "source": [
    "lead_times"
   ]
  },
  {
   "cell_type": "code",
   "execution_count": 22,
   "metadata": {
    "Collapsed": "false"
   },
   "outputs": [
    {
     "data": {
      "text/plain": [
       "(21, 1460)"
      ]
     },
     "execution_count": 22,
     "metadata": {},
     "output_type": "execute_result"
    }
   ],
   "source": [
    "(len(lead_times)), len(init_times)"
   ]
  },
  {
   "cell_type": "code",
   "execution_count": 23,
   "metadata": {
    "Collapsed": "false"
   },
   "outputs": [],
   "source": [
    "tigge_by_lead = xr.DataArray(\n",
    "    tigge.values.reshape((len(init_times), len(lead_times), 32, 64)),\n",
    "    dims = ['time', 'lead_time', 'lat', 'lon'],\n",
    "    coords = {'time': init_times, 'lead_time': lead_times, 'lat': tigge.lat, 'lon': tigge.lon}\n",
    ")"
   ]
  },
  {
   "cell_type": "code",
   "execution_count": 25,
   "metadata": {
    "Collapsed": "false"
   },
   "outputs": [],
   "source": [
    "tigge_by_lead.to_netcdf(f'{PREDDIR}/tigge_5.625deg.nc')"
   ]
  },
  {
   "cell_type": "code",
   "execution_count": 26,
   "metadata": {
    "Collapsed": "false"
   },
   "outputs": [],
   "source": [
    "rmses_tigge = evaluate_iterative_forecast(tigge_by_lead, z500_validation)"
   ]
  },
  {
   "cell_type": "code",
   "execution_count": 27,
   "metadata": {
    "Collapsed": "false"
   },
   "outputs": [
    {
     "data": {
      "text/plain": [
       "[<matplotlib.lines.Line2D at 0x7f9059eaf208>]"
      ]
     },
     "execution_count": 27,
     "metadata": {},
     "output_type": "execute_result"
    },
    {
     "data": {
      "image/png": "[encoded data removed]",
      "text/plain": [
       "<Figure size 432x288 with 1 Axes>"
      ]
     },
     "metadata": {},
     "output_type": "display_data"
    }
   ],
   "source": [
    "rmses_tigge.plot()"
   ]
  },
  {
   "cell_type": "code",
   "execution_count": null,
   "metadata": {
    "Collapsed": "false"
   },
   "outputs": [],
   "source": []
  }
 ],
 "metadata": {
  "kernelspec": {
   "display_name": "Python 3",
   "language": "python",
   "name": "python3"
  },
  "language_info": {
   "codemirror_mode": {
    "name": "ipython",
    "version": 3
   },
   "file_extension": ".py",
   "mimetype": "text/x-python",
   "name": "python",
   "nbconvert_exporter": "python",
   "pygments_lexer": "ipython3",
   "version": "3.7.3"
  }
 },
 "nbformat": 4,
 "nbformat_minor": 4
}
