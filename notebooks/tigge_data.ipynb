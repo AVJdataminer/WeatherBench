{
 "cells": [
  {
   "cell_type": "code",
   "execution_count": 16,
   "metadata": {
    "Collapsed": "false"
   },
   "outputs": [
    {
     "name": "stdout",
     "output_type": "stream",
     "text": [
      "The autoreload extension is already loaded. To reload it, use:\n",
      "  %reload_ext autoreload\n"
     ]
    }
   ],
   "source": [
    "%load_ext autoreload\n",
    "%autoreload 2"
   ]
  },
  {
   "cell_type": "code",
   "execution_count": 17,
   "metadata": {
    "Collapsed": "false"
   },
   "outputs": [],
   "source": [
    "import numpy as np\n",
    "import xarray as xr\n",
    "import matplotlib.pyplot as plt\n",
    "import seaborn as sns\n",
    "from src.score import *"
   ]
  },
  {
   "cell_type": "code",
   "execution_count": 18,
   "metadata": {
    "Collapsed": "false"
   },
   "outputs": [],
   "source": [
    "sns.set_style('darkgrid')\n",
    "sns.set_context('notebook')"
   ]
  },
  {
   "cell_type": "code",
   "execution_count": 19,
   "metadata": {
    "Collapsed": "false"
   },
   "outputs": [],
   "source": [
    "DATADIR = '/data/weather-benchmark/5.625deg/geopotential_500/'\n",
    "PREDDIR = '/data/weather-benchmark/predictions/'"
   ]
  },
  {
   "cell_type": "code",
   "execution_count": 70,
   "metadata": {
    "Collapsed": "false"
   },
   "outputs": [
    {
     "name": "stderr",
     "output_type": "stream",
     "text": [
      "/home/rasp/repositories/weather-benchmark/notebooks/src/score.py:24: FutureWarning: In xarray version 0.14 the default behaviour of `open_mfdataset`\n",
      "will change. To retain the existing behavior, pass\n",
      "combine='nested'. To use future default behavior, pass\n",
      "combine='by_coords'. See\n",
      "http://xarray.pydata.org/en/stable/combining.html#combining-multi\n",
      "\n",
      "  ds = xr.open_mfdataset(f'{path}/*.nc')[var]\n",
      "/home/rasp/miniconda3/lib/python3.7/site-packages/xarray/backends/api.py:934: FutureWarning: The datasets supplied have global dimension coordinates. You may want\n",
      "to use the new `combine_by_coords` function (or the\n",
      "`combine='by_coords'` option to `open_mfdataset`) to order the datasets\n",
      "before concatenation. Alternatively, to continue concatenating based\n",
      "on the order the datasets are supplied in future, please use the new\n",
      "`combine_nested` function (or the `combine='nested'` option to\n",
      "open_mfdataset).\n",
      "  from_openmfds=True,\n"
     ]
    }
   ],
   "source": [
    "z500_validation = load_test_data(DATADIR)"
   ]
  },
  {
   "cell_type": "code",
   "execution_count": 96,
   "metadata": {
    "Collapsed": "false"
   },
   "outputs": [
    {
     "name": "stderr",
     "output_type": "stream",
     "text": [
      "/home/rasp/miniconda3/lib/python3.7/site-packages/ipykernel_launcher.py:1: FutureWarning: In xarray version 0.14 the default behaviour of `open_mfdataset`\n",
      "will change. To retain the existing behavior, pass\n",
      "combine='nested'. To use future default behavior, pass\n",
      "combine='by_coords'. See\n",
      "http://xarray.pydata.org/en/stable/combining.html#combining-multi\n",
      "\n",
      "  \"\"\"Entry point for launching an IPython kernel.\n",
      "/home/rasp/miniconda3/lib/python3.7/site-packages/xarray/backends/api.py:934: FutureWarning: The datasets supplied do not have global dimension coordinates. In\n",
      "future, to continue concatenating without supplying dimension\n",
      "coordinates, please use the new `combine_nested` function (or the\n",
      "`combine='nested'` option to open_mfdataset.\n",
      "  from_openmfds=True,\n"
     ]
    }
   ],
   "source": [
    "tigge = xr.open_mfdataset('/data/weather-benchmark/tigge/5.625deg/*').gh.squeeze() * 9.807"
   ]
  },
  {
   "cell_type": "code",
   "execution_count": 116,
   "metadata": {
    "Collapsed": "false"
   },
   "outputs": [
    {
     "name": "stderr",
     "output_type": "stream",
     "text": [
      "/home/rasp/miniconda3/lib/python3.7/site-packages/ipykernel_launcher.py:1: FutureWarning: In xarray version 0.14 the default behaviour of `open_mfdataset`\n",
      "will change. To retain the existing behavior, pass\n",
      "combine='nested'. To use future default behavior, pass\n",
      "combine='by_coords'. See\n",
      "http://xarray.pydata.org/en/stable/combining.html#combining-multi\n",
      "\n",
      "  \"\"\"Entry point for launching an IPython kernel.\n",
      "/home/rasp/miniconda3/lib/python3.7/site-packages/xarray/backends/api.py:934: FutureWarning: The datasets supplied do not have global dimension coordinates. In\n",
      "future, to continue concatenating without supplying dimension\n",
      "coordinates, please use the new `combine_nested` function (or the\n",
      "`combine='nested'` option to open_mfdataset.\n",
      "  from_openmfds=True,\n"
     ]
    }
   ],
   "source": [
    "t21 = xr.open_mfdataset(f'/media/rasp/Elements/weather-benchmark/IFS_T21/raw/output_pl_5.625*.nc').z.sel(lev=5e4)"
   ]
  },
  {
   "cell_type": "code",
   "execution_count": 117,
   "metadata": {
    "Collapsed": "false"
   },
   "outputs": [
    {
     "data": {
      "text/plain": [
       "<xarray.DataArray 'z' (time: 42340, lat: 32, lon: 64)>\n",
       "dask.array<getitem, shape=(42340, 32, 64), dtype=float32, chunksize=(21344, 32, 64)>\n",
       "Coordinates:\n",
       "  * lat      (lat) float64 87.19 81.56 75.94 70.31 ... -75.94 -81.56 -87.19\n",
       "  * lon      (lon) float64 -180.0 -174.4 -168.8 -163.1 ... 163.1 168.8 174.4\n",
       "    lev      float64 5e+04\n",
       "  * time     (time) datetime64[ns] 2017-01-01 ... 2018-01-07T18:00:00\n",
       "Attributes:\n",
       "    standard_name:  geopotential\n",
       "    long_name:      Geopotential\n",
       "    units:          m**2 s**-2\n",
       "    code:           129\n",
       "    table:          128"
      ]
     },
     "execution_count": 117,
     "metadata": {},
     "output_type": "execute_result"
    }
   ],
   "source": [
    "t21"
   ]
  },
  {
   "cell_type": "code",
   "execution_count": 118,
   "metadata": {
    "Collapsed": "false"
   },
   "outputs": [
    {
     "data": {
      "text/plain": [
       "<xarray.DataArray 'lat' (lat: 32)>\n",
       "array([-87.1875, -81.5625, -75.9375, -70.3125, -64.6875, -59.0625, -53.4375,\n",
       "       -47.8125, -42.1875, -36.5625, -30.9375, -25.3125, -19.6875, -14.0625,\n",
       "        -8.4375,  -2.8125,   2.8125,   8.4375,  14.0625,  19.6875,  25.3125,\n",
       "        30.9375,  36.5625,  42.1875,  47.8125,  53.4375,  59.0625,  64.6875,\n",
       "        70.3125,  75.9375,  81.5625,  87.1875])\n",
       "Coordinates:\n",
       "  * lat      (lat) float64 -87.19 -81.56 -75.94 -70.31 ... 75.94 81.56 87.19\n",
       "    lev      float64 5e+04"
      ]
     },
     "execution_count": 118,
     "metadata": {},
     "output_type": "execute_result"
    }
   ],
   "source": [
    "tigge.lat"
   ]
  },
  {
   "cell_type": "code",
   "execution_count": 119,
   "metadata": {
    "Collapsed": "false"
   },
   "outputs": [],
   "source": [
    "l = t21.lon.values"
   ]
  },
  {
   "cell_type": "code",
   "execution_count": 120,
   "metadata": {
    "Collapsed": "false"
   },
   "outputs": [],
   "source": [
    "l[:32] = 360 + l[:32]"
   ]
  },
  {
   "cell_type": "code",
   "execution_count": 121,
   "metadata": {
    "Collapsed": "false"
   },
   "outputs": [
    {
     "data": {
      "text/plain": [
       "array([180.   , 185.625, 191.25 , 196.875, 202.5  , 208.125, 213.75 ,\n",
       "       219.375, 225.   , 230.625, 236.25 , 241.875, 247.5  , 253.125,\n",
       "       258.75 , 264.375, 270.   , 275.625, 281.25 , 286.875, 292.5  ,\n",
       "       298.125, 303.75 , 309.375, 315.   , 320.625, 326.25 , 331.875,\n",
       "       337.5  , 343.125, 348.75 , 354.375,   0.   ,   5.625,  11.25 ,\n",
       "        16.875,  22.5  ,  28.125,  33.75 ,  39.375,  45.   ,  50.625,\n",
       "        56.25 ,  61.875,  67.5  ,  73.125,  78.75 ,  84.375,  90.   ,\n",
       "        95.625, 101.25 , 106.875, 112.5  , 118.125, 123.75 , 129.375,\n",
       "       135.   , 140.625, 146.25 , 151.875, 157.5  , 163.125, 168.75 ,\n",
       "       174.375])"
      ]
     },
     "execution_count": 121,
     "metadata": {},
     "output_type": "execute_result"
    }
   ],
   "source": [
    "l"
   ]
  },
  {
   "cell_type": "code",
   "execution_count": 122,
   "metadata": {
    "Collapsed": "false"
   },
   "outputs": [],
   "source": [
    "t21['lat'] = -tigge.lat"
   ]
  },
  {
   "cell_type": "code",
   "execution_count": 123,
   "metadata": {
    "Collapsed": "false"
   },
   "outputs": [
    {
     "data": {
      "text/plain": [
       "<xarray.DataArray 'z' (time: 42340, lat: 32, lon: 64)>\n",
       "dask.array<getitem, shape=(42340, 32, 64), dtype=float32, chunksize=(21344, 32, 64)>\n",
       "Coordinates:\n",
       "  * lat      (lat) float64 87.19 81.56 75.94 70.31 ... -75.94 -81.56 -87.19\n",
       "  * lon      (lon) float64 180.0 185.6 191.2 196.9 ... 157.5 163.1 168.8 174.4\n",
       "    lev      float64 5e+04\n",
       "  * time     (time) datetime64[ns] 2017-01-01 ... 2018-01-07T18:00:00\n",
       "Attributes:\n",
       "    standard_name:  geopotential\n",
       "    long_name:      Geopotential\n",
       "    units:          m**2 s**-2\n",
       "    code:           129\n",
       "    table:          128"
      ]
     },
     "execution_count": 123,
     "metadata": {},
     "output_type": "execute_result"
    }
   ],
   "source": [
    "t21"
   ]
  },
  {
   "cell_type": "code",
   "execution_count": 128,
   "metadata": {
    "Collapsed": "false"
   },
   "outputs": [
    {
     "name": "stderr",
     "output_type": "stream",
     "text": [
      "/home/rasp/miniconda3/lib/python3.7/site-packages/xarray/core/dataarray.py:2710: FutureWarning: roll_coords will be set to False in the future. Explicitly set roll_coords to silence warning.\n",
      "  shifts=shifts, roll_coords=roll_coords, **shifts_kwargs\n"
     ]
    }
   ],
   "source": [
    "t21 = t21.roll(lon=32)"
   ]
  },
  {
   "cell_type": "code",
   "execution_count": 124,
   "metadata": {
    "Collapsed": "false"
   },
   "outputs": [
    {
     "data": {
      "text/plain": [
       "<matplotlib.collections.QuadMesh at 0x7f46e0f7bb38>"
      ]
     },
     "execution_count": 124,
     "metadata": {},
     "output_type": "execute_result"
    },
    {
     "data": {
      "image/png": "[encoded data removed]",
      "text/plain": [
       "<Figure size 432x288 with 2 Axes>"
      ]
     },
     "metadata": {},
     "output_type": "display_data"
    }
   ],
   "source": [
    "tigge.isel(time=0).plot()"
   ]
  },
  {
   "cell_type": "code",
   "execution_count": 147,
   "metadata": {
    "Collapsed": "false"
   },
   "outputs": [
    {
     "data": {
      "text/plain": [
       "<matplotlib.collections.QuadMesh at 0x7f467876a278>"
      ]
     },
     "execution_count": 147,
     "metadata": {},
     "output_type": "execute_result"
    },
    {
     "data": {
      "image/png": "[encoded data removed]",
      "text/plain": [
       "<Figure size 432x288 with 2 Axes>"
      ]
     },
     "metadata": {},
     "output_type": "display_data"
    }
   ],
   "source": [
    "t21.isel(time=0).plot()"
   ]
  },
  {
   "cell_type": "code",
   "execution_count": 142,
   "metadata": {
    "Collapsed": "false"
   },
   "outputs": [
    {
     "data": {
      "text/plain": [
       "<matplotlib.collections.QuadMesh at 0x7f4678215940>"
      ]
     },
     "execution_count": 142,
     "metadata": {},
     "output_type": "execute_result"
    },
    {
     "data": {
      "image/png": "[encoded data removed]",
      "text/plain": [
       "<Figure size 432x288 with 2 Axes>"
      ]
     },
     "metadata": {},
     "output_type": "display_data"
    }
   ],
   "source": [
    "z500_validation.isel(time=0).plot()"
   ]
  },
  {
   "cell_type": "code",
   "execution_count": 163,
   "metadata": {
    "Collapsed": "false"
   },
   "outputs": [
    {
     "data": {
      "text/plain": [
       "((21, 32, 64), (21, 32, 64))"
      ]
     },
     "execution_count": 163,
     "metadata": {},
     "output_type": "execute_result"
    }
   ],
   "source": [
    "t21.isel(time=slice(0, 21)).values.shape, z500_validation.isel(time=slice(0, 21)).values.shape"
   ]
  },
  {
   "cell_type": "code",
   "execution_count": 164,
   "metadata": {
    "Collapsed": "false"
   },
   "outputs": [
    {
     "data": {
      "text/plain": [
       "[<matplotlib.lines.Line2D at 0x7f463c4ec710>]"
      ]
     },
     "execution_count": 164,
     "metadata": {},
     "output_type": "execute_result"
    },
    {
     "data": {
      "image/png": "[encoded data removed]",
      "text/plain": [
       "<Figure size 432x288 with 1 Axes>"
      ]
     },
     "metadata": {},
     "output_type": "display_data"
    }
   ],
   "source": [
    "np.sqrt(((tigge.isel(time=slice(0, 21)) - z500_validation)**2).mean(('lat', 'lon'))).plot()\n",
    "np.sqrt(((t21.isel(time=slice(0, 21)) - z500_validation)**2).mean(('lat', 'lon'))).plot()"
   ]
  },
  {
   "cell_type": "code",
   "execution_count": 188,
   "metadata": {
    "Collapsed": "false"
   },
   "outputs": [
    {
     "data": {
      "text/plain": [
       "[<matplotlib.lines.Line2D at 0x7f462466b240>]"
      ]
     },
     "execution_count": 188,
     "metadata": {},
     "output_type": "execute_result"
    },
    {
     "data": {
      "image/png": "[encoded data removed]",
      "text/plain": [
       "<Figure size 432x288 with 1 Axes>"
      ]
     },
     "metadata": {},
     "output_type": "display_data"
    }
   ],
   "source": [
    "plt.plot(np.sqrt(((tigge.isel(time=slice(0, 21)).values - z500_validation.isel(time=slice(0, 21*6, 6)).values)**2).mean((1, 2))))\n",
    "plt.plot(np.sqrt(((t21.isel(time=slice(0, 21)).values[:, ::-1] - z500_validation.isel(time=slice(1*6, 22*6, 6)).values)**2).mean((1, 2))))"
   ]
  },
  {
   "cell_type": "code",
   "execution_count": 130,
   "metadata": {
    "Collapsed": "false"
   },
   "outputs": [],
   "source": [
    "def convert(da, nlead_time):\n",
    "    init_times = da.time[::nlead_time]\n",
    "    lead_times = xr.DataArray(\n",
    "        np.arange(0, 6*nlead_time, 6), dims=['lead_time'], coords={'lead_time': np.arange(0, 6*nlead_time, 6)})\n",
    "    da_by_lead = xr.DataArray(\n",
    "        da.values.reshape((len(init_times), len(lead_times), len(da.lat), len(da.lon))),\n",
    "        dims = ['time', 'lead_time', 'lat', 'lon'],\n",
    "        coords = {'time': init_times, 'lead_time': lead_times, 'lat': da.lat, 'lon': da.lon}\n",
    "    )\n",
    "    return da_by_lead"
   ]
  },
  {
   "cell_type": "code",
   "execution_count": 131,
   "metadata": {
    "Collapsed": "false"
   },
   "outputs": [],
   "source": [
    "tigge_by_lead = convert(tigge, 21).load()"
   ]
  },
  {
   "cell_type": "code",
   "execution_count": 132,
   "metadata": {
    "Collapsed": "false"
   },
   "outputs": [],
   "source": [
    "t21_by_lead = convert(t21, 29)"
   ]
  },
  {
   "cell_type": "code",
   "execution_count": 150,
   "metadata": {
    "Collapsed": "false",
    "collapsed": true,
    "jupyter": {
     "outputs_hidden": true
    }
   },
   "outputs": [
    {
     "data": {
      "text/plain": [
       "<xarray.DataArray (time: 1460, lead_time: 29, lat: 32, lon: 64)>\n",
       "array([[[[51077.49 , 51088.74 , 51105.24 , ..., 51066.74 , 51066.99 ,\n",
       "          51070.24 ],\n",
       "         [50683.99 , 50636.99 , 50602.99 , ..., 50859.74 , 50799.99 ,\n",
       "          50739.99 ],\n",
       "         [50756.74 , 50535.74 , 50339.49 , ..., 51401.24 , 51211.74 ,\n",
       "          50988.74 ],\n",
       "         ...,\n",
       "         [50412.74 , 50566.24 , 50730.24 , ..., 50140.74 , 50198.49 ,\n",
       "          50287.74 ],\n",
       "         [50853.74 , 50960.74 , 51054.74 , ..., 50505.99 , 50622.49 ,\n",
       "          50739.74 ],\n",
       "         [50859.74 , 50911.99 , 50958.74 , ..., 50683.24 , 50743.74 ,\n",
       "          50803.24 ]],\n",
       "\n",
       "        [[51288.316, 51310.566, 51334.316, ..., 51227.566, 51247.066,\n",
       "          51267.316],\n",
       "         [50913.066, 50883.566, 50864.316, ..., 51017.316, 50985.066,\n",
       "          50948.566],\n",
       "         [50886.566, 50655.316, 50447.316, ..., 51484.816, 51326.566,\n",
       "          51118.816],\n",
       "         ...,\n",
       "         [50417.816, 50557.816, 50695.816, ..., 50085.816, 50177.816,\n",
       "          50288.816],\n",
       "         [50721.566, 50811.316, 50888.816, ..., 50420.066, 50522.316,\n",
       "          50623.816],\n",
       "         [50688.316, 50728.566, 50764.066, ..., 50549.316, 50597.316,\n",
       "          50644.316]],\n",
       "\n",
       "        [[51207.734, 51235.234, 51261.484, ..., 51119.484, 51149.984,\n",
       "          51179.484],\n",
       "         [50988.234, 50986.484, 50993.234, ..., 51016.234, 51006.734,\n",
       "          50995.984],\n",
       "         [50927.484, 50746.984, 50594.734, ..., 51442.234, 51298.484,\n",
       "          51118.734],\n",
       "         ...,\n",
       "         [50398.234, 50512.984, 50619.234, ..., 50084.234, 50178.484,\n",
       "          50284.234],\n",
       "         [50666.484, 50737.734, 50797.484, ..., 50417.484, 50502.984,\n",
       "          50586.984],\n",
       "         [50669.234, 50700.484, 50727.484, ..., 50560.234, 50598.234,\n",
       "          50634.984]],\n",
       "\n",
       "        ...,\n",
       "\n",
       "        [[49886.152, 49971.152, 50050.402, ..., 49607.152, 49703.402,\n",
       "          49796.652],\n",
       "         [50188.652, 50290.402, 50389.402, ..., 49853.902, 49972.652,\n",
       "          50083.402],\n",
       "         [50531.152, 50502.152, 50497.902, ..., 50551.652, 50581.402,\n",
       "          50566.152],\n",
       "         ...,\n",
       "         [49365.902, 49471.152, 49581.902, ..., 49081.152, 49165.652,\n",
       "          49263.152],\n",
       "         [50013.652, 50124.902, 50252.652, ..., 49804.652, 49850.902,\n",
       "          49921.402],\n",
       "         [51047.402, 51097.902, 51155.902, ..., 50954.902, 50974.902,\n",
       "          51006.152]],\n",
       "\n",
       "        [[49849.504, 49934.254, 50013.504, ..., 49567.754, 49665.504,\n",
       "          49759.504],\n",
       "         [50260.004, 50349.754, 50434.754, ..., 49936.754, 50056.254,\n",
       "          50163.254],\n",
       "         [50816.504, 50758.004, 50708.004, ..., 50804.504, 50863.504,\n",
       "          50860.254],\n",
       "         ...,\n",
       "         [49511.004, 49648.254, 49779.254, ..., 49090.254, 49224.004,\n",
       "          49367.504],\n",
       "         [49997.754, 50123.004, 50259.254, ..., 49720.754, 49792.754,\n",
       "          49886.504],\n",
       "         [50917.504, 50974.004, 51037.254, ..., 50802.754, 50830.754,\n",
       "          50869.254]],\n",
       "\n",
       "        [[49854.35 , 49936.1  , 50012.1  , ..., 49579.6  , 49675.6  ,\n",
       "          49767.1  ],\n",
       "         [50353.1  , 50431.6  , 50502.35 , ..., 50040.6  , 50160.85 ,\n",
       "          50264.1  ],\n",
       "         [51049.6  , 50975.35 , 50894.1  , ..., 50987.85 , 51076.6  ,\n",
       "          51091.6  ],\n",
       "         ...,\n",
       "         [49662.35 , 49821.35 , 49964.6  , ..., 49135.1  , 49309.35 ,\n",
       "          49489.1  ],\n",
       "         [50013.35 , 50148.6  , 50289.6  , ..., 49680.1  , 49774.6  ,\n",
       "          49887.35 ],\n",
       "         [50820.85 , 50882.6  , 50950.1  , ..., 50686.85 , 50721.85 ,\n",
       "          50766.85 ]]],\n",
       "\n",
       "\n",
       "       [[[51186.51 , 51209.26 , 51234.51 , ..., 51130.01 , 51147.26 ,\n",
       "          51165.76 ],\n",
       "         [50709.01 , 50691.76 , 50687.76 , ..., 50799.51 , 50767.26 ,\n",
       "          50735.51 ],\n",
       "         [50689.01 , 50492.76 , 50324.01 , ..., 51242.01 , 51087.76 ,\n",
       "          50895.01 ],\n",
       "         ...,\n",
       "         [50417.76 , 50561.26 , 50704.51 , ..., 50130.01 , 50196.26 ,\n",
       "          50292.51 ],\n",
       "         [50889.01 , 50982.26 , 51062.76 , ..., 50577.76 , 50683.01 ,\n",
       "          50787.76 ],\n",
       "         [50913.26 , 50959.76 , 51000.51 , ..., 50752.76 , 50808.51 ,\n",
       "          50862.51 ]],\n",
       "\n",
       "        [[51252.164, 51281.164, 51309.414, ..., 51162.414, 51192.664,\n",
       "          51222.664],\n",
       "         [50928.164, 50936.414, 50954.664, ..., 50944.414, 50935.164,\n",
       "          50928.664],\n",
       "         [50855.164, 50703.414, 50580.914, ..., 51314.914, 51181.664,\n",
       "          51021.164],\n",
       "         ...,\n",
       "         [50469.664, 50603.414, 50723.664, ..., 50117.914, 50217.914,\n",
       "          50337.414],\n",
       "         [50830.414, 50907.414, 50970.914, ..., 50554.414, 50650.164,\n",
       "          50743.164],\n",
       "         [50858.664, 50892.164, 50920.914, ..., 50738.664, 50780.914,\n",
       "          50821.164]],\n",
       "\n",
       "        [[51052.535, 51084.035, 51113.285, ..., 50948.285, 50984.535,\n",
       "          51019.535],\n",
       "         [50896.785, 50913.285, 50940.285, ..., 50894.035, 50890.535,\n",
       "          50890.035],\n",
       "         [50833.535, 50698.285, 50601.035, ..., 51313.785, 51163.785,\n",
       "          50995.535],\n",
       "         ...,\n",
       "         [50419.285, 50522.035, 50607.285, ..., 50102.285, 50201.285,\n",
       "          50309.285],\n",
       "         [50694.535, 50753.535, 50800.035, ..., 50470.035, 50549.785,\n",
       "          50625.535],\n",
       "         [50720.785, 50744.535, 50764.285, ..., 50634.285, 50664.785,\n",
       "          50694.035]],\n",
       "\n",
       "        ...,\n",
       "\n",
       "        [[49549.906, 49627.156, 49698.906, ..., 49291.906, 49381.406,\n",
       "          49467.656],\n",
       "         [49931.406, 50010.906, 50089.156, ..., 49662.156, 49760.406,\n",
       "          49848.906],\n",
       "         [50325.406, 50252.906, 50209.656, ..., 50470.906, 50462.656,\n",
       "          50404.906],\n",
       "         ...,\n",
       "         [49453.656, 49560.156, 49668.656, ..., 49150.156, 49244.406,\n",
       "          49347.656],\n",
       "         [50038.906, 50140.906, 50254.906, ..., 49834.906, 49882.906,\n",
       "          49952.156],\n",
       "         [51013.656, 51056.156, 51105.156, ..., 50937.406, 50953.156,\n",
       "          50978.906]],\n",
       "\n",
       "        [[49491.246, 49568.246, 49639.496, ..., 49232.246, 49322.746,\n",
       "          49409.246],\n",
       "         [49981.246, 50050.246, 50115.246, ..., 49717.246, 49818.746,\n",
       "          49905.496],\n",
       "         [50590.246, 50498.496, 50418.746, ..., 50669.996, 50702.246,\n",
       "          50667.746],\n",
       "         ...,\n",
       "         [49557.246, 49685.496, 49806.496, ..., 49149.496, 49282.996,\n",
       "          49421.746],\n",
       "         [50013.746, 50124.746, 50243.996, ..., 49760.746, 49827.746,\n",
       "          49913.496],\n",
       "         [50899.746, 50946.246, 50998.746, ..., 50809.246, 50829.996,\n",
       "          50860.496]],\n",
       "\n",
       "        [[49419.637, 49494.637, 49563.637, ..., 49162.387, 49252.887,\n",
       "          49338.887],\n",
       "         [50017.387, 50079.637, 50134.137, ..., 49741.387, 49851.887,\n",
       "          49942.887],\n",
       "         [50795.137, 50703.387, 50602.887, ..., 50753.137, 50842.137,\n",
       "          50850.137],\n",
       "         ...,\n",
       "         [49708.637, 49853.637, 49981.887, ..., 49202.637, 49375.637,\n",
       "          49547.637],\n",
       "         [50040.137, 50158.887, 50280.637, ..., 49737.137, 49824.887,\n",
       "          49927.637],\n",
       "         [50811.887, 50862.637, 50918.137, ..., 50704.137, 50731.637,\n",
       "          50767.887]]],\n",
       "\n",
       "\n",
       "       [[[51200.395, 51232.895, 51266.395, ..., 51113.145, 51140.895,\n",
       "          51169.895],\n",
       "         [50685.395, 50700.145, 50733.895, ..., 50737.645, 50708.145,\n",
       "          50689.145],\n",
       "         [50529.895, 50393.895, 50304.145, ..., 51079.895, 50896.145,\n",
       "          50703.645],\n",
       "         ...,\n",
       "         [50517.145, 50640.395, 50751.895, ..., 50216.895, 50296.645,\n",
       "          50398.395],\n",
       "         [50966.895, 51048.145, 51115.395, ..., 50674.895, 50776.895,\n",
       "          50875.145],\n",
       "         [50995.895, 51036.895, 51071.895, ..., 50849.895, 50901.145,\n",
       "          50950.395]],\n",
       "\n",
       "        [[51156.07 , 51190.82 , 51224.07 , ..., 51047.82 , 51084.82 ,\n",
       "          51120.82 ],\n",
       "         [50859.82 , 50873.57 , 50905.57 , ..., 50897.32 , 50877.07 ,\n",
       "          50862.32 ],\n",
       "         [50684.07 , 50533.32 , 50442.82 , ..., 51295.07 , 51095.32 ,\n",
       "          50880.07 ],\n",
       "         ...,\n",
       "         [50514.82 , 50620.57 , 50707.07 , ..., 50196.07 , 50294.32 ,\n",
       "          50402.57 ],\n",
       "         [50848.32 , 50915.57 , 50968.32 , ..., 50585.82 , 50680.32 ,\n",
       "          50768.82 ],\n",
       "         [50853.57 , 50885.07 , 50912.07 , ..., 50739.57 , 50779.57 ,\n",
       "          50818.07 ]],\n",
       "\n",
       "        [[50917.977, 50948.227, 50975.727, ..., 50813.477, 50850.477,\n",
       "          50885.477],\n",
       "         [50862.477, 50872.477, 50893.727, ..., 50869.977, 50866.477,\n",
       "          50861.977],\n",
       "         [50845.227, 50696.727, 50598.977, ..., 51373.227, 51214.227,\n",
       "          51027.227],\n",
       "         ...,\n",
       "         [50470.227, 50555.727, 50615.727, ..., 50150.727, 50258.977,\n",
       "          50367.977],\n",
       "         [50761.477, 50814.477, 50853.727, ..., 50541.227, 50621.727,\n",
       "          50696.227],\n",
       "         [50800.977, 50821.727, 50838.727, ..., 50724.727, 50751.477,\n",
       "          50777.227]],\n",
       "\n",
       "        ...,\n",
       "\n",
       "        [[49880.44 , 49953.44 , 50017.19 , ..., 49614.44 , 49709.94 ,\n",
       "          49798.94 ],\n",
       "         [50375.44 , 50452.94 , 50518.44 , ..., 50057.44 , 50179.69 ,\n",
       "          50284.94 ],\n",
       "         [50729.19 , 50672.44 , 50624.19 , ..., 50742.19 , 50786.94 ,\n",
       "          50775.44 ],\n",
       "         ...,\n",
       "         [49403.44 , 49480.19 , 49558.44 , ..., 49205.44 , 49261.19 ,\n",
       "          49329.44 ],\n",
       "         [50075.19 , 50128.69 , 50192.44 , ..., 49999.69 , 50007.94 ,\n",
       "          50033.94 ],\n",
       "         [50974.69 , 50985.19 , 51000.44 , ..., 50980.44 , 50971.69 ,\n",
       "          50969.94 ]],\n",
       "\n",
       "        [[49817.508, 49890.758, 49955.258, ..., 49550.008, 49646.258,\n",
       "          49735.758],\n",
       "         [50385.258, 50457.258, 50515.508, ..., 50064.508, 50191.008,\n",
       "          50297.258],\n",
       "         [50906.508, 50843.008, 50770.008, ..., 50818.758, 50913.508,\n",
       "          50937.258],\n",
       "         ...,\n",
       "         [49438.008, 49538.508, 49634.258, ..., 49150.258, 49237.008,\n",
       "          49335.758],\n",
       "         [50021.008, 50084.008, 50154.258, ..., 49906.508, 49929.008,\n",
       "          49968.258],\n",
       "         [50856.008, 50869.758, 50888.008, ..., 50850.508, 50845.758,\n",
       "          50847.758]],\n",
       "\n",
       "        [[49840.902, 49911.402, 49973.152, ..., 49581.152, 49675.152,\n",
       "          49761.902],\n",
       "         [50450.152, 50517.402, 50567.402, ..., 50123.652, 50254.652,\n",
       "          50363.152],\n",
       "         [51057.652, 51004.402, 50920.652, ..., 50837.902, 50986.402,\n",
       "          51057.652],\n",
       "         ...,\n",
       "         [49533.402, 49651.402, 49759.152, ..., 49172.902, 49285.402,\n",
       "          49409.152],\n",
       "         [50015.152, 50085.152, 50159.652, ..., 49866.902, 49902.152,\n",
       "          49952.902],\n",
       "         [50774.652, 50790.902, 50811.402, ..., 50759.152, 50757.902,\n",
       "          50763.402]]],\n",
       "\n",
       "\n",
       "       ...,\n",
       "\n",
       "\n",
       "       [[[49454.266, 49468.766, 49480.016, ..., 49396.516, 49417.266,\n",
       "          49436.766],\n",
       "         [49789.516, 49808.266, 49817.266, ..., 49663.016, 49717.266,\n",
       "          49759.516],\n",
       "         [50137.016, 50121.516, 50102.016, ..., 50059.266, 50113.266,\n",
       "          50137.266],\n",
       "         ...,\n",
       "         [50271.266, 50308.266, 50351.266, ..., 50151.516, 50199.016,\n",
       "          50236.766],\n",
       "         [50945.016, 51008.766, 51063.766, ..., 50688.266, 50785.766,\n",
       "          50871.266],\n",
       "         [51059.766, 51116.766, 51167.766, ..., 50857.266, 50929.516,\n",
       "          50997.266]],\n",
       "\n",
       "        [[49617.418, 49609.918, 49599.418, ..., 49626.168, 49625.168,\n",
       "          49622.668],\n",
       "         [49944.918, 49930.168, 49907.168, ..., 49911.418, 49937.168,\n",
       "          49947.918],\n",
       "         [50286.168, 50228.418, 50160.418, ..., 50280.668, 50319.918,\n",
       "          50319.918],\n",
       "         ...,\n",
       "         [50381.918, 50422.668, 50465.418, ..., 50221.418, 50286.918,\n",
       "          50338.668],\n",
       "         [50906.668, 50982.418, 51048.418, ..., 50614.418, 50722.168,\n",
       "          50819.918],\n",
       "         [51002.668, 51057.168, 51106.168, ..., 50812.168, 50879.168,\n",
       "          50942.918]],\n",
       "\n",
       "        [[49598.14 , 49590.64 , 49580.64 , ..., 49606.64 , 49605.64 ,\n",
       "          49602.89 ],\n",
       "         [49914.39 , 49912.89 , 49901.14 , ..., 49841.89 , 49879.64 ,\n",
       "          49903.64 ],\n",
       "         [50286.89 , 50261.89 , 50225.14 , ..., 50199.64 , 50262.89 ,\n",
       "          50290.14 ],\n",
       "         ...,\n",
       "         [50341.39 , 50361.14 , 50387.14 , ..., 50258.64 , 50297.39 ,\n",
       "          50322.39 ],\n",
       "         [50894.39 , 50952.89 , 51001.89 , ..., 50654.39 , 50745.39 ,\n",
       "          50825.39 ],\n",
       "         [50987.14 , 51031.39 , 51070.14 , ..., 50825.64 , 50883.64 ,\n",
       "          50937.64 ]],\n",
       "\n",
       "        ...,\n",
       "\n",
       "        [[50124.406, 50064.156, 49999.156, ..., 50266.406, 50226.406,\n",
       "          50178.906],\n",
       "         [50613.906, 50470.406, 50315.156, ..., 50912.906, 50840.656,\n",
       "          50739.406],\n",
       "         [51060.156, 50806.906, 50546.406, ..., 51557.656, 51454.156,\n",
       "          51282.906],\n",
       "         ...,\n",
       "         [50838.906, 50932.406, 50988.656, ..., 50462.406, 50588.656,\n",
       "          50719.406],\n",
       "         [50778.906, 50821.656, 50847.656, ..., 50583.656, 50654.906,\n",
       "          50721.656],\n",
       "         [50514.906, 50529.156, 50539.906, ..., 50456.156, 50477.906,\n",
       "          50497.656]],\n",
       "\n",
       "        [[50179.98 , 50118.98 , 50053.48 , ..., 50326.23 , 50284.48 ,\n",
       "          50235.48 ],\n",
       "         [50634.98 , 50490.48 , 50334.98 , ..., 50940.98 , 50865.23 ,\n",
       "          50761.73 ],\n",
       "         [51069.23 , 50816.23 , 50555.48 , ..., 51571.98 , 51464.73 ,\n",
       "          51292.23 ],\n",
       "         ...,\n",
       "         [50814.73 , 50894.98 , 50940.48 , ..., 50489.48 , 50597.48 ,\n",
       "          50710.98 ],\n",
       "         [50786.23 , 50821.23 , 50840.48 , ..., 50618.73 , 50680.48 ,\n",
       "          50737.98 ],\n",
       "         [50548.48 , 50558.48 , 50565.23 , ..., 50502.73 , 50519.98 ,\n",
       "          50535.48 ]],\n",
       "\n",
       "        [[50181.266, 50121.016, 50056.516, ..., 50327.266, 50285.266,\n",
       "          50236.266],\n",
       "         [50612.516, 50470.266, 50316.516, ..., 50915.016, 50839.766,\n",
       "          50737.516],\n",
       "         [51054.016, 50805.016, 50546.516, ..., 51548.766, 51442.266,\n",
       "          51272.516],\n",
       "         ...,\n",
       "         [50828.516, 50900.766, 50941.016, ..., 50538.266, 50633.766,\n",
       "          50735.016],\n",
       "         [50833.516, 50863.516, 50878.266, ..., 50684.516, 50740.016,\n",
       "          50791.266],\n",
       "         [50613.016, 50620.266, 50624.516, ..., 50575.016, 50589.766,\n",
       "          50602.516]]],\n",
       "\n",
       "\n",
       "       [[[49385.414, 49388.414, 49388.664, ..., 49363.414, 49372.164,\n",
       "          49379.914],\n",
       "         [49811.414, 49818.414, 49815.914, ..., 49712.664, 49759.414,\n",
       "          49792.414],\n",
       "         [50250.414, 50222.164, 50188.914, ..., 50170.914, 50236.164,\n",
       "          50259.414],\n",
       "         ...,\n",
       "         [50245.664, 50304.164, 50363.664, ..., 50082.414, 50136.914,\n",
       "          50190.164],\n",
       "         [50888.164, 50962.664, 51029.664, ..., 50617.914, 50715.914,\n",
       "          50805.914],\n",
       "         [51076.664, 51136.414, 51190.914, ..., 50870.164, 50942.914,\n",
       "          51011.914]],\n",
       "\n",
       "        [[49369.918, 49355.418, 49338.668, ..., 49403.418, 49393.668,\n",
       "          49382.668],\n",
       "         [49814.418, 49798.418, 49774.668, ..., 49787.668, 49810.668,\n",
       "          49819.418],\n",
       "         [50275.668, 50222.168, 50163.418, ..., 50257.418, 50305.168,\n",
       "          50307.918],\n",
       "         ...,\n",
       "         [50321.918, 50354.168, 50384.418, ..., 50179.918, 50238.668,\n",
       "          50284.668],\n",
       "         [50836.418, 50905.418, 50964.918, ..., 50571.168, 50668.918,\n",
       "          50757.418],\n",
       "         [50957.918, 51007.418, 51051.918, ..., 50783.418, 50845.168,\n",
       "          50903.418]],\n",
       "\n",
       "        [[49460.11 , 49443.36 , 49424.36 , ..., 49500.36 , 49488.61 ,\n",
       "          49475.36 ],\n",
       "         [49863.11 , 49851.61 , 49830.86 , ..., 49823.36 , 49849.86 ,\n",
       "          49863.11 ],\n",
       "         [50329.61 , 50301.11 , 50263.86 , ..., 50250.11 , 50314.11 ,\n",
       "          50337.86 ],\n",
       "         ...,\n",
       "         [50307.86 , 50334.86 , 50365.11 , ..., 50196.61 , 50244.36 ,\n",
       "          50279.61 ],\n",
       "         [50886.11 , 50949.11 , 51002.86 , ..., 50638.11 , 50730.11 ,\n",
       "          50813.11 ],\n",
       "         [50982.11 , 51024.36 , 51060.86 , ..., 50827.11 , 50882.61 ,\n",
       "          50934.61 ]],\n",
       "\n",
       "        ...,\n",
       "\n",
       "        [[50139.67 , 50071.92 , 50002.17 , ..., 50317.42 , 50263.67 ,\n",
       "          50203.92 ],\n",
       "         [50443.42 , 50283.92 , 50120.17 , ..., 50828.92 , 50722.17 ,\n",
       "          50591.67 ],\n",
       "         [50815.17 , 50538.17 , 50267.17 , ..., 51462.42 , 51297.67 ,\n",
       "          51075.67 ],\n",
       "         ...,\n",
       "         [50804.17 , 50890.92 , 50948.42 , ..., 50502.42 , 50596.17 ,\n",
       "          50701.17 ],\n",
       "         [50850.17 , 50884.92 , 50905.17 , ..., 50695.42 , 50750.42 ,\n",
       "          50803.67 ],\n",
       "         [50698.42 , 50704.17 , 50707.17 , ..., 50668.92 , 50680.17 ,\n",
       "          50690.17 ]],\n",
       "\n",
       "        [[50159.78 , 50093.53 , 50025.28 , ..., 50333.78 , 50280.78 ,\n",
       "          50222.53 ],\n",
       "         [50432.28 , 50276.78 , 50116.78 , ..., 50810.28 , 50704.78 ,\n",
       "          50577.03 ],\n",
       "         [50779.28 , 50511.28 , 50249.03 , ..., 51421.28 , 51253.03 ,\n",
       "          51033.03 ],\n",
       "         ...,\n",
       "         [50755.03 , 50833.28 , 50887.28 , ..., 50495.78 , 50574.53 ,\n",
       "          50664.78 ],\n",
       "         [50840.28 , 50871.53 , 50890.03 , ..., 50705.28 , 50752.78 ,\n",
       "          50799.28 ],\n",
       "         [50724.28 , 50728.28 , 50729.53 , ..., 50703.03 , 50711.28 ,\n",
       "          50718.53 ]],\n",
       "\n",
       "        [[50221.914, 50156.664, 50088.914, ..., 50392.664, 50340.914,\n",
       "          50283.664],\n",
       "         [50486.664, 50333.414, 50175.414, ..., 50860.414, 50755.664,\n",
       "          50629.414],\n",
       "         [50825.664, 50563.664, 50307.664, ..., 51469.914, 51297.164,\n",
       "          51076.414],\n",
       "         ...,\n",
       "         [50778.414, 50850.414, 50903.914, ..., 50554.414, 50620.664,\n",
       "          50698.414],\n",
       "         [50886.414, 50914.664, 50932.414, ..., 50768.664, 50809.414,\n",
       "          50849.914],\n",
       "         [50799.914, 50802.164, 50802.414, ..., 50785.914, 50791.414,\n",
       "          50796.164]]],\n",
       "\n",
       "\n",
       "       [[[49305.742, 49303.492, 49298.742, ..., 49305.242, 49305.992,\n",
       "          49306.492],\n",
       "         [49774.492, 49783.242, 49785.242, ..., 49684.242, 49725.992,\n",
       "          49755.992],\n",
       "         [50261.492, 50229.992, 50200.992, ..., 50188.492, 50257.742,\n",
       "          50277.242],\n",
       "         ...,\n",
       "         [50288.742, 50345.742, 50393.742, ..., 50094.742, 50161.992,\n",
       "          50226.742],\n",
       "         [50867.492, 50943.492, 51010.242, ..., 50588.242, 50688.992,\n",
       "          50782.492],\n",
       "         [51051.992, 51112.992, 51168.742, ..., 50844.492, 50916.992,\n",
       "          50986.242]],\n",
       "\n",
       "        [[49375.86 , 49360.61 , 49344.86 , ..., 49420.86 , 49405.61 ,\n",
       "          49390.61 ],\n",
       "         [49782.61 , 49776.11 , 49768.36 , ..., 49764.36 , 49778.61 ,\n",
       "          49784.11 ],\n",
       "         [50234.36 , 50179.11 , 50136.86 , ..., 50262.61 , 50296.61 ,\n",
       "          50281.11 ],\n",
       "         ...,\n",
       "         [50405.11 , 50434.61 , 50457.11 , ..., 50249.86 , 50314.86 ,\n",
       "          50366.11 ],\n",
       "         [50910.86 , 50976.86 , 51032.36 , ..., 50652.36 , 50747.86 ,\n",
       "          50834.36 ],\n",
       "         [50986.11 , 51033.11 , 51074.36 , ..., 50818.86 , 50878.36 ,\n",
       "          50934.36 ]],\n",
       "\n",
       "        [[49325.65 , 49309.65 , 49292.9  , ..., 49371.15 , 49356.15 ,\n",
       "          49341.15 ],\n",
       "         [49742.9  , 49734.65 , 49722.65 , ..., 49720.4  , 49737.65 ,\n",
       "          49744.9  ],\n",
       "         [50237.4  , 50191.4  , 50148.9  , ..., 50208.9  , 50262.15 ,\n",
       "          50267.15 ],\n",
       "         ...,\n",
       "         [50350.15 , 50375.9  , 50402.15 , ..., 50232.65 , 50283.65 ,\n",
       "          50321.4  ],\n",
       "         [50951.65 , 51009.4  , 51056.4  , ..., 50713.9  , 50803.15 ,\n",
       "          50882.65 ],\n",
       "         [51014.9  , 51052.65 , 51083.9  , ..., 50869.9  , 50922.9  ,\n",
       "          50971.4  ]],\n",
       "\n",
       "        ...,\n",
       "\n",
       "        [[50285.543, 50218.793, 50148.543, ..., 50452.793, 50403.293,\n",
       "          50347.293],\n",
       "         [50757.043, 50606.543, 50438.293, ..., 51055.293, 50984.543,\n",
       "          50884.043],\n",
       "         [51411.793, 51159.793, 50873.293, ..., 51857.543, 51769.293,\n",
       "          51618.043],\n",
       "         ...,\n",
       "         [50854.543, 50946.543, 51013.793, ..., 50587.543, 50662.293,\n",
       "          50754.793],\n",
       "         [50928.043, 50961.293, 50980.293, ..., 50785.793, 50835.043,\n",
       "          50884.293],\n",
       "         [50824.293, 50825.543, 50824.043, ..., 50809.293, 50815.543,\n",
       "          50820.793]],\n",
       "\n",
       "        [[50377.1  , 50312.35 , 50243.85 , ..., 50539.1  , 50491.35 ,\n",
       "          50437.1  ],\n",
       "         [50822.6  , 50673.6  , 50507.35 , ..., 51125.6  , 51051.6  ,\n",
       "          50949.85 ],\n",
       "         [51447.6  , 51197.1  , 50917.1  , ..., 51929.85 , 51823.6  ,\n",
       "          51659.6  ],\n",
       "         ...,\n",
       "         [50863.85 , 50944.85 , 51006.85 , ..., 50638.6  , 50700.85 ,\n",
       "          50778.6  ],\n",
       "         [50955.85 , 50984.6  , 51000.85 , ..., 50833.85 , 50875.85 ,\n",
       "          50918.1  ],\n",
       "         [50885.6  , 50884.85 , 50881.85 , ..., 50878.85 , 50882.1  ,\n",
       "          50884.6  ]],\n",
       "\n",
       "        [[50433.574, 50370.574, 50304.074, ..., 50590.574, 50544.324,\n",
       "          50491.824],\n",
       "         [50845.074, 50696.324, 50532.074, ..., 51157.824, 51079.324,\n",
       "          50973.824],\n",
       "         [51440.824, 51188.824, 50913.574, ..., 51964.324, 51839.824,\n",
       "          51661.324],\n",
       "         ...,\n",
       "         [50863.574, 50933.324, 50990.824, ..., 50684.824, 50732.074,\n",
       "          50793.574],\n",
       "         [50980.324, 51004.324, 51018.324, ..., 50882.824, 50915.574,\n",
       "          50949.324],\n",
       "         [50945.324, 50942.324, 50937.574, ..., 50948.074, 50947.824,\n",
       "          50947.074]]]], dtype=float32)\n",
       "Coordinates:\n",
       "  * time       (time) datetime64[ns] 2017-01-01 ... 2017-12-31T18:00:00\n",
       "  * lead_time  (lead_time) int64 0 6 12 18 24 30 36 ... 138 144 150 156 162 168\n",
       "  * lat        (lat) float64 87.19 81.56 75.94 70.31 ... -75.94 -81.56 -87.19\n",
       "  * lon        (lon) float64 0.0 5.625 11.25 16.88 ... 337.5 343.1 348.8 354.4"
      ]
     },
     "execution_count": 150,
     "metadata": {},
     "output_type": "execute_result"
    }
   ],
   "source": [
    "t21_by_lead"
   ]
  },
  {
   "cell_type": "code",
   "execution_count": 133,
   "metadata": {
    "Collapsed": "false"
   },
   "outputs": [],
   "source": [
    "tigge_by_lead.to_netcdf(f'{PREDDIR}/tigge_5.625deg.nc')\n",
    "t21_by_lead.to_netcdf(f'{PREDDIR}/t21_5.625deg.nc')"
   ]
  },
  {
   "cell_type": "code",
   "execution_count": 134,
   "metadata": {
    "Collapsed": "false"
   },
   "outputs": [],
   "source": [
    "rmses_tigge = evaluate_iterative_forecast(tigge_by_lead, z500_validation)"
   ]
  },
  {
   "cell_type": "code",
   "execution_count": 135,
   "metadata": {
    "Collapsed": "false"
   },
   "outputs": [],
   "source": [
    "rmses_t21 = evaluate_iterative_forecast(t21_by_lead.isel(lead_time=slice(0, 21)), z500_validation)"
   ]
  },
  {
   "cell_type": "code",
   "execution_count": 145,
   "metadata": {
    "Collapsed": "false"
   },
   "outputs": [
    {
     "data": {
      "text/plain": [
       "<matplotlib.legend.Legend at 0x7f463c7ba518>"
      ]
     },
     "execution_count": 145,
     "metadata": {},
     "output_type": "execute_result"
    },
    {
     "data": {
      "image/png": "[encoded data removed]",
      "text/plain": [
       "<Figure size 432x288 with 1 Axes>"
      ]
     },
     "metadata": {},
     "output_type": "display_data"
    }
   ],
   "source": [
    "rmses_tigge.plot(label='tigge')\n",
    "rmses_t21.plot(label='IFS_T21')\n",
    "plt.legend()"
   ]
  },
  {
   "cell_type": "code",
   "execution_count": null,
   "metadata": {
    "Collapsed": "false"
   },
   "outputs": [],
   "source": []
  }
 ],
 "metadata": {
  "kernelspec": {
   "display_name": "Python 3",
   "language": "python",
   "name": "python3"
  },
  "language_info": {
   "codemirror_mode": {
    "name": "ipython",
    "version": 3
   },
   "file_extension": ".py",
   "mimetype": "text/x-python",
   "name": "python",
   "nbconvert_exporter": "python",
   "pygments_lexer": "ipython3",
   "version": "3.7.3"
  }
 },
 "nbformat": 4,
 "nbformat_minor": 4
}
