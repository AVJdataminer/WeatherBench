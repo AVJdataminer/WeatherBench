{
 "cells": [
  {
   "cell_type": "code",
   "execution_count": 1,
   "metadata": {
    "Collapsed": "false"
   },
   "outputs": [],
   "source": [
    "%load_ext autoreload\n",
    "%autoreload 2"
   ]
  },
  {
   "cell_type": "code",
   "execution_count": 2,
   "metadata": {
    "Collapsed": "false"
   },
   "outputs": [],
   "source": [
    "import numpy as np\n",
    "import xarray as xr\n",
    "import matplotlib.pyplot as plt\n",
    "import seaborn as sns\n",
    "from src.score import *"
   ]
  },
  {
   "cell_type": "code",
   "execution_count": 3,
   "metadata": {
    "Collapsed": "false"
   },
   "outputs": [],
   "source": [
    "sns.set_style('darkgrid')\n",
    "sns.set_context('notebook')"
   ]
  },
  {
   "cell_type": "code",
   "execution_count": 5,
   "metadata": {
    "Collapsed": "false"
   },
   "outputs": [],
   "source": [
    "DATADIR = '/data/weather-benchmark/5.625deg/geopotential_500/'\n",
    "PREDDIR = '/data/weather-benchmark/predictions/'"
   ]
  },
  {
   "cell_type": "code",
   "execution_count": 27,
   "metadata": {
    "Collapsed": "false"
   },
   "outputs": [
    {
     "name": "stderr",
     "output_type": "stream",
     "text": [
      "/home/rasp/repositories/weather-benchmark/notebooks/src/score.py:24: FutureWarning: In xarray version 0.14 the default behaviour of `open_mfdataset`\n",
      "will change. To retain the existing behavior, pass\n",
      "combine='nested'. To use future default behavior, pass\n",
      "combine='by_coords'. See\n",
      "http://xarray.pydata.org/en/stable/combining.html#combining-multi\n",
      "\n",
      "  ds = xr.open_mfdataset(f'{path}/*.nc')[var]\n",
      "/home/rasp/miniconda3/lib/python3.7/site-packages/xarray/backends/api.py:934: FutureWarning: The datasets supplied have global dimension coordinates. You may want\n",
      "to use the new `combine_by_coords` function (or the\n",
      "`combine='by_coords'` option to `open_mfdataset`) to order the datasets\n",
      "before concatenation. Alternatively, to continue concatenating based\n",
      "on the order the datasets are supplied in future, please use the new\n",
      "`combine_nested` function (or the `combine='nested'` option to\n",
      "open_mfdataset).\n",
      "  from_openmfds=True,\n"
     ]
    }
   ],
   "source": [
    "z500_validation = load_test_data(DATADIR)"
   ]
  },
  {
   "cell_type": "code",
   "execution_count": 37,
   "metadata": {
    "Collapsed": "false"
   },
   "outputs": [
    {
     "name": "stderr",
     "output_type": "stream",
     "text": [
      "/home/rasp/miniconda3/lib/python3.7/site-packages/ipykernel_launcher.py:1: FutureWarning: In xarray version 0.14 the default behaviour of `open_mfdataset`\n",
      "will change. To retain the existing behavior, pass\n",
      "combine='nested'. To use future default behavior, pass\n",
      "combine='by_coords'. See\n",
      "http://xarray.pydata.org/en/stable/combining.html#combining-multi\n",
      "\n",
      "  \"\"\"Entry point for launching an IPython kernel.\n",
      "/home/rasp/miniconda3/lib/python3.7/site-packages/xarray/backends/api.py:934: FutureWarning: The datasets supplied do not have global dimension coordinates. In\n",
      "future, to continue concatenating without supplying dimension\n",
      "coordinates, please use the new `combine_nested` function (or the\n",
      "`combine='nested'` option to open_mfdataset.\n",
      "  from_openmfds=True,\n"
     ]
    }
   ],
   "source": [
    "tigge = xr.open_mfdataset('/data/weather-benchmark/tigge/5.625deg/*').gh.squeeze() * 9.807"
   ]
  },
  {
   "cell_type": "code",
   "execution_count": 40,
   "metadata": {
    "Collapsed": "false"
   },
   "outputs": [],
   "source": [
    "tigge.load();"
   ]
  },
  {
   "cell_type": "code",
   "execution_count": 41,
   "metadata": {
    "Collapsed": "false"
   },
   "outputs": [
    {
     "data": {
      "text/plain": [
       "<xarray.DataArray 'gh' (time: 15330, lat: 32, lon: 64)>\n",
       "array([[[50927.77 , 50950.164, 50972.363, ..., 50874.1  , 50889.215,\n",
       "         50906.95 ],\n",
       "        [50623.676, 50722.504, 50823.86 , ..., 50420.47 , 50487.35 ,\n",
       "         50550.32 ],\n",
       "        [50645.36 , 50872.19 , 51065.07 , ..., 50144.363, 50268.527,\n",
       "         50422.008],\n",
       "        ...,\n",
       "        [50758.984, 50520.785, 50270.074, ..., 51331.62 , 51154.598,\n",
       "         50967.785],\n",
       "        [50907.543, 50891.516, 50863.344, ..., 50773.15 , 50803.57 ,\n",
       "         50859.28 ],\n",
       "        [51196.35 , 51209.695, 51222.652, ..., 51141.992, 51160.84 ,\n",
       "         51180.83 ]],\n",
       "\n",
       "       [[50900.203, 50923.63 , 50947.57 , ..., 50843.266, 50858.6  ,\n",
       "         50878.117],\n",
       "        [50699.887, 50809.85 , 50906.395, ..., 50416.715, 50455.13 ,\n",
       "         50582.617],\n",
       "        [50720.   , 50939.47 , 51113.387, ..., 50118.72 , 50257.67 ,\n",
       "         50461.215],\n",
       "        ...,\n",
       "        [50759.918, 50531.695, 50278.344, ..., 51326.516, 51147.656,\n",
       "         50948.777],\n",
       "        [50876.49 , 50873.87 , 50861.348, ..., 50627.57 , 50720.742,\n",
       "         50831.895],\n",
       "        [51117.72 , 51139.336, 51164.61 , ..., 51063.562, 51083.99 ,\n",
       "         51100.89 ]],\n",
       "\n",
       "       [[50948.863, 50969.457, 50991.33 , ..., 50897.953, 50912.625,\n",
       "         50930.16 ],\n",
       "        [50825.13 , 50929.527, 51018.82 , ..., 50485.168, 50588.094,\n",
       "         50707.617],\n",
       "        [50801.15 , 51025.664, 51150.242, ..., 50148.168, 50356.617,\n",
       "         50573.516],\n",
       "        ...,\n",
       "        [50739.547, 50541.33 , 50280.246, ..., 51210.28 , 51113.71 ,\n",
       "         50937.168],\n",
       "        [50835.164, 50853.316, 50877.715, ..., 50568.766, 50680.97 ,\n",
       "         50789.18 ],\n",
       "        [51098.727, 51120.18 , 51140.79 , ..., 51031.516, 51055.383,\n",
       "         51077.188]],\n",
       "\n",
       "       ...,\n",
       "\n",
       "       [[50674.887, 50726.64 , 50775.91 , ..., 50519.727, 50570.285,\n",
       "         50622.21 ],\n",
       "        [50861.066, 50991.91 , 51126.008, ..., 50401.223, 50591.49 ,\n",
       "         50731.324],\n",
       "        [50505.45 , 50583.87 , 50658.605, ..., 50183.816, 50359.92 ,\n",
       "         50474.54 ],\n",
       "        ...,\n",
       "        [49408.79 , 49311.664, 49336.406, ..., 49867.06 , 49657.24 ,\n",
       "         49563.223],\n",
       "        [49348.223, 49254.367, 49186.387, ..., 49506.   , 49508.633,\n",
       "         49445.926],\n",
       "        [49851.44 , 49824.53 , 49798.156, ..., 49926.137, 49903.12 ,\n",
       "         49877.387]],\n",
       "\n",
       "       [[50830.895, 50876.605, 50919.234, ..., 50670.78 , 50725.754,\n",
       "         50779.76 ],\n",
       "        [50881.08 , 50987.676, 51098.78 , ..., 50517.64 , 50636.625,\n",
       "         50762.016],\n",
       "        [50359.66 , 50455.8  , 50562.24 , ..., 50198.31 , 50246.598,\n",
       "         50283.34 ],\n",
       "        ...,\n",
       "        [49629.688, 49465.324, 49372.16 , ..., 50064.133, 49850.26 ,\n",
       "         49675.273],\n",
       "        [49381.49 , 49277.406, 49214.59 , ..., 49638.734, 49582.33 ,\n",
       "         49494.645],\n",
       "        [49919.11 , 49892.695, 49868.69 , ..., 50001.734, 49974.41 ,\n",
       "         49946.434]],\n",
       "\n",
       "       [[50960.11 , 51001.777, 51042.414, ..., 50822.945, 50873.78 ,\n",
       "         50918.65 ],\n",
       "        [50873.61 , 50952.203, 51062.79 , ..., 50591.12 , 50711.18 ,\n",
       "         50803.586],\n",
       "        [50345.867, 50451.582, 50559.08 , ..., 50189.13 , 50204.43 ,\n",
       "         50250.57 ],\n",
       "        ...,\n",
       "        [49554.223, 49534.434, 49482.113, ..., 50210.23 , 49936.727,\n",
       "         49685.01 ],\n",
       "        [49519.742, 49419.836, 49354.277, ..., 49837.5  , 49754.97 ,\n",
       "         49647.2  ],\n",
       "        [50109.312, 50087.77 , 50068.836, ..., 50180.664, 50156.81 ,\n",
       "         50132.625]]], dtype=float32)\n",
       "Coordinates:\n",
       "  * lon      (lon) float64 0.0 5.625 11.25 16.88 ... 337.5 343.1 348.8 354.4\n",
       "  * lat      (lat) float64 -87.19 -81.56 -75.94 -70.31 ... 75.94 81.56 87.19\n",
       "    lev      float64 5e+04\n",
       "  * time     (time) datetime64[ns] 2017-01-01 ... 2018-01-05T12:00:00"
      ]
     },
     "execution_count": 41,
     "metadata": {},
     "output_type": "execute_result"
    }
   ],
   "source": [
    "tigge"
   ]
  },
  {
   "cell_type": "code",
   "execution_count": 14,
   "metadata": {
    "Collapsed": "false"
   },
   "outputs": [
    {
     "data": {
      "text/plain": [
       "730.0"
      ]
     },
     "execution_count": 14,
     "metadata": {},
     "output_type": "execute_result"
    }
   ],
   "source": [
    "15330 /21"
   ]
  },
  {
   "cell_type": "code",
   "execution_count": 60,
   "metadata": {
    "Collapsed": "false"
   },
   "outputs": [],
   "source": [
    "init_times = tigge.time[::21]"
   ]
  },
  {
   "cell_type": "code",
   "execution_count": 61,
   "metadata": {
    "Collapsed": "false"
   },
   "outputs": [
    {
     "data": {
      "text/plain": [
       "<xarray.DataArray 'time' (time: 730)>\n",
       "array(['2017-01-01T00:00:00.000000000', '2017-01-01T12:00:00.000000000',\n",
       "       '2017-01-02T00:00:00.000000000', ..., '2017-12-30T12:00:00.000000000',\n",
       "       '2017-12-31T00:00:00.000000000', '2017-12-31T12:00:00.000000000'],\n",
       "      dtype='datetime64[ns]')\n",
       "Coordinates:\n",
       "    lev      float64 5e+04\n",
       "  * time     (time) datetime64[ns] 2017-01-01 ... 2017-12-31T12:00:00\n",
       "Attributes:\n",
       "    standard_name:  time\n",
       "    axis:           T"
      ]
     },
     "execution_count": 61,
     "metadata": {},
     "output_type": "execute_result"
    }
   ],
   "source": [
    "init_times"
   ]
  },
  {
   "cell_type": "code",
   "execution_count": 62,
   "metadata": {
    "Collapsed": "false"
   },
   "outputs": [],
   "source": [
    "lead_times = xr.DataArray(\n",
    "    np.arange(0, 126, 6), dims=['lead_time'], coords={'lead_time': np.arange(0, 126, 6)})"
   ]
  },
  {
   "cell_type": "code",
   "execution_count": 63,
   "metadata": {
    "Collapsed": "false"
   },
   "outputs": [
    {
     "data": {
      "text/plain": [
       "<xarray.DataArray (lead_time: 21)>\n",
       "array([  0,   6,  12,  18,  24,  30,  36,  42,  48,  54,  60,  66,  72,\n",
       "        78,  84,  90,  96, 102, 108, 114, 120])\n",
       "Coordinates:\n",
       "  * lead_time  (lead_time) int64 0 6 12 18 24 30 36 ... 84 90 96 102 108 114 120"
      ]
     },
     "execution_count": 63,
     "metadata": {},
     "output_type": "execute_result"
    }
   ],
   "source": [
    "lead_times"
   ]
  },
  {
   "cell_type": "code",
   "execution_count": 64,
   "metadata": {
    "Collapsed": "false"
   },
   "outputs": [
    {
     "data": {
      "text/plain": [
       "(21, 730)"
      ]
     },
     "execution_count": 64,
     "metadata": {},
     "output_type": "execute_result"
    }
   ],
   "source": [
    "(len(lead_times)), len(init_times)"
   ]
  },
  {
   "cell_type": "code",
   "execution_count": 65,
   "metadata": {
    "Collapsed": "false"
   },
   "outputs": [],
   "source": [
    "tigge_by_lead = xr.DataArray(\n",
    "    tigge.values.reshape((len(init_times), len(lead_times), 32, 64)),\n",
    "    dims = ['time', 'lead_time', 'lat', 'lon'],\n",
    "    coords = {'time': init_times, 'lead_time': lead_times, 'lat': tigge.lat, 'lon': tigge.lon}\n",
    ")"
   ]
  },
  {
   "cell_type": "code",
   "execution_count": 69,
   "metadata": {
    "Collapsed": "false"
   },
   "outputs": [],
   "source": [
    "tigge_by_lead.to_netcdf(f'{PREDDIR}/tigge_5.625deg.nc')"
   ]
  },
  {
   "cell_type": "code",
   "execution_count": 67,
   "metadata": {
    "Collapsed": "false"
   },
   "outputs": [],
   "source": [
    "rmses_tigge = evaluate_iterative_forecast(tigge_by_lead, z500_validation)"
   ]
  },
  {
   "cell_type": "code",
   "execution_count": 68,
   "metadata": {
    "Collapsed": "false"
   },
   "outputs": [
    {
     "data": {
      "text/plain": [
       "[<matplotlib.lines.Line2D at 0x7fb6f40df5f8>]"
      ]
     },
     "execution_count": 68,
     "metadata": {},
     "output_type": "execute_result"
    },
    {
     "data": {
      "image/png": "[encoded data removed]",
      "text/plain": [
       "<Figure size 432x288 with 1 Axes>"
      ]
     },
     "metadata": {},
     "output_type": "display_data"
    }
   ],
   "source": [
    "rmses_tigge.plot()"
   ]
  },
  {
   "cell_type": "code",
   "execution_count": null,
   "metadata": {
    "Collapsed": "false"
   },
   "outputs": [],
   "source": []
  }
 ],
 "metadata": {
  "kernelspec": {
   "display_name": "Python 3",
   "language": "python",
   "name": "python3"
  },
  "language_info": {
   "codemirror_mode": {
    "name": "ipython",
    "version": 3
   },
   "file_extension": ".py",
   "mimetype": "text/x-python",
   "name": "python",
   "nbconvert_exporter": "python",
   "pygments_lexer": "ipython3",
   "version": "3.7.3"
  }
 },
 "nbformat": 4,
 "nbformat_minor": 4
}
