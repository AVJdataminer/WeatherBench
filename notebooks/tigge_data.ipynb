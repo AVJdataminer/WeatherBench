{
 "cells": [
  {
   "cell_type": "code",
   "execution_count": 1,
   "metadata": {
    "Collapsed": "false"
   },
   "outputs": [],
   "source": [
    "%load_ext autoreload\n",
    "%autoreload 2"
   ]
  },
  {
   "cell_type": "code",
   "execution_count": 2,
   "metadata": {
    "Collapsed": "false"
   },
   "outputs": [],
   "source": [
    "import numpy as np\n",
    "import xarray as xr\n",
    "import matplotlib.pyplot as plt\n",
    "import seaborn as sns\n",
    "from src.score import *"
   ]
  },
  {
   "cell_type": "code",
   "execution_count": 3,
   "metadata": {
    "Collapsed": "false"
   },
   "outputs": [],
   "source": [
    "sns.set_style('darkgrid')\n",
    "sns.set_context('notebook')"
   ]
  },
  {
   "cell_type": "code",
   "execution_count": 4,
   "metadata": {
    "Collapsed": "false"
   },
   "outputs": [],
   "source": [
    "DATADIR = '/data/weather-benchmark/5.625deg/geopotential_500/'\n",
    "PREDDIR = '/data/weather-benchmark/predictions/'"
   ]
  },
  {
   "cell_type": "code",
   "execution_count": 5,
   "metadata": {
    "Collapsed": "false"
   },
   "outputs": [],
   "source": [
    "z500_validation = load_test_data(DATADIR, 'z')"
   ]
  },
  {
   "cell_type": "code",
   "execution_count": 6,
   "metadata": {
    "Collapsed": "false"
   },
   "outputs": [
    {
     "name": "stderr",
     "output_type": "stream",
     "text": [
      "/home/rasp/miniconda3/lib/python3.7/site-packages/ipykernel_launcher.py:1: FutureWarning: In xarray version 0.14 the default behaviour of `open_mfdataset`\n",
      "will change. To retain the existing behavior, pass\n",
      "combine='nested'. To use future default behavior, pass\n",
      "combine='by_coords'. See\n",
      "http://xarray.pydata.org/en/stable/combining.html#combining-multi\n",
      "\n",
      "  \"\"\"Entry point for launching an IPython kernel.\n",
      "/home/rasp/miniconda3/lib/python3.7/site-packages/xarray/backends/api.py:934: FutureWarning: The datasets supplied do not have global dimension coordinates. In\n",
      "future, to continue concatenating without supplying dimension\n",
      "coordinates, please use the new `combine_nested` function (or the\n",
      "`combine='nested'` option to open_mfdataset.The datasets supplied require both concatenation and merging. From\n",
      "xarray version 0.14 this will operation will require either using the\n",
      "new `combine_nested` function (or the `combine='nested'` option to\n",
      "open_mfdataset), with a nested list structure such that you can combine\n",
      "along the dimensions None. Alternatively if your datasets have global\n",
      "dimension coordinates then you can use the new `combine_by_coords`\n",
      "function.\n",
      "  from_openmfds=True,\n"
     ]
    }
   ],
   "source": [
    "tigge = xr.open_mfdataset('/data/weather-benchmark/tigge/5.625deg/*').gh.squeeze() * 9.807"
   ]
  },
  {
   "cell_type": "code",
   "execution_count": 9,
   "metadata": {
    "Collapsed": "false",
    "collapsed": true,
    "jupyter": {
     "outputs_hidden": true
    }
   },
   "outputs": [
    {
     "ename": "KeyboardInterrupt",
     "evalue": "",
     "output_type": "error",
     "traceback": [
      "\u001b[0;31m---------------------------------------------------------------------------\u001b[0m",
      "\u001b[0;31mKeyboardInterrupt\u001b[0m                         Traceback (most recent call last)",
      "\u001b[0;32m<ipython-input-9-5c626f352f45>\u001b[0m in \u001b[0;36m<module>\u001b[0;34m\u001b[0m\n\u001b[0;32m----> 1\u001b[0;31m \u001b[0mt21\u001b[0m \u001b[0;34m=\u001b[0m \u001b[0mxr\u001b[0m\u001b[0;34m.\u001b[0m\u001b[0mopen_mfdataset\u001b[0m\u001b[0;34m(\u001b[0m\u001b[0;34mf'/media/rasp/Elements/weather-benchmark/IFS_T21/raw/output_pl_5.625*.nc'\u001b[0m\u001b[0;34m)\u001b[0m\u001b[0;34m.\u001b[0m\u001b[0mz\u001b[0m\u001b[0;34m.\u001b[0m\u001b[0msel\u001b[0m\u001b[0;34m(\u001b[0m\u001b[0mlev\u001b[0m\u001b[0;34m=\u001b[0m\u001b[0;36m5e4\u001b[0m\u001b[0;34m)\u001b[0m\u001b[0;34m\u001b[0m\u001b[0;34m\u001b[0m\u001b[0m\n\u001b[0m",
      "\u001b[0;32m~/miniconda3/lib/python3.7/site-packages/xarray/backends/api.py\u001b[0m in \u001b[0;36mopen_mfdataset\u001b[0;34m(paths, chunks, concat_dim, compat, preprocess, engine, lock, data_vars, coords, combine, autoclose, parallel, join, **kwargs)\u001b[0m\n\u001b[1;32m    899\u001b[0m         \u001b[0mgetattr_\u001b[0m \u001b[0;34m=\u001b[0m \u001b[0mgetattr\u001b[0m\u001b[0;34m\u001b[0m\u001b[0;34m\u001b[0m\u001b[0m\n\u001b[1;32m    900\u001b[0m \u001b[0;34m\u001b[0m\u001b[0m\n\u001b[0;32m--> 901\u001b[0;31m     \u001b[0mdatasets\u001b[0m \u001b[0;34m=\u001b[0m \u001b[0;34m[\u001b[0m\u001b[0mopen_\u001b[0m\u001b[0;34m(\u001b[0m\u001b[0mp\u001b[0m\u001b[0;34m,\u001b[0m \u001b[0;34m**\u001b[0m\u001b[0mopen_kwargs\u001b[0m\u001b[0;34m)\u001b[0m \u001b[0;32mfor\u001b[0m \u001b[0mp\u001b[0m \u001b[0;32min\u001b[0m \u001b[0mpaths\u001b[0m\u001b[0;34m]\u001b[0m\u001b[0;34m\u001b[0m\u001b[0;34m\u001b[0m\u001b[0m\n\u001b[0m\u001b[1;32m    902\u001b[0m     \u001b[0mfile_objs\u001b[0m \u001b[0;34m=\u001b[0m \u001b[0;34m[\u001b[0m\u001b[0mgetattr_\u001b[0m\u001b[0;34m(\u001b[0m\u001b[0mds\u001b[0m\u001b[0;34m,\u001b[0m \u001b[0;34m\"_file_obj\"\u001b[0m\u001b[0;34m)\u001b[0m \u001b[0;32mfor\u001b[0m \u001b[0mds\u001b[0m \u001b[0;32min\u001b[0m \u001b[0mdatasets\u001b[0m\u001b[0;34m]\u001b[0m\u001b[0;34m\u001b[0m\u001b[0;34m\u001b[0m\u001b[0m\n\u001b[1;32m    903\u001b[0m     \u001b[0;32mif\u001b[0m \u001b[0mpreprocess\u001b[0m \u001b[0;32mis\u001b[0m \u001b[0;32mnot\u001b[0m \u001b[0;32mNone\u001b[0m\u001b[0;34m:\u001b[0m\u001b[0;34m\u001b[0m\u001b[0;34m\u001b[0m\u001b[0m\n",
      "\u001b[0;32m~/miniconda3/lib/python3.7/site-packages/xarray/backends/api.py\u001b[0m in \u001b[0;36m<listcomp>\u001b[0;34m(.0)\u001b[0m\n\u001b[1;32m    899\u001b[0m         \u001b[0mgetattr_\u001b[0m \u001b[0;34m=\u001b[0m \u001b[0mgetattr\u001b[0m\u001b[0;34m\u001b[0m\u001b[0;34m\u001b[0m\u001b[0m\n\u001b[1;32m    900\u001b[0m \u001b[0;34m\u001b[0m\u001b[0m\n\u001b[0;32m--> 901\u001b[0;31m     \u001b[0mdatasets\u001b[0m \u001b[0;34m=\u001b[0m \u001b[0;34m[\u001b[0m\u001b[0mopen_\u001b[0m\u001b[0;34m(\u001b[0m\u001b[0mp\u001b[0m\u001b[0;34m,\u001b[0m \u001b[0;34m**\u001b[0m\u001b[0mopen_kwargs\u001b[0m\u001b[0;34m)\u001b[0m \u001b[0;32mfor\u001b[0m \u001b[0mp\u001b[0m \u001b[0;32min\u001b[0m \u001b[0mpaths\u001b[0m\u001b[0;34m]\u001b[0m\u001b[0;34m\u001b[0m\u001b[0;34m\u001b[0m\u001b[0m\n\u001b[0m\u001b[1;32m    902\u001b[0m     \u001b[0mfile_objs\u001b[0m \u001b[0;34m=\u001b[0m \u001b[0;34m[\u001b[0m\u001b[0mgetattr_\u001b[0m\u001b[0;34m(\u001b[0m\u001b[0mds\u001b[0m\u001b[0;34m,\u001b[0m \u001b[0;34m\"_file_obj\"\u001b[0m\u001b[0;34m)\u001b[0m \u001b[0;32mfor\u001b[0m \u001b[0mds\u001b[0m \u001b[0;32min\u001b[0m \u001b[0mdatasets\u001b[0m\u001b[0;34m]\u001b[0m\u001b[0;34m\u001b[0m\u001b[0;34m\u001b[0m\u001b[0m\n\u001b[1;32m    903\u001b[0m     \u001b[0;32mif\u001b[0m \u001b[0mpreprocess\u001b[0m \u001b[0;32mis\u001b[0m \u001b[0;32mnot\u001b[0m \u001b[0;32mNone\u001b[0m\u001b[0;34m:\u001b[0m\u001b[0;34m\u001b[0m\u001b[0;34m\u001b[0m\u001b[0m\n",
      "\u001b[0;32m~/miniconda3/lib/python3.7/site-packages/xarray/backends/api.py\u001b[0m in \u001b[0;36mopen_dataset\u001b[0;34m(filename_or_obj, group, decode_cf, mask_and_scale, decode_times, autoclose, concat_characters, decode_coords, engine, chunks, lock, cache, drop_variables, backend_kwargs, use_cftime)\u001b[0m\n\u001b[1;32m    533\u001b[0m \u001b[0;34m\u001b[0m\u001b[0m\n\u001b[1;32m    534\u001b[0m     \u001b[0;32mwith\u001b[0m \u001b[0mclose_on_error\u001b[0m\u001b[0;34m(\u001b[0m\u001b[0mstore\u001b[0m\u001b[0;34m)\u001b[0m\u001b[0;34m:\u001b[0m\u001b[0;34m\u001b[0m\u001b[0;34m\u001b[0m\u001b[0m\n\u001b[0;32m--> 535\u001b[0;31m         \u001b[0mds\u001b[0m \u001b[0;34m=\u001b[0m \u001b[0mmaybe_decode_store\u001b[0m\u001b[0;34m(\u001b[0m\u001b[0mstore\u001b[0m\u001b[0;34m)\u001b[0m\u001b[0;34m\u001b[0m\u001b[0;34m\u001b[0m\u001b[0m\n\u001b[0m\u001b[1;32m    536\u001b[0m \u001b[0;34m\u001b[0m\u001b[0m\n\u001b[1;32m    537\u001b[0m     \u001b[0;31m# Ensure source filename always stored in dataset object (GH issue #2550)\u001b[0m\u001b[0;34m\u001b[0m\u001b[0;34m\u001b[0m\u001b[0;34m\u001b[0m\u001b[0m\n",
      "\u001b[0;32m~/miniconda3/lib/python3.7/site-packages/xarray/backends/api.py\u001b[0m in \u001b[0;36mmaybe_decode_store\u001b[0;34m(store, lock)\u001b[0m\n\u001b[1;32m    448\u001b[0m             \u001b[0mdecode_coords\u001b[0m\u001b[0;34m=\u001b[0m\u001b[0mdecode_coords\u001b[0m\u001b[0;34m,\u001b[0m\u001b[0;34m\u001b[0m\u001b[0;34m\u001b[0m\u001b[0m\n\u001b[1;32m    449\u001b[0m             \u001b[0mdrop_variables\u001b[0m\u001b[0;34m=\u001b[0m\u001b[0mdrop_variables\u001b[0m\u001b[0;34m,\u001b[0m\u001b[0;34m\u001b[0m\u001b[0;34m\u001b[0m\u001b[0m\n\u001b[0;32m--> 450\u001b[0;31m             \u001b[0muse_cftime\u001b[0m\u001b[0;34m=\u001b[0m\u001b[0muse_cftime\u001b[0m\u001b[0;34m,\u001b[0m\u001b[0;34m\u001b[0m\u001b[0;34m\u001b[0m\u001b[0m\n\u001b[0m\u001b[1;32m    451\u001b[0m         )\n\u001b[1;32m    452\u001b[0m \u001b[0;34m\u001b[0m\u001b[0m\n",
      "\u001b[0;32m~/miniconda3/lib/python3.7/site-packages/xarray/conventions.py\u001b[0m in \u001b[0;36mdecode_cf\u001b[0;34m(obj, concat_characters, mask_and_scale, decode_times, decode_coords, drop_variables, use_cftime)\u001b[0m\n\u001b[1;32m    585\u001b[0m         \u001b[0muse_cftime\u001b[0m\u001b[0;34m=\u001b[0m\u001b[0muse_cftime\u001b[0m\u001b[0;34m,\u001b[0m\u001b[0;34m\u001b[0m\u001b[0;34m\u001b[0m\u001b[0m\n\u001b[1;32m    586\u001b[0m     )\n\u001b[0;32m--> 587\u001b[0;31m     \u001b[0mds\u001b[0m \u001b[0;34m=\u001b[0m \u001b[0mDataset\u001b[0m\u001b[0;34m(\u001b[0m\u001b[0mvars\u001b[0m\u001b[0;34m,\u001b[0m \u001b[0mattrs\u001b[0m\u001b[0;34m=\u001b[0m\u001b[0mattrs\u001b[0m\u001b[0;34m)\u001b[0m\u001b[0;34m\u001b[0m\u001b[0;34m\u001b[0m\u001b[0m\n\u001b[0m\u001b[1;32m    588\u001b[0m     \u001b[0mds\u001b[0m \u001b[0;34m=\u001b[0m \u001b[0mds\u001b[0m\u001b[0;34m.\u001b[0m\u001b[0mset_coords\u001b[0m\u001b[0;34m(\u001b[0m\u001b[0mcoord_names\u001b[0m\u001b[0;34m.\u001b[0m\u001b[0munion\u001b[0m\u001b[0;34m(\u001b[0m\u001b[0mextra_coords\u001b[0m\u001b[0;34m)\u001b[0m\u001b[0;34m.\u001b[0m\u001b[0mintersection\u001b[0m\u001b[0;34m(\u001b[0m\u001b[0mvars\u001b[0m\u001b[0;34m)\u001b[0m\u001b[0;34m)\u001b[0m\u001b[0;34m\u001b[0m\u001b[0;34m\u001b[0m\u001b[0m\n\u001b[1;32m    589\u001b[0m     \u001b[0mds\u001b[0m\u001b[0;34m.\u001b[0m\u001b[0m_file_obj\u001b[0m \u001b[0;34m=\u001b[0m \u001b[0mfile_obj\u001b[0m\u001b[0;34m\u001b[0m\u001b[0;34m\u001b[0m\u001b[0m\n",
      "\u001b[0;32m~/miniconda3/lib/python3.7/site-packages/xarray/core/dataset.py\u001b[0m in \u001b[0;36m__init__\u001b[0;34m(self, data_vars, coords, attrs, compat)\u001b[0m\n\u001b[1;32m    508\u001b[0m         \u001b[0;32mif\u001b[0m \u001b[0mcoords\u001b[0m \u001b[0;32mis\u001b[0m \u001b[0;32mNone\u001b[0m\u001b[0;34m:\u001b[0m\u001b[0;34m\u001b[0m\u001b[0;34m\u001b[0m\u001b[0m\n\u001b[1;32m    509\u001b[0m             \u001b[0mcoords\u001b[0m \u001b[0;34m=\u001b[0m \u001b[0;34m{\u001b[0m\u001b[0;34m}\u001b[0m\u001b[0;34m\u001b[0m\u001b[0;34m\u001b[0m\u001b[0m\n\u001b[0;32m--> 510\u001b[0;31m         \u001b[0mself\u001b[0m\u001b[0;34m.\u001b[0m\u001b[0m_set_init_vars_and_dims\u001b[0m\u001b[0;34m(\u001b[0m\u001b[0mdata_vars\u001b[0m\u001b[0;34m,\u001b[0m \u001b[0mcoords\u001b[0m\u001b[0;34m,\u001b[0m \u001b[0mcompat\u001b[0m\u001b[0;34m)\u001b[0m\u001b[0;34m\u001b[0m\u001b[0;34m\u001b[0m\u001b[0m\n\u001b[0m\u001b[1;32m    511\u001b[0m \u001b[0;34m\u001b[0m\u001b[0m\n\u001b[1;32m    512\u001b[0m         \u001b[0;31m# TODO(shoyer): expose indexes as a public argument in __init__\u001b[0m\u001b[0;34m\u001b[0m\u001b[0;34m\u001b[0m\u001b[0;34m\u001b[0m\u001b[0m\n",
      "\u001b[0;32m~/miniconda3/lib/python3.7/site-packages/xarray/core/dataset.py\u001b[0m in \u001b[0;36m_set_init_vars_and_dims\u001b[0;34m(self, data_vars, coords, compat)\u001b[0m\n\u001b[1;32m    532\u001b[0m \u001b[0;34m\u001b[0m\u001b[0m\n\u001b[1;32m    533\u001b[0m         variables, coord_names, dims = merge_data_and_coords(\n\u001b[0;32m--> 534\u001b[0;31m             \u001b[0mdata_vars\u001b[0m\u001b[0;34m,\u001b[0m \u001b[0mcoords\u001b[0m\u001b[0;34m,\u001b[0m \u001b[0mcompat\u001b[0m\u001b[0;34m=\u001b[0m\u001b[0mcompat\u001b[0m\u001b[0;34m\u001b[0m\u001b[0;34m\u001b[0m\u001b[0m\n\u001b[0m\u001b[1;32m    535\u001b[0m         )\n\u001b[1;32m    536\u001b[0m \u001b[0;34m\u001b[0m\u001b[0m\n",
      "\u001b[0;32m~/miniconda3/lib/python3.7/site-packages/xarray/core/merge.py\u001b[0m in \u001b[0;36mmerge_data_and_coords\u001b[0;34m(data, coords, compat, join)\u001b[0m\n\u001b[1;32m    417\u001b[0m     \u001b[0mindexes\u001b[0m \u001b[0;34m=\u001b[0m \u001b[0mdict\u001b[0m\u001b[0;34m(\u001b[0m\u001b[0mextract_indexes\u001b[0m\u001b[0;34m(\u001b[0m\u001b[0mcoords\u001b[0m\u001b[0;34m)\u001b[0m\u001b[0;34m)\u001b[0m\u001b[0;34m\u001b[0m\u001b[0;34m\u001b[0m\u001b[0m\n\u001b[1;32m    418\u001b[0m     return merge_core(\n\u001b[0;32m--> 419\u001b[0;31m         \u001b[0mobjs\u001b[0m\u001b[0;34m,\u001b[0m \u001b[0mcompat\u001b[0m\u001b[0;34m,\u001b[0m \u001b[0mjoin\u001b[0m\u001b[0;34m,\u001b[0m \u001b[0mexplicit_coords\u001b[0m\u001b[0;34m=\u001b[0m\u001b[0mexplicit_coords\u001b[0m\u001b[0;34m,\u001b[0m \u001b[0mindexes\u001b[0m\u001b[0;34m=\u001b[0m\u001b[0mindexes\u001b[0m\u001b[0;34m\u001b[0m\u001b[0;34m\u001b[0m\u001b[0m\n\u001b[0m\u001b[1;32m    420\u001b[0m     )\n\u001b[1;32m    421\u001b[0m \u001b[0;34m\u001b[0m\u001b[0m\n",
      "\u001b[0;32m~/miniconda3/lib/python3.7/site-packages/xarray/core/merge.py\u001b[0m in \u001b[0;36mmerge_core\u001b[0;34m(objs, compat, join, priority_arg, explicit_coords, indexes, fill_value)\u001b[0m\n\u001b[1;32m    495\u001b[0m         \u001b[0mcoerced\u001b[0m\u001b[0;34m,\u001b[0m \u001b[0mjoin\u001b[0m\u001b[0;34m=\u001b[0m\u001b[0mjoin\u001b[0m\u001b[0;34m,\u001b[0m \u001b[0mcopy\u001b[0m\u001b[0;34m=\u001b[0m\u001b[0;32mFalse\u001b[0m\u001b[0;34m,\u001b[0m \u001b[0mindexes\u001b[0m\u001b[0;34m=\u001b[0m\u001b[0mindexes\u001b[0m\u001b[0;34m,\u001b[0m \u001b[0mfill_value\u001b[0m\u001b[0;34m=\u001b[0m\u001b[0mfill_value\u001b[0m\u001b[0;34m\u001b[0m\u001b[0;34m\u001b[0m\u001b[0m\n\u001b[1;32m    496\u001b[0m     )\n\u001b[0;32m--> 497\u001b[0;31m     \u001b[0mexpanded\u001b[0m \u001b[0;34m=\u001b[0m \u001b[0mexpand_variable_dicts\u001b[0m\u001b[0;34m(\u001b[0m\u001b[0maligned\u001b[0m\u001b[0;34m)\u001b[0m\u001b[0;34m\u001b[0m\u001b[0;34m\u001b[0m\u001b[0m\n\u001b[0m\u001b[1;32m    498\u001b[0m \u001b[0;34m\u001b[0m\u001b[0m\n\u001b[1;32m    499\u001b[0m     \u001b[0mcoord_names\u001b[0m\u001b[0;34m,\u001b[0m \u001b[0mnoncoord_names\u001b[0m \u001b[0;34m=\u001b[0m \u001b[0mdetermine_coords\u001b[0m\u001b[0;34m(\u001b[0m\u001b[0mcoerced\u001b[0m\u001b[0;34m)\u001b[0m\u001b[0;34m\u001b[0m\u001b[0;34m\u001b[0m\u001b[0m\n",
      "\u001b[0;32m~/miniconda3/lib/python3.7/site-packages/xarray/core/merge.py\u001b[0m in \u001b[0;36mexpand_variable_dicts\u001b[0;34m(list_of_variable_dicts)\u001b[0m\n\u001b[1;32m    254\u001b[0m                 \u001b[0mvar_dicts\u001b[0m\u001b[0;34m.\u001b[0m\u001b[0mappend\u001b[0m\u001b[0;34m(\u001b[0m\u001b[0mcoords\u001b[0m\u001b[0;34m)\u001b[0m\u001b[0;34m\u001b[0m\u001b[0;34m\u001b[0m\u001b[0m\n\u001b[1;32m    255\u001b[0m \u001b[0;34m\u001b[0m\u001b[0m\n\u001b[0;32m--> 256\u001b[0;31m             \u001b[0mvar\u001b[0m \u001b[0;34m=\u001b[0m \u001b[0mas_variable\u001b[0m\u001b[0;34m(\u001b[0m\u001b[0mvar\u001b[0m\u001b[0;34m,\u001b[0m \u001b[0mname\u001b[0m\u001b[0;34m=\u001b[0m\u001b[0mname\u001b[0m\u001b[0;34m)\u001b[0m\u001b[0;34m\u001b[0m\u001b[0;34m\u001b[0m\u001b[0m\n\u001b[0m\u001b[1;32m    257\u001b[0m             \u001b[0msanitized_vars\u001b[0m\u001b[0;34m[\u001b[0m\u001b[0mname\u001b[0m\u001b[0;34m]\u001b[0m \u001b[0;34m=\u001b[0m \u001b[0mvar\u001b[0m\u001b[0;34m\u001b[0m\u001b[0;34m\u001b[0m\u001b[0m\n\u001b[1;32m    258\u001b[0m \u001b[0;34m\u001b[0m\u001b[0m\n",
      "\u001b[0;32m~/miniconda3/lib/python3.7/site-packages/xarray/core/variable.py\u001b[0m in \u001b[0;36mas_variable\u001b[0;34m(obj, name)\u001b[0m\n\u001b[1;32m    127\u001b[0m                 \u001b[0;34m\"dimensions.\"\u001b[0m \u001b[0;34m%\u001b[0m \u001b[0;34m(\u001b[0m\u001b[0mname\u001b[0m\u001b[0;34m,\u001b[0m \u001b[0mobj\u001b[0m\u001b[0;34m.\u001b[0m\u001b[0mdims\u001b[0m\u001b[0;34m)\u001b[0m\u001b[0;34m\u001b[0m\u001b[0;34m\u001b[0m\u001b[0m\n\u001b[1;32m    128\u001b[0m             )\n\u001b[0;32m--> 129\u001b[0;31m         \u001b[0mobj\u001b[0m \u001b[0;34m=\u001b[0m \u001b[0mobj\u001b[0m\u001b[0;34m.\u001b[0m\u001b[0mto_index_variable\u001b[0m\u001b[0;34m(\u001b[0m\u001b[0;34m)\u001b[0m\u001b[0;34m\u001b[0m\u001b[0;34m\u001b[0m\u001b[0m\n\u001b[0m\u001b[1;32m    130\u001b[0m \u001b[0;34m\u001b[0m\u001b[0m\n\u001b[1;32m    131\u001b[0m     \u001b[0;32mreturn\u001b[0m \u001b[0mobj\u001b[0m\u001b[0;34m\u001b[0m\u001b[0;34m\u001b[0m\u001b[0m\n",
      "\u001b[0;32m~/miniconda3/lib/python3.7/site-packages/xarray/core/variable.py\u001b[0m in \u001b[0;36mto_index_variable\u001b[0;34m(self)\u001b[0m\n\u001b[1;32m    440\u001b[0m         \u001b[0;34m\"\"\"Return this variable as an xarray.IndexVariable\"\"\"\u001b[0m\u001b[0;34m\u001b[0m\u001b[0;34m\u001b[0m\u001b[0m\n\u001b[1;32m    441\u001b[0m         return IndexVariable(\n\u001b[0;32m--> 442\u001b[0;31m             \u001b[0mself\u001b[0m\u001b[0;34m.\u001b[0m\u001b[0mdims\u001b[0m\u001b[0;34m,\u001b[0m \u001b[0mself\u001b[0m\u001b[0;34m.\u001b[0m\u001b[0m_data\u001b[0m\u001b[0;34m,\u001b[0m \u001b[0mself\u001b[0m\u001b[0;34m.\u001b[0m\u001b[0m_attrs\u001b[0m\u001b[0;34m,\u001b[0m \u001b[0mencoding\u001b[0m\u001b[0;34m=\u001b[0m\u001b[0mself\u001b[0m\u001b[0;34m.\u001b[0m\u001b[0m_encoding\u001b[0m\u001b[0;34m,\u001b[0m \u001b[0mfastpath\u001b[0m\u001b[0;34m=\u001b[0m\u001b[0;32mTrue\u001b[0m\u001b[0;34m\u001b[0m\u001b[0;34m\u001b[0m\u001b[0m\n\u001b[0m\u001b[1;32m    443\u001b[0m         )\n\u001b[1;32m    444\u001b[0m \u001b[0;34m\u001b[0m\u001b[0m\n",
      "\u001b[0;32m~/miniconda3/lib/python3.7/site-packages/xarray/core/variable.py\u001b[0m in \u001b[0;36m__init__\u001b[0;34m(self, dims, data, attrs, encoding, fastpath)\u001b[0m\n\u001b[1;32m   1947\u001b[0m         \u001b[0;31m# Unlike in Variable, always eagerly load values into memory\u001b[0m\u001b[0;34m\u001b[0m\u001b[0;34m\u001b[0m\u001b[0;34m\u001b[0m\u001b[0m\n\u001b[1;32m   1948\u001b[0m         \u001b[0;32mif\u001b[0m \u001b[0;32mnot\u001b[0m \u001b[0misinstance\u001b[0m\u001b[0;34m(\u001b[0m\u001b[0mself\u001b[0m\u001b[0;34m.\u001b[0m\u001b[0m_data\u001b[0m\u001b[0;34m,\u001b[0m \u001b[0mPandasIndexAdapter\u001b[0m\u001b[0;34m)\u001b[0m\u001b[0;34m:\u001b[0m\u001b[0;34m\u001b[0m\u001b[0;34m\u001b[0m\u001b[0m\n\u001b[0;32m-> 1949\u001b[0;31m             \u001b[0mself\u001b[0m\u001b[0;34m.\u001b[0m\u001b[0m_data\u001b[0m \u001b[0;34m=\u001b[0m \u001b[0mPandasIndexAdapter\u001b[0m\u001b[0;34m(\u001b[0m\u001b[0mself\u001b[0m\u001b[0;34m.\u001b[0m\u001b[0m_data\u001b[0m\u001b[0;34m)\u001b[0m\u001b[0;34m\u001b[0m\u001b[0;34m\u001b[0m\u001b[0m\n\u001b[0m\u001b[1;32m   1950\u001b[0m \u001b[0;34m\u001b[0m\u001b[0m\n\u001b[1;32m   1951\u001b[0m     \u001b[0;32mdef\u001b[0m \u001b[0mload\u001b[0m\u001b[0;34m(\u001b[0m\u001b[0mself\u001b[0m\u001b[0;34m)\u001b[0m\u001b[0;34m:\u001b[0m\u001b[0;34m\u001b[0m\u001b[0;34m\u001b[0m\u001b[0m\n",
      "\u001b[0;32m~/miniconda3/lib/python3.7/site-packages/xarray/core/indexing.py\u001b[0m in \u001b[0;36m__init__\u001b[0;34m(self, array, dtype)\u001b[0m\n\u001b[1;32m   1352\u001b[0m \u001b[0;34m\u001b[0m\u001b[0m\n\u001b[1;32m   1353\u001b[0m     \u001b[0;32mdef\u001b[0m \u001b[0m__init__\u001b[0m\u001b[0;34m(\u001b[0m\u001b[0mself\u001b[0m\u001b[0;34m,\u001b[0m \u001b[0marray\u001b[0m\u001b[0;34m:\u001b[0m \u001b[0mAny\u001b[0m\u001b[0;34m,\u001b[0m \u001b[0mdtype\u001b[0m\u001b[0;34m:\u001b[0m \u001b[0mDTypeLike\u001b[0m \u001b[0;34m=\u001b[0m \u001b[0;32mNone\u001b[0m\u001b[0;34m)\u001b[0m\u001b[0;34m:\u001b[0m\u001b[0;34m\u001b[0m\u001b[0;34m\u001b[0m\u001b[0m\n\u001b[0;32m-> 1354\u001b[0;31m         \u001b[0mself\u001b[0m\u001b[0;34m.\u001b[0m\u001b[0marray\u001b[0m \u001b[0;34m=\u001b[0m \u001b[0mutils\u001b[0m\u001b[0;34m.\u001b[0m\u001b[0msafe_cast_to_index\u001b[0m\u001b[0;34m(\u001b[0m\u001b[0marray\u001b[0m\u001b[0;34m)\u001b[0m\u001b[0;34m\u001b[0m\u001b[0;34m\u001b[0m\u001b[0m\n\u001b[0m\u001b[1;32m   1355\u001b[0m         \u001b[0;32mif\u001b[0m \u001b[0mdtype\u001b[0m \u001b[0;32mis\u001b[0m \u001b[0;32mNone\u001b[0m\u001b[0;34m:\u001b[0m\u001b[0;34m\u001b[0m\u001b[0;34m\u001b[0m\u001b[0m\n\u001b[1;32m   1356\u001b[0m             \u001b[0;32mif\u001b[0m \u001b[0misinstance\u001b[0m\u001b[0;34m(\u001b[0m\u001b[0marray\u001b[0m\u001b[0;34m,\u001b[0m \u001b[0mpd\u001b[0m\u001b[0;34m.\u001b[0m\u001b[0mPeriodIndex\u001b[0m\u001b[0;34m)\u001b[0m\u001b[0;34m:\u001b[0m\u001b[0;34m\u001b[0m\u001b[0;34m\u001b[0m\u001b[0m\n",
      "\u001b[0;32m~/miniconda3/lib/python3.7/site-packages/xarray/core/utils.py\u001b[0m in \u001b[0;36msafe_cast_to_index\u001b[0;34m(array)\u001b[0m\n\u001b[1;32m    100\u001b[0m         \u001b[0;32mif\u001b[0m \u001b[0mhasattr\u001b[0m\u001b[0;34m(\u001b[0m\u001b[0marray\u001b[0m\u001b[0;34m,\u001b[0m \u001b[0;34m\"dtype\"\u001b[0m\u001b[0;34m)\u001b[0m \u001b[0;32mand\u001b[0m \u001b[0marray\u001b[0m\u001b[0;34m.\u001b[0m\u001b[0mdtype\u001b[0m\u001b[0;34m.\u001b[0m\u001b[0mkind\u001b[0m \u001b[0;34m==\u001b[0m \u001b[0;34m\"O\"\u001b[0m\u001b[0;34m:\u001b[0m\u001b[0;34m\u001b[0m\u001b[0;34m\u001b[0m\u001b[0m\n\u001b[1;32m    101\u001b[0m             \u001b[0mkwargs\u001b[0m\u001b[0;34m[\u001b[0m\u001b[0;34m\"dtype\"\u001b[0m\u001b[0;34m]\u001b[0m \u001b[0;34m=\u001b[0m \u001b[0mobject\u001b[0m\u001b[0;34m\u001b[0m\u001b[0;34m\u001b[0m\u001b[0m\n\u001b[0;32m--> 102\u001b[0;31m         \u001b[0mindex\u001b[0m \u001b[0;34m=\u001b[0m \u001b[0mpd\u001b[0m\u001b[0;34m.\u001b[0m\u001b[0mIndex\u001b[0m\u001b[0;34m(\u001b[0m\u001b[0mnp\u001b[0m\u001b[0;34m.\u001b[0m\u001b[0masarray\u001b[0m\u001b[0;34m(\u001b[0m\u001b[0marray\u001b[0m\u001b[0;34m)\u001b[0m\u001b[0;34m,\u001b[0m \u001b[0;34m**\u001b[0m\u001b[0mkwargs\u001b[0m\u001b[0;34m)\u001b[0m\u001b[0;34m\u001b[0m\u001b[0;34m\u001b[0m\u001b[0m\n\u001b[0m\u001b[1;32m    103\u001b[0m     \u001b[0;32mreturn\u001b[0m \u001b[0m_maybe_cast_to_cftimeindex\u001b[0m\u001b[0;34m(\u001b[0m\u001b[0mindex\u001b[0m\u001b[0;34m)\u001b[0m\u001b[0;34m\u001b[0m\u001b[0;34m\u001b[0m\u001b[0m\n\u001b[1;32m    104\u001b[0m \u001b[0;34m\u001b[0m\u001b[0m\n",
      "\u001b[0;32m~/miniconda3/lib/python3.7/site-packages/numpy/core/_asarray.py\u001b[0m in \u001b[0;36masarray\u001b[0;34m(a, dtype, order)\u001b[0m\n\u001b[1;32m     83\u001b[0m \u001b[0;34m\u001b[0m\u001b[0m\n\u001b[1;32m     84\u001b[0m     \"\"\"\n\u001b[0;32m---> 85\u001b[0;31m     \u001b[0;32mreturn\u001b[0m \u001b[0marray\u001b[0m\u001b[0;34m(\u001b[0m\u001b[0ma\u001b[0m\u001b[0;34m,\u001b[0m \u001b[0mdtype\u001b[0m\u001b[0;34m,\u001b[0m \u001b[0mcopy\u001b[0m\u001b[0;34m=\u001b[0m\u001b[0;32mFalse\u001b[0m\u001b[0;34m,\u001b[0m \u001b[0morder\u001b[0m\u001b[0;34m=\u001b[0m\u001b[0morder\u001b[0m\u001b[0;34m)\u001b[0m\u001b[0;34m\u001b[0m\u001b[0;34m\u001b[0m\u001b[0m\n\u001b[0m\u001b[1;32m     86\u001b[0m \u001b[0;34m\u001b[0m\u001b[0m\n\u001b[1;32m     87\u001b[0m \u001b[0;34m\u001b[0m\u001b[0m\n",
      "\u001b[0;32m~/miniconda3/lib/python3.7/site-packages/xarray/core/indexing.py\u001b[0m in \u001b[0;36m__array__\u001b[0;34m(self, dtype)\u001b[0m\n\u001b[1;32m    568\u001b[0m     \u001b[0;32mdef\u001b[0m \u001b[0m__array__\u001b[0m\u001b[0;34m(\u001b[0m\u001b[0mself\u001b[0m\u001b[0;34m,\u001b[0m \u001b[0mdtype\u001b[0m\u001b[0;34m=\u001b[0m\u001b[0;32mNone\u001b[0m\u001b[0;34m)\u001b[0m\u001b[0;34m:\u001b[0m\u001b[0;34m\u001b[0m\u001b[0;34m\u001b[0m\u001b[0m\n\u001b[1;32m    569\u001b[0m         \u001b[0marray\u001b[0m \u001b[0;34m=\u001b[0m \u001b[0mas_indexable\u001b[0m\u001b[0;34m(\u001b[0m\u001b[0mself\u001b[0m\u001b[0;34m.\u001b[0m\u001b[0marray\u001b[0m\u001b[0;34m)\u001b[0m\u001b[0;34m\u001b[0m\u001b[0;34m\u001b[0m\u001b[0m\n\u001b[0;32m--> 570\u001b[0;31m         \u001b[0;32mreturn\u001b[0m \u001b[0mnp\u001b[0m\u001b[0;34m.\u001b[0m\u001b[0masarray\u001b[0m\u001b[0;34m(\u001b[0m\u001b[0marray\u001b[0m\u001b[0;34m[\u001b[0m\u001b[0mself\u001b[0m\u001b[0;34m.\u001b[0m\u001b[0mkey\u001b[0m\u001b[0;34m]\u001b[0m\u001b[0;34m,\u001b[0m \u001b[0mdtype\u001b[0m\u001b[0;34m=\u001b[0m\u001b[0;32mNone\u001b[0m\u001b[0;34m)\u001b[0m\u001b[0;34m\u001b[0m\u001b[0;34m\u001b[0m\u001b[0m\n\u001b[0m\u001b[1;32m    571\u001b[0m \u001b[0;34m\u001b[0m\u001b[0m\n\u001b[1;32m    572\u001b[0m     \u001b[0;32mdef\u001b[0m \u001b[0mtranspose\u001b[0m\u001b[0;34m(\u001b[0m\u001b[0mself\u001b[0m\u001b[0;34m,\u001b[0m \u001b[0morder\u001b[0m\u001b[0;34m)\u001b[0m\u001b[0;34m:\u001b[0m\u001b[0;34m\u001b[0m\u001b[0;34m\u001b[0m\u001b[0m\n",
      "\u001b[0;32m~/miniconda3/lib/python3.7/site-packages/numpy/core/_asarray.py\u001b[0m in \u001b[0;36masarray\u001b[0;34m(a, dtype, order)\u001b[0m\n\u001b[1;32m     83\u001b[0m \u001b[0;34m\u001b[0m\u001b[0m\n\u001b[1;32m     84\u001b[0m     \"\"\"\n\u001b[0;32m---> 85\u001b[0;31m     \u001b[0;32mreturn\u001b[0m \u001b[0marray\u001b[0m\u001b[0;34m(\u001b[0m\u001b[0ma\u001b[0m\u001b[0;34m,\u001b[0m \u001b[0mdtype\u001b[0m\u001b[0;34m,\u001b[0m \u001b[0mcopy\u001b[0m\u001b[0;34m=\u001b[0m\u001b[0;32mFalse\u001b[0m\u001b[0;34m,\u001b[0m \u001b[0morder\u001b[0m\u001b[0;34m=\u001b[0m\u001b[0morder\u001b[0m\u001b[0;34m)\u001b[0m\u001b[0;34m\u001b[0m\u001b[0;34m\u001b[0m\u001b[0m\n\u001b[0m\u001b[1;32m     86\u001b[0m \u001b[0;34m\u001b[0m\u001b[0m\n\u001b[1;32m     87\u001b[0m \u001b[0;34m\u001b[0m\u001b[0m\n",
      "\u001b[0;32m~/miniconda3/lib/python3.7/site-packages/xarray/coding/variables.py\u001b[0m in \u001b[0;36m__array__\u001b[0;34m(self, dtype)\u001b[0m\n\u001b[1;32m     67\u001b[0m \u001b[0;34m\u001b[0m\u001b[0m\n\u001b[1;32m     68\u001b[0m     \u001b[0;32mdef\u001b[0m \u001b[0m__array__\u001b[0m\u001b[0;34m(\u001b[0m\u001b[0mself\u001b[0m\u001b[0;34m,\u001b[0m \u001b[0mdtype\u001b[0m\u001b[0;34m=\u001b[0m\u001b[0;32mNone\u001b[0m\u001b[0;34m)\u001b[0m\u001b[0;34m:\u001b[0m\u001b[0;34m\u001b[0m\u001b[0;34m\u001b[0m\u001b[0m\n\u001b[0;32m---> 69\u001b[0;31m         \u001b[0;32mreturn\u001b[0m \u001b[0mself\u001b[0m\u001b[0;34m.\u001b[0m\u001b[0mfunc\u001b[0m\u001b[0;34m(\u001b[0m\u001b[0mself\u001b[0m\u001b[0;34m.\u001b[0m\u001b[0marray\u001b[0m\u001b[0;34m)\u001b[0m\u001b[0;34m\u001b[0m\u001b[0;34m\u001b[0m\u001b[0m\n\u001b[0m\u001b[1;32m     70\u001b[0m \u001b[0;34m\u001b[0m\u001b[0m\n\u001b[1;32m     71\u001b[0m     \u001b[0;32mdef\u001b[0m \u001b[0m__repr__\u001b[0m\u001b[0;34m(\u001b[0m\u001b[0mself\u001b[0m\u001b[0;34m)\u001b[0m\u001b[0;34m:\u001b[0m\u001b[0;34m\u001b[0m\u001b[0;34m\u001b[0m\u001b[0m\n",
      "\u001b[0;32m~/miniconda3/lib/python3.7/site-packages/xarray/coding/times.py\u001b[0m in \u001b[0;36mdecode_cf_datetime\u001b[0;34m(num_dates, units, calendar, use_cftime)\u001b[0m\n\u001b[1;32m    187\u001b[0m     \u001b[0mcftime\u001b[0m\u001b[0;34m.\u001b[0m\u001b[0mnum2date\u001b[0m\u001b[0;34m\u001b[0m\u001b[0;34m\u001b[0m\u001b[0m\n\u001b[1;32m    188\u001b[0m     \"\"\"\n\u001b[0;32m--> 189\u001b[0;31m     \u001b[0mnum_dates\u001b[0m \u001b[0;34m=\u001b[0m \u001b[0mnp\u001b[0m\u001b[0;34m.\u001b[0m\u001b[0masarray\u001b[0m\u001b[0;34m(\u001b[0m\u001b[0mnum_dates\u001b[0m\u001b[0;34m)\u001b[0m\u001b[0;34m\u001b[0m\u001b[0;34m\u001b[0m\u001b[0m\n\u001b[0m\u001b[1;32m    190\u001b[0m     \u001b[0mflat_num_dates\u001b[0m \u001b[0;34m=\u001b[0m \u001b[0mnum_dates\u001b[0m\u001b[0;34m.\u001b[0m\u001b[0mravel\u001b[0m\u001b[0;34m(\u001b[0m\u001b[0;34m)\u001b[0m\u001b[0;34m\u001b[0m\u001b[0;34m\u001b[0m\u001b[0m\n\u001b[1;32m    191\u001b[0m     \u001b[0;32mif\u001b[0m \u001b[0mcalendar\u001b[0m \u001b[0;32mis\u001b[0m \u001b[0;32mNone\u001b[0m\u001b[0;34m:\u001b[0m\u001b[0;34m\u001b[0m\u001b[0;34m\u001b[0m\u001b[0m\n",
      "\u001b[0;32m~/miniconda3/lib/python3.7/site-packages/numpy/core/_asarray.py\u001b[0m in \u001b[0;36masarray\u001b[0;34m(a, dtype, order)\u001b[0m\n\u001b[1;32m     83\u001b[0m \u001b[0;34m\u001b[0m\u001b[0m\n\u001b[1;32m     84\u001b[0m     \"\"\"\n\u001b[0;32m---> 85\u001b[0;31m     \u001b[0;32mreturn\u001b[0m \u001b[0marray\u001b[0m\u001b[0;34m(\u001b[0m\u001b[0ma\u001b[0m\u001b[0;34m,\u001b[0m \u001b[0mdtype\u001b[0m\u001b[0;34m,\u001b[0m \u001b[0mcopy\u001b[0m\u001b[0;34m=\u001b[0m\u001b[0;32mFalse\u001b[0m\u001b[0;34m,\u001b[0m \u001b[0morder\u001b[0m\u001b[0;34m=\u001b[0m\u001b[0morder\u001b[0m\u001b[0;34m)\u001b[0m\u001b[0;34m\u001b[0m\u001b[0;34m\u001b[0m\u001b[0m\n\u001b[0m\u001b[1;32m     86\u001b[0m \u001b[0;34m\u001b[0m\u001b[0m\n\u001b[1;32m     87\u001b[0m \u001b[0;34m\u001b[0m\u001b[0m\n",
      "\u001b[0;32m~/miniconda3/lib/python3.7/site-packages/xarray/core/indexing.py\u001b[0m in \u001b[0;36m__array__\u001b[0;34m(self, dtype)\u001b[0m\n\u001b[1;32m    568\u001b[0m     \u001b[0;32mdef\u001b[0m \u001b[0m__array__\u001b[0m\u001b[0;34m(\u001b[0m\u001b[0mself\u001b[0m\u001b[0;34m,\u001b[0m \u001b[0mdtype\u001b[0m\u001b[0;34m=\u001b[0m\u001b[0;32mNone\u001b[0m\u001b[0;34m)\u001b[0m\u001b[0;34m:\u001b[0m\u001b[0;34m\u001b[0m\u001b[0;34m\u001b[0m\u001b[0m\n\u001b[1;32m    569\u001b[0m         \u001b[0marray\u001b[0m \u001b[0;34m=\u001b[0m \u001b[0mas_indexable\u001b[0m\u001b[0;34m(\u001b[0m\u001b[0mself\u001b[0m\u001b[0;34m.\u001b[0m\u001b[0marray\u001b[0m\u001b[0;34m)\u001b[0m\u001b[0;34m\u001b[0m\u001b[0;34m\u001b[0m\u001b[0m\n\u001b[0;32m--> 570\u001b[0;31m         \u001b[0;32mreturn\u001b[0m \u001b[0mnp\u001b[0m\u001b[0;34m.\u001b[0m\u001b[0masarray\u001b[0m\u001b[0;34m(\u001b[0m\u001b[0marray\u001b[0m\u001b[0;34m[\u001b[0m\u001b[0mself\u001b[0m\u001b[0;34m.\u001b[0m\u001b[0mkey\u001b[0m\u001b[0;34m]\u001b[0m\u001b[0;34m,\u001b[0m \u001b[0mdtype\u001b[0m\u001b[0;34m=\u001b[0m\u001b[0;32mNone\u001b[0m\u001b[0;34m)\u001b[0m\u001b[0;34m\u001b[0m\u001b[0;34m\u001b[0m\u001b[0m\n\u001b[0m\u001b[1;32m    571\u001b[0m \u001b[0;34m\u001b[0m\u001b[0m\n\u001b[1;32m    572\u001b[0m     \u001b[0;32mdef\u001b[0m \u001b[0mtranspose\u001b[0m\u001b[0;34m(\u001b[0m\u001b[0mself\u001b[0m\u001b[0;34m,\u001b[0m \u001b[0morder\u001b[0m\u001b[0;34m)\u001b[0m\u001b[0;34m:\u001b[0m\u001b[0;34m\u001b[0m\u001b[0;34m\u001b[0m\u001b[0m\n",
      "\u001b[0;32m~/miniconda3/lib/python3.7/site-packages/xarray/backends/netCDF4_.py\u001b[0m in \u001b[0;36m__getitem__\u001b[0;34m(self, key)\u001b[0m\n\u001b[1;32m     73\u001b[0m     \u001b[0;32mdef\u001b[0m \u001b[0m__getitem__\u001b[0m\u001b[0;34m(\u001b[0m\u001b[0mself\u001b[0m\u001b[0;34m,\u001b[0m \u001b[0mkey\u001b[0m\u001b[0;34m)\u001b[0m\u001b[0;34m:\u001b[0m\u001b[0;34m\u001b[0m\u001b[0;34m\u001b[0m\u001b[0m\n\u001b[1;32m     74\u001b[0m         return indexing.explicit_indexing_adapter(\n\u001b[0;32m---> 75\u001b[0;31m             \u001b[0mkey\u001b[0m\u001b[0;34m,\u001b[0m \u001b[0mself\u001b[0m\u001b[0;34m.\u001b[0m\u001b[0mshape\u001b[0m\u001b[0;34m,\u001b[0m \u001b[0mindexing\u001b[0m\u001b[0;34m.\u001b[0m\u001b[0mIndexingSupport\u001b[0m\u001b[0;34m.\u001b[0m\u001b[0mOUTER\u001b[0m\u001b[0;34m,\u001b[0m \u001b[0mself\u001b[0m\u001b[0;34m.\u001b[0m\u001b[0m_getitem\u001b[0m\u001b[0;34m\u001b[0m\u001b[0;34m\u001b[0m\u001b[0m\n\u001b[0m\u001b[1;32m     76\u001b[0m         )\n\u001b[1;32m     77\u001b[0m \u001b[0;34m\u001b[0m\u001b[0m\n",
      "\u001b[0;32m~/miniconda3/lib/python3.7/site-packages/xarray/core/indexing.py\u001b[0m in \u001b[0;36mexplicit_indexing_adapter\u001b[0;34m(key, shape, indexing_support, raw_indexing_method)\u001b[0m\n\u001b[1;32m    848\u001b[0m     \"\"\"\n\u001b[1;32m    849\u001b[0m     \u001b[0mraw_key\u001b[0m\u001b[0;34m,\u001b[0m \u001b[0mnumpy_indices\u001b[0m \u001b[0;34m=\u001b[0m \u001b[0mdecompose_indexer\u001b[0m\u001b[0;34m(\u001b[0m\u001b[0mkey\u001b[0m\u001b[0;34m,\u001b[0m \u001b[0mshape\u001b[0m\u001b[0;34m,\u001b[0m \u001b[0mindexing_support\u001b[0m\u001b[0;34m)\u001b[0m\u001b[0;34m\u001b[0m\u001b[0;34m\u001b[0m\u001b[0m\n\u001b[0;32m--> 850\u001b[0;31m     \u001b[0mresult\u001b[0m \u001b[0;34m=\u001b[0m \u001b[0mraw_indexing_method\u001b[0m\u001b[0;34m(\u001b[0m\u001b[0mraw_key\u001b[0m\u001b[0;34m.\u001b[0m\u001b[0mtuple\u001b[0m\u001b[0;34m)\u001b[0m\u001b[0;34m\u001b[0m\u001b[0;34m\u001b[0m\u001b[0m\n\u001b[0m\u001b[1;32m    851\u001b[0m     \u001b[0;32mif\u001b[0m \u001b[0mnumpy_indices\u001b[0m\u001b[0;34m.\u001b[0m\u001b[0mtuple\u001b[0m\u001b[0;34m:\u001b[0m\u001b[0;34m\u001b[0m\u001b[0;34m\u001b[0m\u001b[0m\n\u001b[1;32m    852\u001b[0m         \u001b[0;31m# index the loaded np.ndarray\u001b[0m\u001b[0;34m\u001b[0m\u001b[0;34m\u001b[0m\u001b[0;34m\u001b[0m\u001b[0m\n",
      "\u001b[0;32m~/miniconda3/lib/python3.7/site-packages/xarray/backends/netCDF4_.py\u001b[0m in \u001b[0;36m_getitem\u001b[0;34m(self, key)\u001b[0m\n\u001b[1;32m     85\u001b[0m             \u001b[0;32mwith\u001b[0m \u001b[0mself\u001b[0m\u001b[0;34m.\u001b[0m\u001b[0mdatastore\u001b[0m\u001b[0;34m.\u001b[0m\u001b[0mlock\u001b[0m\u001b[0;34m:\u001b[0m\u001b[0;34m\u001b[0m\u001b[0;34m\u001b[0m\u001b[0m\n\u001b[1;32m     86\u001b[0m                 \u001b[0moriginal_array\u001b[0m \u001b[0;34m=\u001b[0m \u001b[0mself\u001b[0m\u001b[0;34m.\u001b[0m\u001b[0mget_array\u001b[0m\u001b[0;34m(\u001b[0m\u001b[0mneeds_lock\u001b[0m\u001b[0;34m=\u001b[0m\u001b[0;32mFalse\u001b[0m\u001b[0;34m)\u001b[0m\u001b[0;34m\u001b[0m\u001b[0;34m\u001b[0m\u001b[0m\n\u001b[0;32m---> 87\u001b[0;31m                 \u001b[0marray\u001b[0m \u001b[0;34m=\u001b[0m \u001b[0mgetitem\u001b[0m\u001b[0;34m(\u001b[0m\u001b[0moriginal_array\u001b[0m\u001b[0;34m,\u001b[0m \u001b[0mkey\u001b[0m\u001b[0;34m)\u001b[0m\u001b[0;34m\u001b[0m\u001b[0;34m\u001b[0m\u001b[0m\n\u001b[0m\u001b[1;32m     88\u001b[0m         \u001b[0;32mexcept\u001b[0m \u001b[0mIndexError\u001b[0m\u001b[0;34m:\u001b[0m\u001b[0;34m\u001b[0m\u001b[0;34m\u001b[0m\u001b[0m\n\u001b[1;32m     89\u001b[0m             \u001b[0;31m# Catch IndexError in netCDF4 and return a more informative\u001b[0m\u001b[0;34m\u001b[0m\u001b[0;34m\u001b[0m\u001b[0;34m\u001b[0m\u001b[0m\n",
      "\u001b[0;31mKeyboardInterrupt\u001b[0m: "
     ]
    }
   ],
   "source": [
    "t21 = xr.open_mfdataset(f'/media/rasp/Elements/weather-benchmark/IFS_T21/raw/output_pl_5.625*.nc').z.sel(lev=5e4)"
   ]
  },
  {
   "cell_type": "code",
   "execution_count": 117,
   "metadata": {
    "Collapsed": "false"
   },
   "outputs": [
    {
     "data": {
      "text/plain": [
       "<xarray.DataArray 'z' (time: 42340, lat: 32, lon: 64)>\n",
       "dask.array<getitem, shape=(42340, 32, 64), dtype=float32, chunksize=(21344, 32, 64)>\n",
       "Coordinates:\n",
       "  * lat      (lat) float64 87.19 81.56 75.94 70.31 ... -75.94 -81.56 -87.19\n",
       "  * lon      (lon) float64 -180.0 -174.4 -168.8 -163.1 ... 163.1 168.8 174.4\n",
       "    lev      float64 5e+04\n",
       "  * time     (time) datetime64[ns] 2017-01-01 ... 2018-01-07T18:00:00\n",
       "Attributes:\n",
       "    standard_name:  geopotential\n",
       "    long_name:      Geopotential\n",
       "    units:          m**2 s**-2\n",
       "    code:           129\n",
       "    table:          128"
      ]
     },
     "execution_count": 117,
     "metadata": {},
     "output_type": "execute_result"
    }
   ],
   "source": [
    "t21"
   ]
  },
  {
   "cell_type": "code",
   "execution_count": 7,
   "metadata": {
    "Collapsed": "false"
   },
   "outputs": [
    {
     "data": {
      "text/plain": [
       "<xarray.DataArray 'lat' (lat: 32)>\n",
       "array([-87.1875, -81.5625, -75.9375, -70.3125, -64.6875, -59.0625, -53.4375,\n",
       "       -47.8125, -42.1875, -36.5625, -30.9375, -25.3125, -19.6875, -14.0625,\n",
       "        -8.4375,  -2.8125,   2.8125,   8.4375,  14.0625,  19.6875,  25.3125,\n",
       "        30.9375,  36.5625,  42.1875,  47.8125,  53.4375,  59.0625,  64.6875,\n",
       "        70.3125,  75.9375,  81.5625,  87.1875])\n",
       "Coordinates:\n",
       "    lev      float64 5e+04\n",
       "  * lat      (lat) float64 -87.19 -81.56 -75.94 -70.31 ... 75.94 81.56 87.19"
      ]
     },
     "execution_count": 7,
     "metadata": {},
     "output_type": "execute_result"
    }
   ],
   "source": [
    "tigge.lat"
   ]
  },
  {
   "cell_type": "code",
   "execution_count": 119,
   "metadata": {
    "Collapsed": "false"
   },
   "outputs": [],
   "source": [
    "l = t21.lon.values"
   ]
  },
  {
   "cell_type": "code",
   "execution_count": 120,
   "metadata": {
    "Collapsed": "false"
   },
   "outputs": [],
   "source": [
    "l[:32] = 360 + l[:32]"
   ]
  },
  {
   "cell_type": "code",
   "execution_count": 121,
   "metadata": {
    "Collapsed": "false"
   },
   "outputs": [
    {
     "data": {
      "text/plain": [
       "array([180.   , 185.625, 191.25 , 196.875, 202.5  , 208.125, 213.75 ,\n",
       "       219.375, 225.   , 230.625, 236.25 , 241.875, 247.5  , 253.125,\n",
       "       258.75 , 264.375, 270.   , 275.625, 281.25 , 286.875, 292.5  ,\n",
       "       298.125, 303.75 , 309.375, 315.   , 320.625, 326.25 , 331.875,\n",
       "       337.5  , 343.125, 348.75 , 354.375,   0.   ,   5.625,  11.25 ,\n",
       "        16.875,  22.5  ,  28.125,  33.75 ,  39.375,  45.   ,  50.625,\n",
       "        56.25 ,  61.875,  67.5  ,  73.125,  78.75 ,  84.375,  90.   ,\n",
       "        95.625, 101.25 , 106.875, 112.5  , 118.125, 123.75 , 129.375,\n",
       "       135.   , 140.625, 146.25 , 151.875, 157.5  , 163.125, 168.75 ,\n",
       "       174.375])"
      ]
     },
     "execution_count": 121,
     "metadata": {},
     "output_type": "execute_result"
    }
   ],
   "source": [
    "l"
   ]
  },
  {
   "cell_type": "code",
   "execution_count": 122,
   "metadata": {
    "Collapsed": "false"
   },
   "outputs": [],
   "source": [
    "t21['lat'] = -tigge.lat"
   ]
  },
  {
   "cell_type": "code",
   "execution_count": 123,
   "metadata": {
    "Collapsed": "false"
   },
   "outputs": [
    {
     "data": {
      "text/plain": [
       "<xarray.DataArray 'z' (time: 42340, lat: 32, lon: 64)>\n",
       "dask.array<getitem, shape=(42340, 32, 64), dtype=float32, chunksize=(21344, 32, 64)>\n",
       "Coordinates:\n",
       "  * lat      (lat) float64 87.19 81.56 75.94 70.31 ... -75.94 -81.56 -87.19\n",
       "  * lon      (lon) float64 180.0 185.6 191.2 196.9 ... 157.5 163.1 168.8 174.4\n",
       "    lev      float64 5e+04\n",
       "  * time     (time) datetime64[ns] 2017-01-01 ... 2018-01-07T18:00:00\n",
       "Attributes:\n",
       "    standard_name:  geopotential\n",
       "    long_name:      Geopotential\n",
       "    units:          m**2 s**-2\n",
       "    code:           129\n",
       "    table:          128"
      ]
     },
     "execution_count": 123,
     "metadata": {},
     "output_type": "execute_result"
    }
   ],
   "source": [
    "t21"
   ]
  },
  {
   "cell_type": "code",
   "execution_count": 128,
   "metadata": {
    "Collapsed": "false"
   },
   "outputs": [
    {
     "name": "stderr",
     "output_type": "stream",
     "text": [
      "/home/rasp/miniconda3/lib/python3.7/site-packages/xarray/core/dataarray.py:2710: FutureWarning: roll_coords will be set to False in the future. Explicitly set roll_coords to silence warning.\n",
      "  shifts=shifts, roll_coords=roll_coords, **shifts_kwargs\n"
     ]
    }
   ],
   "source": [
    "t21 = t21.roll(lon=32)"
   ]
  },
  {
   "cell_type": "code",
   "execution_count": 8,
   "metadata": {
    "Collapsed": "false"
   },
   "outputs": [
    {
     "data": {
      "text/plain": [
       "<matplotlib.collections.QuadMesh at 0x7fe167daf0f0>"
      ]
     },
     "execution_count": 8,
     "metadata": {},
     "output_type": "execute_result"
    },
    {
     "data": {
      "image/png": "[encoded data removed]",
      "text/plain": [
       "<Figure size 432x288 with 2 Axes>"
      ]
     },
     "metadata": {},
     "output_type": "display_data"
    }
   ],
   "source": [
    "tigge.isel(time=0).plot()"
   ]
  },
  {
   "cell_type": "code",
   "execution_count": 147,
   "metadata": {
    "Collapsed": "false"
   },
   "outputs": [
    {
     "data": {
      "text/plain": [
       "<matplotlib.collections.QuadMesh at 0x7f467876a278>"
      ]
     },
     "execution_count": 147,
     "metadata": {},
     "output_type": "execute_result"
    },
    {
     "data": {
      "image/png": "[encoded data removed]",
      "text/plain": [
       "<Figure size 432x288 with 2 Axes>"
      ]
     },
     "metadata": {},
     "output_type": "display_data"
    }
   ],
   "source": [
    "t21.isel(time=0).plot()"
   ]
  },
  {
   "cell_type": "code",
   "execution_count": 142,
   "metadata": {
    "Collapsed": "false"
   },
   "outputs": [
    {
     "data": {
      "text/plain": [
       "<matplotlib.collections.QuadMesh at 0x7f4678215940>"
      ]
     },
     "execution_count": 142,
     "metadata": {},
     "output_type": "execute_result"
    },
    {
     "data": {
      "image/png": "[encoded data removed]",
      "text/plain": [
       "<Figure size 432x288 with 2 Axes>"
      ]
     },
     "metadata": {},
     "output_type": "display_data"
    }
   ],
   "source": [
    "z500_validation.isel(time=0).plot()"
   ]
  },
  {
   "cell_type": "code",
   "execution_count": 163,
   "metadata": {
    "Collapsed": "false"
   },
   "outputs": [
    {
     "data": {
      "text/plain": [
       "((21, 32, 64), (21, 32, 64))"
      ]
     },
     "execution_count": 163,
     "metadata": {},
     "output_type": "execute_result"
    }
   ],
   "source": [
    "t21.isel(time=slice(0, 21)).values.shape, z500_validation.isel(time=slice(0, 21)).values.shape"
   ]
  },
  {
   "cell_type": "code",
   "execution_count": 164,
   "metadata": {
    "Collapsed": "false"
   },
   "outputs": [
    {
     "data": {
      "text/plain": [
       "[<matplotlib.lines.Line2D at 0x7f463c4ec710>]"
      ]
     },
     "execution_count": 164,
     "metadata": {},
     "output_type": "execute_result"
    },
    {
     "data": {
      "image/png": "[encoded data removed]",
      "text/plain": [
       "<Figure size 432x288 with 1 Axes>"
      ]
     },
     "metadata": {},
     "output_type": "display_data"
    }
   ],
   "source": [
    "np.sqrt(((tigge.isel(time=slice(0, 21)) - z500_validation)**2).mean(('lat', 'lon'))).plot()\n",
    "np.sqrt(((t21.isel(time=slice(0, 21)) - z500_validation)**2).mean(('lat', 'lon'))).plot()"
   ]
  },
  {
   "cell_type": "code",
   "execution_count": 188,
   "metadata": {
    "Collapsed": "false"
   },
   "outputs": [
    {
     "data": {
      "text/plain": [
       "[<matplotlib.lines.Line2D at 0x7f462466b240>]"
      ]
     },
     "execution_count": 188,
     "metadata": {},
     "output_type": "execute_result"
    },
    {
     "data": {
      "image/png": "[encoded data removed]",
      "text/plain": [
       "<Figure size 432x288 with 1 Axes>"
      ]
     },
     "metadata": {},
     "output_type": "display_data"
    }
   ],
   "source": [
    "plt.plot(np.sqrt(((tigge.isel(time=slice(0, 21)).values - z500_validation.isel(time=slice(0, 21*6, 6)).values)**2).mean((1, 2))))\n",
    "plt.plot(np.sqrt(((t21.isel(time=slice(0, 21)).values[:, ::-1] - z500_validation.isel(time=slice(1*6, 22*6, 6)).values)**2).mean((1, 2))))"
   ]
  },
  {
   "cell_type": "code",
   "execution_count": 9,
   "metadata": {
    "Collapsed": "false"
   },
   "outputs": [],
   "source": [
    "def convert(da, nlead_time):\n",
    "    init_times = da.time[::nlead_time]\n",
    "    lead_times = xr.DataArray(\n",
    "        np.arange(0, 6*nlead_time, 6), dims=['lead_time'], coords={'lead_time': np.arange(0, 6*nlead_time, 6)})\n",
    "    da_by_lead = xr.DataArray(\n",
    "        da.values.reshape((len(init_times), len(lead_times), len(da.lat), len(da.lon))),\n",
    "        dims = ['time', 'lead_time', 'lat', 'lon'],\n",
    "        coords = {'time': init_times, 'lead_time': lead_times, 'lat': da.lat, 'lon': da.lon}\n",
    "    )\n",
    "    return da_by_lead"
   ]
  },
  {
   "cell_type": "code",
   "execution_count": 10,
   "metadata": {
    "Collapsed": "false"
   },
   "outputs": [],
   "source": [
    "tigge_by_lead = convert(tigge, 21).load()"
   ]
  },
  {
   "cell_type": "code",
   "execution_count": 132,
   "metadata": {
    "Collapsed": "false"
   },
   "outputs": [],
   "source": [
    "t21_by_lead = convert(t21, 29)"
   ]
  },
  {
   "cell_type": "code",
   "execution_count": 150,
   "metadata": {
    "Collapsed": "false",
    "collapsed": true,
    "jupyter": {
     "outputs_hidden": true
    }
   },
   "outputs": [
    {
     "data": {
      "text/plain": [
       "<xarray.DataArray (time: 1460, lead_time: 29, lat: 32, lon: 64)>\n",
       "array([[[[51077.49 , 51088.74 , 51105.24 , ..., 51066.74 , 51066.99 ,\n",
       "          51070.24 ],\n",
       "         [50683.99 , 50636.99 , 50602.99 , ..., 50859.74 , 50799.99 ,\n",
       "          50739.99 ],\n",
       "         [50756.74 , 50535.74 , 50339.49 , ..., 51401.24 , 51211.74 ,\n",
       "          50988.74 ],\n",
       "         ...,\n",
       "         [50412.74 , 50566.24 , 50730.24 , ..., 50140.74 , 50198.49 ,\n",
       "          50287.74 ],\n",
       "         [50853.74 , 50960.74 , 51054.74 , ..., 50505.99 , 50622.49 ,\n",
       "          50739.74 ],\n",
       "         [50859.74 , 50911.99 , 50958.74 , ..., 50683.24 , 50743.74 ,\n",
       "          50803.24 ]],\n",
       "\n",
       "        [[51288.316, 51310.566, 51334.316, ..., 51227.566, 51247.066,\n",
       "          51267.316],\n",
       "         [50913.066, 50883.566, 50864.316, ..., 51017.316, 50985.066,\n",
       "          50948.566],\n",
       "         [50886.566, 50655.316, 50447.316, ..., 51484.816, 51326.566,\n",
       "          51118.816],\n",
       "         ...,\n",
       "         [50417.816, 50557.816, 50695.816, ..., 50085.816, 50177.816,\n",
       "          50288.816],\n",
       "         [50721.566, 50811.316, 50888.816, ..., 50420.066, 50522.316,\n",
       "          50623.816],\n",
       "         [50688.316, 50728.566, 50764.066, ..., 50549.316, 50597.316,\n",
       "          50644.316]],\n",
       "\n",
       "        [[51207.734, 51235.234, 51261.484, ..., 51119.484, 51149.984,\n",
       "          51179.484],\n",
       "         [50988.234, 50986.484, 50993.234, ..., 51016.234, 51006.734,\n",
       "          50995.984],\n",
       "         [50927.484, 50746.984, 50594.734, ..., 51442.234, 51298.484,\n",
       "          51118.734],\n",
       "         ...,\n",
       "         [50398.234, 50512.984, 50619.234, ..., 50084.234, 50178.484,\n",
       "          50284.234],\n",
       "         [50666.484, 50737.734, 50797.484, ..., 50417.484, 50502.984,\n",
       "          50586.984],\n",
       "         [50669.234, 50700.484, 50727.484, ..., 50560.234, 50598.234,\n",
       "          50634.984]],\n",
       "\n",
       "        ...,\n",
       "\n",
       "        [[49886.152, 49971.152, 50050.402, ..., 49607.152, 49703.402,\n",
       "          49796.652],\n",
       "         [50188.652, 50290.402, 50389.402, ..., 49853.902, 49972.652,\n",
       "          50083.402],\n",
       "         [50531.152, 50502.152, 50497.902, ..., 50551.652, 50581.402,\n",
       "          50566.152],\n",
       "         ...,\n",
       "         [49365.902, 49471.152, 49581.902, ..., 49081.152, 49165.652,\n",
       "          49263.152],\n",
       "         [50013.652, 50124.902, 50252.652, ..., 49804.652, 49850.902,\n",
       "          49921.402],\n",
       "         [51047.402, 51097.902, 51155.902, ..., 50954.902, 50974.902,\n",
       "          51006.152]],\n",
       "\n",
       "        [[49849.504, 49934.254, 50013.504, ..., 49567.754, 49665.504,\n",
       "          49759.504],\n",
       "         [50260.004, 50349.754, 50434.754, ..., 49936.754, 50056.254,\n",
       "          50163.254],\n",
       "         [50816.504, 50758.004, 50708.004, ..., 50804.504, 50863.504,\n",
       "          50860.254],\n",
       "         ...,\n",
       "         [49511.004, 49648.254, 49779.254, ..., 49090.254, 49224.004,\n",
       "          49367.504],\n",
       "         [49997.754, 50123.004, 50259.254, ..., 49720.754, 49792.754,\n",
       "          49886.504],\n",
       "         [50917.504, 50974.004, 51037.254, ..., 50802.754, 50830.754,\n",
       "          50869.254]],\n",
       "\n",
       "        [[49854.35 , 49936.1  , 50012.1  , ..., 49579.6  , 49675.6  ,\n",
       "          49767.1  ],\n",
       "         [50353.1  , 50431.6  , 50502.35 , ..., 50040.6  , 50160.85 ,\n",
       "          50264.1  ],\n",
       "         [51049.6  , 50975.35 , 50894.1  , ..., 50987.85 , 51076.6  ,\n",
       "          51091.6  ],\n",
       "         ...,\n",
       "         [49662.35 , 49821.35 , 49964.6  , ..., 49135.1  , 49309.35 ,\n",
       "          49489.1  ],\n",
       "         [50013.35 , 50148.6  , 50289.6  , ..., 49680.1  , 49774.6  ,\n",
       "          49887.35 ],\n",
       "         [50820.85 , 50882.6  , 50950.1  , ..., 50686.85 , 50721.85 ,\n",
       "          50766.85 ]]],\n",
       "\n",
       "\n",
       "       [[[51186.51 , 51209.26 , 51234.51 , ..., 51130.01 , 51147.26 ,\n",
       "          51165.76 ],\n",
       "         [50709.01 , 50691.76 , 50687.76 , ..., 50799.51 , 50767.26 ,\n",
       "          50735.51 ],\n",
       "         [50689.01 , 50492.76 , 50324.01 , ..., 51242.01 , 51087.76 ,\n",
       "          50895.01 ],\n",
       "         ...,\n",
       "         [50417.76 , 50561.26 , 50704.51 , ..., 50130.01 , 50196.26 ,\n",
       "          50292.51 ],\n",
       "         [50889.01 , 50982.26 , 51062.76 , ..., 50577.76 , 50683.01 ,\n",
       "          50787.76 ],\n",
       "         [50913.26 , 50959.76 , 51000.51 , ..., 50752.76 , 50808.51 ,\n",
       "          50862.51 ]],\n",
       "\n",
       "        [[51252.164, 51281.164, 51309.414, ..., 51162.414, 51192.664,\n",
       "          51222.664],\n",
       "         [50928.164, 50936.414, 50954.664, ..., 50944.414, 50935.164,\n",
       "          50928.664],\n",
       "         [50855.164, 50703.414, 50580.914, ..., 51314.914, 51181.664,\n",
       "          51021.164],\n",
       "         ...,\n",
       "         [50469.664, 50603.414, 50723.664, ..., 50117.914, 50217.914,\n",
       "          50337.414],\n",
       "         [50830.414, 50907.414, 50970.914, ..., 50554.414, 50650.164,\n",
       "          50743.164],\n",
       "         [50858.664, 50892.164, 50920.914, ..., 50738.664, 50780.914,\n",
       "          50821.164]],\n",
       "\n",
       "        [[51052.535, 51084.035, 51113.285, ..., 50948.285, 50984.535,\n",
       "          51019.535],\n",
       "         [50896.785, 50913.285, 50940.285, ..., 50894.035, 50890.535,\n",
       "          50890.035],\n",
       "         [50833.535, 50698.285, 50601.035, ..., 51313.785, 51163.785,\n",
       "          50995.535],\n",
       "         ...,\n",
       "         [50419.285, 50522.035, 50607.285, ..., 50102.285, 50201.285,\n",
       "          50309.285],\n",
       "         [50694.535, 50753.535, 50800.035, ..., 50470.035, 50549.785,\n",
       "          50625.535],\n",
       "         [50720.785, 50744.535, 50764.285, ..., 50634.285, 50664.785,\n",
       "          50694.035]],\n",
       "\n",
       "        ...,\n",
       "\n",
       "        [[49549.906, 49627.156, 49698.906, ..., 49291.906, 49381.406,\n",
       "          49467.656],\n",
       "         [49931.406, 50010.906, 50089.156, ..., 49662.156, 49760.406,\n",
       "          49848.906],\n",
       "         [50325.406, 50252.906, 50209.656, ..., 50470.906, 50462.656,\n",
       "          50404.906],\n",
       "         ...,\n",
       "         [49453.656, 49560.156, 49668.656, ..., 49150.156, 49244.406,\n",
       "          49347.656],\n",
       "         [50038.906, 50140.906, 50254.906, ..., 49834.906, 49882.906,\n",
       "          49952.156],\n",
       "         [51013.656, 51056.156, 51105.156, ..., 50937.406, 50953.156,\n",
       "          50978.906]],\n",
       "\n",
       "        [[49491.246, 49568.246, 49639.496, ..., 49232.246, 49322.746,\n",
       "          49409.246],\n",
       "         [49981.246, 50050.246, 50115.246, ..., 49717.246, 49818.746,\n",
       "          49905.496],\n",
       "         [50590.246, 50498.496, 50418.746, ..., 50669.996, 50702.246,\n",
       "          50667.746],\n",
       "         ...,\n",
       "         [49557.246, 49685.496, 49806.496, ..., 49149.496, 49282.996,\n",
       "          49421.746],\n",
       "         [50013.746, 50124.746, 50243.996, ..., 49760.746, 49827.746,\n",
       "          49913.496],\n",
       "         [50899.746, 50946.246, 50998.746, ..., 50809.246, 50829.996,\n",
       "          50860.496]],\n",
       "\n",
       "        [[49419.637, 49494.637, 49563.637, ..., 49162.387, 49252.887,\n",
       "          49338.887],\n",
       "         [50017.387, 50079.637, 50134.137, ..., 49741.387, 49851.887,\n",
       "          49942.887],\n",
       "         [50795.137, 50703.387, 50602.887, ..., 50753.137, 50842.137,\n",
       "          50850.137],\n",
       "         ...,\n",
       "         [49708.637, 49853.637, 49981.887, ..., 49202.637, 49375.637,\n",
       "          49547.637],\n",
       "         [50040.137, 50158.887, 50280.637, ..., 49737.137, 49824.887,\n",
       "          49927.637],\n",
       "         [50811.887, 50862.637, 50918.137, ..., 50704.137, 50731.637,\n",
       "          50767.887]]],\n",
       "\n",
       "\n",
       "       [[[51200.395, 51232.895, 51266.395, ..., 51113.145, 51140.895,\n",
       "          51169.895],\n",
       "         [50685.395, 50700.145, 50733.895, ..., 50737.645, 50708.145,\n",
       "          50689.145],\n",
       "         [50529.895, 50393.895, 50304.145, ..., 51079.895, 50896.145,\n",
       "          50703.645],\n",
       "         ...,\n",
       "         [50517.145, 50640.395, 50751.895, ..., 50216.895, 50296.645,\n",
       "          50398.395],\n",
       "         [50966.895, 51048.145, 51115.395, ..., 50674.895, 50776.895,\n",
       "          50875.145],\n",
       "         [50995.895, 51036.895, 51071.895, ..., 50849.895, 50901.145,\n",
       "          50950.395]],\n",
       "\n",
       "        [[51156.07 , 51190.82 , 51224.07 , ..., 51047.82 , 51084.82 ,\n",
       "          51120.82 ],\n",
       "         [50859.82 , 50873.57 , 50905.57 , ..., 50897.32 , 50877.07 ,\n",
       "          50862.32 ],\n",
       "         [50684.07 , 50533.32 , 50442.82 , ..., 51295.07 , 51095.32 ,\n",
       "          50880.07 ],\n",
       "         ...,\n",
       "         [50514.82 , 50620.57 , 50707.07 , ..., 50196.07 , 50294.32 ,\n",
       "          50402.57 ],\n",
       "         [50848.32 , 50915.57 , 50968.32 , ..., 50585.82 , 50680.32 ,\n",
       "          50768.82 ],\n",
       "         [50853.57 , 50885.07 , 50912.07 , ..., 50739.57 , 50779.57 ,\n",
       "          50818.07 ]],\n",
       "\n",
       "        [[50917.977, 50948.227, 50975.727, ..., 50813.477, 50850.477,\n",
       "          50885.477],\n",
       "         [50862.477, 50872.477, 50893.727, ..., 50869.977, 50866.477,\n",
       "          50861.977],\n",
       "         [50845.227, 50696.727, 50598.977, ..., 51373.227, 51214.227,\n",
       "          51027.227],\n",
       "         ...,\n",
       "         [50470.227, 50555.727, 50615.727, ..., 50150.727, 50258.977,\n",
       "          50367.977],\n",
       "         [50761.477, 50814.477, 50853.727, ..., 50541.227, 50621.727,\n",
       "          50696.227],\n",
       "         [50800.977, 50821.727, 50838.727, ..., 50724.727, 50751.477,\n",
       "          50777.227]],\n",
       "\n",
       "        ...,\n",
       "\n",
       "        [[49880.44 , 49953.44 , 50017.19 , ..., 49614.44 , 49709.94 ,\n",
       "          49798.94 ],\n",
       "         [50375.44 , 50452.94 , 50518.44 , ..., 50057.44 , 50179.69 ,\n",
       "          50284.94 ],\n",
       "         [50729.19 , 50672.44 , 50624.19 , ..., 50742.19 , 50786.94 ,\n",
       "          50775.44 ],\n",
       "         ...,\n",
       "         [49403.44 , 49480.19 , 49558.44 , ..., 49205.44 , 49261.19 ,\n",
       "          49329.44 ],\n",
       "         [50075.19 , 50128.69 , 50192.44 , ..., 49999.69 , 50007.94 ,\n",
       "          50033.94 ],\n",
       "         [50974.69 , 50985.19 , 51000.44 , ..., 50980.44 , 50971.69 ,\n",
       "          50969.94 ]],\n",
       "\n",
       "        [[49817.508, 49890.758, 49955.258, ..., 49550.008, 49646.258,\n",
       "          49735.758],\n",
       "         [50385.258, 50457.258, 50515.508, ..., 50064.508, 50191.008,\n",
       "          50297.258],\n",
       "         [50906.508, 50843.008, 50770.008, ..., 50818.758, 50913.508,\n",
       "          50937.258],\n",
       "         ...,\n",
       "         [49438.008, 49538.508, 49634.258, ..., 49150.258, 49237.008,\n",
       "          49335.758],\n",
       "         [50021.008, 50084.008, 50154.258, ..., 49906.508, 49929.008,\n",
       "          49968.258],\n",
       "         [50856.008, 50869.758, 50888.008, ..., 50850.508, 50845.758,\n",
       "          50847.758]],\n",
       "\n",
       "        [[49840.902, 49911.402, 49973.152, ..., 49581.152, 49675.152,\n",
       "          49761.902],\n",
       "         [50450.152, 50517.402, 50567.402, ..., 50123.652, 50254.652,\n",
       "          50363.152],\n",
       "         [51057.652, 51004.402, 50920.652, ..., 50837.902, 50986.402,\n",
       "          51057.652],\n",
       "         ...,\n",
       "         [49533.402, 49651.402, 49759.152, ..., 49172.902, 49285.402,\n",
       "          49409.152],\n",
       "         [50015.152, 50085.152, 50159.652, ..., 49866.902, 49902.152,\n",
       "          49952.902],\n",
       "         [50774.652, 50790.902, 50811.402, ..., 50759.152, 50757.902,\n",
       "          50763.402]]],\n",
       "\n",
       "\n",
       "       ...,\n",
       "\n",
       "\n",
       "       [[[49454.266, 49468.766, 49480.016, ..., 49396.516, 49417.266,\n",
       "          49436.766],\n",
       "         [49789.516, 49808.266, 49817.266, ..., 49663.016, 49717.266,\n",
       "          49759.516],\n",
       "         [50137.016, 50121.516, 50102.016, ..., 50059.266, 50113.266,\n",
       "          50137.266],\n",
       "         ...,\n",
       "         [50271.266, 50308.266, 50351.266, ..., 50151.516, 50199.016,\n",
       "          50236.766],\n",
       "         [50945.016, 51008.766, 51063.766, ..., 50688.266, 50785.766,\n",
       "          50871.266],\n",
       "         [51059.766, 51116.766, 51167.766, ..., 50857.266, 50929.516,\n",
       "          50997.266]],\n",
       "\n",
       "        [[49617.418, 49609.918, 49599.418, ..., 49626.168, 49625.168,\n",
       "          49622.668],\n",
       "         [49944.918, 49930.168, 49907.168, ..., 49911.418, 49937.168,\n",
       "          49947.918],\n",
       "         [50286.168, 50228.418, 50160.418, ..., 50280.668, 50319.918,\n",
       "          50319.918],\n",
       "         ...,\n",
       "         [50381.918, 50422.668, 50465.418, ..., 50221.418, 50286.918,\n",
       "          50338.668],\n",
       "         [50906.668, 50982.418, 51048.418, ..., 50614.418, 50722.168,\n",
       "          50819.918],\n",
       "         [51002.668, 51057.168, 51106.168, ..., 50812.168, 50879.168,\n",
       "          50942.918]],\n",
       "\n",
       "        [[49598.14 , 49590.64 , 49580.64 , ..., 49606.64 , 49605.64 ,\n",
       "          49602.89 ],\n",
       "         [49914.39 , 49912.89 , 49901.14 , ..., 49841.89 , 49879.64 ,\n",
       "          49903.64 ],\n",
       "         [50286.89 , 50261.89 , 50225.14 , ..., 50199.64 , 50262.89 ,\n",
       "          50290.14 ],\n",
       "         ...,\n",
       "         [50341.39 , 50361.14 , 50387.14 , ..., 50258.64 , 50297.39 ,\n",
       "          50322.39 ],\n",
       "         [50894.39 , 50952.89 , 51001.89 , ..., 50654.39 , 50745.39 ,\n",
       "          50825.39 ],\n",
       "         [50987.14 , 51031.39 , 51070.14 , ..., 50825.64 , 50883.64 ,\n",
       "          50937.64 ]],\n",
       "\n",
       "        ...,\n",
       "\n",
       "        [[50124.406, 50064.156, 49999.156, ..., 50266.406, 50226.406,\n",
       "          50178.906],\n",
       "         [50613.906, 50470.406, 50315.156, ..., 50912.906, 50840.656,\n",
       "          50739.406],\n",
       "         [51060.156, 50806.906, 50546.406, ..., 51557.656, 51454.156,\n",
       "          51282.906],\n",
       "         ...,\n",
       "         [50838.906, 50932.406, 50988.656, ..., 50462.406, 50588.656,\n",
       "          50719.406],\n",
       "         [50778.906, 50821.656, 50847.656, ..., 50583.656, 50654.906,\n",
       "          50721.656],\n",
       "         [50514.906, 50529.156, 50539.906, ..., 50456.156, 50477.906,\n",
       "          50497.656]],\n",
       "\n",
       "        [[50179.98 , 50118.98 , 50053.48 , ..., 50326.23 , 50284.48 ,\n",
       "          50235.48 ],\n",
       "         [50634.98 , 50490.48 , 50334.98 , ..., 50940.98 , 50865.23 ,\n",
       "          50761.73 ],\n",
       "         [51069.23 , 50816.23 , 50555.48 , ..., 51571.98 , 51464.73 ,\n",
       "          51292.23 ],\n",
       "         ...,\n",
       "         [50814.73 , 50894.98 , 50940.48 , ..., 50489.48 , 50597.48 ,\n",
       "          50710.98 ],\n",
       "         [50786.23 , 50821.23 , 50840.48 , ..., 50618.73 , 50680.48 ,\n",
       "          50737.98 ],\n",
       "         [50548.48 , 50558.48 , 50565.23 , ..., 50502.73 , 50519.98 ,\n",
       "          50535.48 ]],\n",
       "\n",
       "        [[50181.266, 50121.016, 50056.516, ..., 50327.266, 50285.266,\n",
       "          50236.266],\n",
       "         [50612.516, 50470.266, 50316.516, ..., 50915.016, 50839.766,\n",
       "          50737.516],\n",
       "         [51054.016, 50805.016, 50546.516, ..., 51548.766, 51442.266,\n",
       "          51272.516],\n",
       "         ...,\n",
       "         [50828.516, 50900.766, 50941.016, ..., 50538.266, 50633.766,\n",
       "          50735.016],\n",
       "         [50833.516, 50863.516, 50878.266, ..., 50684.516, 50740.016,\n",
       "          50791.266],\n",
       "         [50613.016, 50620.266, 50624.516, ..., 50575.016, 50589.766,\n",
       "          50602.516]]],\n",
       "\n",
       "\n",
       "       [[[49385.414, 49388.414, 49388.664, ..., 49363.414, 49372.164,\n",
       "          49379.914],\n",
       "         [49811.414, 49818.414, 49815.914, ..., 49712.664, 49759.414,\n",
       "          49792.414],\n",
       "         [50250.414, 50222.164, 50188.914, ..., 50170.914, 50236.164,\n",
       "          50259.414],\n",
       "         ...,\n",
       "         [50245.664, 50304.164, 50363.664, ..., 50082.414, 50136.914,\n",
       "          50190.164],\n",
       "         [50888.164, 50962.664, 51029.664, ..., 50617.914, 50715.914,\n",
       "          50805.914],\n",
       "         [51076.664, 51136.414, 51190.914, ..., 50870.164, 50942.914,\n",
       "          51011.914]],\n",
       "\n",
       "        [[49369.918, 49355.418, 49338.668, ..., 49403.418, 49393.668,\n",
       "          49382.668],\n",
       "         [49814.418, 49798.418, 49774.668, ..., 49787.668, 49810.668,\n",
       "          49819.418],\n",
       "         [50275.668, 50222.168, 50163.418, ..., 50257.418, 50305.168,\n",
       "          50307.918],\n",
       "         ...,\n",
       "         [50321.918, 50354.168, 50384.418, ..., 50179.918, 50238.668,\n",
       "          50284.668],\n",
       "         [50836.418, 50905.418, 50964.918, ..., 50571.168, 50668.918,\n",
       "          50757.418],\n",
       "         [50957.918, 51007.418, 51051.918, ..., 50783.418, 50845.168,\n",
       "          50903.418]],\n",
       "\n",
       "        [[49460.11 , 49443.36 , 49424.36 , ..., 49500.36 , 49488.61 ,\n",
       "          49475.36 ],\n",
       "         [49863.11 , 49851.61 , 49830.86 , ..., 49823.36 , 49849.86 ,\n",
       "          49863.11 ],\n",
       "         [50329.61 , 50301.11 , 50263.86 , ..., 50250.11 , 50314.11 ,\n",
       "          50337.86 ],\n",
       "         ...,\n",
       "         [50307.86 , 50334.86 , 50365.11 , ..., 50196.61 , 50244.36 ,\n",
       "          50279.61 ],\n",
       "         [50886.11 , 50949.11 , 51002.86 , ..., 50638.11 , 50730.11 ,\n",
       "          50813.11 ],\n",
       "         [50982.11 , 51024.36 , 51060.86 , ..., 50827.11 , 50882.61 ,\n",
       "          50934.61 ]],\n",
       "\n",
       "        ...,\n",
       "\n",
       "        [[50139.67 , 50071.92 , 50002.17 , ..., 50317.42 , 50263.67 ,\n",
       "          50203.92 ],\n",
       "         [50443.42 , 50283.92 , 50120.17 , ..., 50828.92 , 50722.17 ,\n",
       "          50591.67 ],\n",
       "         [50815.17 , 50538.17 , 50267.17 , ..., 51462.42 , 51297.67 ,\n",
       "          51075.67 ],\n",
       "         ...,\n",
       "         [50804.17 , 50890.92 , 50948.42 , ..., 50502.42 , 50596.17 ,\n",
       "          50701.17 ],\n",
       "         [50850.17 , 50884.92 , 50905.17 , ..., 50695.42 , 50750.42 ,\n",
       "          50803.67 ],\n",
       "         [50698.42 , 50704.17 , 50707.17 , ..., 50668.92 , 50680.17 ,\n",
       "          50690.17 ]],\n",
       "\n",
       "        [[50159.78 , 50093.53 , 50025.28 , ..., 50333.78 , 50280.78 ,\n",
       "          50222.53 ],\n",
       "         [50432.28 , 50276.78 , 50116.78 , ..., 50810.28 , 50704.78 ,\n",
       "          50577.03 ],\n",
       "         [50779.28 , 50511.28 , 50249.03 , ..., 51421.28 , 51253.03 ,\n",
       "          51033.03 ],\n",
       "         ...,\n",
       "         [50755.03 , 50833.28 , 50887.28 , ..., 50495.78 , 50574.53 ,\n",
       "          50664.78 ],\n",
       "         [50840.28 , 50871.53 , 50890.03 , ..., 50705.28 , 50752.78 ,\n",
       "          50799.28 ],\n",
       "         [50724.28 , 50728.28 , 50729.53 , ..., 50703.03 , 50711.28 ,\n",
       "          50718.53 ]],\n",
       "\n",
       "        [[50221.914, 50156.664, 50088.914, ..., 50392.664, 50340.914,\n",
       "          50283.664],\n",
       "         [50486.664, 50333.414, 50175.414, ..., 50860.414, 50755.664,\n",
       "          50629.414],\n",
       "         [50825.664, 50563.664, 50307.664, ..., 51469.914, 51297.164,\n",
       "          51076.414],\n",
       "         ...,\n",
       "         [50778.414, 50850.414, 50903.914, ..., 50554.414, 50620.664,\n",
       "          50698.414],\n",
       "         [50886.414, 50914.664, 50932.414, ..., 50768.664, 50809.414,\n",
       "          50849.914],\n",
       "         [50799.914, 50802.164, 50802.414, ..., 50785.914, 50791.414,\n",
       "          50796.164]]],\n",
       "\n",
       "\n",
       "       [[[49305.742, 49303.492, 49298.742, ..., 49305.242, 49305.992,\n",
       "          49306.492],\n",
       "         [49774.492, 49783.242, 49785.242, ..., 49684.242, 49725.992,\n",
       "          49755.992],\n",
       "         [50261.492, 50229.992, 50200.992, ..., 50188.492, 50257.742,\n",
       "          50277.242],\n",
       "         ...,\n",
       "         [50288.742, 50345.742, 50393.742, ..., 50094.742, 50161.992,\n",
       "          50226.742],\n",
       "         [50867.492, 50943.492, 51010.242, ..., 50588.242, 50688.992,\n",
       "          50782.492],\n",
       "         [51051.992, 51112.992, 51168.742, ..., 50844.492, 50916.992,\n",
       "          50986.242]],\n",
       "\n",
       "        [[49375.86 , 49360.61 , 49344.86 , ..., 49420.86 , 49405.61 ,\n",
       "          49390.61 ],\n",
       "         [49782.61 , 49776.11 , 49768.36 , ..., 49764.36 , 49778.61 ,\n",
       "          49784.11 ],\n",
       "         [50234.36 , 50179.11 , 50136.86 , ..., 50262.61 , 50296.61 ,\n",
       "          50281.11 ],\n",
       "         ...,\n",
       "         [50405.11 , 50434.61 , 50457.11 , ..., 50249.86 , 50314.86 ,\n",
       "          50366.11 ],\n",
       "         [50910.86 , 50976.86 , 51032.36 , ..., 50652.36 , 50747.86 ,\n",
       "          50834.36 ],\n",
       "         [50986.11 , 51033.11 , 51074.36 , ..., 50818.86 , 50878.36 ,\n",
       "          50934.36 ]],\n",
       "\n",
       "        [[49325.65 , 49309.65 , 49292.9  , ..., 49371.15 , 49356.15 ,\n",
       "          49341.15 ],\n",
       "         [49742.9  , 49734.65 , 49722.65 , ..., 49720.4  , 49737.65 ,\n",
       "          49744.9  ],\n",
       "         [50237.4  , 50191.4  , 50148.9  , ..., 50208.9  , 50262.15 ,\n",
       "          50267.15 ],\n",
       "         ...,\n",
       "         [50350.15 , 50375.9  , 50402.15 , ..., 50232.65 , 50283.65 ,\n",
       "          50321.4  ],\n",
       "         [50951.65 , 51009.4  , 51056.4  , ..., 50713.9  , 50803.15 ,\n",
       "          50882.65 ],\n",
       "         [51014.9  , 51052.65 , 51083.9  , ..., 50869.9  , 50922.9  ,\n",
       "          50971.4  ]],\n",
       "\n",
       "        ...,\n",
       "\n",
       "        [[50285.543, 50218.793, 50148.543, ..., 50452.793, 50403.293,\n",
       "          50347.293],\n",
       "         [50757.043, 50606.543, 50438.293, ..., 51055.293, 50984.543,\n",
       "          50884.043],\n",
       "         [51411.793, 51159.793, 50873.293, ..., 51857.543, 51769.293,\n",
       "          51618.043],\n",
       "         ...,\n",
       "         [50854.543, 50946.543, 51013.793, ..., 50587.543, 50662.293,\n",
       "          50754.793],\n",
       "         [50928.043, 50961.293, 50980.293, ..., 50785.793, 50835.043,\n",
       "          50884.293],\n",
       "         [50824.293, 50825.543, 50824.043, ..., 50809.293, 50815.543,\n",
       "          50820.793]],\n",
       "\n",
       "        [[50377.1  , 50312.35 , 50243.85 , ..., 50539.1  , 50491.35 ,\n",
       "          50437.1  ],\n",
       "         [50822.6  , 50673.6  , 50507.35 , ..., 51125.6  , 51051.6  ,\n",
       "          50949.85 ],\n",
       "         [51447.6  , 51197.1  , 50917.1  , ..., 51929.85 , 51823.6  ,\n",
       "          51659.6  ],\n",
       "         ...,\n",
       "         [50863.85 , 50944.85 , 51006.85 , ..., 50638.6  , 50700.85 ,\n",
       "          50778.6  ],\n",
       "         [50955.85 , 50984.6  , 51000.85 , ..., 50833.85 , 50875.85 ,\n",
       "          50918.1  ],\n",
       "         [50885.6  , 50884.85 , 50881.85 , ..., 50878.85 , 50882.1  ,\n",
       "          50884.6  ]],\n",
       "\n",
       "        [[50433.574, 50370.574, 50304.074, ..., 50590.574, 50544.324,\n",
       "          50491.824],\n",
       "         [50845.074, 50696.324, 50532.074, ..., 51157.824, 51079.324,\n",
       "          50973.824],\n",
       "         [51440.824, 51188.824, 50913.574, ..., 51964.324, 51839.824,\n",
       "          51661.324],\n",
       "         ...,\n",
       "         [50863.574, 50933.324, 50990.824, ..., 50684.824, 50732.074,\n",
       "          50793.574],\n",
       "         [50980.324, 51004.324, 51018.324, ..., 50882.824, 50915.574,\n",
       "          50949.324],\n",
       "         [50945.324, 50942.324, 50937.574, ..., 50948.074, 50947.824,\n",
       "          50947.074]]]], dtype=float32)\n",
       "Coordinates:\n",
       "  * time       (time) datetime64[ns] 2017-01-01 ... 2017-12-31T18:00:00\n",
       "  * lead_time  (lead_time) int64 0 6 12 18 24 30 36 ... 138 144 150 156 162 168\n",
       "  * lat        (lat) float64 87.19 81.56 75.94 70.31 ... -75.94 -81.56 -87.19\n",
       "  * lon        (lon) float64 0.0 5.625 11.25 16.88 ... 337.5 343.1 348.8 354.4"
      ]
     },
     "execution_count": 150,
     "metadata": {},
     "output_type": "execute_result"
    }
   ],
   "source": [
    "t21_by_lead"
   ]
  },
  {
   "cell_type": "code",
   "execution_count": 133,
   "metadata": {
    "Collapsed": "false"
   },
   "outputs": [],
   "source": [
    "tigge_by_lead.to_netcdf(f'{PREDDIR}/tigge_5.625deg.nc')\n",
    "t21_by_lead.to_netcdf(f'{PREDDIR}/t21_5.625deg.nc')"
   ]
  },
  {
   "cell_type": "code",
   "execution_count": 16,
   "metadata": {
    "Collapsed": "false"
   },
   "outputs": [
    {
     "data": {
      "text/plain": [
       "<xarray.DataArray (time: 608, lead_time: 21, lat: 32, lon: 64)>\n",
       "array([[[[50928.676, 50951.355, 50973.42 , ..., 50876.58 , 50890.676,\n",
       "          50908.45 ],\n",
       "         [50621.29 , 50719.973, 50822.332, ..., 50422.39 , 50487.055,\n",
       "          50550.492],\n",
       "         [50646.113, 50872.9  , 51065.973, ..., 50144.42 , 50269.76 ,\n",
       "          50421.773],\n",
       "         ...,\n",
       "         [50759.2  , 50520.152, 50269.77 , ..., 51332.605, 51153.324,\n",
       "          50967.297],\n",
       "         [50907.836, 50891.594, 50863.703, ..., 50770.844, 50803.637,\n",
       "          50859.11 ],\n",
       "         [51196.53 , 51208.79 , 51221.965, ..., 51142.285, 51161.285,\n",
       "          51181.51 ]],\n",
       "\n",
       "        [[50899.89 , 50923.797, 50947.395, ..., 50844.42 , 50858.824,\n",
       "          50877.52 ],\n",
       "         [50699.156, 50809.79 , 50906.94 , ..., 50416.59 , 50452.754,\n",
       "          50583.613],\n",
       "         [50721.832, 50940.04 , 51113.81 , ..., 50119.008, 50258.14 ,\n",
       "          50461.94 ],\n",
       "         ...,\n",
       "         [50759.527, 50530.29 , 50277.15 , ..., 51325.887, 51147.22 ,\n",
       "          50948.32 ],\n",
       "         [50876.293, 50874.15 , 50861.89 , ..., 50626.523, 50719.684,\n",
       "          50831.855],\n",
       "         [51118.402, 51140.164, 51165.6  , ..., 51064.465, 51084.69 ,\n",
       "          51101.242]],\n",
       "\n",
       "        [[50949.33 , 50969.863, 50991.316, ..., 50898.15 , 50912.246,\n",
       "          50930.023],\n",
       "         [50824.29 , 50928.184, 51018.59 , ..., 50485.027, 50587.08 ,\n",
       "          50709.055],\n",
       "         [50801.61 , 51026.867, 51150.984, ..., 50148.215, 50358.453,\n",
       "          50572.98 ],\n",
       "         ...,\n",
       "         [50739.4  , 50542.03 , 50281.535, ..., 51210.133, 51113.906,\n",
       "          50937.383],\n",
       "         [50835.016, 50853.098, 50878.227, ..., 50567.777, 50680.246,\n",
       "          50789.047],\n",
       "         [51099.5  , 51121.258, 51141.484, ..., 51032.688, 51056.9  ,\n",
       "          51078.35 ]],\n",
       "\n",
       "        ...,\n",
       "\n",
       "        [[50939.125, 50963.64 , 50987.547, ..., 50868.637, 50890.09 ,\n",
       "          50913.383],\n",
       "         [49899.89 , 50004.09 , 50110.74 , ..., 49717.848, 49755.234,\n",
       "          49818.98 ],\n",
       "         [49500.867, 49539.176, 49602.31 , ..., 49595.566, 49541.63 ,\n",
       "          49491.367],\n",
       "         ...,\n",
       "         [50160.082, 50285.426, 50438.047, ..., 49691.184, 49769.945,\n",
       "          49940.953],\n",
       "         [49411.07 , 49491.67 , 49560.63 , ..., 49169.27 , 49239.45 ,\n",
       "          49315.758],\n",
       "         [48838.28 , 48853.91 , 48869.543, ..., 48792.004, 48806.41 ,\n",
       "          48822.652]],\n",
       "\n",
       "        [[50789.81 , 50806.05 , 50822.598, ..., 50754.562, 50764.676,\n",
       "          50776.324],\n",
       "         [49804.203, 49896.758, 50001.57 , ..., 49591.516, 49643.92 ,\n",
       "          49720.23 ],\n",
       "         [49650.05 , 49691.73 , 49765.59 , ..., 49695.715, 49682.23 ,\n",
       "          49660.47 ],\n",
       "         ...,\n",
       "         [50184.84 , 50382.51 , 50555.36 , ..., 50079.105, 50106.074,\n",
       "          50098.72 ],\n",
       "         [49506.62 , 49563.32 , 49598.562, ..., 49329.484, 49402.42 ,\n",
       "          49473.22 ],\n",
       "         [48925.56 , 48931.688, 48937.51 , ..., 48908.703, 48913.914,\n",
       "          48919.734]],\n",
       "\n",
       "        [[50698.016, 50707.516, 50719.47 , ..., 50687.902, 50689.434,\n",
       "          50692.5  ],\n",
       "         [49822.742, 49888.324, 49968.312, ..., 49617.71 , 49683.91 ,\n",
       "          49757.46 ],\n",
       "         [49856.453, 49874.227, 49936.44 , ..., 49865.953, 49873.   ,\n",
       "          49872.387],\n",
       "         ...,\n",
       "         [50401.66 , 50428.938, 50410.547, ..., 50254.55 , 50341.594,\n",
       "          50386.645],\n",
       "         [49628.438, 49639.164, 49622.004, ..., 49489.3  , 49544.47 ,\n",
       "          49591.664],\n",
       "         [49040.633, 49040.938, 49040.02 , ..., 49042.473, 49045.535,\n",
       "          49042.473]]],\n",
       "\n",
       "\n",
       "       [[[50935.863, 50958.234, 50981.527, ..., 50879.473, 50896.637,\n",
       "          50915.637],\n",
       "         [50832.582, 50935.863, 51023.82 , ..., 50474.934, 50586.79 ,\n",
       "          50714.28 ],\n",
       "         [50794.887, 51022.594, 51149.473, ..., 50151.61 , 50347.438,\n",
       "          50569.016],\n",
       "         ...,\n",
       "         [50718.883, 50521.52 , 50246.617, ..., 51164.49 , 51055.086,\n",
       "          50889.59 ],\n",
       "         [50824.617, 50846.375, 50873.344, ..., 50544.195, 50656.973,\n",
       "          50771.29 ],\n",
       "         [51109.938, 51131.39 , 51155.6  , ..., 51034.547, 51059.062,\n",
       "          51084.195]],\n",
       "\n",
       "        [[50942.977, 50963.203, 50985.266, ..., 50899.457, 50911.41 ,\n",
       "          50925.812],\n",
       "         [50923.668, 51026.64 , 51091.918, ..., 50540.883, 50672.973,\n",
       "          50801.383],\n",
       "         [50848.277, 51013.77 , 51098.97 , ..., 50227.06 , 50433.008,\n",
       "          50650.906],\n",
       "         ...,\n",
       "         [50647.844, 50430.254, 50174.965, ..., 51211.754, 51059.438,\n",
       "          50864.523],\n",
       "         [50737.027, 50782.996, 50845.52 , ..., 50460.59 , 50572.45 ,\n",
       "          50676.04 ],\n",
       "         [50991.09 , 51018.67 , 51044.723, ..., 50908.65 , 50935.62 ,\n",
       "          50962.59 ]],\n",
       "\n",
       "        [[50996.367, 51016.594, 51038.047, ..., 50947.945, 50961.125,\n",
       "          50977.67 ],\n",
       "         [50983.188, 51081.258, 51138.26 , ..., 50586.613, 50740.156,\n",
       "          50863.047],\n",
       "         [50825.36 , 50978.594, 51036.82 , ..., 50264.207, 50438.28 ,\n",
       "          50637.49 ],\n",
       "         ...,\n",
       "         [50639.637, 50416.527, 50242.15 , ..., 51218.562, 51064.1  ,\n",
       "          50868.883],\n",
       "         [50576.812, 50660.17 , 50759.16 , ..., 50286.277, 50404.88 ,\n",
       "          50502.035],\n",
       "         [50775.098, 50810.65 , 50844.36 , ..., 50673.043, 50704.61 ,\n",
       "          50739.547]],\n",
       "\n",
       "        ...,\n",
       "\n",
       "        [[50623.715, 50625.86 , 50630.152, ..., 50633.215, 50628.926,\n",
       "          50624.94 ],\n",
       "         [49763.766, 49879.61 , 49967.87 , ..., 49357.688, 49496.21 ,\n",
       "          49631.977],\n",
       "         [49729.746, 49743.54 , 49784.91 , ..., 49721.777, 49744.15 ,\n",
       "          49753.344],\n",
       "         ...,\n",
       "         [50530.242, 50650.07 , 50720.867, ..., 50161.867, 50239.402,\n",
       "          50372.715],\n",
       "         [49231.12 , 49278.316, 49301.914, ..., 49289.965, 49204.457,\n",
       "          49183.312],\n",
       "         [48951.62 , 48938.445, 48928.023, ..., 48985.027, 48980.43 ,\n",
       "          48967.254]],\n",
       "\n",
       "        [[50449.27 , 50443.137, 50437.93 , ..., 50469.496, 50461.832,\n",
       "          50455.4  ],\n",
       "         [49806.91 , 49891.8  , 49950.336, ..., 49488.184, 49599.73 ,\n",
       "          49704.55 ],\n",
       "         [49835.41 , 49813.957, 49834.184, ..., 49847.668, 49859.008,\n",
       "          49859.008],\n",
       "         ...,\n",
       "         [50168.848, 50365.297, 50615.375, ..., 50155.06 , 50112.457,\n",
       "          50088.246],\n",
       "         [49249.44 , 49312.27 , 49342.305, ..., 49313.8  , 49276.72 ,\n",
       "          49235.04 ],\n",
       "         [49011.01 , 48992.316, 48972.395, ..., 49030.01 , 49028.48 ,\n",
       "          49023.27 ]],\n",
       "\n",
       "        [[50389.527, 50381.863, 50374.816, ..., 50420.48 , 50409.445,\n",
       "          50398.72 ],\n",
       "         [49952.81 , 50010.42 , 50051.184, ..., 49708.86 , 49795.28 ,\n",
       "          49880.176],\n",
       "         [49995.406, 49956.484, 49962.92 , ..., 50048.73 , 50050.266,\n",
       "          50030.652],\n",
       "         ...,\n",
       "         [49979.777, 50053.637, 50301.875, ..., 50265.105, 50177.754,\n",
       "          50098.387],\n",
       "         [49293.285, 49331.29 , 49380.938, ..., 49364.695, 49328.836,\n",
       "          49311.98 ],\n",
       "         [49056.082, 49043.207, 49024.82 , ..., 49071.098, 49069.566,\n",
       "          49064.355]]],\n",
       "\n",
       "\n",
       "       [[[50988.176, 51008.707, 51030.16 , ..., 50941.59 , 50954.46 ,\n",
       "          50970.4  ],\n",
       "         [50974.08 , 51067.55 , 51123.33 , ..., 50571.68 , 50732.88 ,\n",
       "          50860.68 ],\n",
       "         [50851.184, 50995.836, 51056.824, ..., 50258.773, 50431.93 ,\n",
       "          50651.668],\n",
       "         ...,\n",
       "         [50647.074, 50402.51 , 50229.664, ..., 51233.047, 51078.28 ,\n",
       "          50882.14 ],\n",
       "         [50609.07 , 50693.35 , 50797.855, ..., 50316.09 , 50441.13 ,\n",
       "          50532.453],\n",
       "         [50790.5  , 50822.99 , 50864.973, ..., 50679.867, 50707.754,\n",
       "          50745.758]],\n",
       "\n",
       "        [[50956.832, 50975.223, 50996.67 , ..., 50916.684, 50928.023,\n",
       "          50941.203],\n",
       "         [50968.785, 51042.95 , 51102.098, ..., 50640.55 , 50767.125,\n",
       "          50875.617],\n",
       "         [50800.84 , 50893.395, 50904.734, ..., 50199.85 , 50424.797,\n",
       "          50600.71 ],\n",
       "         ...,\n",
       "         [50552.906, 50389.254, 50293.023, ..., 50878.375, 50787.36 ,\n",
       "          50674.883],\n",
       "         [50310.492, 50414.383, 50555.973, ..., 50023.023, 50116.8  ,\n",
       "          50212.113],\n",
       "         [50430.934, 50473.53 , 50513.37 , ..., 50305.586, 50345.734,\n",
       "          50388.027]],\n",
       "\n",
       "        [[51053.98 , 51063.785, 51076.043, ..., 51024.56 , 51034.977,\n",
       "          51044.785],\n",
       "         [51112.516, 51155.727, 51181.47 , ..., 50791.94 , 50912.387,\n",
       "          51028.844],\n",
       "         [50852.016, 50906.566, 50841.598, ..., 50287.8  , 50529.605,\n",
       "          50697.855],\n",
       "         ...,\n",
       "         [50316.31 , 50236.625, 50245.207, ..., 50495.285, 50460.043,\n",
       "          50393.844],\n",
       "         [50059.18 , 50149.59 , 50308.953, ..., 49874.074, 49917.9  ,\n",
       "          49992.37 ],\n",
       "         [50156.637, 50197.703, 50238.16 , ..., 50046.617, 50080.33 ,\n",
       "          50117.715]],\n",
       "\n",
       "        ...,\n",
       "\n",
       "        [[50370.41 , 50363.668, 50359.07 , ..., 50390.332, 50383.895,\n",
       "          50377.152],\n",
       "         [49965.562, 50037.89 , 50104.395, ..., 49728.664, 49801.297,\n",
       "          49886.496],\n",
       "         [50013.375, 50021.035, 50056.89 , ..., 50051.684, 50044.633,\n",
       "          50028.695],\n",
       "         ...,\n",
       "         [50163.85 , 50340.99 , 50634.89 , ..., 50360.91 , 50223.004,\n",
       "          50139.332],\n",
       "         [49629.367, 49651.434, 49663.08 , ..., 49625.383, 49618.95 ,\n",
       "          49616.19 ],\n",
       "         [49212.88 , 49194.797, 49176.406, ..., 49262.523, 49246.895,\n",
       "          49230.652]],\n",
       "\n",
       "        [[50338.316, 50334.027, 50332.035, ..., 50355.785, 50351.188,\n",
       "          50344.906],\n",
       "         [50066.02 , 50122.258, 50180.027, ..., 49918.3  , 49957.836,\n",
       "          50008.402],\n",
       "         [50120.88 , 50120.266, 50148.152, ..., 50209.14 , 50185.39 ,\n",
       "          50146.773],\n",
       "         ...,\n",
       "         [49896.543, 49774.566, 49966.418, ..., 50420.45 , 50378.93 ,\n",
       "          50169.152],\n",
       "         [49527.094, 49556.363, 49579.5  , ..., 49474.535, 49495.68 ,\n",
       "          49507.48 ],\n",
       "         [49183.082, 49171.285, 49159.18 , ..., 49216.95 , 49206.066,\n",
       "          49194.727]],\n",
       "\n",
       "        [[50396.67 , 50391.   , 50387.63 , ..., 50417.355, 50410.46 ,\n",
       "          50403.87 ],\n",
       "         [50192.254, 50231.94 , 50276.383, ..., 50117.63 , 50126.363,\n",
       "          50152.566],\n",
       "         [50197.773, 50194.707, 50222.44 , ..., 50327.254, 50292.316,\n",
       "          50231.484],\n",
       "         ...,\n",
       "         [50054.957, 49586.06 , 49459.184, ..., 50227.035, 50298.293,\n",
       "          50304.883],\n",
       "         [49412.754, 49448.457, 49499.94 , ..., 49306.715, 49347.32 ,\n",
       "          49381.953],\n",
       "         [49196.844, 49174.777, 49149.65 , ..., 49236.688, 49228.41 ,\n",
       "          49214.16 ]]],\n",
       "\n",
       "\n",
       "       ...,\n",
       "\n",
       "\n",
       "       [[[48231.188, 48258.77 , 48298.61 , ..., 48203.91 , 48203.91 ,\n",
       "          48211.88 ],\n",
       "         [48632.66 , 48661.16 , 48702.227, ..., 48534.285, 48588.527,\n",
       "          48617.336],\n",
       "         [48859.445, 48853.93 , 48781.91 , ..., 48980.81 , 48865.887,\n",
       "          48796.312],\n",
       "         ...,\n",
       "         [50619.805, 50437.76 , 50419.68 , ..., 51174.824, 51014.23 ,\n",
       "          50851.5  ],\n",
       "         [50359.305, 50491.395, 50560.043, ..., 50024.027, 50105.855,\n",
       "          50202.7  ],\n",
       "         [50225.684, 50262.156, 50301.996, ..., 50124.855, 50154.582,\n",
       "          50190.133]],\n",
       "\n",
       "        [[48035.94 , 48058.312, 48097.848, ..., 48069.652, 48042.07 ,\n",
       "          48030.73 ],\n",
       "         [48892.523, 48906.312, 48915.508, ..., 48748.176, 48811.92 ,\n",
       "          48860.344],\n",
       "         [48914.586, 48867.7  , 48792.613, ..., 48986.3  , 48924.094,\n",
       "          48880.57 ],\n",
       "         ...,\n",
       "         [50629.28 , 50411.074, 50415.977, ..., 51263.676, 51125.457,\n",
       "          50905.72 ],\n",
       "         [50242.516, 50380.734, 50435.285, ..., 49862.188, 49960.87 ,\n",
       "          50077.938],\n",
       "         [50204.516, 50251.402, 50305.344, ..., 50075.492, 50117.17 ,\n",
       "          50160.383]],\n",
       "\n",
       "        [[48060.215, 48104.348, 48159.203, ..., 48013.633, 48013.938,\n",
       "          48030.793],\n",
       "         [48993.72 , 49011.8  , 49011.188, ..., 48861.63 , 48917.406,\n",
       "          48959.7  ],\n",
       "         [48864.695, 48787.773, 48711.766, ..., 48889.21 , 48865.92 ,\n",
       "          48882.777],\n",
       "         ...,\n",
       "         [50782.58 , 50474.883, 50396.426, ..., 51215.31 , 51219.906,\n",
       "          51055.645],\n",
       "         [50115.395, 50260.97 , 50322.566, ..., 49740.89 , 49853.05 ,\n",
       "          49972.27 ],\n",
       "         [50336.973, 50412.668, 50477.332, ..., 50093.637, 50166.574,\n",
       "          50251.465]],\n",
       "\n",
       "        ...,\n",
       "\n",
       "        [[48927.54 , 48958.8  , 48992.207, ..., 48848.164, 48873.6  ,\n",
       "          48899.957],\n",
       "         [49104.37 , 49214.703, 49323.19 , ..., 48953.9  , 48970.754,\n",
       "          49022.85 ],\n",
       "         [49204.28 , 49407.47 , 49624.145, ..., 48672.86 , 48826.094,\n",
       "          48992.2  ],\n",
       "         ...,\n",
       "         [49812.316, 49689.117, 49626.902, ..., 50387.867, 50208.277,\n",
       "          50005.395],\n",
       "         [49651.727, 49451.297, 49248.72 , ..., 49968.92 , 49916.82 ,\n",
       "          49809.867],\n",
       "         [49504.926, 49496.652, 49487.457, ..., 49534.656, 49522.395,\n",
       "          49512.895]],\n",
       "\n",
       "        [[49095.332, 49129.965, 49167.965, ..., 49024.844, 49046.605,\n",
       "          49068.055],\n",
       "         [49258.68 , 49377.59 , 49499.562, ..., 49037.715, 49081.54 ,\n",
       "          49149.883],\n",
       "         [49590.586, 49814.   , 50000.945, ..., 48845.863, 49078.164,\n",
       "          49335.293],\n",
       "         ...,\n",
       "         [49989.914, 49813.082, 49666.895, ..., 50480.883, 50328.875,\n",
       "          50167.363],\n",
       "         [49669.043, 49502.63 , 49359.816, ..., 49906.86 , 49882.957,\n",
       "          49806.04 ],\n",
       "         [49532.05 , 49530.824, 49538.793, ..., 49542.164, 49538.484,\n",
       "          49536.035]],\n",
       "\n",
       "        [[49388.82 , 49410.58 , 49432.95 , ..., 49309.445, 49336.105,\n",
       "          49364.61 ],\n",
       "         [49594.46 , 49704.176, 49824.617, ..., 49312.203, 49396.48 ,\n",
       "          49488.42 ],\n",
       "         [49993.48 , 50294.742, 50568.723, ..., 49114.22 , 49377.78 ,\n",
       "          49697.12 ],\n",
       "         ...,\n",
       "         [50195.445, 50025.97 , 49852.508, ..., 50620.824, 50520.   ,\n",
       "          50352.668],\n",
       "         [49765.777, 49620.816, 49522.438, ..., 49903.992, 49896.637,\n",
       "          49855.266],\n",
       "         [49594.766, 49609.17 , 49628.785, ..., 49600.59 , 49594.766,\n",
       "          49591.09 ]]],\n",
       "\n",
       "\n",
       "       [[[48111.65 , 48160.07 , 48217.074, ..., 48048.21 , 48056.18 ,\n",
       "          48077.324],\n",
       "         [48999.184, 49010.215, 49005.312, ..., 48864.64 , 48921.953,\n",
       "          48968.23 ],\n",
       "         [48828.17 , 48776.074, 48704.973, ..., 48795.992, 48755.848,\n",
       "          48815.3  ],\n",
       "         ...,\n",
       "         [50775.168, 50488.312, 50401.582, ..., 51186.758, 51218.016,\n",
       "          51052.223],\n",
       "         [50092.97 , 50240.688, 50307.496, ..., 49722.754, 49832.16 ,\n",
       "          49948.926],\n",
       "         [50344.582, 50413.23 , 50469.312, ..., 50110.438, 50186.137,\n",
       "          50267.965]],\n",
       "\n",
       "        [[48391.312, 48445.25 , 48499.188, ..., 48237.465, 48286.805,\n",
       "          48338.906],\n",
       "         [48939.277, 48948.164, 48936.824, ..., 48802.594, 48878.598,\n",
       "          48915.37 ],\n",
       "         [48689.812, 48603.082, 48549.45 , ..., 48620.242, 48645.99 ,\n",
       "          48709.12 ],\n",
       "         ...,\n",
       "         [50950.938, 50739.477, 50421.36 , ..., 50740.082, 50922.125,\n",
       "          51011.617],\n",
       "         [49994.754, 50143.7  , 50228.59 , ..., 49680.93 , 49759.695,\n",
       "          49864.81 ],\n",
       "         [50459.055, 50503.492, 50543.336, ..., 50305.207, 50359.76 ,\n",
       "          50410.633]],\n",
       "\n",
       "        [[48626.297, 48665.832, 48705.363, ..., 48496.66 , 48542.016,\n",
       "          48585.23 ],\n",
       "         [48906.715, 48900.89 , 48882.504, ..., 48810.484, 48868.406,\n",
       "          48897.83 ],\n",
       "         [48601.164, 48501.258, 48479.19 , ..., 48535.582, 48601.16 ,\n",
       "          48660.926],\n",
       "         ...,\n",
       "         [50831.34 , 50857.695, 50712.43 , ..., 50383.28 , 50506.477,\n",
       "          50709.055],\n",
       "         [50009.695, 50143.316, 50224.53 , ..., 49798.54 , 49869.64 ,\n",
       "          49930.32 ],\n",
       "         [50583.098, 50608.844, 50633.055, ..., 50493.61 , 50523.03 ,\n",
       "          50553.066]],\n",
       "\n",
       "        ...,\n",
       "\n",
       "        [[49009.234, 49053.67 , 49100.867, ..., 48904.727, 48936.906,\n",
       "          48971.23 ],\n",
       "         [49048.46 , 49252.26 , 49447.484, ..., 48620.633, 48701.844,\n",
       "          48849.863],\n",
       "         [49227.746, 49605.316, 49989.934, ..., 48432.76 , 48610.816,\n",
       "          48892.156],\n",
       "         ...,\n",
       "         [50149.91 , 49989.32 , 49881.137, ..., 50500.816, 50405.504,\n",
       "          50284.76 ],\n",
       "         [49773.566, 49639.945, 49447.79 , ..., 49876.234, 49886.652,\n",
       "          49865.508],\n",
       "         [49521.65 , 49523.49 , 49537.586, ..., 49571.605, 49558.426,\n",
       "          49537.277]],\n",
       "\n",
       "        [[48911.547, 48953.53 , 48996.746, ..., 48808.574, 48839.527,\n",
       "          48873.85 ],\n",
       "         [49169.594, 49362.668, 49564.633, ..., 48623.46 , 48796.31 ,\n",
       "          48977.74 ],\n",
       "         [49389.945, 49806.742, 50253.574, ..., 48424.566, 48624.07 ,\n",
       "          49013.59 ],\n",
       "         ...,\n",
       "         [50320.996, 50184.004, 50032.914, ..., 50426.727, 50490.168,\n",
       "          50417.535],\n",
       "         [49787.434, 49667.91 , 49513.758, ..., 49751.27 , 49814.098,\n",
       "          49824.824],\n",
       "         [49680.78 , 49682.93 , 49687.527, ..., 49669.137, 49669.445,\n",
       "          49675.88 ]],\n",
       "\n",
       "        [[48883.254, 48928.   , 48973.97 , ..., 48761.586, 48798.06 ,\n",
       "          48840.043],\n",
       "         [49471.37 , 49651.574, 49844.035, ..., 48880.8  , 49087.36 ,\n",
       "          49279.516],\n",
       "         [49968.46 , 50292.094, 50667.21 , ..., 48817.055, 49124.13 ,\n",
       "          49540.008],\n",
       "         ...,\n",
       "         [50452.07 , 50344.805, 50194.33 , ..., 50401.5  , 50435.215,\n",
       "          50496.812],\n",
       "         [49730.027, 49673.027, 49541.242, ..., 49536.64 , 49641.46 ,\n",
       "          49705.816],\n",
       "         [49806.953, 49809.71 , 49817.68 , ..., 49790.098, 49795.31 ,\n",
       "          49801.13 ]]],\n",
       "\n",
       "\n",
       "       [[[48592.832, 48632.062, 48671.902, ..., 48466.26 , 48511.008,\n",
       "          48553.605],\n",
       "         [48827.28 , 48823.91 , 48809.508, ..., 48723.39 , 48785.297,\n",
       "          48815.33 ],\n",
       "         [48496.6  , 48403.13 , 48391.176, ..., 48454.31 , 48520.812,\n",
       "          48560.96 ],\n",
       "         ...,\n",
       "         [50821.473, 50856.41 , 50728.31 , ..., 50271.973, 50408.043,\n",
       "          50647.703],\n",
       "         [49959.07 , 50079.51 , 50153.066, ..., 49725.234, 49810.434,\n",
       "          49876.324],\n",
       "         [50570.168, 50596.22 , 50620.125, ..., 50480.066, 50510.715,\n",
       "          50541.668]],\n",
       "\n",
       "        [[48619.875, 48645.926, 48670.44 , ..., 48537.742, 48564.402,\n",
       "          48592.293],\n",
       "         [48719.785, 48692.2  , 48662.473, ..., 48676.88 , 48713.96 ,\n",
       "          48728.67 ],\n",
       "         [48419.445, 48306.97 , 48290.727, ..., 48410.555, 48469.4  ,\n",
       "          48507.402],\n",
       "         ...,\n",
       "         [50502.207, 50679.344, 50739.414, ..., 50313.727, 50262.547,\n",
       "          50317.4  ],\n",
       "         [49994.387, 50083.57 , 50120.344, ..., 49779.55 , 49866.59 ,\n",
       "          49945.047],\n",
       "         [50620.81 , 50643.49 , 50665.86 , ..., 50560.13 , 50575.453,\n",
       "          50596.906]],\n",
       "\n",
       "        [[48592.996, 48608.625, 48623.95 , ..., 48545.8  , 48562.656,\n",
       "          48578.285],\n",
       "         [48573.996, 48528.023, 48515.152, ..., 48615.062, 48633.45 ,\n",
       "          48616.594],\n",
       "         [48337.402, 48210.523, 48198.266, ..., 48340.465, 48406.355,\n",
       "          48437.92 ],\n",
       "         ...,\n",
       "         [50376.34 , 50498.926, 50595.465, ..., 50255.895, 50281.945,\n",
       "          50301.56 ],\n",
       "         [50026.043, 50070.79 , 50065.887, ..., 49795.273, 49899.168,\n",
       "          49980.38 ],\n",
       "         [50646.645, 50644.5  , 50646.03 , ..., 50661.97 , 50657.062,\n",
       "          50650.32 ]],\n",
       "\n",
       "        ...,\n",
       "\n",
       "        [[49030.543, 49055.367, 49081.418, ..., 48968.023, 48987.023,\n",
       "          49008.17 ],\n",
       "         [49619.883, 49799.168, 49936.465, ..., 49069.46 , 49240.164,\n",
       "          49420.98 ],\n",
       "         [50217.8  , 50593.535, 50973.555, ..., 49191.742, 49410.254,\n",
       "          49808.656],\n",
       "         ...,\n",
       "         [50289.516, 50186.543, 50082.957, ..., 50575.453, 50604.87 ,\n",
       "          50489.645],\n",
       "         [50289.21 , 50261.016, 50242.32 , ..., 50067.016, 50206.766,\n",
       "          50281.547],\n",
       "         [50130.766, 50138.12 , 50138.426, ..., 50040.97 , 50083.26 ,\n",
       "          50112.38 ]],\n",
       "\n",
       "        [[49278.27 , 49308.61 , 49337.418, ..., 49197.055, 49221.574,\n",
       "          49248.848],\n",
       "         [50093.17 , 50284.406, 50469.82 , ..., 49583.203, 49714.676,\n",
       "          49893.656],\n",
       "         [50701.203, 50934.734, 51242.12 , ..., 49644.188, 49978.234,\n",
       "          50350.594],\n",
       "         ...,\n",
       "         [50539.695, 50428.445, 50250.695, ..., 50572.49 , 50625.508,\n",
       "          50634.7  ],\n",
       "         [50314.133, 50321.184, 50304.02 , ..., 49917.254, 50095.92 ,\n",
       "          50238.742],\n",
       "         [50122.9  , 50144.965, 50161.207, ..., 50008.277, 50055.168,\n",
       "          50092.56 ]],\n",
       "\n",
       "        [[49674.176, 49705.742, 49734.242, ..., 49588.06 , 49614.414,\n",
       "          49643.836],\n",
       "         [50485.703, 50673.57 , 50851.63 , ..., 50027.535, 50156.246,\n",
       "          50319.285],\n",
       "         [50817.918, 50980.652, 51239.004, ..., 50109.97 , 50415.824,\n",
       "          50615.64 ],\n",
       "         ...,\n",
       "         [50789.723, 50722.297, 50550.98 , ..., 51001.492, 50862.664,\n",
       "          50801.06 ],\n",
       "         [50362.81 , 50420.734, 50418.895, ..., 49863.875, 50025.69 ,\n",
       "          50218.457],\n",
       "         [50170.96 , 50214.785, 50251.562, ..., 50008.227, 50065.535,\n",
       "          50120.086]]]], dtype=float32)\n",
       "Coordinates:\n",
       "  * time       (time) datetime64[ns] 2017-01-01 ... 2017-10-31T12:00:00\n",
       "  * lead_time  (lead_time) int64 0 6 12 18 24 30 36 ... 84 90 96 102 108 114 120\n",
       "  * lat        (lat) float64 -87.19 -81.56 -75.94 -70.31 ... 75.94 81.56 87.19\n",
       "  * lon        (lon) float64 0.0 5.625 11.25 16.88 ... 337.5 343.1 348.8 354.4"
      ]
     },
     "execution_count": 16,
     "metadata": {},
     "output_type": "execute_result"
    }
   ],
   "source": [
    "tigge_by_lead"
   ]
  },
  {
   "cell_type": "code",
   "execution_count": 13,
   "metadata": {
    "Collapsed": "false"
   },
   "outputs": [],
   "source": [
    "rmses_tigge = evaluate_iterative_forecast(tigge_by_lead, z500_validation)"
   ]
  },
  {
   "cell_type": "code",
   "execution_count": 135,
   "metadata": {
    "Collapsed": "false"
   },
   "outputs": [],
   "source": [
    "rmses_t21 = evaluate_iterative_forecast(t21_by_lead.isel(lead_time=slice(0, 21)), z500_validation)"
   ]
  },
  {
   "cell_type": "code",
   "execution_count": 15,
   "metadata": {
    "Collapsed": "false"
   },
   "outputs": [
    {
     "data": {
      "text/plain": [
       "[<matplotlib.lines.Line2D at 0x7fe0e86febe0>]"
      ]
     },
     "execution_count": 15,
     "metadata": {},
     "output_type": "execute_result"
    },
    {
     "data": {
      "image/png": "[encoded data removed]",
      "text/plain": [
       "<Figure size 432x288 with 1 Axes>"
      ]
     },
     "metadata": {},
     "output_type": "display_data"
    }
   ],
   "source": [
    "rmses_tigge.plot()"
   ]
  },
  {
   "cell_type": "code",
   "execution_count": 145,
   "metadata": {
    "Collapsed": "false"
   },
   "outputs": [
    {
     "data": {
      "text/plain": [
       "<matplotlib.legend.Legend at 0x7f463c7ba518>"
      ]
     },
     "execution_count": 145,
     "metadata": {},
     "output_type": "execute_result"
    },
    {
     "data": {
      "image/png": "[encoded data removed]",
      "text/plain": [
       "<Figure size 432x288 with 1 Axes>"
      ]
     },
     "metadata": {},
     "output_type": "display_data"
    }
   ],
   "source": [
    "rmses_tigge.plot(label='tigge')\n",
    "rmses_t21.plot(label='IFS_T21')\n",
    "plt.legend()"
   ]
  },
  {
   "cell_type": "code",
   "execution_count": null,
   "metadata": {
    "Collapsed": "false"
   },
   "outputs": [],
   "source": []
  }
 ],
 "metadata": {
  "kernelspec": {
   "display_name": "Python 3",
   "language": "python",
   "name": "python3"
  },
  "language_info": {
   "codemirror_mode": {
    "name": "ipython",
    "version": 3
   },
   "file_extension": ".py",
   "mimetype": "text/x-python",
   "name": "python",
   "nbconvert_exporter": "python",
   "pygments_lexer": "ipython3",
   "version": "3.7.3"
  }
 },
 "nbformat": 4,
 "nbformat_minor": 4
}
